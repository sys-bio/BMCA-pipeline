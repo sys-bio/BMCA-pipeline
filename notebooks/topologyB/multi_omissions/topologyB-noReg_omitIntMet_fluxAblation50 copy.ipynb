{
 "cells": [
  {
   "cell_type": "markdown",
   "metadata": {},
   "source": [
    "# Set up "
   ]
  },
  {
   "cell_type": "code",
   "execution_count": 1,
   "metadata": {},
   "outputs": [],
   "source": [
    "RANDOM_STATE = 3\n",
    "ABLATION = 0.5"
   ]
  },
  {
   "cell_type": "code",
   "execution_count": 2,
   "metadata": {},
   "outputs": [
    {
     "name": "stderr",
     "output_type": "stream",
     "text": [
      "WARNING (aesara.configdefaults): g++ not available, if using conda: `conda install m2w64-toolchain`\n",
      "WARNING (aesara.configdefaults): g++ not detected!  Aesara will be unable to compile C-implementations and will default to Python. Performance may be severely degraded. To remove this warning, set Aesara flags cxx to an empty string.\n",
      "WARNING (aesara.tensor.blas): Using NumPy C-API based implementation for BLAS functions.\n"
     ]
    }
   ],
   "source": [
    "SEED = 1\n",
    "import random\n",
    "\n",
    "import tellurium as te\n",
    "import pandas as pd\n",
    "import numpy as np\n",
    "np.random.seed(SEED)\n",
    "np.random.seed(0)\n",
    "\n",
    "import matplotlib.pyplot as plt\n",
    "import seaborn as sns\n",
    "import arviz as az\n",
    "\n",
    "import aesara.tensor as at\n",
    "import aesara\n",
    "floatX = aesara.config.floatX\n",
    "import pymc as pm\n",
    "import numpy as np\n",
    "\n",
    "import cobra\n",
    "import os\n",
    "\n",
    "from scipy import stats\n",
    "import scipy as sp\n",
    "import math\n",
    "\n",
    "import gzip\n",
    "import cloudpickle"
   ]
  },
  {
   "cell_type": "code",
   "execution_count": 3,
   "metadata": {},
   "outputs": [],
   "source": [
    "os.chdir('../../..')\n",
    "from src import antemll, util\n",
    "import emll\n",
    "from emll.aesara_utils import LeastSquaresSolve\n",
    "os.chdir('notebooks/topologyB/multi_omissions/')"
   ]
  },
  {
   "cell_type": "markdown",
   "metadata": {},
   "source": [
    "## Perturbing enzymes"
   ]
  },
  {
   "cell_type": "code",
   "execution_count": 4,
   "metadata": {},
   "outputs": [
    {
     "data": {
      "text/plain": [
       "1.1363696703589205e-15"
      ]
     },
     "execution_count": 4,
     "metadata": {},
     "output_type": "execute_result"
    }
   ],
   "source": [
    "ant ='../../../models/Antimony/TopologyB.ant'  \n",
    "r = te.loada(ant)\n",
    "r.conservedMoietyAnalysis = True\n",
    "r.steadyState()"
   ]
  },
  {
   "cell_type": "code",
   "execution_count": 5,
   "metadata": {},
   "outputs": [],
   "source": [
    "pt_levels = [0.5, 1.5, 3, 5]\n",
    "pt_labels = ['0.5x', '1.5x', '3x', '5x']"
   ]
  },
  {
   "cell_type": "code",
   "execution_count": 6,
   "metadata": {},
   "outputs": [],
   "source": [
    "enzymes = ['e_' + i for i in r.getReactionIds()]\n",
    "internal = r.getFloatingSpeciesIds()\n",
    "external = r.getBoundarySpeciesIds()\n",
    "fluxes = ['v_' + i for i in r.getReactionIds()]"
   ]
  },
  {
   "cell_type": "markdown",
   "metadata": {},
   "source": [
    "# Leaving out internal species concentrations"
   ]
  },
  {
   "cell_type": "code",
   "execution_count": 7,
   "metadata": {},
   "outputs": [],
   "source": [
    "data05 = pd.read_csv('../../../data/interim/generated_data/TopologyB-noReg/TopologyB-noReg_0.5.csv')[fluxes+external+enzymes]\n",
    "data15 = pd.read_csv('../../../data/interim/generated_data/TopologyB-noReg/TopologyB-noReg_1.5.csv')[fluxes+external+enzymes]\n",
    "data3 = pd.read_csv('../../../data/interim/generated_data/TopologyB-noReg/TopologyB-noReg_3.csv')[fluxes+external+enzymes]\n",
    "data5 = pd.read_csv('../../../data/interim/generated_data/TopologyB-noReg/TopologyB-noReg_5.csv')[fluxes+external+enzymes]"
   ]
  },
  {
   "cell_type": "code",
   "execution_count": 8,
   "metadata": {},
   "outputs": [
    {
     "name": "stderr",
     "output_type": "stream",
     "text": [
      "No objective coefficients in model. Unclear what should be optimized\n"
     ]
    },
    {
     "name": "stdout",
     "output_type": "stream",
     "text": [
      "../../../models/Antimony/TopologyB_cobra.ant\n"
     ]
    },
    {
     "name": "stderr",
     "output_type": "stream",
     "text": [
      "No objective coefficients in model. Unclear what should be optimized\n"
     ]
    },
    {
     "name": "stdout",
     "output_type": "stream",
     "text": [
      "../../../models/Antimony/TopologyB_cobra.ant\n"
     ]
    },
    {
     "name": "stderr",
     "output_type": "stream",
     "text": [
      "No objective coefficients in model. Unclear what should be optimized\n"
     ]
    },
    {
     "name": "stdout",
     "output_type": "stream",
     "text": [
      "../../../models/Antimony/TopologyB_cobra.ant\n"
     ]
    },
    {
     "name": "stderr",
     "output_type": "stream",
     "text": [
      "No objective coefficients in model. Unclear what should be optimized\n"
     ]
    },
    {
     "name": "stdout",
     "output_type": "stream",
     "text": [
      "../../../models/Antimony/TopologyB_cobra.ant\n"
     ]
    }
   ],
   "source": [
    "BMCA_obj05 = antemll.antemll(ant, data05, cobra_sbml='../../../models/sbml/TopologyB_cobra.xml')\n",
    "BMCA_obj15 = antemll.antemll(ant, data15, cobra_sbml='../../../models/sbml/TopologyB_cobra.xml')\n",
    "BMCA_obj3 = antemll.antemll(ant, data3, cobra_sbml='../../../models/sbml/TopologyB_cobra.xml')\n",
    "BMCA_obj5 = antemll.antemll(ant, data5, cobra_sbml='../../../models/sbml/TopologyB_cobra.xml')\n"
   ]
  },
  {
   "cell_type": "code",
   "execution_count": 9,
   "metadata": {},
   "outputs": [],
   "source": [
    "BMCA_obj05.vn = BMCA_obj05.vn.sample(frac=ABLATION, axis=1, random_state=RANDOM_STATE)\n",
    "BMCA_obj15.vn = BMCA_obj15.vn.sample(frac=ABLATION, axis=1, random_state=RANDOM_STATE)\n",
    "BMCA_obj3.vn = BMCA_obj3.vn.sample(frac=ABLATION, axis=1, random_state=RANDOM_STATE)\n",
    "BMCA_obj5.vn = BMCA_obj5.vn.sample(frac=ABLATION, axis=1, random_state=RANDOM_STATE)"
   ]
  },
  {
   "cell_type": "code",
   "execution_count": 10,
   "metadata": {},
   "outputs": [
    {
     "name": "stdout",
     "output_type": "stream",
     "text": [
      "Index(['v_v13', 'v_v3', 'v_v2', 'v_v17', 'v_v5', 'v_v16', 'v_v7', 'v_v8',\n",
      "       'v_v15', 'v_v12'],\n",
      "      dtype='object')\n",
      "Index(['v_v13', 'v_v3', 'v_v2', 'v_v17', 'v_v5', 'v_v16', 'v_v7', 'v_v8',\n",
      "       'v_v15', 'v_v12'],\n",
      "      dtype='object')\n",
      "Index(['v_v13', 'v_v3', 'v_v2', 'v_v17', 'v_v5', 'v_v16', 'v_v7', 'v_v8',\n",
      "       'v_v15', 'v_v12'],\n",
      "      dtype='object')\n",
      "Index(['v_v13', 'v_v3', 'v_v2', 'v_v17', 'v_v5', 'v_v16', 'v_v7', 'v_v8',\n",
      "       'v_v15', 'v_v12'],\n",
      "      dtype='object')\n"
     ]
    }
   ],
   "source": [
    "print(BMCA_obj05.vn.columns)\n",
    "print(BMCA_obj15.vn.columns)\n",
    "print(BMCA_obj3.vn.columns)\n",
    "print(BMCA_obj5.vn.columns)"
   ]
  },
  {
   "cell_type": "markdown",
   "metadata": {},
   "source": [
    "## Running ADVI"
   ]
  },
  {
   "cell_type": "code",
   "execution_count": 11,
   "metadata": {},
   "outputs": [],
   "source": [
    "def calculate_e_hat(BMCA_obj, v_hat_obs, x_terms, y_terms): \n",
    "    one_n = np.ones([len(x_terms.eval()),len(BMCA_obj.en)])\n",
    "    product = (v_hat_obs * (one_n + x_terms + y_terms)).eval()\n",
    "    product[product == 0 ] = 1E-6\n",
    "\n",
    "    return aesara.tensor.reciprocal(product)"
   ]
  },
  {
   "cell_type": "code",
   "execution_count": 12,
   "metadata": {},
   "outputs": [],
   "source": [
    "def run_BayesInf(BMCA_obj, n_samp=1):\n",
    "    known_chi_inds = []\n",
    "    omitted_chi_inds = []\n",
    "    for i, sp in enumerate(r.getFloatingSpeciesIds()):\n",
    "        if sp in data5.columns:\n",
    "            known_chi_inds.append(i)\n",
    "        else: \n",
    "            omitted_chi_inds.append(i)\n",
    "    chi_inds = np.hstack([known_chi_inds, omitted_chi_inds]).argsort()\n",
    "    \n",
    "    flux = ['v_' + i for i in r.getReactionIds()]\n",
    "        \n",
    "    known_v_inds = []\n",
    "    omitted_v_inds = []\n",
    "    for i, v in enumerate(flux):\n",
    "        if v in BMCA_obj.vn.columns:\n",
    "            known_v_inds.append(i)\n",
    "        else: \n",
    "            omitted_v_inds.append(i)\n",
    "    v_inds = np.hstack([known_v_inds, omitted_v_inds]).argsort()\n",
    "\n",
    "    with pm.Model() as pymc_model:\n",
    "    \n",
    "        # Initialize elasticities\n",
    "        Ex_t = pm.Deterministic('Ex', util.initialize_elasticity(BMCA_obj.Ex.to_numpy(), name='Ex'))\n",
    "        Ey_t = pm.Deterministic('Ey', util.initialize_elasticity(BMCA_obj.Ey.to_numpy(), name='Ey'))\n",
    "\n",
    "        # trace_prior = pm.sample_prior_predictive(samples=1000)\n",
    "        \n",
    "        chi_measured = pm.Normal('chi_measured', mu=0, sigma=0.1, observed=BMCA_obj.xn.T)\n",
    "        chi_unmeasured = pm.Normal('chi_unmeasured', mu=0, sigma=10, shape=(len(omitted_chi_inds), len(BMCA_obj.xn)))\n",
    "\n",
    "        chi_t = at.concatenate([chi_measured, chi_unmeasured], axis=0)[chi_inds, :]\n",
    "        # supposedly chi_t would be in the order listed in ss tellurium\n",
    "\n",
    "        pm.Deterministic('chi_t', chi_t)\n",
    "\n",
    "        # flux priors\n",
    "        v_measured = pm.Normal('v_measured', mu=0, sigma=0.1, observed=BMCA_obj.vn.T)\n",
    "        v_unmeasured = pm.Normal('v_unmeasured', mu=0, sigma=1, shape=(len(omitted_v_inds), len(BMCA_obj.vn)))\n",
    "\n",
    "        v_t = at.concatenate([v_measured, v_unmeasured], axis=0)[v_inds, :]\n",
    "        pm.Deterministic('v_t', v_t)    \n",
    "\n",
    "        y_t = pm.Normal('y_t', mu=0, sigma=10, observed=BMCA_obj.yn.T) # yn?\n",
    "\n",
    "        #### NEED TO ADD fitting equation here\n",
    "        e_ss = calculate_e_hat(BMCA_obj, v_t, Ex_t@chi_t, Ey_t@y_t)\n",
    "        e_t = pm.Normal('e_t', mu=e_ss, sigma=1, observed=BMCA_obj.en.squeeze().T)\n",
    "\n",
    "        #likelihood = pm.Deterministic('vn', e_t * (np.ones(BMCA_obj.en.T.shape) + pm.math.dot(Ex_t,chi_t) + pm.math.dot(Ey_t,y_t)))\n",
    "        #v_hat_obs = pm.Normal('v_hat_obs', mu=likelihood, sigma=0.1, observed=BMCA_obj.vn.squeeze().T)\n",
    "\n",
    "        N_ITERATIONS = 40000\n",
    "\n",
    "        advi = pm.ADVI(random_seed=1)\n",
    "        tracker = pm.callbacks.Tracker(\n",
    "            mean = advi.approx.mean.eval,\n",
    "            std = advi.approx.std.eval\n",
    "        )\n",
    "        approx = advi.fit(\n",
    "            n=N_ITERATIONS, \n",
    "            callbacks = [tracker],\n",
    "            obj_optimizer=pm.adagrad_window(learning_rate=5E-2), \n",
    "            total_grad_norm_constraint=1,\n",
    "            obj_n_mc=1)\n",
    "        \n",
    "    with sns.plotting_context('notebook', font_scale=1.2):\n",
    "\n",
    "        fig = plt.figure(figsize=(5,4))\n",
    "        plt.plot(approx.hist + 30, '.', rasterized=True, ms=1)\n",
    "        # plt.ylim([-1E1, 1E3])\n",
    "        plt.xlim([0, N_ITERATIONS])\n",
    "        sns.despine(trim=True, offset=10)\n",
    "\n",
    "        plt.ylabel('-ELBO')\n",
    "        plt.xlabel('Iteration')\n",
    "        plt.title('in vitro ADVI convergence')\n",
    "        plt.tight_layout()\n",
    "\n",
    "    if n_samp > 1:\n",
    "        samples = []\n",
    "        for i in range(n_samp): \n",
    "            samples.append(approx.sample(draws=1000, random_seed=i))\n",
    "        return samples\n",
    "    else:\n",
    "        with pymc_model:\n",
    "            trace = approx.sample(draws=1000, random_seed=RANDOM_STATE)\n",
    "            ppc_vi = pm.sample_posterior_predictive(trace)\n",
    "        return trace, ppc_vi\n"
   ]
  },
  {
   "cell_type": "code",
   "execution_count": 13,
   "metadata": {},
   "outputs": [
    {
     "data": {
      "text/html": [
       "\n",
       "<style>\n",
       "    /* Turns off some styling */\n",
       "    progress {\n",
       "        /* gets rid of default border in Firefox and Opera. */\n",
       "        border: none;\n",
       "        /* Needs to be in here for Safari polyfill so background images work as expected. */\n",
       "        background-size: auto;\n",
       "    }\n",
       "    progress:not([value]), progress:not([value])::-webkit-progress-bar {\n",
       "        background: repeating-linear-gradient(45deg, #7e7e7e, #7e7e7e 10px, #5c5c5c 10px, #5c5c5c 20px);\n",
       "    }\n",
       "    .progress-bar-interrupted, .progress-bar-interrupted::-webkit-progress-bar {\n",
       "        background: #F44336;\n",
       "    }\n",
       "</style>\n"
      ],
      "text/plain": [
       "<IPython.core.display.HTML object>"
      ]
     },
     "metadata": {},
     "output_type": "display_data"
    },
    {
     "data": {
      "text/html": [
       "\n",
       "    <div>\n",
       "      <progress value='40000' class='' max='40000' style='width:300px; height:20px; vertical-align: middle;'></progress>\n",
       "      100.00% [40000/40000 41:14&lt;00:00 Average Loss = 8.0935e+06]\n",
       "    </div>\n",
       "    "
      ],
      "text/plain": [
       "<IPython.core.display.HTML object>"
      ]
     },
     "metadata": {},
     "output_type": "display_data"
    },
    {
     "name": "stderr",
     "output_type": "stream",
     "text": [
      "c:\\Users\\user\\miniconda3\\envs\\gayles\\lib\\site-packages\\aesara\\scalar\\basic.py:2925: RuntimeWarning:\n",
      "\n",
      "invalid value encountered in log\n",
      "\n",
      "Finished [100%]: Average Loss = 8.0935e+06\n",
      "Sampling: [chi_measured, e_t, v_measured, y_t]\n"
     ]
    },
    {
     "data": {
      "text/html": [
       "\n",
       "<style>\n",
       "    /* Turns off some styling */\n",
       "    progress {\n",
       "        /* gets rid of default border in Firefox and Opera. */\n",
       "        border: none;\n",
       "        /* Needs to be in here for Safari polyfill so background images work as expected. */\n",
       "        background-size: auto;\n",
       "    }\n",
       "    progress:not([value]), progress:not([value])::-webkit-progress-bar {\n",
       "        background: repeating-linear-gradient(45deg, #7e7e7e, #7e7e7e 10px, #5c5c5c 10px, #5c5c5c 20px);\n",
       "    }\n",
       "    .progress-bar-interrupted, .progress-bar-interrupted::-webkit-progress-bar {\n",
       "        background: #F44336;\n",
       "    }\n",
       "</style>\n"
      ],
      "text/plain": [
       "<IPython.core.display.HTML object>"
      ]
     },
     "metadata": {},
     "output_type": "display_data"
    },
    {
     "data": {
      "text/html": [
       "\n",
       "    <div>\n",
       "      <progress value='1000' class='' max='1000' style='width:300px; height:20px; vertical-align: middle;'></progress>\n",
       "      100.00% [1000/1000 00:00&lt;00:00]\n",
       "    </div>\n",
       "    "
      ],
      "text/plain": [
       "<IPython.core.display.HTML object>"
      ]
     },
     "metadata": {},
     "output_type": "display_data"
    },
    {
     "data": {
      "text/html": [
       "\n",
       "<style>\n",
       "    /* Turns off some styling */\n",
       "    progress {\n",
       "        /* gets rid of default border in Firefox and Opera. */\n",
       "        border: none;\n",
       "        /* Needs to be in here for Safari polyfill so background images work as expected. */\n",
       "        background-size: auto;\n",
       "    }\n",
       "    progress:not([value]), progress:not([value])::-webkit-progress-bar {\n",
       "        background: repeating-linear-gradient(45deg, #7e7e7e, #7e7e7e 10px, #5c5c5c 10px, #5c5c5c 20px);\n",
       "    }\n",
       "    .progress-bar-interrupted, .progress-bar-interrupted::-webkit-progress-bar {\n",
       "        background: #F44336;\n",
       "    }\n",
       "</style>\n"
      ],
      "text/plain": [
       "<IPython.core.display.HTML object>"
      ]
     },
     "metadata": {},
     "output_type": "display_data"
    },
    {
     "data": {
      "text/html": [
       "\n",
       "    <div>\n",
       "      <progress value='40000' class='' max='40000' style='width:300px; height:20px; vertical-align: middle;'></progress>\n",
       "      100.00% [40000/40000 41:38&lt;00:00 Average Loss = 1.4957e+07]\n",
       "    </div>\n",
       "    "
      ],
      "text/plain": [
       "<IPython.core.display.HTML object>"
      ]
     },
     "metadata": {},
     "output_type": "display_data"
    },
    {
     "name": "stderr",
     "output_type": "stream",
     "text": [
      "c:\\Users\\user\\miniconda3\\envs\\gayles\\lib\\site-packages\\aesara\\scalar\\basic.py:2925: RuntimeWarning:\n",
      "\n",
      "invalid value encountered in log\n",
      "\n",
      "Finished [100%]: Average Loss = 1.4957e+07\n",
      "Sampling: [chi_measured, e_t, v_measured, y_t]\n"
     ]
    },
    {
     "data": {
      "text/html": [
       "\n",
       "<style>\n",
       "    /* Turns off some styling */\n",
       "    progress {\n",
       "        /* gets rid of default border in Firefox and Opera. */\n",
       "        border: none;\n",
       "        /* Needs to be in here for Safari polyfill so background images work as expected. */\n",
       "        background-size: auto;\n",
       "    }\n",
       "    progress:not([value]), progress:not([value])::-webkit-progress-bar {\n",
       "        background: repeating-linear-gradient(45deg, #7e7e7e, #7e7e7e 10px, #5c5c5c 10px, #5c5c5c 20px);\n",
       "    }\n",
       "    .progress-bar-interrupted, .progress-bar-interrupted::-webkit-progress-bar {\n",
       "        background: #F44336;\n",
       "    }\n",
       "</style>\n"
      ],
      "text/plain": [
       "<IPython.core.display.HTML object>"
      ]
     },
     "metadata": {},
     "output_type": "display_data"
    },
    {
     "data": {
      "text/html": [
       "\n",
       "    <div>\n",
       "      <progress value='1000' class='' max='1000' style='width:300px; height:20px; vertical-align: middle;'></progress>\n",
       "      100.00% [1000/1000 00:00&lt;00:00]\n",
       "    </div>\n",
       "    "
      ],
      "text/plain": [
       "<IPython.core.display.HTML object>"
      ]
     },
     "metadata": {},
     "output_type": "display_data"
    },
    {
     "data": {
      "text/html": [
       "\n",
       "<style>\n",
       "    /* Turns off some styling */\n",
       "    progress {\n",
       "        /* gets rid of default border in Firefox and Opera. */\n",
       "        border: none;\n",
       "        /* Needs to be in here for Safari polyfill so background images work as expected. */\n",
       "        background-size: auto;\n",
       "    }\n",
       "    progress:not([value]), progress:not([value])::-webkit-progress-bar {\n",
       "        background: repeating-linear-gradient(45deg, #7e7e7e, #7e7e7e 10px, #5c5c5c 10px, #5c5c5c 20px);\n",
       "    }\n",
       "    .progress-bar-interrupted, .progress-bar-interrupted::-webkit-progress-bar {\n",
       "        background: #F44336;\n",
       "    }\n",
       "</style>\n"
      ],
      "text/plain": [
       "<IPython.core.display.HTML object>"
      ]
     },
     "metadata": {},
     "output_type": "display_data"
    },
    {
     "data": {
      "text/html": [
       "\n",
       "    <div>\n",
       "      <progress value='40000' class='' max='40000' style='width:300px; height:20px; vertical-align: middle;'></progress>\n",
       "      100.00% [40000/40000 41:48&lt;00:00 Average Loss = 1.139e+07]\n",
       "    </div>\n",
       "    "
      ],
      "text/plain": [
       "<IPython.core.display.HTML object>"
      ]
     },
     "metadata": {},
     "output_type": "display_data"
    },
    {
     "name": "stderr",
     "output_type": "stream",
     "text": [
      "c:\\Users\\user\\miniconda3\\envs\\gayles\\lib\\site-packages\\aesara\\scalar\\basic.py:2925: RuntimeWarning:\n",
      "\n",
      "invalid value encountered in log\n",
      "\n",
      "Finished [100%]: Average Loss = 1.139e+07\n",
      "Sampling: [chi_measured, e_t, v_measured, y_t]\n"
     ]
    },
    {
     "data": {
      "text/html": [
       "\n",
       "<style>\n",
       "    /* Turns off some styling */\n",
       "    progress {\n",
       "        /* gets rid of default border in Firefox and Opera. */\n",
       "        border: none;\n",
       "        /* Needs to be in here for Safari polyfill so background images work as expected. */\n",
       "        background-size: auto;\n",
       "    }\n",
       "    progress:not([value]), progress:not([value])::-webkit-progress-bar {\n",
       "        background: repeating-linear-gradient(45deg, #7e7e7e, #7e7e7e 10px, #5c5c5c 10px, #5c5c5c 20px);\n",
       "    }\n",
       "    .progress-bar-interrupted, .progress-bar-interrupted::-webkit-progress-bar {\n",
       "        background: #F44336;\n",
       "    }\n",
       "</style>\n"
      ],
      "text/plain": [
       "<IPython.core.display.HTML object>"
      ]
     },
     "metadata": {},
     "output_type": "display_data"
    },
    {
     "data": {
      "text/html": [
       "\n",
       "    <div>\n",
       "      <progress value='1000' class='' max='1000' style='width:300px; height:20px; vertical-align: middle;'></progress>\n",
       "      100.00% [1000/1000 00:00&lt;00:00]\n",
       "    </div>\n",
       "    "
      ],
      "text/plain": [
       "<IPython.core.display.HTML object>"
      ]
     },
     "metadata": {},
     "output_type": "display_data"
    },
    {
     "data": {
      "text/html": [
       "\n",
       "<style>\n",
       "    /* Turns off some styling */\n",
       "    progress {\n",
       "        /* gets rid of default border in Firefox and Opera. */\n",
       "        border: none;\n",
       "        /* Needs to be in here for Safari polyfill so background images work as expected. */\n",
       "        background-size: auto;\n",
       "    }\n",
       "    progress:not([value]), progress:not([value])::-webkit-progress-bar {\n",
       "        background: repeating-linear-gradient(45deg, #7e7e7e, #7e7e7e 10px, #5c5c5c 10px, #5c5c5c 20px);\n",
       "    }\n",
       "    .progress-bar-interrupted, .progress-bar-interrupted::-webkit-progress-bar {\n",
       "        background: #F44336;\n",
       "    }\n",
       "</style>\n"
      ],
      "text/plain": [
       "<IPython.core.display.HTML object>"
      ]
     },
     "metadata": {},
     "output_type": "display_data"
    },
    {
     "data": {
      "text/html": [
       "\n",
       "    <div>\n",
       "      <progress value='40000' class='' max='40000' style='width:300px; height:20px; vertical-align: middle;'></progress>\n",
       "      100.00% [40000/40000 41:35&lt;00:00 Average Loss = 1.5661e+07]\n",
       "    </div>\n",
       "    "
      ],
      "text/plain": [
       "<IPython.core.display.HTML object>"
      ]
     },
     "metadata": {},
     "output_type": "display_data"
    },
    {
     "name": "stderr",
     "output_type": "stream",
     "text": [
      "c:\\Users\\user\\miniconda3\\envs\\gayles\\lib\\site-packages\\aesara\\scalar\\basic.py:2925: RuntimeWarning:\n",
      "\n",
      "invalid value encountered in log\n",
      "\n",
      "Finished [100%]: Average Loss = 1.5661e+07\n",
      "Sampling: [chi_measured, e_t, v_measured, y_t]\n"
     ]
    },
    {
     "data": {
      "text/html": [
       "\n",
       "<style>\n",
       "    /* Turns off some styling */\n",
       "    progress {\n",
       "        /* gets rid of default border in Firefox and Opera. */\n",
       "        border: none;\n",
       "        /* Needs to be in here for Safari polyfill so background images work as expected. */\n",
       "        background-size: auto;\n",
       "    }\n",
       "    progress:not([value]), progress:not([value])::-webkit-progress-bar {\n",
       "        background: repeating-linear-gradient(45deg, #7e7e7e, #7e7e7e 10px, #5c5c5c 10px, #5c5c5c 20px);\n",
       "    }\n",
       "    .progress-bar-interrupted, .progress-bar-interrupted::-webkit-progress-bar {\n",
       "        background: #F44336;\n",
       "    }\n",
       "</style>\n"
      ],
      "text/plain": [
       "<IPython.core.display.HTML object>"
      ]
     },
     "metadata": {},
     "output_type": "display_data"
    },
    {
     "data": {
      "text/html": [
       "\n",
       "    <div>\n",
       "      <progress value='1000' class='' max='1000' style='width:300px; height:20px; vertical-align: middle;'></progress>\n",
       "      100.00% [1000/1000 00:00&lt;00:00]\n",
       "    </div>\n",
       "    "
      ],
      "text/plain": [
       "<IPython.core.display.HTML object>"
      ]
     },
     "metadata": {},
     "output_type": "display_data"
    },
    {
     "data": {
      "image/png": "[encoded data removed]",
      "text/plain": [
       "<Figure size 500x400 with 1 Axes>"
      ]
     },
     "metadata": {},
     "output_type": "display_data"
    },
    {
     "data": {
      "image/png": "[encoded data removed]",
      "text/plain": [
       "<Figure size 500x400 with 1 Axes>"
      ]
     },
     "metadata": {},
     "output_type": "display_data"
    },
    {
     "data": {
      "image/png": "[encoded data removed]",
      "text/plain": [
       "<Figure size 500x400 with 1 Axes>"
      ]
     },
     "metadata": {},
     "output_type": "display_data"
    },
    {
     "data": {
      "image/png": "[encoded data removed]",
      "text/plain": [
       "<Figure size 500x400 with 1 Axes>"
      ]
     },
     "metadata": {},
     "output_type": "display_data"
    }
   ],
   "source": [
    "trace05, ppc05 = run_BayesInf(BMCA_obj05, n_samp=1)\n",
    "trace15, ppc15 = run_BayesInf(BMCA_obj15, n_samp=1)\n",
    "trace3, ppc3 = run_BayesInf(BMCA_obj3, n_samp=1)\n",
    "trace5, ppc5 = run_BayesInf(BMCA_obj5, n_samp=1)"
   ]
  },
  {
   "cell_type": "markdown",
   "metadata": {},
   "source": [
    "### saving trace data"
   ]
  },
  {
   "cell_type": "code",
   "execution_count": 14,
   "metadata": {},
   "outputs": [],
   "source": [
    "with gzip.open(f\"topologyB-noReg_omitIntMet_fluxAblat50_traces-{RANDOM_STATE}.pgz\", \"wb\") as f:\n",
    "            cloudpickle.dump(\n",
    "                {\n",
    "                \"trace05\":trace05,\n",
    "                \"ppc05\":ppc05, \n",
    "                \"trace15\":trace15,\n",
    "                \"ppc15\":ppc15, \n",
    "                \"trace3\":trace3,\n",
    "                \"ppc3\":ppc3, \n",
    "                \"trace5\":trace5,\n",
    "                \"ppc5\":ppc5, \n",
    "                },\n",
    "                f,\n",
    "            )"
   ]
  },
  {
   "cell_type": "markdown",
   "metadata": {},
   "source": [
    "# Analysis"
   ]
  },
  {
   "cell_type": "code",
   "execution_count": 26,
   "metadata": {},
   "outputs": [],
   "source": [
    "picklefolder = '../../../data/results/tracePickles/'\n",
    "with gzip.open(picklefolder + 'topologyB-noReg_omitIntMet_fluxAblat0_traces.pgz', \"rb\") as f:\n",
    "    traces = cloudpickle.load(f, encoding='bytes')"
   ]
  },
  {
   "cell_type": "code",
   "execution_count": 27,
   "metadata": {},
   "outputs": [],
   "source": [
    "trace05=traces['trace05']\n",
    "trace15=traces['trace15']\n",
    "trace3=traces['trace3']\n",
    "trace5=traces['trace5']"
   ]
  },
  {
   "cell_type": "markdown",
   "metadata": {},
   "source": [
    "### Elasticity check "
   ]
  },
  {
   "cell_type": "code",
   "execution_count": null,
   "metadata": {},
   "outputs": [],
   "source": [
    "med_Ex05_advi = util.get_az_mean(trace05)\n",
    "med_Ex15_advi = util.get_az_mean(trace15)\n",
    "med_Ex3_advi = util.get_az_mean(trace3)\n",
    "med_Ex5_advi = util.get_az_mean(trace5)"
   ]
  },
  {
   "cell_type": "code",
   "execution_count": 29,
   "metadata": {},
   "outputs": [],
   "source": [
    "elasticity_values = np.column_stack([r.getScaledElasticityMatrix().flatten(),\n",
    "                                med_Ex05_advi, med_Ex15_advi, med_Ex3_advi, \n",
    "                                med_Ex5_advi])\n",
    "\n",
    "elasticities_df = pd.DataFrame(elasticity_values, columns=['gt']+pt_labels, \n",
    "                               index=[i + '_' + ii for i in r.getReactionIds() for ii in r.getFloatingSpeciesIds()])\n",
    "# elasticities_df.to_csv('topologyA-noReg_omitIntMet_elasticities.csv')"
   ]
  },
  {
   "cell_type": "code",
   "execution_count": 30,
   "metadata": {},
   "outputs": [],
   "source": [
    "e_slopes = [round(util.calculate_slope(elasticities_df['gt'], elasticities_df[i])[0],3) for i in pt_labels]\n",
    "e_intercepts = [round(util.calculate_slope(elasticities_df['gt'], elasticities_df[i])[1],3) for i in pt_labels]\n",
    "e_r2s = [round(util.calculate_slope(elasticities_df['gt'], elasticities_df[i])[2],3) for i in pt_labels]"
   ]
  },
  {
   "cell_type": "code",
   "execution_count": 31,
   "metadata": {},
   "outputs": [
    {
     "data": {
      "image/png": "[encoded data removed]",
      "text/plain": [
       "<Figure size 640x480 with 1 Axes>"
      ]
     },
     "metadata": {},
     "output_type": "display_data"
    }
   ],
   "source": [
    "plt.axes().set_aspect('equal', 'datalim')\n",
    "plt.scatter(elasticities_df['gt'], elasticities_df['0.5x'], alpha=0.4, label='0.5x', zorder=10)\n",
    "plt.scatter(elasticities_df['gt'], elasticities_df['1.5x'], alpha=0.4, label='1.5x')\n",
    "plt.scatter(elasticities_df['gt'], elasticities_df['3x'], alpha=0.4, label='3x')\n",
    "plt.scatter(elasticities_df['gt'], elasticities_df['5x'], alpha=0.4, label='5x')\n",
    "\n",
    "plt.axline([0, 0], [1, 1], c='gray', linestyle='dashed', zorder=1, linewidth=3)\n",
    "plt.grid(True, which='both', axis='both', zorder=0)\n",
    "plt.xlabel('ground truth elasticity values', size=14)\n",
    "plt.ylabel('predicted elasticity values, $\\it{r}$', size=14)\n",
    "# plt.title('Parity plot of elasticity values for various \\nenzyme perturbation strengths—CRISPRi', size=20)\n",
    "plt.title('omitIntMet noReg CRISPRi', size=20)\n",
    "plt.legend(bbox_to_anchor=(1.04, 1), loc=\"upper left\")\n",
    "\n",
    "left_adjust = 14\n",
    "line_spacing = 0.7\n",
    "slope_start = 0.5\n",
    "r2_start = slope_start-(7*line_spacing)\n",
    "\n",
    "plt.text(left_adjust, slope_start, \"slopes\")\n",
    "for i, label in enumerate(pt_labels[0:5]):\n",
    "    plt.text(left_adjust, (slope_start-line_spacing)-(i*line_spacing), f'{label}: {e_slopes[i]}')\n",
    "\n",
    "plt.text(left_adjust, r2_start, 'R-squared')\n",
    "for i, label in enumerate(pt_labels[0:5]):\n",
    "    plt.text(left_adjust, (r2_start-line_spacing)-(i*line_spacing), f'{label}: {e_r2s[i]}')\n",
    "\n",
    "colors = ['tab:blue', 'tab:orange', 'tab:green', 'tab:red', 'tab:purple']\n",
    "for i in range(5):\n",
    "    plt.axline((0, e_intercepts[i]), slope=e_slopes[i], linestyle='--', alpha=0.6, color=colors[i], zorder=0)"
   ]
  },
  {
   "cell_type": "code",
   "execution_count": 34,
   "metadata": {},
   "outputs": [
    {
     "data": {
      "text/plain": [
       "gt      0.000000\n",
       "0.1x    0.291036\n",
       "0.2x    0.288685\n",
       "0.3x    0.291075\n",
       "0.4x    0.288342\n",
       "0.5x    0.290834\n",
       "1.5x    0.289485\n",
       "3x      0.281692\n",
       "5x      0.269863\n",
       "7x      0.265634\n",
       "10x     0.248972\n",
       "dtype: float64"
      ]
     },
     "execution_count": 34,
     "metadata": {},
     "output_type": "execute_result"
    }
   ],
   "source": [
    "# print out MAE for each perturbation strength\n",
    "MAE = abs(elasticities_df.sub(elasticities_df['gt'], axis=0)).sum()/len(elasticities_df['gt'])\n",
    "MAE"
   ]
  },
  {
   "cell_type": "code",
   "execution_count": 35,
   "metadata": {},
   "outputs": [
    {
     "data": {
      "text/plain": [
       "Text(0.5, 1.0, 'MAE of elasticity predictions based\\non enzyme perturbation strength')"
      ]
     },
     "execution_count": 35,
     "metadata": {},
     "output_type": "execute_result"
    },
    {
     "data": {
      "image/png": "[encoded data removed]",
      "text/plain": [
       "<Figure size 640x480 with 1 Axes>"
      ]
     },
     "metadata": {},
     "output_type": "display_data"
    }
   ],
   "source": [
    "plt.scatter(pt_levels, MAE[1:].values, zorder=10)\n",
    "plt.grid(True, which='both', axis='both', zorder=0)\n",
    "plt.xscale('log')\n",
    "plt.xlabel('fold change in enzyme concentration', size=14)\n",
    "plt.ylabel('MAE, $\\it{r}$', size=14)\n",
    "plt.tick_params(axis='both', which='major', labelsize=13)\n",
    "plt.title(\"MAE of elasticity predictions based\\non enzyme perturbation strength\", size=20)"
   ]
  },
  {
   "cell_type": "code",
   "execution_count": 36,
   "metadata": {},
   "outputs": [],
   "source": [
    "# MAE.to_csv('../../../data/results/MAE/topologyB-noReg_omitIntMet_MAE.csv')"
   ]
  },
  {
   "cell_type": "markdown",
   "metadata": {},
   "source": [
    "## Calculating FCCs"
   ]
  },
  {
   "cell_type": "code",
   "execution_count": 37,
   "metadata": {},
   "outputs": [],
   "source": [
    "gtFCC = pd.DataFrame(r.getScaledFluxControlCoefficientMatrix(), index=r.getReactionIds(), columns=r.getReactionIds())"
   ]
  },
  {
   "cell_type": "markdown",
   "metadata": {},
   "source": [
    "### Negative predictions"
   ]
  },
  {
   "cell_type": "code",
   "execution_count": 38,
   "metadata": {},
   "outputs": [
    {
     "name": "stderr",
     "output_type": "stream",
     "text": [
      "Sampling: [Ex_capacity_entries, Ex_kinetic_entries, Ey_capacity_entries, Ey_kinetic_entries]\n",
      "arviz - WARNING - Shape validation failed: input_shape: (1, 500), minimum_shape: (chains=2, draws=4)\n",
      "Sampling: [Ex_capacity_entries, Ex_kinetic_entries, Ey_capacity_entries, Ey_kinetic_entries]\n",
      "arviz - WARNING - Shape validation failed: input_shape: (1, 500), minimum_shape: (chains=2, draws=4)\n",
      "Sampling: [Ex_capacity_entries, Ex_kinetic_entries, Ey_capacity_entries, Ey_kinetic_entries]\n",
      "arviz - WARNING - Shape validation failed: input_shape: (1, 500), minimum_shape: (chains=2, draws=4)\n",
      "Sampling: [Ex_capacity_entries, Ex_kinetic_entries, Ey_capacity_entries, Ey_kinetic_entries]\n",
      "arviz - WARNING - Shape validation failed: input_shape: (1, 500), minimum_shape: (chains=2, draws=4)\n",
      "Sampling: [Ex_capacity_entries, Ex_kinetic_entries, Ey_capacity_entries, Ey_kinetic_entries]\n",
      "arviz - WARNING - Shape validation failed: input_shape: (1, 500), minimum_shape: (chains=2, draws=4)\n",
      "Sampling: [Ex_capacity_entries, Ex_kinetic_entries, Ey_capacity_entries, Ey_kinetic_entries]\n",
      "arviz - WARNING - Shape validation failed: input_shape: (1, 500), minimum_shape: (chains=2, draws=4)\n",
      "Sampling: [Ex_capacity_entries, Ex_kinetic_entries, Ey_capacity_entries, Ey_kinetic_entries]\n",
      "arviz - WARNING - Shape validation failed: input_shape: (1, 500), minimum_shape: (chains=2, draws=4)\n",
      "Sampling: [Ex_capacity_entries, Ex_kinetic_entries, Ey_capacity_entries, Ey_kinetic_entries]\n",
      "arviz - WARNING - Shape validation failed: input_shape: (1, 500), minimum_shape: (chains=2, draws=4)\n",
      "Sampling: [Ex_capacity_entries, Ex_kinetic_entries, Ey_capacity_entries, Ey_kinetic_entries]\n",
      "arviz - WARNING - Shape validation failed: input_shape: (1, 500), minimum_shape: (chains=2, draws=4)\n",
      "Sampling: [Ex_capacity_entries, Ex_kinetic_entries, Ey_capacity_entries, Ey_kinetic_entries]\n",
      "arviz - WARNING - Shape validation failed: input_shape: (1, 500), minimum_shape: (chains=2, draws=4)\n"
     ]
    }
   ],
   "source": [
    "Ex05_prior = util.get_az_summary(util.run_prior_predictive(BMCA_obj05)['prior']['Ex'])\n",
    "Ex15_prior = util.get_az_summary(util.run_prior_predictive(BMCA_obj15)['prior']['Ex'])\n",
    "Ex3_prior = util.get_az_summary(util.run_prior_predictive(BMCA_obj3)['prior']['Ex'])\n",
    "Ex5_prior = util.get_az_summary(util.run_prior_predictive(BMCA_obj5)['prior']['Ex'])"
   ]
  },
  {
   "cell_type": "code",
   "execution_count": 39,
   "metadata": {},
   "outputs": [],
   "source": [
    "priorFCC05 = util.estimate_CCs(BMCA_obj05, Ex05_prior.reshape((19,13)))\n",
    "priorFCC15 = util.estimate_CCs(BMCA_obj15, Ex15_prior.reshape((19,13)))\n",
    "priorFCC3 = util.estimate_CCs(BMCA_obj3, Ex3_prior.reshape((19,13)))\n",
    "priorFCC5 = util.estimate_CCs(BMCA_obj5, Ex5_prior.reshape((19,13)))"
   ]
  },
  {
   "cell_type": "code",
   "execution_count": 40,
   "metadata": {},
   "outputs": [],
   "source": [
    "postFCC05 = util.estimate_CCs(BMCA_obj05, med_Ex05_advi.reshape((19,13)))\n",
    "postFCC15 = util.estimate_CCs(BMCA_obj15, med_Ex15_advi.reshape((19,13)))\n",
    "postFCC3 = util.estimate_CCs(BMCA_obj3, med_Ex3_advi.reshape((19,13)))\n",
    "postFCC5 = util.estimate_CCs(BMCA_obj5, med_Ex5_advi.reshape((19,13)))"
   ]
  },
  {
   "cell_type": "code",
   "execution_count": 41,
   "metadata": {},
   "outputs": [],
   "source": [
    "prior_FCCs = [priorFCC05, priorFCC15, priorFCC3, priorFCC5]\n",
    "post_FCCs = [postFCC05, postFCC15, postFCC3, postFCC5]\n"
   ]
  },
  {
   "cell_type": "markdown",
   "metadata": {},
   "source": [
    "## Evaluating FCC ranking"
   ]
  },
  {
   "cell_type": "code",
   "execution_count": 42,
   "metadata": {},
   "outputs": [],
   "source": [
    "gtFCC=pd.DataFrame(r.getScaledFluxControlCoefficientMatrix(), columns=r.getReactionIds(), index=r.getReactionIds()).abs()\n",
    "m1 = gtFCC.index.values[:, None] == gtFCC.columns.values\n",
    "gtFCC = pd.DataFrame(np.select([m1], [float('Nan')], gtFCC), columns=gtFCC.columns, index=gtFCC.index)\n",
    "gtFCC_rankings= gtFCC.rank(axis=1, ascending=False, na_option='keep')\n",
    "\n",
    "a = gtFCC_rankings.loc['v19']"
   ]
  },
  {
   "cell_type": "markdown",
   "metadata": {},
   "source": [
    "### via Spearman rank coefficients"
   ]
  },
  {
   "cell_type": "code",
   "execution_count": 43,
   "metadata": {},
   "outputs": [],
   "source": [
    "spearman_coefficients = []\n",
    "p_values = []\n",
    "confidence_intervals = []\n",
    "b_list = []\n",
    "for FCC in prior_FCCs + post_FCCs:\n",
    "    b = util.calculate_FCC_med_rankings(FCC, 'v19', r)\n",
    "    b_list.append(b)\n",
    "    spearman_r, p_value, lower_ci, upper_ci = util.bootstrap_spearman(a.dropna(), b.dropna())\n",
    "    spearman_coefficients.append(spearman_r)\n",
    "    p_values.append(p_value)\n",
    "    confidence_intervals.append((lower_ci, upper_ci))\n"
   ]
  },
  {
   "cell_type": "code",
   "execution_count": 44,
   "metadata": {},
   "outputs": [],
   "source": [
    "pt_labels = [i+'-prior' for i in pt_labels] + [i+'-post' for i in pt_labels]"
   ]
  },
  {
   "cell_type": "code",
   "execution_count": 45,
   "metadata": {},
   "outputs": [
    {
     "data": {
      "text/html": [
       "<div>\n",
       "<style scoped>\n",
       "    .dataframe tbody tr th:only-of-type {\n",
       "        vertical-align: middle;\n",
       "    }\n",
       "\n",
       "    .dataframe tbody tr th {\n",
       "        vertical-align: top;\n",
       "    }\n",
       "\n",
       "    .dataframe thead th {\n",
       "        text-align: right;\n",
       "    }\n",
       "</style>\n",
       "<table border=\"1\" class=\"dataframe\">\n",
       "  <thead>\n",
       "    <tr style=\"text-align: right;\">\n",
       "      <th></th>\n",
       "      <th>r</th>\n",
       "      <th>p-value</th>\n",
       "      <th>lower</th>\n",
       "      <th>upper</th>\n",
       "    </tr>\n",
       "  </thead>\n",
       "  <tbody>\n",
       "    <tr>\n",
       "      <th>0.1x-prior</th>\n",
       "      <td>0.314757</td>\n",
       "      <td>0.203314</td>\n",
       "      <td>-0.241882</td>\n",
       "      <td>0.734772</td>\n",
       "    </tr>\n",
       "    <tr>\n",
       "      <th>0.2x-prior</th>\n",
       "      <td>0.279670</td>\n",
       "      <td>0.261026</td>\n",
       "      <td>-0.286061</td>\n",
       "      <td>0.728891</td>\n",
       "    </tr>\n",
       "    <tr>\n",
       "      <th>0.3x-prior</th>\n",
       "      <td>0.263158</td>\n",
       "      <td>0.291392</td>\n",
       "      <td>-0.324435</td>\n",
       "      <td>0.704511</td>\n",
       "    </tr>\n",
       "    <tr>\n",
       "      <th>0.4x-prior</th>\n",
       "      <td>0.240454</td>\n",
       "      <td>0.336490</td>\n",
       "      <td>-0.327957</td>\n",
       "      <td>0.744490</td>\n",
       "    </tr>\n",
       "    <tr>\n",
       "      <th>0.5x-prior</th>\n",
       "      <td>0.230134</td>\n",
       "      <td>0.358254</td>\n",
       "      <td>-0.388618</td>\n",
       "      <td>0.704780</td>\n",
       "    </tr>\n",
       "    <tr>\n",
       "      <th>1.5x-prior</th>\n",
       "      <td>0.209494</td>\n",
       "      <td>0.404102</td>\n",
       "      <td>-0.372380</td>\n",
       "      <td>0.671214</td>\n",
       "    </tr>\n",
       "    <tr>\n",
       "      <th>3x-prior</th>\n",
       "      <td>0.197110</td>\n",
       "      <td>0.433058</td>\n",
       "      <td>-0.364338</td>\n",
       "      <td>0.705243</td>\n",
       "    </tr>\n",
       "    <tr>\n",
       "      <th>5x-prior</th>\n",
       "      <td>0.205366</td>\n",
       "      <td>0.413635</td>\n",
       "      <td>-0.329850</td>\n",
       "      <td>0.679419</td>\n",
       "    </tr>\n",
       "    <tr>\n",
       "      <th>7x-prior</th>\n",
       "      <td>0.180599</td>\n",
       "      <td>0.473289</td>\n",
       "      <td>-0.361956</td>\n",
       "      <td>0.699822</td>\n",
       "    </tr>\n",
       "    <tr>\n",
       "      <th>10x-prior</th>\n",
       "      <td>0.182663</td>\n",
       "      <td>0.468161</td>\n",
       "      <td>-0.396050</td>\n",
       "      <td>0.708738</td>\n",
       "    </tr>\n",
       "    <tr>\n",
       "      <th>0.1x-post</th>\n",
       "      <td>-0.019608</td>\n",
       "      <td>0.938446</td>\n",
       "      <td>-0.523425</td>\n",
       "      <td>0.443011</td>\n",
       "    </tr>\n",
       "    <tr>\n",
       "      <th>0.2x-post</th>\n",
       "      <td>-0.058824</td>\n",
       "      <td>0.816654</td>\n",
       "      <td>-0.593926</td>\n",
       "      <td>0.531097</td>\n",
       "    </tr>\n",
       "    <tr>\n",
       "      <th>0.3x-post</th>\n",
       "      <td>-0.015480</td>\n",
       "      <td>0.951388</td>\n",
       "      <td>-0.559243</td>\n",
       "      <td>0.499490</td>\n",
       "    </tr>\n",
       "    <tr>\n",
       "      <th>0.4x-post</th>\n",
       "      <td>0.254902</td>\n",
       "      <td>0.307345</td>\n",
       "      <td>-0.314671</td>\n",
       "      <td>0.665646</td>\n",
       "    </tr>\n",
       "    <tr>\n",
       "      <th>0.5x-post</th>\n",
       "      <td>0.001032</td>\n",
       "      <td>0.996757</td>\n",
       "      <td>-0.578619</td>\n",
       "      <td>0.508438</td>\n",
       "    </tr>\n",
       "    <tr>\n",
       "      <th>1.5x-post</th>\n",
       "      <td>0.647059</td>\n",
       "      <td>0.003702</td>\n",
       "      <td>0.174948</td>\n",
       "      <td>0.897293</td>\n",
       "    </tr>\n",
       "    <tr>\n",
       "      <th>3x-post</th>\n",
       "      <td>0.824561</td>\n",
       "      <td>0.000026</td>\n",
       "      <td>0.509856</td>\n",
       "      <td>0.962383</td>\n",
       "    </tr>\n",
       "    <tr>\n",
       "      <th>5x-post</th>\n",
       "      <td>0.477812</td>\n",
       "      <td>0.044912</td>\n",
       "      <td>-0.093042</td>\n",
       "      <td>0.809158</td>\n",
       "    </tr>\n",
       "    <tr>\n",
       "      <th>7x-post</th>\n",
       "      <td>0.543860</td>\n",
       "      <td>0.019644</td>\n",
       "      <td>0.029088</td>\n",
       "      <td>0.859518</td>\n",
       "    </tr>\n",
       "    <tr>\n",
       "      <th>10x-post</th>\n",
       "      <td>0.484004</td>\n",
       "      <td>0.041826</td>\n",
       "      <td>-0.029386</td>\n",
       "      <td>0.861791</td>\n",
       "    </tr>\n",
       "  </tbody>\n",
       "</table>\n",
       "</div>"
      ],
      "text/plain": [
       "                   r   p-value     lower     upper\n",
       "0.1x-prior  0.314757  0.203314 -0.241882  0.734772\n",
       "0.2x-prior  0.279670  0.261026 -0.286061  0.728891\n",
       "0.3x-prior  0.263158  0.291392 -0.324435  0.704511\n",
       "0.4x-prior  0.240454  0.336490 -0.327957  0.744490\n",
       "0.5x-prior  0.230134  0.358254 -0.388618  0.704780\n",
       "1.5x-prior  0.209494  0.404102 -0.372380  0.671214\n",
       "3x-prior    0.197110  0.433058 -0.364338  0.705243\n",
       "5x-prior    0.205366  0.413635 -0.329850  0.679419\n",
       "7x-prior    0.180599  0.473289 -0.361956  0.699822\n",
       "10x-prior   0.182663  0.468161 -0.396050  0.708738\n",
       "0.1x-post  -0.019608  0.938446 -0.523425  0.443011\n",
       "0.2x-post  -0.058824  0.816654 -0.593926  0.531097\n",
       "0.3x-post  -0.015480  0.951388 -0.559243  0.499490\n",
       "0.4x-post   0.254902  0.307345 -0.314671  0.665646\n",
       "0.5x-post   0.001032  0.996757 -0.578619  0.508438\n",
       "1.5x-post   0.647059  0.003702  0.174948  0.897293\n",
       "3x-post     0.824561  0.000026  0.509856  0.962383\n",
       "5x-post     0.477812  0.044912 -0.093042  0.809158\n",
       "7x-post     0.543860  0.019644  0.029088  0.859518\n",
       "10x-post    0.484004  0.041826 -0.029386  0.861791"
      ]
     },
     "execution_count": 45,
     "metadata": {},
     "output_type": "execute_result"
    }
   ],
   "source": [
    "spearman_df = pd.DataFrame(spearman_coefficients, columns=['r'], index=pt_labels)\n",
    "spearman_df['p-value'] = p_values\n",
    "spearman_df['lower'] = [i[0] for i in confidence_intervals]\n",
    "spearman_df['upper'] = [i[1] for i in confidence_intervals]\n",
    "spearman_df"
   ]
  },
  {
   "cell_type": "code",
   "execution_count": 55,
   "metadata": {},
   "outputs": [
    {
     "data": {
      "image/png": "[encoded data removed]",
      "text/plain": [
       "<Figure size 640x480 with 1 Axes>"
      ]
     },
     "metadata": {},
     "output_type": "display_data"
    }
   ],
   "source": [
    "plt.bar(pt_labels, [i for i in spearman_coefficients], alpha=0.5, color=['r']*10 + ['b']*10)\n",
    "plt.grid()\n",
    "\n",
    "for i, val in enumerate(spearman_df['r']):\n",
    "    if round(val, 2) <= 0: \n",
    "        c ='gray'\n",
    "    else: \n",
    "        c='k'\n",
    "    plt.vlines(pt_labels[i], spearman_df['lower'][i], spearman_df['upper'][i], color=c)\n",
    "\n",
    "for i, val in enumerate(spearman_df['r']):\n",
    "    if round(val, 2) <= 0: \n",
    "        plt.annotate(round(val, 2), (pt_labels[i], 0.02), size=8, ha='center', rotation=30,rotation_mode=\"anchor\")\n",
    "\n",
    "plt.title(\"Spearman rank correlation coefficients by perturbation strength\")\n",
    "plt.xlabel('perturbation level')\n",
    "plt.ylabel('Spearman $\\it{r}$')\n",
    "plt.ylim((0, 1.05))\n",
    "\n",
    "_=plt.xticks(rotation=-70,ha='left',rotation_mode=\"anchor\")"
   ]
  },
  {
   "cell_type": "code",
   "execution_count": 48,
   "metadata": {},
   "outputs": [],
   "source": [
    "#spearman_df.to_csv('../../../data/results/spearman_coefficients/topologyB-noReg_omitIntMet_spr.csv')"
   ]
  },
  {
   "cell_type": "markdown",
   "metadata": {},
   "source": [
    "### evaluating top 10 rankings"
   ]
  },
  {
   "cell_type": "code",
   "execution_count": 49,
   "metadata": {},
   "outputs": [
    {
     "data": {
      "text/html": [
       "<div>\n",
       "<style scoped>\n",
       "    .dataframe tbody tr th:only-of-type {\n",
       "        vertical-align: middle;\n",
       "    }\n",
       "\n",
       "    .dataframe tbody tr th {\n",
       "        vertical-align: top;\n",
       "    }\n",
       "\n",
       "    .dataframe thead th {\n",
       "        text-align: right;\n",
       "    }\n",
       "</style>\n",
       "<table border=\"1\" class=\"dataframe\">\n",
       "  <thead>\n",
       "    <tr style=\"text-align: right;\">\n",
       "      <th></th>\n",
       "      <th>gt</th>\n",
       "      <th>0.1x-prior</th>\n",
       "      <th>0.2x-prior</th>\n",
       "      <th>0.3x-prior</th>\n",
       "      <th>0.4x-prior</th>\n",
       "      <th>0.5x-prior</th>\n",
       "      <th>1.5x-prior</th>\n",
       "      <th>3x-prior</th>\n",
       "      <th>5x-prior</th>\n",
       "      <th>7x-prior</th>\n",
       "      <th>...</th>\n",
       "      <th>0.1x-post</th>\n",
       "      <th>0.2x-post</th>\n",
       "      <th>0.3x-post</th>\n",
       "      <th>0.4x-post</th>\n",
       "      <th>0.5x-post</th>\n",
       "      <th>1.5x-post</th>\n",
       "      <th>3x-post</th>\n",
       "      <th>5x-post</th>\n",
       "      <th>7x-post</th>\n",
       "      <th>10x-post</th>\n",
       "    </tr>\n",
       "    <tr>\n",
       "      <th>v19</th>\n",
       "      <th></th>\n",
       "      <th></th>\n",
       "      <th></th>\n",
       "      <th></th>\n",
       "      <th></th>\n",
       "      <th></th>\n",
       "      <th></th>\n",
       "      <th></th>\n",
       "      <th></th>\n",
       "      <th></th>\n",
       "      <th></th>\n",
       "      <th></th>\n",
       "      <th></th>\n",
       "      <th></th>\n",
       "      <th></th>\n",
       "      <th></th>\n",
       "      <th></th>\n",
       "      <th></th>\n",
       "      <th></th>\n",
       "      <th></th>\n",
       "      <th></th>\n",
       "    </tr>\n",
       "  </thead>\n",
       "  <tbody>\n",
       "    <tr>\n",
       "      <th>1.0</th>\n",
       "      <td>v18</td>\n",
       "      <td>v18</td>\n",
       "      <td>v18</td>\n",
       "      <td>v18</td>\n",
       "      <td>v18</td>\n",
       "      <td>v18</td>\n",
       "      <td>v18</td>\n",
       "      <td>v18</td>\n",
       "      <td>v18</td>\n",
       "      <td>v18</td>\n",
       "      <td>...</td>\n",
       "      <td>v8</td>\n",
       "      <td>v8</td>\n",
       "      <td>v12</td>\n",
       "      <td>v9</td>\n",
       "      <td>v16</td>\n",
       "      <td>v7</td>\n",
       "      <td>v18</td>\n",
       "      <td>v18</td>\n",
       "      <td>v18</td>\n",
       "      <td>v18</td>\n",
       "    </tr>\n",
       "    <tr>\n",
       "      <th>2.0</th>\n",
       "      <td>v1</td>\n",
       "      <td>v8</td>\n",
       "      <td>v8</td>\n",
       "      <td>v14</td>\n",
       "      <td>v14</td>\n",
       "      <td>v14</td>\n",
       "      <td>v15</td>\n",
       "      <td>v15</td>\n",
       "      <td>v15</td>\n",
       "      <td>v15</td>\n",
       "      <td>...</td>\n",
       "      <td>v11</td>\n",
       "      <td>v18</td>\n",
       "      <td>v11</td>\n",
       "      <td>v10</td>\n",
       "      <td>v1</td>\n",
       "      <td>v1</td>\n",
       "      <td>v14</td>\n",
       "      <td>v15</td>\n",
       "      <td>v1</td>\n",
       "      <td>v1</td>\n",
       "    </tr>\n",
       "    <tr>\n",
       "      <th>3.0</th>\n",
       "      <td>v14</td>\n",
       "      <td>v14</td>\n",
       "      <td>v14</td>\n",
       "      <td>v8</td>\n",
       "      <td>v17</td>\n",
       "      <td>v17</td>\n",
       "      <td>v16</td>\n",
       "      <td>v17</td>\n",
       "      <td>v17</td>\n",
       "      <td>v16</td>\n",
       "      <td>...</td>\n",
       "      <td>v12</td>\n",
       "      <td>v17</td>\n",
       "      <td>v17</td>\n",
       "      <td>v1</td>\n",
       "      <td>v18</td>\n",
       "      <td>v18</td>\n",
       "      <td>v7</td>\n",
       "      <td>v14</td>\n",
       "      <td>v14</td>\n",
       "      <td>v14</td>\n",
       "    </tr>\n",
       "    <tr>\n",
       "      <th>4.0</th>\n",
       "      <td>v7</td>\n",
       "      <td>v17</td>\n",
       "      <td>v17</td>\n",
       "      <td>v17</td>\n",
       "      <td>v16</td>\n",
       "      <td>v16</td>\n",
       "      <td>v14</td>\n",
       "      <td>v16</td>\n",
       "      <td>v16</td>\n",
       "      <td>v17</td>\n",
       "      <td>...</td>\n",
       "      <td>v17</td>\n",
       "      <td>v16</td>\n",
       "      <td>v16</td>\n",
       "      <td>v12</td>\n",
       "      <td>v8</td>\n",
       "      <td>v14</td>\n",
       "      <td>v1</td>\n",
       "      <td>v4</td>\n",
       "      <td>v7</td>\n",
       "      <td>v15</td>\n",
       "    </tr>\n",
       "    <tr>\n",
       "      <th>5.0</th>\n",
       "      <td>v4</td>\n",
       "      <td>v16</td>\n",
       "      <td>v16</td>\n",
       "      <td>v16</td>\n",
       "      <td>v8</td>\n",
       "      <td>v8</td>\n",
       "      <td>v17</td>\n",
       "      <td>v14</td>\n",
       "      <td>v14</td>\n",
       "      <td>v14</td>\n",
       "      <td>...</td>\n",
       "      <td>v16</td>\n",
       "      <td>v7</td>\n",
       "      <td>v8</td>\n",
       "      <td>v11</td>\n",
       "      <td>v11</td>\n",
       "      <td>v4</td>\n",
       "      <td>v4</td>\n",
       "      <td>v12</td>\n",
       "      <td>v15</td>\n",
       "      <td>v7</td>\n",
       "    </tr>\n",
       "    <tr>\n",
       "      <th>6.0</th>\n",
       "      <td>v5</td>\n",
       "      <td>v13</td>\n",
       "      <td>v13</td>\n",
       "      <td>v13</td>\n",
       "      <td>v15</td>\n",
       "      <td>v15</td>\n",
       "      <td>v8</td>\n",
       "      <td>v5</td>\n",
       "      <td>v5</td>\n",
       "      <td>v5</td>\n",
       "      <td>...</td>\n",
       "      <td>v14</td>\n",
       "      <td>v11</td>\n",
       "      <td>v14</td>\n",
       "      <td>v16</td>\n",
       "      <td>v6</td>\n",
       "      <td>v9</td>\n",
       "      <td>v5</td>\n",
       "      <td>v1</td>\n",
       "      <td>v12</td>\n",
       "      <td>v10</td>\n",
       "    </tr>\n",
       "    <tr>\n",
       "      <th>7.0</th>\n",
       "      <td>v12</td>\n",
       "      <td>v4</td>\n",
       "      <td>v4</td>\n",
       "      <td>v15</td>\n",
       "      <td>v13</td>\n",
       "      <td>v13</td>\n",
       "      <td>v5</td>\n",
       "      <td>v4</td>\n",
       "      <td>v1</td>\n",
       "      <td>v1</td>\n",
       "      <td>...</td>\n",
       "      <td>v13</td>\n",
       "      <td>v13</td>\n",
       "      <td>v13</td>\n",
       "      <td>v7</td>\n",
       "      <td>v17</td>\n",
       "      <td>v17</td>\n",
       "      <td>v10</td>\n",
       "      <td>v7</td>\n",
       "      <td>v11</td>\n",
       "      <td>v2</td>\n",
       "    </tr>\n",
       "    <tr>\n",
       "      <th>8.0</th>\n",
       "      <td>v3</td>\n",
       "      <td>v1</td>\n",
       "      <td>v15</td>\n",
       "      <td>v4</td>\n",
       "      <td>v4</td>\n",
       "      <td>v4</td>\n",
       "      <td>v4</td>\n",
       "      <td>v1</td>\n",
       "      <td>v4</td>\n",
       "      <td>v4</td>\n",
       "      <td>...</td>\n",
       "      <td>v5</td>\n",
       "      <td>v9</td>\n",
       "      <td>v18</td>\n",
       "      <td>v8</td>\n",
       "      <td>v14</td>\n",
       "      <td>v11</td>\n",
       "      <td>v9</td>\n",
       "      <td>v11</td>\n",
       "      <td>v2</td>\n",
       "      <td>v12</td>\n",
       "    </tr>\n",
       "    <tr>\n",
       "      <th>9.0</th>\n",
       "      <td>v9</td>\n",
       "      <td>v7</td>\n",
       "      <td>v1</td>\n",
       "      <td>v5</td>\n",
       "      <td>v1</td>\n",
       "      <td>v5</td>\n",
       "      <td>v1</td>\n",
       "      <td>v6</td>\n",
       "      <td>v6</td>\n",
       "      <td>v6</td>\n",
       "      <td>...</td>\n",
       "      <td>v4</td>\n",
       "      <td>v6</td>\n",
       "      <td>v4</td>\n",
       "      <td>v15</td>\n",
       "      <td>v15</td>\n",
       "      <td>v8</td>\n",
       "      <td>v16</td>\n",
       "      <td>v5</td>\n",
       "      <td>v5</td>\n",
       "      <td>v5</td>\n",
       "    </tr>\n",
       "    <tr>\n",
       "      <th>10.0</th>\n",
       "      <td>v8</td>\n",
       "      <td>v6</td>\n",
       "      <td>v7</td>\n",
       "      <td>v1</td>\n",
       "      <td>v5</td>\n",
       "      <td>v1</td>\n",
       "      <td>v7</td>\n",
       "      <td>v7</td>\n",
       "      <td>v7</td>\n",
       "      <td>v7</td>\n",
       "      <td>...</td>\n",
       "      <td>v6</td>\n",
       "      <td>v10</td>\n",
       "      <td>v7</td>\n",
       "      <td>v14</td>\n",
       "      <td>v13</td>\n",
       "      <td>v5</td>\n",
       "      <td>v12</td>\n",
       "      <td>v16</td>\n",
       "      <td>v6</td>\n",
       "      <td>v6</td>\n",
       "    </tr>\n",
       "    <tr>\n",
       "      <th>11.0</th>\n",
       "      <td>v13</td>\n",
       "      <td>v15</td>\n",
       "      <td>v5</td>\n",
       "      <td>v7</td>\n",
       "      <td>v7</td>\n",
       "      <td>v7</td>\n",
       "      <td>v6</td>\n",
       "      <td>v8</td>\n",
       "      <td>v8</td>\n",
       "      <td>v8</td>\n",
       "      <td>...</td>\n",
       "      <td>v1</td>\n",
       "      <td>v4</td>\n",
       "      <td>v15</td>\n",
       "      <td>v4</td>\n",
       "      <td>v9</td>\n",
       "      <td>v6</td>\n",
       "      <td>v3</td>\n",
       "      <td>v2</td>\n",
       "      <td>v9</td>\n",
       "      <td>v4</td>\n",
       "    </tr>\n",
       "    <tr>\n",
       "      <th>12.0</th>\n",
       "      <td>v11</td>\n",
       "      <td>v9</td>\n",
       "      <td>v6</td>\n",
       "      <td>v6</td>\n",
       "      <td>v6</td>\n",
       "      <td>v6</td>\n",
       "      <td>v13</td>\n",
       "      <td>v13</td>\n",
       "      <td>v10</td>\n",
       "      <td>v10</td>\n",
       "      <td>...</td>\n",
       "      <td>v9</td>\n",
       "      <td>v1</td>\n",
       "      <td>v5</td>\n",
       "      <td>v13</td>\n",
       "      <td>v5</td>\n",
       "      <td>v10</td>\n",
       "      <td>v15</td>\n",
       "      <td>v17</td>\n",
       "      <td>v3</td>\n",
       "      <td>v3</td>\n",
       "    </tr>\n",
       "    <tr>\n",
       "      <th>13.0</th>\n",
       "      <td>v10</td>\n",
       "      <td>v5</td>\n",
       "      <td>v9</td>\n",
       "      <td>v9</td>\n",
       "      <td>v9</td>\n",
       "      <td>v11</td>\n",
       "      <td>v10</td>\n",
       "      <td>v10</td>\n",
       "      <td>v12</td>\n",
       "      <td>v11</td>\n",
       "      <td>...</td>\n",
       "      <td>v18</td>\n",
       "      <td>v12</td>\n",
       "      <td>v10</td>\n",
       "      <td>v5</td>\n",
       "      <td>v10</td>\n",
       "      <td>v12</td>\n",
       "      <td>v17</td>\n",
       "      <td>v10</td>\n",
       "      <td>v4</td>\n",
       "      <td>v9</td>\n",
       "    </tr>\n",
       "    <tr>\n",
       "      <th>14.0</th>\n",
       "      <td>v15</td>\n",
       "      <td>v12</td>\n",
       "      <td>v11</td>\n",
       "      <td>v11</td>\n",
       "      <td>v11</td>\n",
       "      <td>v12</td>\n",
       "      <td>v9</td>\n",
       "      <td>v9</td>\n",
       "      <td>v13</td>\n",
       "      <td>v12</td>\n",
       "      <td>...</td>\n",
       "      <td>v10</td>\n",
       "      <td>v5</td>\n",
       "      <td>v9</td>\n",
       "      <td>v18</td>\n",
       "      <td>v7</td>\n",
       "      <td>v15</td>\n",
       "      <td>v8</td>\n",
       "      <td>v6</td>\n",
       "      <td>v10</td>\n",
       "      <td>v16</td>\n",
       "    </tr>\n",
       "    <tr>\n",
       "      <th>15.0</th>\n",
       "      <td>v16</td>\n",
       "      <td>v11</td>\n",
       "      <td>v12</td>\n",
       "      <td>v12</td>\n",
       "      <td>v12</td>\n",
       "      <td>v9</td>\n",
       "      <td>v11</td>\n",
       "      <td>v12</td>\n",
       "      <td>v11</td>\n",
       "      <td>v9</td>\n",
       "      <td>...</td>\n",
       "      <td>v7</td>\n",
       "      <td>v3</td>\n",
       "      <td>v3</td>\n",
       "      <td>v3</td>\n",
       "      <td>v3</td>\n",
       "      <td>v13</td>\n",
       "      <td>v13</td>\n",
       "      <td>v8</td>\n",
       "      <td>v17</td>\n",
       "      <td>v17</td>\n",
       "    </tr>\n",
       "  </tbody>\n",
       "</table>\n",
       "<p>15 rows × 21 columns</p>\n",
       "</div>"
      ],
      "text/plain": [
       "       gt 0.1x-prior 0.2x-prior 0.3x-prior 0.4x-prior 0.5x-prior 1.5x-prior  \\\n",
       "v19                                                                           \n",
       "1.0   v18        v18        v18        v18        v18        v18        v18   \n",
       "2.0    v1         v8         v8        v14        v14        v14        v15   \n",
       "3.0   v14        v14        v14         v8        v17        v17        v16   \n",
       "4.0    v7        v17        v17        v17        v16        v16        v14   \n",
       "5.0    v4        v16        v16        v16         v8         v8        v17   \n",
       "6.0    v5        v13        v13        v13        v15        v15         v8   \n",
       "7.0   v12         v4         v4        v15        v13        v13         v5   \n",
       "8.0    v3         v1        v15         v4         v4         v4         v4   \n",
       "9.0    v9         v7         v1         v5         v1         v5         v1   \n",
       "10.0   v8         v6         v7         v1         v5         v1         v7   \n",
       "11.0  v13        v15         v5         v7         v7         v7         v6   \n",
       "12.0  v11         v9         v6         v6         v6         v6        v13   \n",
       "13.0  v10         v5         v9         v9         v9        v11        v10   \n",
       "14.0  v15        v12        v11        v11        v11        v12         v9   \n",
       "15.0  v16        v11        v12        v12        v12         v9        v11   \n",
       "\n",
       "     3x-prior 5x-prior 7x-prior  ... 0.1x-post 0.2x-post 0.3x-post 0.4x-post  \\\n",
       "v19                              ...                                           \n",
       "1.0       v18      v18      v18  ...        v8        v8       v12        v9   \n",
       "2.0       v15      v15      v15  ...       v11       v18       v11       v10   \n",
       "3.0       v17      v17      v16  ...       v12       v17       v17        v1   \n",
       "4.0       v16      v16      v17  ...       v17       v16       v16       v12   \n",
       "5.0       v14      v14      v14  ...       v16        v7        v8       v11   \n",
       "6.0        v5       v5       v5  ...       v14       v11       v14       v16   \n",
       "7.0        v4       v1       v1  ...       v13       v13       v13        v7   \n",
       "8.0        v1       v4       v4  ...        v5        v9       v18        v8   \n",
       "9.0        v6       v6       v6  ...        v4        v6        v4       v15   \n",
       "10.0       v7       v7       v7  ...        v6       v10        v7       v14   \n",
       "11.0       v8       v8       v8  ...        v1        v4       v15        v4   \n",
       "12.0      v13      v10      v10  ...        v9        v1        v5       v13   \n",
       "13.0      v10      v12      v11  ...       v18       v12       v10        v5   \n",
       "14.0       v9      v13      v12  ...       v10        v5        v9       v18   \n",
       "15.0      v12      v11       v9  ...        v7        v3        v3        v3   \n",
       "\n",
       "     0.5x-post 1.5x-post 3x-post 5x-post 7x-post 10x-post  \n",
       "v19                                                        \n",
       "1.0        v16        v7     v18     v18     v18      v18  \n",
       "2.0         v1        v1     v14     v15      v1       v1  \n",
       "3.0        v18       v18      v7     v14     v14      v14  \n",
       "4.0         v8       v14      v1      v4      v7      v15  \n",
       "5.0        v11        v4      v4     v12     v15       v7  \n",
       "6.0         v6        v9      v5      v1     v12      v10  \n",
       "7.0        v17       v17     v10      v7     v11       v2  \n",
       "8.0        v14       v11      v9     v11      v2      v12  \n",
       "9.0        v15        v8     v16      v5      v5       v5  \n",
       "10.0       v13        v5     v12     v16      v6       v6  \n",
       "11.0        v9        v6      v3      v2      v9       v4  \n",
       "12.0        v5       v10     v15     v17      v3       v3  \n",
       "13.0       v10       v12     v17     v10      v4       v9  \n",
       "14.0        v7       v15      v8      v6     v10      v16  \n",
       "15.0        v3       v13     v13      v8     v17      v17  \n",
       "\n",
       "[15 rows x 21 columns]"
      ]
     },
     "execution_count": 49,
     "metadata": {},
     "output_type": "execute_result"
    }
   ],
   "source": [
    "b_list = []\n",
    "for FCC in prior_FCCs + post_FCCs:\n",
    "    b = util.calculate_FCC_med_rankings(FCC, 'v19', r)\n",
    "    b_list.append(b)\n",
    "\n",
    "ranked_b_list = [b.sort_values().reset_index().set_index('v19') for b in b_list]\n",
    "q = pd.concat(ranked_b_list, axis=1)\n",
    "q['gt'] = a.sort_values().reset_index().set_index('v19')\n",
    "q.columns = pt_labels + ['gt']\n",
    "q = q[['gt'] + pt_labels]\n",
    "q.head(15) ## top 15 table"
   ]
  },
  {
   "cell_type": "code",
   "execution_count": 50,
   "metadata": {},
   "outputs": [],
   "source": [
    "#q.to_csv('../../../data/results/rankings/topologyB-noReg_omitIntMet_rankings.csv')\n",
    "#rank_df = pd.read_csv('../../../data/results/rankings/topologyB-noReg_omitIntMet_rankings.csv')\n",
    "rank_df = q"
   ]
  },
  {
   "cell_type": "code",
   "execution_count": 51,
   "metadata": {},
   "outputs": [
    {
     "data": {
      "text/html": [
       "<div>\n",
       "<style scoped>\n",
       "    .dataframe tbody tr th:only-of-type {\n",
       "        vertical-align: middle;\n",
       "    }\n",
       "\n",
       "    .dataframe tbody tr th {\n",
       "        vertical-align: top;\n",
       "    }\n",
       "\n",
       "    .dataframe thead th {\n",
       "        text-align: right;\n",
       "    }\n",
       "</style>\n",
       "<table border=\"1\" class=\"dataframe\">\n",
       "  <thead>\n",
       "    <tr style=\"text-align: right;\">\n",
       "      <th></th>\n",
       "      <th>0.1x-prior</th>\n",
       "      <th>0.2x-prior</th>\n",
       "      <th>0.3x-prior</th>\n",
       "      <th>0.4x-prior</th>\n",
       "      <th>0.5x-prior</th>\n",
       "      <th>1.5x-prior</th>\n",
       "      <th>3x-prior</th>\n",
       "      <th>5x-prior</th>\n",
       "      <th>7x-prior</th>\n",
       "      <th>10x-prior</th>\n",
       "      <th>0.1x-post</th>\n",
       "      <th>0.2x-post</th>\n",
       "      <th>0.3x-post</th>\n",
       "      <th>0.4x-post</th>\n",
       "      <th>0.5x-post</th>\n",
       "      <th>1.5x-post</th>\n",
       "      <th>3x-post</th>\n",
       "      <th>5x-post</th>\n",
       "      <th>7x-post</th>\n",
       "      <th>10x-post</th>\n",
       "    </tr>\n",
       "  </thead>\n",
       "  <tbody>\n",
       "    <tr>\n",
       "      <th>0</th>\n",
       "      <td>6</td>\n",
       "      <td>6</td>\n",
       "      <td>6</td>\n",
       "      <td>6</td>\n",
       "      <td>6</td>\n",
       "      <td>7</td>\n",
       "      <td>6</td>\n",
       "      <td>6</td>\n",
       "      <td>6</td>\n",
       "      <td>6</td>\n",
       "      <td>5</td>\n",
       "      <td>4</td>\n",
       "      <td>6</td>\n",
       "      <td>6</td>\n",
       "      <td>4</td>\n",
       "      <td>8</td>\n",
       "      <td>8</td>\n",
       "      <td>7</td>\n",
       "      <td>6</td>\n",
       "      <td>6</td>\n",
       "    </tr>\n",
       "  </tbody>\n",
       "</table>\n",
       "</div>"
      ],
      "text/plain": [
       "   0.1x-prior  0.2x-prior  0.3x-prior  0.4x-prior  0.5x-prior  1.5x-prior  \\\n",
       "0           6           6           6           6           6           7   \n",
       "\n",
       "   3x-prior  5x-prior  7x-prior  10x-prior  0.1x-post  0.2x-post  0.3x-post  \\\n",
       "0         6         6         6          6          5          4          6   \n",
       "\n",
       "   0.4x-post  0.5x-post  1.5x-post  3x-post  5x-post  7x-post  10x-post  \n",
       "0          6          4          8        8        7        6         6  "
      ]
     },
     "execution_count": 51,
     "metadata": {},
     "output_type": "execute_result"
    }
   ],
   "source": [
    "topTen_df = rank_df[rank_df['v19'].isin([1,2,3,4,5,6,7,8,9,10])]\n",
    "\n",
    "gt_t10_set = set(list(topTen_df['gt']))\n",
    "\n",
    "t10_sets = []\n",
    "for pt in pt_labels: \n",
    "    t10_sets.append(set(list(topTen_df[pt])))\n",
    "\n",
    "t10_scores=[]\n",
    "for i in t10_sets: \n",
    "    t10_scores.append(len(set.intersection(gt_t10_set, i)))\n",
    "\n",
    "t10_results = pd.DataFrame((np.array(t10_scores)).reshape((len(pt_labels),-1)).T, \n",
    "             columns=pt_labels)\n",
    "t10_results ## number of correct predictions of top 10 FCC values "
   ]
  },
  {
   "cell_type": "code",
   "execution_count": 52,
   "metadata": {},
   "outputs": [
    {
     "name": "stdout",
     "output_type": "stream",
     "text": [
      "Int64Index([10, 14, 15, 16], dtype='int64')\n",
      "Int64Index([10, 13, 14, 16], dtype='int64')\n",
      "Int64Index([10, 13, 14, 16], dtype='int64')\n",
      "Int64Index([10, 13, 14, 16], dtype='int64')\n",
      "Int64Index([10, 13, 14, 16], dtype='int64')\n",
      "Int64Index([13, 14, 16], dtype='int64')\n",
      "Int64Index([13, 14, 15, 16], dtype='int64')\n",
      "Int64Index([13, 14, 15, 16], dtype='int64')\n",
      "Int64Index([13, 14, 15, 16], dtype='int64')\n",
      "Int64Index([13, 14, 15, 16], dtype='int64')\n",
      "Int64Index([10, 11, 14, 15, 16], dtype='int64')\n",
      "Int64Index([10, 11, 12, 14, 15, 16], dtype='int64')\n",
      "Int64Index([10, 11, 14, 16], dtype='int64')\n",
      "Int64Index([11, 12, 13, 14], dtype='int64')\n",
      "Int64Index([10, 11, 13, 14, 15, 16], dtype='int64')\n",
      "Int64Index([11, 16], dtype='int64')\n",
      "Int64Index([12, 14], dtype='int64')\n",
      "Int64Index([11, 13, 14], dtype='int64')\n",
      "Int64Index([11, 13, 15, 17], dtype='int64')\n",
      "Int64Index([12, 13, 15, 17], dtype='int64')\n"
     ]
    }
   ],
   "source": [
    "# difference\n",
    "dif_list = []\n",
    "for i in t10_sets: \n",
    "    dif_list.append(i.difference(gt_t10_set))\n",
    "\n",
    "for i in dif_list: \n",
    "    print(rank_df['gt'].loc[lambda x: x.isin(i)].index)"
   ]
  }
 ],
 "metadata": {
  "kernelspec": {
   "display_name": "gayles",
   "language": "python",
   "name": "python3"
  },
  "language_info": {
   "codemirror_mode": {
    "name": "ipython",
    "version": 3
   },
   "file_extension": ".py",
   "mimetype": "text/x-python",
   "name": "python",
   "nbconvert_exporter": "python",
   "pygments_lexer": "ipython3",
   "version": "3.9.19"
  }
 },
 "nbformat": 4,
 "nbformat_minor": 2
}
