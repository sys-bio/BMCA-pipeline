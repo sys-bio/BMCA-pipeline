{
 "cells": [
  {
   "cell_type": "markdown",
   "id": "22c31e18",
   "metadata": {},
   "source": [
    "Critique from reviewer:\n",
    "\n",
    "_For testing how well the model predicted a ground truth value, it should be possible to calculate the log probability density of the true value according to the model. This is usually a better metric than correlation coefficient._"
   ]
  },
  {
   "cell_type": "code",
   "execution_count": 1,
   "id": "9366fdee",
   "metadata": {},
   "outputs": [
    {
     "name": "stderr",
     "output_type": "stream",
     "text": [
      "WARNING (aesara.configdefaults): g++ not available, if using conda: `conda install m2w64-toolchain`\n",
      "WARNING (aesara.configdefaults): g++ not detected!  Aesara will be unable to compile C-implementations and will default to Python. Performance may be severely degraded. To remove this warning, set Aesara flags cxx to an empty string.\n",
      "WARNING (aesara.tensor.blas): Using NumPy C-API based implementation for BLAS functions.\n"
     ]
    }
   ],
   "source": [
    "SEED = 1\n",
    "import random\n",
    "\n",
    "import tellurium as te\n",
    "import pandas as pd\n",
    "import numpy as np\n",
    "np.random.seed(SEED)\n",
    "\n",
    "import matplotlib.pyplot as plt\n",
    "import seaborn as sns\n",
    "import arviz as az\n",
    "\n",
    "import aesara.tensor as at\n",
    "import aesara\n",
    "floatX = aesara.config.floatX\n",
    "import pymc as pm\n",
    "import numpy as np\n",
    "\n",
    "import cobra\n",
    "import os\n",
    "\n",
    "from scipy import stats\n",
    "import scipy as sp\n",
    "import math\n",
    "\n",
    "import gzip\n",
    "import cloudpickle"
   ]
  },
  {
   "cell_type": "code",
   "execution_count": 2,
   "id": "a621b578",
   "metadata": {},
   "outputs": [],
   "source": [
    "os.chdir('../../..')\n",
    "from src import antemll, util\n",
    "import emll\n",
    "from emll.aesara_utils import LeastSquaresSolve\n",
    "os.chdir('notebooks/topologyB/all_data/')"
   ]
  },
  {
   "cell_type": "code",
   "execution_count": 3,
   "id": "229a2548",
   "metadata": {},
   "outputs": [
    {
     "data": {
      "text/plain": [
       "1.7241056990445864e-15"
      ]
     },
     "execution_count": 3,
     "metadata": {},
     "output_type": "execute_result"
    }
   ],
   "source": [
    "ant ='../../../models/Antimony/topologyB-noReg.ant' \n",
    "r = te.loada(ant)\n",
    "r.conservedMoietyAnalysis = True\n",
    "r.steadyState()"
   ]
  },
  {
   "cell_type": "code",
   "execution_count": 4,
   "id": "7fbdeb6e",
   "metadata": {},
   "outputs": [],
   "source": [
    "enzymes = ['e_' + i for i in r.getReactionIds()]\n",
    "internal = r.getFloatingSpeciesIds()\n",
    "external = r.getBoundarySpeciesIds()\n",
    "fluxes = ['v_' + i for i in r.getReactionIds()]"
   ]
  },
  {
   "cell_type": "code",
   "execution_count": 5,
   "id": "419839d8",
   "metadata": {},
   "outputs": [],
   "source": [
    "data01 = pd.read_csv('../../../data/generated_data/TopologyB-noReg/TopologyB-noReg_0.1.csv')[enzymes+fluxes+internal]\n",
    "data02 = pd.read_csv('../../../data/generated_data/TopologyB-noReg/TopologyB-noReg_0.2.csv')[enzymes+fluxes+internal]\n",
    "data03 = pd.read_csv('../../../data/generated_data/TopologyB-noReg/TopologyB-noReg_0.3.csv')[enzymes+fluxes+internal]\n",
    "data04 = pd.read_csv('../../../data/generated_data/TopologyB-noReg/TopologyB-noReg_0.4.csv')[enzymes+fluxes+internal]\n",
    "data05 = pd.read_csv('../../../data/generated_data/TopologyB-noReg/TopologyB-noReg_0.5.csv')[enzymes+fluxes+internal]\n",
    "\n",
    "data15 = pd.read_csv('../../../data/generated_data/TopologyB-noReg/TopologyB-noReg_1.5.csv')[enzymes+fluxes+internal]\n",
    "data3 = pd.read_csv('../../../data/generated_data/TopologyB-noReg/TopologyB-noReg_3.csv')[enzymes+fluxes+internal]\n",
    "data5 = pd.read_csv('../../../data/generated_data/TopologyB-noReg/TopologyB-noReg_5.csv')[enzymes+fluxes+internal]\n",
    "data7 = pd.read_csv('../../../data/generated_data/TopologyB-noReg/TopologyB-noReg_7.csv')[enzymes+fluxes+internal]\n",
    "data100 = pd.read_csv('../../../data/generated_data/TopologyB-noReg/TopologyB-noReg_10.csv')[enzymes+fluxes+internal]\n"
   ]
  },
  {
   "cell_type": "code",
   "execution_count": 6,
   "id": "1ab5adc7",
   "metadata": {},
   "outputs": [
    {
     "name": "stderr",
     "output_type": "stream",
     "text": [
      "No objective coefficients in model. Unclear what should be optimized\n"
     ]
    },
    {
     "name": "stdout",
     "output_type": "stream",
     "text": [
      "../../../models/Antimony/topologyB_cobra.ant\n"
     ]
    },
    {
     "name": "stderr",
     "output_type": "stream",
     "text": [
      "No objective coefficients in model. Unclear what should be optimized\n"
     ]
    },
    {
     "name": "stdout",
     "output_type": "stream",
     "text": [
      "../../../models/Antimony/topologyB_cobra.ant\n"
     ]
    },
    {
     "name": "stderr",
     "output_type": "stream",
     "text": [
      "No objective coefficients in model. Unclear what should be optimized\n"
     ]
    },
    {
     "name": "stdout",
     "output_type": "stream",
     "text": [
      "../../../models/Antimony/topologyB_cobra.ant\n"
     ]
    },
    {
     "name": "stderr",
     "output_type": "stream",
     "text": [
      "No objective coefficients in model. Unclear what should be optimized\n"
     ]
    },
    {
     "name": "stdout",
     "output_type": "stream",
     "text": [
      "../../../models/Antimony/topologyB_cobra.ant\n"
     ]
    },
    {
     "name": "stderr",
     "output_type": "stream",
     "text": [
      "No objective coefficients in model. Unclear what should be optimized\n"
     ]
    },
    {
     "name": "stdout",
     "output_type": "stream",
     "text": [
      "../../../models/Antimony/topologyB_cobra.ant\n"
     ]
    },
    {
     "name": "stderr",
     "output_type": "stream",
     "text": [
      "No objective coefficients in model. Unclear what should be optimized\n"
     ]
    },
    {
     "name": "stdout",
     "output_type": "stream",
     "text": [
      "../../../models/Antimony/topologyB_cobra.ant\n"
     ]
    },
    {
     "name": "stderr",
     "output_type": "stream",
     "text": [
      "No objective coefficients in model. Unclear what should be optimized\n"
     ]
    },
    {
     "name": "stdout",
     "output_type": "stream",
     "text": [
      "../../../models/Antimony/topologyB_cobra.ant\n"
     ]
    },
    {
     "name": "stderr",
     "output_type": "stream",
     "text": [
      "No objective coefficients in model. Unclear what should be optimized\n"
     ]
    },
    {
     "name": "stdout",
     "output_type": "stream",
     "text": [
      "../../../models/Antimony/topologyB_cobra.ant\n"
     ]
    },
    {
     "name": "stderr",
     "output_type": "stream",
     "text": [
      "No objective coefficients in model. Unclear what should be optimized\n"
     ]
    },
    {
     "name": "stdout",
     "output_type": "stream",
     "text": [
      "../../../models/Antimony/topologyB_cobra.ant\n"
     ]
    },
    {
     "name": "stderr",
     "output_type": "stream",
     "text": [
      "No objective coefficients in model. Unclear what should be optimized\n"
     ]
    },
    {
     "name": "stdout",
     "output_type": "stream",
     "text": [
      "../../../models/Antimony/topologyB_cobra.ant\n"
     ]
    }
   ],
   "source": [
    "BMCA_obj01 = antemll.antemll(ant, data01, cobra_sbml='../../../models/sbml/TopologyB_cobra.xml')\n",
    "BMCA_obj02 = antemll.antemll(ant, data02, cobra_sbml='../../../models/sbml/TopologyB_cobra.xml')\n",
    "BMCA_obj03 = antemll.antemll(ant, data03, cobra_sbml='../../../models/sbml/TopologyB_cobra.xml')\n",
    "BMCA_obj04 = antemll.antemll(ant, data04, cobra_sbml='../../../models/sbml/TopologyB_cobra.xml')\n",
    "BMCA_obj05 = antemll.antemll(ant, data05, cobra_sbml='../../../models/sbml/TopologyB_cobra.xml')\n",
    "\n",
    "BMCA_obj15 = antemll.antemll(ant, data15, cobra_sbml='../../../models/sbml/TopologyB_cobra.xml')\n",
    "BMCA_obj3 = antemll.antemll(ant, data3, cobra_sbml='../../../models/sbml/TopologyB_cobra.xml')\n",
    "BMCA_obj5 = antemll.antemll(ant, data5, cobra_sbml='../../../models/sbml/TopologyB_cobra.xml')\n",
    "BMCA_obj7 = antemll.antemll(ant, data7, cobra_sbml='../../../models/sbml/TopologyB_cobra.xml')\n",
    "BMCA_obj100 = antemll.antemll(ant, data100, cobra_sbml='../../../models/sbml/TopologyB_cobra.xml')\n"
   ]
  },
  {
   "cell_type": "markdown",
   "id": "15a4adf6",
   "metadata": {},
   "source": [
    "## Analysis\n"
   ]
  },
  {
   "cell_type": "code",
   "execution_count": 23,
   "id": "4fb44245",
   "metadata": {},
   "outputs": [],
   "source": [
    "picklefolder = '../../../data/results/tracePickles/'\n",
    "with gzip.open(picklefolder + 'topologyB-noReg_omitExMet_traces.pgz', \"rb\") as f:\n",
    "    traces = cloudpickle.load(f, encoding='bytes')"
   ]
  },
  {
   "cell_type": "code",
   "execution_count": 24,
   "id": "7ff46af8",
   "metadata": {},
   "outputs": [],
   "source": [
    "trace01=traces['trace01']\n",
    "trace02=traces['trace02']\n",
    "trace03=traces['trace03']\n",
    "trace04=traces['trace04']\n",
    "trace05=traces['trace05']\n",
    "trace15=traces['trace15']\n",
    "trace3=traces['trace3']\n",
    "trace5=traces['trace5']\n",
    "trace7=traces['trace7']\n",
    "trace100=traces['trace100']"
   ]
  },
  {
   "cell_type": "code",
   "execution_count": 25,
   "id": "06b0ff54",
   "metadata": {},
   "outputs": [],
   "source": [
    "from scipy.stats import gaussian_kde\n",
    "\n",
    "def get_logp(trace, true_values):  \n",
    "    \"\"\"\n",
    "    Estimate marginal logp at each ground truth value using KDE.\n",
    "\n",
    "    Parameters:\n",
    "    - trace: ArviZ InferenceData object containing posterior samples\n",
    "    - true_values: numpy array of shape (16, 11) representing ground truth\n",
    "\n",
    "    Returns:\n",
    "    - logps: numpy array of shape (16, 11) of log probabilities\n",
    "    \"\"\"\n",
    "\n",
    "    samples = trace.posterior[\"Ex\"].stack(sample=(\"chain\", \"draw\")).values  # shape: (16, 11, 1000)\n",
    "    samples = np.moveaxis(samples, -1, 0)  # shape: (1000, 16, 11)\n",
    "    \n",
    "    logps = np.zeros_like(true_values)\n",
    "\n",
    "    for i in range(true_values.shape[0]):\n",
    "        for j in range(true_values.shape[1]):\n",
    "            var_samples = samples[:, i, j]\n",
    "            kde = gaussian_kde(var_samples)\n",
    "            logps[i, j] = np.log(kde(true_values[i, j]))\n",
    "\n",
    "    return np.array(logps)\n"
   ]
  },
  {
   "cell_type": "code",
   "execution_count": 26,
   "id": "bb72e336",
   "metadata": {},
   "outputs": [
    {
     "name": "stderr",
     "output_type": "stream",
     "text": [
      "C:\\Users\\user\\AppData\\Local\\Temp\\ipykernel_28476\\95413887.py:24: RuntimeWarning:\n",
      "\n",
      "divide by zero encountered in log\n",
      "\n"
     ]
    }
   ],
   "source": [
    "logp_array = get_logp(trace100[0], true_values=r.getScaledElasticityMatrix())  # where Ex_true is your (16, 11) ground truth"
   ]
  },
  {
   "cell_type": "code",
   "execution_count": 27,
   "id": "bf65deac",
   "metadata": {},
   "outputs": [
    {
     "data": {
      "text/html": [
       "<div>\n",
       "<style scoped>\n",
       "    .dataframe tbody tr th:only-of-type {\n",
       "        vertical-align: middle;\n",
       "    }\n",
       "\n",
       "    .dataframe tbody tr th {\n",
       "        vertical-align: top;\n",
       "    }\n",
       "\n",
       "    .dataframe thead th {\n",
       "        text-align: right;\n",
       "    }\n",
       "</style>\n",
       "<table border=\"1\" class=\"dataframe\">\n",
       "  <thead>\n",
       "    <tr style=\"text-align: right;\">\n",
       "      <th></th>\n",
       "      <th>0</th>\n",
       "      <th>1</th>\n",
       "      <th>2</th>\n",
       "      <th>3</th>\n",
       "      <th>4</th>\n",
       "      <th>5</th>\n",
       "      <th>6</th>\n",
       "      <th>7</th>\n",
       "      <th>8</th>\n",
       "      <th>9</th>\n",
       "      <th>10</th>\n",
       "      <th>11</th>\n",
       "      <th>12</th>\n",
       "    </tr>\n",
       "  </thead>\n",
       "  <tbody>\n",
       "    <tr>\n",
       "      <th>0</th>\n",
       "      <td>3.086908</td>\n",
       "      <td>-489.515514</td>\n",
       "      <td>1.361091</td>\n",
       "      <td>2.964887</td>\n",
       "      <td>2.595273</td>\n",
       "      <td>1.789997</td>\n",
       "      <td>3.024408</td>\n",
       "      <td>3.435873</td>\n",
       "      <td>2.420253</td>\n",
       "      <td>3.204005</td>\n",
       "      <td>1.542230</td>\n",
       "      <td>2.777397</td>\n",
       "      <td>1.986151</td>\n",
       "    </tr>\n",
       "    <tr>\n",
       "      <th>1</th>\n",
       "      <td>1.899005</td>\n",
       "      <td>0.289018</td>\n",
       "      <td>0.952878</td>\n",
       "      <td>1.748493</td>\n",
       "      <td>1.484306</td>\n",
       "      <td>1.195297</td>\n",
       "      <td>2.016384</td>\n",
       "      <td>-627.053644</td>\n",
       "      <td>1.421822</td>\n",
       "      <td>1.666314</td>\n",
       "      <td>1.027841</td>\n",
       "      <td>1.664565</td>\n",
       "      <td>1.257225</td>\n",
       "    </tr>\n",
       "    <tr>\n",
       "      <th>2</th>\n",
       "      <td>2.319797</td>\n",
       "      <td>2.383736</td>\n",
       "      <td>1.093297</td>\n",
       "      <td>2.210726</td>\n",
       "      <td>1.859237</td>\n",
       "      <td>1.268273</td>\n",
       "      <td>2.348034</td>\n",
       "      <td>-inf</td>\n",
       "      <td>1.744285</td>\n",
       "      <td>2.430567</td>\n",
       "      <td>1.181768</td>\n",
       "      <td>2.003495</td>\n",
       "      <td>1.423404</td>\n",
       "    </tr>\n",
       "    <tr>\n",
       "      <th>3</th>\n",
       "      <td>2.727017</td>\n",
       "      <td>-54.155086</td>\n",
       "      <td>1.129572</td>\n",
       "      <td>2.640822</td>\n",
       "      <td>2.203886</td>\n",
       "      <td>1.517768</td>\n",
       "      <td>2.718281</td>\n",
       "      <td>2.658083</td>\n",
       "      <td>1.978627</td>\n",
       "      <td>-243.822737</td>\n",
       "      <td>1.380908</td>\n",
       "      <td>2.376598</td>\n",
       "      <td>1.719473</td>\n",
       "    </tr>\n",
       "    <tr>\n",
       "      <th>4</th>\n",
       "      <td>1.677634</td>\n",
       "      <td>1.978195</td>\n",
       "      <td>1.030051</td>\n",
       "      <td>2.220090</td>\n",
       "      <td>1.897851</td>\n",
       "      <td>1.344423</td>\n",
       "      <td>2.270595</td>\n",
       "      <td>2.332804</td>\n",
       "      <td>1.641910</td>\n",
       "      <td>1.811644</td>\n",
       "      <td>1.167304</td>\n",
       "      <td>1.950306</td>\n",
       "      <td>1.442646</td>\n",
       "    </tr>\n",
       "    <tr>\n",
       "      <th>5</th>\n",
       "      <td>-93.598053</td>\n",
       "      <td>1.430430</td>\n",
       "      <td>0.981079</td>\n",
       "      <td>1.775850</td>\n",
       "      <td>1.510779</td>\n",
       "      <td>1.145948</td>\n",
       "      <td>-0.055130</td>\n",
       "      <td>1.968496</td>\n",
       "      <td>1.532839</td>\n",
       "      <td>1.413746</td>\n",
       "      <td>1.000527</td>\n",
       "      <td>1.662712</td>\n",
       "      <td>1.217665</td>\n",
       "    </tr>\n",
       "    <tr>\n",
       "      <th>6</th>\n",
       "      <td>3.150423</td>\n",
       "      <td>2.581949</td>\n",
       "      <td>1.356437</td>\n",
       "      <td>3.281946</td>\n",
       "      <td>2.790119</td>\n",
       "      <td>2.025953</td>\n",
       "      <td>-523.348107</td>\n",
       "      <td>2.737928</td>\n",
       "      <td>2.611194</td>\n",
       "      <td>2.809610</td>\n",
       "      <td>1.649429</td>\n",
       "      <td>2.954696</td>\n",
       "      <td>2.321531</td>\n",
       "    </tr>\n",
       "    <tr>\n",
       "      <th>7</th>\n",
       "      <td>0.999938</td>\n",
       "      <td>1.663439</td>\n",
       "      <td>0.983620</td>\n",
       "      <td>0.255698</td>\n",
       "      <td>1.545322</td>\n",
       "      <td>1.163655</td>\n",
       "      <td>1.950928</td>\n",
       "      <td>2.142132</td>\n",
       "      <td>1.499729</td>\n",
       "      <td>1.640720</td>\n",
       "      <td>1.094123</td>\n",
       "      <td>1.582477</td>\n",
       "      <td>1.171691</td>\n",
       "    </tr>\n",
       "    <tr>\n",
       "      <th>8</th>\n",
       "      <td>-85.187320</td>\n",
       "      <td>1.834187</td>\n",
       "      <td>1.056097</td>\n",
       "      <td>2.292858</td>\n",
       "      <td>2.324255</td>\n",
       "      <td>1.364772</td>\n",
       "      <td>2.280689</td>\n",
       "      <td>2.248937</td>\n",
       "      <td>2.178192</td>\n",
       "      <td>2.160681</td>\n",
       "      <td>1.154752</td>\n",
       "      <td>-227.474252</td>\n",
       "      <td>1.460476</td>\n",
       "    </tr>\n",
       "    <tr>\n",
       "      <th>9</th>\n",
       "      <td>1.850163</td>\n",
       "      <td>1.581008</td>\n",
       "      <td>1.066386</td>\n",
       "      <td>1.902674</td>\n",
       "      <td>0.149902</td>\n",
       "      <td>1.150720</td>\n",
       "      <td>1.939229</td>\n",
       "      <td>2.117909</td>\n",
       "      <td>1.466921</td>\n",
       "      <td>1.658664</td>\n",
       "      <td>1.081998</td>\n",
       "      <td>-0.984007</td>\n",
       "      <td>1.145365</td>\n",
       "    </tr>\n",
       "    <tr>\n",
       "      <th>10</th>\n",
       "      <td>1.839639</td>\n",
       "      <td>1.643604</td>\n",
       "      <td>1.017186</td>\n",
       "      <td>1.834246</td>\n",
       "      <td>-0.455936</td>\n",
       "      <td>1.194627</td>\n",
       "      <td>2.052902</td>\n",
       "      <td>2.289010</td>\n",
       "      <td>-0.650564</td>\n",
       "      <td>1.724917</td>\n",
       "      <td>1.061649</td>\n",
       "      <td>1.850752</td>\n",
       "      <td>1.192939</td>\n",
       "    </tr>\n",
       "    <tr>\n",
       "      <th>11</th>\n",
       "      <td>2.348190</td>\n",
       "      <td>1.870451</td>\n",
       "      <td>1.036038</td>\n",
       "      <td>2.295168</td>\n",
       "      <td>2.841056</td>\n",
       "      <td>1.286838</td>\n",
       "      <td>2.323421</td>\n",
       "      <td>2.201017</td>\n",
       "      <td>-50.297605</td>\n",
       "      <td>2.078926</td>\n",
       "      <td>1.177638</td>\n",
       "      <td>2.754707</td>\n",
       "      <td>1.427138</td>\n",
       "    </tr>\n",
       "    <tr>\n",
       "      <th>12</th>\n",
       "      <td>1.911930</td>\n",
       "      <td>1.598943</td>\n",
       "      <td>1.111630</td>\n",
       "      <td>-34.617515</td>\n",
       "      <td>1.593840</td>\n",
       "      <td>1.516132</td>\n",
       "      <td>1.845035</td>\n",
       "      <td>2.184288</td>\n",
       "      <td>1.494732</td>\n",
       "      <td>1.707542</td>\n",
       "      <td>1.327024</td>\n",
       "      <td>1.615330</td>\n",
       "      <td>1.738476</td>\n",
       "    </tr>\n",
       "    <tr>\n",
       "      <th>13</th>\n",
       "      <td>1.790855</td>\n",
       "      <td>1.565026</td>\n",
       "      <td>2.091046</td>\n",
       "      <td>-3.270189</td>\n",
       "      <td>1.498853</td>\n",
       "      <td>2.727036</td>\n",
       "      <td>1.919015</td>\n",
       "      <td>2.210510</td>\n",
       "      <td>1.495854</td>\n",
       "      <td>1.765473</td>\n",
       "      <td>2.402683</td>\n",
       "      <td>1.631335</td>\n",
       "      <td>1.956131</td>\n",
       "    </tr>\n",
       "    <tr>\n",
       "      <th>14</th>\n",
       "      <td>1.663474</td>\n",
       "      <td>1.525782</td>\n",
       "      <td>0.944174</td>\n",
       "      <td>0.928714</td>\n",
       "      <td>1.450099</td>\n",
       "      <td>-14.918821</td>\n",
       "      <td>1.460078</td>\n",
       "      <td>2.150250</td>\n",
       "      <td>1.465592</td>\n",
       "      <td>1.702015</td>\n",
       "      <td>1.051576</td>\n",
       "      <td>1.572379</td>\n",
       "      <td>1.028767</td>\n",
       "    </tr>\n",
       "    <tr>\n",
       "      <th>15</th>\n",
       "      <td>1.585057</td>\n",
       "      <td>1.654038</td>\n",
       "      <td>0.924001</td>\n",
       "      <td>1.450529</td>\n",
       "      <td>1.501695</td>\n",
       "      <td>-39.049557</td>\n",
       "      <td>1.779646</td>\n",
       "      <td>2.149459</td>\n",
       "      <td>1.433893</td>\n",
       "      <td>1.663162</td>\n",
       "      <td>-186.136281</td>\n",
       "      <td>1.582654</td>\n",
       "      <td>1.197259</td>\n",
       "    </tr>\n",
       "    <tr>\n",
       "      <th>16</th>\n",
       "      <td>1.763124</td>\n",
       "      <td>1.573277</td>\n",
       "      <td>-inf</td>\n",
       "      <td>1.709419</td>\n",
       "      <td>1.511345</td>\n",
       "      <td>1.012911</td>\n",
       "      <td>1.938551</td>\n",
       "      <td>2.154755</td>\n",
       "      <td>1.485499</td>\n",
       "      <td>1.756222</td>\n",
       "      <td>-inf</td>\n",
       "      <td>1.626998</td>\n",
       "      <td>0.991809</td>\n",
       "    </tr>\n",
       "    <tr>\n",
       "      <th>17</th>\n",
       "      <td>1.841883</td>\n",
       "      <td>1.635438</td>\n",
       "      <td>-6.042159</td>\n",
       "      <td>1.831075</td>\n",
       "      <td>1.580323</td>\n",
       "      <td>1.438443</td>\n",
       "      <td>1.982763</td>\n",
       "      <td>2.268871</td>\n",
       "      <td>1.506803</td>\n",
       "      <td>1.679818</td>\n",
       "      <td>1.547218</td>\n",
       "      <td>1.603941</td>\n",
       "      <td>1.206785</td>\n",
       "    </tr>\n",
       "    <tr>\n",
       "      <th>18</th>\n",
       "      <td>1.822078</td>\n",
       "      <td>1.511000</td>\n",
       "      <td>1.374913</td>\n",
       "      <td>1.814224</td>\n",
       "      <td>1.611151</td>\n",
       "      <td>1.815815</td>\n",
       "      <td>2.038282</td>\n",
       "      <td>2.169733</td>\n",
       "      <td>1.512459</td>\n",
       "      <td>1.732713</td>\n",
       "      <td>1.987520</td>\n",
       "      <td>1.644156</td>\n",
       "      <td>1.651437</td>\n",
       "    </tr>\n",
       "  </tbody>\n",
       "</table>\n",
       "</div>"
      ],
      "text/plain": [
       "           0           1         2          3         4          5   \\\n",
       "0    3.086908 -489.515514  1.361091   2.964887  2.595273   1.789997   \n",
       "1    1.899005    0.289018  0.952878   1.748493  1.484306   1.195297   \n",
       "2    2.319797    2.383736  1.093297   2.210726  1.859237   1.268273   \n",
       "3    2.727017  -54.155086  1.129572   2.640822  2.203886   1.517768   \n",
       "4    1.677634    1.978195  1.030051   2.220090  1.897851   1.344423   \n",
       "5  -93.598053    1.430430  0.981079   1.775850  1.510779   1.145948   \n",
       "6    3.150423    2.581949  1.356437   3.281946  2.790119   2.025953   \n",
       "7    0.999938    1.663439  0.983620   0.255698  1.545322   1.163655   \n",
       "8  -85.187320    1.834187  1.056097   2.292858  2.324255   1.364772   \n",
       "9    1.850163    1.581008  1.066386   1.902674  0.149902   1.150720   \n",
       "10   1.839639    1.643604  1.017186   1.834246 -0.455936   1.194627   \n",
       "11   2.348190    1.870451  1.036038   2.295168  2.841056   1.286838   \n",
       "12   1.911930    1.598943  1.111630 -34.617515  1.593840   1.516132   \n",
       "13   1.790855    1.565026  2.091046  -3.270189  1.498853   2.727036   \n",
       "14   1.663474    1.525782  0.944174   0.928714  1.450099 -14.918821   \n",
       "15   1.585057    1.654038  0.924001   1.450529  1.501695 -39.049557   \n",
       "16   1.763124    1.573277      -inf   1.709419  1.511345   1.012911   \n",
       "17   1.841883    1.635438 -6.042159   1.831075  1.580323   1.438443   \n",
       "18   1.822078    1.511000  1.374913   1.814224  1.611151   1.815815   \n",
       "\n",
       "            6           7          8           9           10          11  \\\n",
       "0     3.024408    3.435873   2.420253    3.204005    1.542230    2.777397   \n",
       "1     2.016384 -627.053644   1.421822    1.666314    1.027841    1.664565   \n",
       "2     2.348034        -inf   1.744285    2.430567    1.181768    2.003495   \n",
       "3     2.718281    2.658083   1.978627 -243.822737    1.380908    2.376598   \n",
       "4     2.270595    2.332804   1.641910    1.811644    1.167304    1.950306   \n",
       "5    -0.055130    1.968496   1.532839    1.413746    1.000527    1.662712   \n",
       "6  -523.348107    2.737928   2.611194    2.809610    1.649429    2.954696   \n",
       "7     1.950928    2.142132   1.499729    1.640720    1.094123    1.582477   \n",
       "8     2.280689    2.248937   2.178192    2.160681    1.154752 -227.474252   \n",
       "9     1.939229    2.117909   1.466921    1.658664    1.081998   -0.984007   \n",
       "10    2.052902    2.289010  -0.650564    1.724917    1.061649    1.850752   \n",
       "11    2.323421    2.201017 -50.297605    2.078926    1.177638    2.754707   \n",
       "12    1.845035    2.184288   1.494732    1.707542    1.327024    1.615330   \n",
       "13    1.919015    2.210510   1.495854    1.765473    2.402683    1.631335   \n",
       "14    1.460078    2.150250   1.465592    1.702015    1.051576    1.572379   \n",
       "15    1.779646    2.149459   1.433893    1.663162 -186.136281    1.582654   \n",
       "16    1.938551    2.154755   1.485499    1.756222        -inf    1.626998   \n",
       "17    1.982763    2.268871   1.506803    1.679818    1.547218    1.603941   \n",
       "18    2.038282    2.169733   1.512459    1.732713    1.987520    1.644156   \n",
       "\n",
       "          12  \n",
       "0   1.986151  \n",
       "1   1.257225  \n",
       "2   1.423404  \n",
       "3   1.719473  \n",
       "4   1.442646  \n",
       "5   1.217665  \n",
       "6   2.321531  \n",
       "7   1.171691  \n",
       "8   1.460476  \n",
       "9   1.145365  \n",
       "10  1.192939  \n",
       "11  1.427138  \n",
       "12  1.738476  \n",
       "13  1.956131  \n",
       "14  1.028767  \n",
       "15  1.197259  \n",
       "16  0.991809  \n",
       "17  1.206785  \n",
       "18  1.651437  "
      ]
     },
     "execution_count": 27,
     "metadata": {},
     "output_type": "execute_result"
    }
   ],
   "source": [
    "pd.DataFrame(logp_array)"
   ]
  },
  {
   "cell_type": "code",
   "execution_count": 28,
   "id": "d82245ab",
   "metadata": {},
   "outputs": [
    {
     "data": {
      "image/png": "[encoded data removed]",
      "text/plain": [
       "<Figure size 800x400 with 1 Axes>"
      ]
     },
     "metadata": {},
     "output_type": "display_data"
    },
    {
     "name": "stdout",
     "output_type": "stream",
     "text": [
      "Bandwidth: 0.2512\n",
      "Max density: 9.0608\n"
     ]
    }
   ],
   "source": [
    "import numpy as np\n",
    "import matplotlib.pyplot as plt\n",
    "from scipy.stats import gaussian_kde\n",
    "\n",
    "def inspect_kde(samples, true_value):\n",
    "    # Fit KDE\n",
    "    kde = gaussian_kde(samples)\n",
    "\n",
    "    # Evaluate density around the true value\n",
    "    x_grid = np.linspace(true_value - 1, true_value + 1, 500)\n",
    "    density = kde(x_grid)\n",
    "\n",
    "    # Plot\n",
    "    plt.figure(figsize=(8, 4))\n",
    "    plt.plot(x_grid, density, label=\"KDE\")\n",
    "    plt.axvline(true_value, color='red', linestyle='--', label=f\"True value: {true_value:.3f}\")\n",
    "    plt.title(\"KDE around True Value\")\n",
    "    plt.xlabel(\"Value\")\n",
    "    plt.ylabel(\"Density\")\n",
    "    plt.legend()\n",
    "    plt.grid(True)\n",
    "    plt.show()\n",
    "\n",
    "    print(f\"Bandwidth: {kde.factor:.4f}\")\n",
    "    print(f\"Max density: {np.max(density):.4f}\")\n",
    "\n",
    "samples = trace100[0].posterior['Ex'].stack(sample=(\"chain\", \"draw\")).values[3, 4]\n",
    "true_value = r.getScaledElasticityMatrix()[3, 4]\n",
    "inspect_kde(samples, true_value)\n"
   ]
  },
  {
   "cell_type": "markdown",
   "id": "23d98e3b",
   "metadata": {},
   "source": [
    "## Summary statistics and plots"
   ]
  },
  {
   "cell_type": "code",
   "execution_count": 29,
   "id": "4e21ab6a",
   "metadata": {},
   "outputs": [
    {
     "name": "stdout",
     "output_type": "stream",
     "text": [
      "min logp: -inf\n",
      "max logp: 3.4358734368434933\n",
      "median logp 1.640719501283812\n"
     ]
    }
   ],
   "source": [
    "print(\"min logp:\", logp_array.min())\n",
    "print(\"max logp:\", logp_array.max())\n",
    "print('median logp', np.median(logp_array))"
   ]
  },
  {
   "cell_type": "code",
   "execution_count": 30,
   "id": "2310480a",
   "metadata": {},
   "outputs": [
    {
     "data": {
      "image/png": "[encoded data removed]",
      "text/plain": [
       "<Figure size 1000x600 with 1 Axes>"
      ]
     },
     "metadata": {},
     "output_type": "display_data"
    }
   ],
   "source": [
    "logp_for_plotting = logp_array.copy()\n",
    "logp_for_plotting[logp_for_plotting<-4] = -4.6\n",
    "\n",
    "# Remove -inf values for plotting\n",
    "finite_logp = logp_for_plotting[np.isfinite(logp_for_plotting)]\n",
    "\n",
    "# Plot histogram\n",
    "plt.figure(figsize=(10, 6))\n",
    "n, bins, patches = plt.hist(finite_logp, bins=30, color='skyblue', edgecolor='black', zorder=100)\n",
    "plt.title(\"Histogram of Log Probability Densities for Ground Truth Values\")\n",
    "plt.xlabel(\"Log Probability Density\")\n",
    "plt.ylabel(\"Count\")\n",
    "plt.grid(True)\n",
    "plt.axvline(np.median(finite_logp), color='red', linestyle='--', label=f\"Median: {np.median(finite_logp):.2f}\", zorder=101)\n",
    "\n",
    "for i in np.where(bins<-1.1)[0]: \n",
    "    patches[i].set_facecolor('orange')\n",
    "patches[0].set_facecolor('red')\n",
    "\n",
    "plt.legend()\n",
    "\n",
    "plt.text(-4.5, -1.4, '<-4', ha='center')\n",
    "\n",
    "plt.tight_layout()\n"
   ]
  },
  {
   "cell_type": "code",
   "execution_count": 31,
   "id": "c765ce4e",
   "metadata": {},
   "outputs": [
    {
     "name": "stdout",
     "output_type": "stream",
     "text": [
      "Elasticities with good estimations: 229 (92.71%)\n",
      "Elasticities with bad estimations: 18 (7.29%)\n"
     ]
    }
   ],
   "source": [
    "good = len(logp_array[logp_array>-1])\n",
    "bad = len(logp_array[logp_array<-1])\n",
    "total = len(logp_array.flatten())\n",
    "print('Elasticities with good estimations:', good, f'({round(good*100/total,2)}%)')\n",
    "print('Elasticities with bad estimations:', bad, f'({round(bad*100/total,2)}%)')"
   ]
  },
  {
   "cell_type": "code",
   "execution_count": 32,
   "id": "f792d55b",
   "metadata": {},
   "outputs": [
    {
     "data": {
      "image/png": "[encoded data removed]",
      "text/plain": [
       "<Figure size 800x600 with 1 Axes>"
      ]
     },
     "metadata": {},
     "output_type": "display_data"
    }
   ],
   "source": [
    "# Example arrays\n",
    "true_values = r.getScaledElasticityMatrix().flatten()\n",
    "logp_values = logp_array.flatten()\n",
    "\n",
    "# Remove -inf or NaN\n",
    "mask = np.isfinite(logp_values)\n",
    "true_values = true_values# [mask]\n",
    "logp_values = logp_for_plotting\n",
    "\n",
    "conditions = [\n",
    "    logp_values < -4,\n",
    "    (logp_values >= -4) & (logp_values < -1),\n",
    "    logp_values >= -1\n",
    "]\n",
    "\n",
    "choices = ['red', 'darkorange', 'blue']\n",
    "\n",
    "colors = np.select(conditions, choices).flatten()\n",
    "\n",
    "plt.figure(figsize=(8, 6))\n",
    "plt.grid(True)\n",
    "plt.scatter(true_values, logp_values, c=colors, alpha=0.8, zorder=100)\n",
    "plt.xlabel(\"Ground Truth Value\")\n",
    "plt.ylabel(\"Log Probability Density\")\n",
    "plt.title(\"Logp vs. Ground Truth Value\", fontsize=16)\n",
    "plt.axhline(0, color='gray', linestyle='--', linewidth=1)\n",
    "\n",
    "plt.axhline(-4.6, color='orangered', linestyle='--', linewidth=1)\n",
    "plt.text(-12.68, -4.7, '<-4', ha='center')\n",
    "\n",
    "plt.tight_layout()\n"
   ]
  },
  {
   "cell_type": "markdown",
   "id": "0caa8a99",
   "metadata": {},
   "source": [
    "# For all traces"
   ]
  },
  {
   "cell_type": "code",
   "execution_count": 33,
   "id": "947f1608",
   "metadata": {},
   "outputs": [],
   "source": [
    "pt_labels = ['0.1x', '0.2x', '0.3x', '0.4x','0.5x', '1.5x', '3x', '5x', '7x', '10x']\n",
    "traces = [trace01, trace02, trace03, trace04, trace05, trace15, trace3, trace5, trace7, trace100]"
   ]
  },
  {
   "cell_type": "code",
   "execution_count": 34,
   "id": "173b5e92",
   "metadata": {},
   "outputs": [
    {
     "name": "stderr",
     "output_type": "stream",
     "text": [
      "C:\\Users\\user\\AppData\\Local\\Temp\\ipykernel_28476\\95413887.py:24: RuntimeWarning:\n",
      "\n",
      "divide by zero encountered in log\n",
      "\n"
     ]
    }
   ],
   "source": [
    "logp_arrays = [get_logp(i[0], true_values=r.getScaledElasticityMatrix()) for i in traces]"
   ]
  },
  {
   "cell_type": "code",
   "execution_count": 35,
   "id": "def2f355",
   "metadata": {},
   "outputs": [
    {
     "data": {
      "text/plain": [
       "3.532212757716978"
      ]
     },
     "execution_count": 35,
     "metadata": {},
     "output_type": "execute_result"
    }
   ],
   "source": [
    "np.max([i.max() for i in logp_arrays])"
   ]
  },
  {
   "cell_type": "code",
   "execution_count": 39,
   "id": "b7926fba",
   "metadata": {},
   "outputs": [
    {
     "name": "stderr",
     "output_type": "stream",
     "text": [
      "C:\\Users\\user\\AppData\\Local\\Temp\\ipykernel_28476\\3444641606.py:22: MatplotlibDeprecationWarning:\n",
      "\n",
      "The get_cmap function was deprecated in Matplotlib 3.7 and will be removed two minor releases later. Use ``matplotlib.colormaps[name]`` or ``matplotlib.colormaps.get_cmap(obj)`` instead.\n",
      "\n",
      "C:\\Users\\user\\AppData\\Local\\Temp\\ipykernel_28476\\3444641606.py:38: MatplotlibDeprecationWarning:\n",
      "\n",
      "The get_cmap function was deprecated in Matplotlib 3.7 and will be removed two minor releases later. Use ``matplotlib.colormaps[name]`` or ``matplotlib.colormaps.get_cmap(obj)`` instead.\n",
      "\n"
     ]
    },
    {
     "data": {
      "image/png": "[encoded data removed]",
      "text/plain": [
       "<Figure size 1000x800 with 1 Axes>"
      ]
     },
     "metadata": {},
     "output_type": "display_data"
    }
   ],
   "source": [
    "MAX_LENGTH = 4\n",
    "\n",
    "from matplotlib.colors import Normalize\n",
    "from matplotlib.cm import ScalarMappable, get_cmap\n",
    "\n",
    "# Clip and flatten all traces\n",
    "clipped_arrays = []\n",
    "for i, logp_array in enumerate(logp_arrays):\n",
    "    clipped = logp_array.copy()\n",
    "    clipped[clipped < -4] = -4.6\n",
    "    clipped = clipped[np.isfinite(clipped)].flatten()\n",
    "    clipped_arrays.append(pd.Series(clipped, name=pt_labels[i]))\n",
    "\n",
    "df = pd.concat(reversed(clipped_arrays), axis=1)\n",
    "\n",
    "# Parameters\n",
    "num_traces = df.shape[1]\n",
    "bins = np.linspace(-4.6, MAX_LENGTH, 50)\n",
    "height = 1.0\n",
    "\n",
    "# Setup color gradient left to right\n",
    "cmap = get_cmap(\"RdGy\")\n",
    "norm = Normalize(vmin=bins[0], vmax=bins[-1])\n",
    "\n",
    "# Plot\n",
    "plt.figure(figsize=(10, 8))\n",
    "\n",
    "for plot_idx in range(num_traces):\n",
    "    \n",
    "    col = df.columns[plot_idx]\n",
    "    values = df[col].dropna()\n",
    "    hist, bin_edges = np.histogram(values, bins=bins)\n",
    "    hist = hist / hist.max()\n",
    "    bin_centers = 0.5 * (bin_edges[:-1] + bin_edges[1:])\n",
    "\n",
    "    # Alternate colormaps per row\n",
    "    cmap_name = \"Wistia_r\" if (num_traces - 1 - plot_idx) % 2 == 0 else \"autumn\"\n",
    "    cmap = get_cmap(cmap_name)\n",
    "    norm = Normalize(vmin=bins[0], vmax=bins[-1])\n",
    "\n",
    "    for i in range(len(hist)):\n",
    "        color = cmap(norm(bin_centers[i]))\n",
    "        plt.fill_between([bin_edges[i], bin_edges[i+1]],\n",
    "                         plot_idx * height,\n",
    "                         plot_idx * height + hist[i],\n",
    "                         color=color, step='pre', linewidth=0)\n",
    "\n",
    "        plt.plot([bin_edges[i], bin_edges[i+1]],\n",
    "                 [plot_idx * height, plot_idx * height],\n",
    "                 color=color, linewidth=0.5, alpha=0.7)\n",
    "\n",
    "    # Median line\n",
    "    median = np.median(values)\n",
    "    plt.axvline(median,\n",
    "                ymin=(plot_idx * height) / ((num_traces+1) * height) + 0.05,\n",
    "                ymax=((plot_idx * height + 1) / ((num_traces+1) * height)) + 0.04,\n",
    "                color='orangered',\n",
    "                linestyle='--',\n",
    "                linewidth=1)\n",
    "\n",
    "# Formatting\n",
    "plt.xticks(fontsize=14)\n",
    "plt.yticks(height * np.arange(num_traces), [f\"{pt_labels[i]}\" for i in range(num_traces)][::-1], fontsize=14)\n",
    "plt.xlabel(\"Log probability density\", fontsize=14)\n",
    "plt.ylabel(\"Perturbation strength in dataset\", fontsize=14)\n",
    "plt.title(\"Distributions of Logp Densities for Different Perturbation Strengths\", fontsize=18)\n",
    "plt.grid(True, axis='x', linestyle='--', alpha=0.3)\n",
    "plt.xlim(-4.8, MAX_LENGTH)\n",
    "\n",
    "plt.text(-4.5, -0.89, '<-4', ha='center', fontsize=14)\n",
    "\n",
    "plt.tight_layout()\n"
   ]
  },
  {
   "cell_type": "code",
   "execution_count": 40,
   "id": "74116d72",
   "metadata": {},
   "outputs": [
    {
     "name": "stdout",
     "output_type": "stream",
     "text": [
      "90.69\n",
      "91.5\n",
      "92.31\n",
      "93.12\n",
      "93.93\n",
      "93.52\n",
      "94.33\n",
      "93.12\n",
      "91.9\n",
      "92.71\n"
     ]
    }
   ],
   "source": [
    "def calculate_goods(logp_array):\n",
    "    good = len(logp_array[logp_array>-1])\n",
    "    total = len(logp_array.flatten())\n",
    "    return round(good*100/total,2)\n",
    "\n",
    "for i in logp_arrays:\n",
    "    print(calculate_goods(i))"
   ]
  },
  {
   "cell_type": "code",
   "execution_count": 41,
   "id": "13cd9b30",
   "metadata": {},
   "outputs": [
    {
     "name": "stdout",
     "output_type": "stream",
     "text": [
      "29.03\n",
      "32.26\n",
      "38.71\n",
      "45.16\n",
      "51.61\n",
      "48.39\n",
      "54.84\n",
      "45.16\n",
      "35.48\n",
      "41.94\n"
     ]
    }
   ],
   "source": [
    "def calculate_nonzero_goods(logp_array):\n",
    "    where_nonzero = np.where(r.getScaledElasticityMatrix()!=0)\n",
    "    total = len(where_nonzero[0])\n",
    "    good = 0\n",
    "    for i in range(total):\n",
    "        if logp_array[where_nonzero[0][i], where_nonzero[1][i]] > -1:\n",
    "            good += 1\n",
    "\n",
    "    return round(good*100/total,2)\n",
    "\n",
    "for i in logp_arrays:\n",
    "    print(calculate_nonzero_goods(i))"
   ]
  },
  {
   "cell_type": "code",
   "execution_count": 1,
   "id": "4d2d9c71",
   "metadata": {},
   "outputs": [
    {
     "data": {
      "text/plain": [
       "42.257999999999996"
      ]
     },
     "execution_count": 1,
     "metadata": {},
     "output_type": "execute_result"
    }
   ],
   "source": [
    "import numpy as np\n",
    "np.mean([29.03,\n",
    "32.26,\n",
    "38.71,\n",
    "45.16,\n",
    "51.61,\n",
    "48.39,\n",
    "54.84,\n",
    "45.16,\n",
    "35.48,\n",
    "41.94])"
   ]
  }
 ],
 "metadata": {
  "kernelspec": {
   "display_name": "gayles",
   "language": "python",
   "name": "python3"
  },
  "language_info": {
   "codemirror_mode": {
    "name": "ipython",
    "version": 3
   },
   "file_extension": ".py",
   "mimetype": "text/x-python",
   "name": "python",
   "nbconvert_exporter": "python",
   "pygments_lexer": "ipython3",
   "version": "3.9.19"
  }
 },
 "nbformat": 4,
 "nbformat_minor": 5
}
