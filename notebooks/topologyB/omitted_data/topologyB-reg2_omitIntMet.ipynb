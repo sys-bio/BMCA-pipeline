{
 "cells": [
  {
   "cell_type": "markdown",
   "metadata": {},
   "source": [
    "# Set up "
   ]
  },
  {
   "cell_type": "code",
   "execution_count": 1,
   "metadata": {},
   "outputs": [
    {
     "name": "stderr",
     "output_type": "stream",
     "text": [
      "WARNING (aesara.configdefaults): g++ not available, if using conda: `conda install m2w64-toolchain`\n",
      "WARNING (aesara.configdefaults): g++ not detected!  Aesara will be unable to compile C-implementations and will default to Python. Performance may be severely degraded. To remove this warning, set Aesara flags cxx to an empty string.\n",
      "WARNING (aesara.tensor.blas): Using NumPy C-API based implementation for BLAS functions.\n"
     ]
    }
   ],
   "source": [
    "SEED = 1\n",
    "import random\n",
    "\n",
    "import tellurium as te\n",
    "import pandas as pd\n",
    "import numpy as np\n",
    "np.random.seed(SEED)\n",
    "np.random.seed(0)\n",
    "\n",
    "import matplotlib.pyplot as plt\n",
    "import seaborn as sns\n",
    "import arviz as az\n",
    "\n",
    "import aesara.tensor as at\n",
    "import aesara\n",
    "floatX = aesara.config.floatX\n",
    "import pymc as pm\n",
    "import numpy as np\n",
    "\n",
    "import cobra\n",
    "import os\n",
    "\n",
    "from scipy import stats\n",
    "import scipy as sp\n",
    "import math\n",
    "\n",
    "import gzip\n",
    "import cloudpickle"
   ]
  },
  {
   "cell_type": "code",
   "execution_count": 2,
   "metadata": {},
   "outputs": [],
   "source": [
    "os.chdir('../../..')\n",
    "from src import antemll, util\n",
    "import emll\n",
    "from emll.aesara_utils import LeastSquaresSolve\n",
    "os.chdir('notebooks/topologyB/omitted_data/')"
   ]
  },
  {
   "cell_type": "markdown",
   "metadata": {},
   "source": [
    "## Perturbing enzymes\n"
   ]
  },
  {
   "cell_type": "code",
   "execution_count": 3,
   "metadata": {},
   "outputs": [
    {
     "data": {
      "text/plain": [
       "1.815104431273357e-15"
      ]
     },
     "execution_count": 3,
     "metadata": {},
     "output_type": "execute_result"
    }
   ],
   "source": [
    "ant ='../../../models/Antimony/TopologyB-reg2.ant'  \n",
    "r = te.loada(ant)\n",
    "r.conservedMoietyAnalysis = True\n",
    "r.steadyState()"
   ]
  },
  {
   "cell_type": "code",
   "execution_count": 4,
   "metadata": {},
   "outputs": [],
   "source": [
    "pt_levels = [0.1, 0.2, 0.3, 0.4 ,0.5, 1.5, 3, 5, 7, 10]\n",
    "pt_labels = ['0.1x', '0.2x', '0.3x', '0.4x','0.5x', '1.5x', '3x', '5x', '7x', '10x']"
   ]
  },
  {
   "cell_type": "code",
   "execution_count": 5,
   "metadata": {},
   "outputs": [],
   "source": [
    "enzymes = ['e_' + i for i in r.getReactionIds()]\n",
    "internal = r.getFloatingSpeciesIds()\n",
    "external = r.getBoundarySpeciesIds()\n",
    "fluxes = ['v_' + i for i in r.getReactionIds()]"
   ]
  },
  {
   "cell_type": "markdown",
   "metadata": {},
   "source": [
    "## Leaving out internal species concentrations"
   ]
  },
  {
   "cell_type": "code",
   "execution_count": 6,
   "metadata": {},
   "outputs": [],
   "source": [
    "data01 = pd.read_csv('../../../data/interim/generated_data/TopologyB-reg2/TopologyB-reg2_0.1.csv')[fluxes+external+enzymes]\n",
    "data02 = pd.read_csv('../../../data/interim/generated_data/TopologyB-reg2/TopologyB-reg2_0.2.csv')[fluxes+external+enzymes]\n",
    "data03 = pd.read_csv('../../../data/interim/generated_data/TopologyB-reg2/TopologyB-reg2_0.3.csv')[fluxes+external+enzymes]\n",
    "data04 = pd.read_csv('../../../data/interim/generated_data/TopologyB-reg2/TopologyB-reg2_0.4.csv')[fluxes+external+enzymes]\n",
    "data05 = pd.read_csv('../../../data/interim/generated_data/TopologyB-reg2/TopologyB-reg2_0.5.csv')[fluxes+external+enzymes]\n",
    "\n",
    "data15 = pd.read_csv('../../../data/interim/generated_data/TopologyB-reg2/TopologyB-reg2_1.5.csv')[fluxes+external+enzymes]\n",
    "data3 = pd.read_csv('../../../data/interim/generated_data/TopologyB-reg2/TopologyB-reg2_3.csv')[fluxes+external+enzymes]\n",
    "data5 = pd.read_csv('../../../data/interim/generated_data/TopologyB-reg2/TopologyB-reg2_5.csv')[fluxes+external+enzymes]\n",
    "data7 = pd.read_csv('../../../data/interim/generated_data/TopologyB-reg2/TopologyB-reg2_7.csv')[fluxes+external+enzymes]\n",
    "data100 = pd.read_csv('../../../data/interim/generated_data/TopologyB-reg2/TopologyB-reg2_10.csv')[fluxes+external+enzymes]\n"
   ]
  },
  {
   "cell_type": "code",
   "execution_count": 7,
   "metadata": {},
   "outputs": [
    {
     "name": "stderr",
     "output_type": "stream",
     "text": [
      "No objective coefficients in model. Unclear what should be optimized\n"
     ]
    },
    {
     "name": "stdout",
     "output_type": "stream",
     "text": [
      "../../../models/Antimony/TopologyB_cobra.ant\n"
     ]
    },
    {
     "name": "stderr",
     "output_type": "stream",
     "text": [
      "No objective coefficients in model. Unclear what should be optimized\n"
     ]
    },
    {
     "name": "stdout",
     "output_type": "stream",
     "text": [
      "../../../models/Antimony/TopologyB_cobra.ant\n"
     ]
    },
    {
     "name": "stderr",
     "output_type": "stream",
     "text": [
      "No objective coefficients in model. Unclear what should be optimized\n"
     ]
    },
    {
     "name": "stdout",
     "output_type": "stream",
     "text": [
      "../../../models/Antimony/TopologyB_cobra.ant\n"
     ]
    },
    {
     "name": "stderr",
     "output_type": "stream",
     "text": [
      "No objective coefficients in model. Unclear what should be optimized\n"
     ]
    },
    {
     "name": "stdout",
     "output_type": "stream",
     "text": [
      "../../../models/Antimony/TopologyB_cobra.ant\n"
     ]
    },
    {
     "name": "stderr",
     "output_type": "stream",
     "text": [
      "No objective coefficients in model. Unclear what should be optimized\n"
     ]
    },
    {
     "name": "stdout",
     "output_type": "stream",
     "text": [
      "../../../models/Antimony/TopologyB_cobra.ant\n"
     ]
    },
    {
     "name": "stderr",
     "output_type": "stream",
     "text": [
      "No objective coefficients in model. Unclear what should be optimized\n"
     ]
    },
    {
     "name": "stdout",
     "output_type": "stream",
     "text": [
      "../../../models/Antimony/TopologyB_cobra.ant\n"
     ]
    },
    {
     "name": "stderr",
     "output_type": "stream",
     "text": [
      "No objective coefficients in model. Unclear what should be optimized\n"
     ]
    },
    {
     "name": "stdout",
     "output_type": "stream",
     "text": [
      "../../../models/Antimony/TopologyB_cobra.ant\n"
     ]
    },
    {
     "name": "stderr",
     "output_type": "stream",
     "text": [
      "No objective coefficients in model. Unclear what should be optimized\n"
     ]
    },
    {
     "name": "stdout",
     "output_type": "stream",
     "text": [
      "../../../models/Antimony/TopologyB_cobra.ant\n"
     ]
    },
    {
     "name": "stderr",
     "output_type": "stream",
     "text": [
      "No objective coefficients in model. Unclear what should be optimized\n"
     ]
    },
    {
     "name": "stdout",
     "output_type": "stream",
     "text": [
      "../../../models/Antimony/TopologyB_cobra.ant\n"
     ]
    },
    {
     "name": "stderr",
     "output_type": "stream",
     "text": [
      "No objective coefficients in model. Unclear what should be optimized\n"
     ]
    },
    {
     "name": "stdout",
     "output_type": "stream",
     "text": [
      "../../../models/Antimony/TopologyB_cobra.ant\n"
     ]
    }
   ],
   "source": [
    "BMCA_obj01 = antemll.antemll(ant, data01, cobra_sbml='../../../models/sbml/TopologyB_cobra.xml')\n",
    "BMCA_obj02 = antemll.antemll(ant, data02, cobra_sbml='../../../models/sbml/TopologyB_cobra.xml')\n",
    "BMCA_obj03 = antemll.antemll(ant, data03, cobra_sbml='../../../models/sbml/TopologyB_cobra.xml')\n",
    "BMCA_obj04 = antemll.antemll(ant, data04, cobra_sbml='../../../models/sbml/TopologyB_cobra.xml')\n",
    "BMCA_obj05 = antemll.antemll(ant, data05, cobra_sbml='../../../models/sbml/TopologyB_cobra.xml')\n",
    "\n",
    "BMCA_obj15 = antemll.antemll(ant, data15, cobra_sbml='../../../models/sbml/TopologyB_cobra.xml')\n",
    "BMCA_obj3 = antemll.antemll(ant, data3, cobra_sbml='../../../models/sbml/TopologyB_cobra.xml')\n",
    "BMCA_obj5 = antemll.antemll(ant, data5, cobra_sbml='../../../models/sbml/TopologyB_cobra.xml')\n",
    "BMCA_obj7 = antemll.antemll(ant, data7, cobra_sbml='../../../models/sbml/TopologyB_cobra.xml')\n",
    "BMCA_obj100 = antemll.antemll(ant, data100, cobra_sbml='../../../models/sbml/TopologyB_cobra.xml')\n"
   ]
  },
  {
   "cell_type": "markdown",
   "metadata": {},
   "source": [
    "## Running ADVI"
   ]
  },
  {
   "cell_type": "code",
   "execution_count": 15,
   "metadata": {},
   "outputs": [],
   "source": [
    "def run_BayesInf(BMCA_obj, n_samp=1):\n",
    "    np.random.seed(SEED)\n",
    "    random.seed(SEED)\n",
    "\n",
    "\n",
    "\n",
    "    known_chi_inds = []\n",
    "    omitted_chi_inds = []\n",
    "    for i, sp in enumerate(r.getFloatingSpeciesIds()):\n",
    "        if sp in data100.columns:\n",
    "            known_chi_inds.append(i)\n",
    "        else: \n",
    "            omitted_chi_inds.append(i)\n",
    "    chi_inds = np.hstack([known_chi_inds, omitted_chi_inds]).argsort()\n",
    "    \n",
    "    with pm.Model() as pymc_model:\n",
    "    \n",
    "        # Initialize elasticities\n",
    "        Ex_t = pm.Deterministic('Ex', util.initialize_elasticity(BMCA_obj.Ex.to_numpy(), name='Ex'))\n",
    "        Ey_t = pm.Deterministic('Ey', util.initialize_elasticity(BMCA_obj.Ey.to_numpy(), name='Ey'))\n",
    "\n",
    "        # trace_prior = pm.sample_prior_predictive(samples=1000)\n",
    "        \n",
    "        chi_measured = pm.Normal('chi_measured', mu=0, sigma=0.1, observed=BMCA_obj.xn.T)\n",
    "        chi_unmeasured = pm.Normal('chi_unmeasured', mu=0, sigma=10, shape=(len(omitted_chi_inds), len(BMCA_obj.xn)))\n",
    "\n",
    "        chi_t = at.concatenate([chi_measured, chi_unmeasured], axis=0)[chi_inds, :]\n",
    "        # supposedly chi_t would be in the order listed in ss tellurium\n",
    "\n",
    "        pm.Deterministic('chi_t', chi_t)\n",
    "\n",
    "        e_t = pm.Normal('e_t', mu=1, sigma=1, observed=BMCA_obj.en.T) # e_hat?\n",
    "        y_t = pm.Normal('y_t', mu=0, sigma=10, observed=BMCA_obj.yn.T) # yn?\n",
    "\n",
    "        likelihood = pm.Deterministic('vn', e_t * (np.ones(BMCA_obj.en.T.shape) + pm.math.dot(Ex_t,chi_t) + pm.math.dot(Ey_t,y_t)))\n",
    "        v_hat_obs = pm.Normal('v_hat_obs', mu=likelihood, sigma=0.1, observed=BMCA_obj.vn.squeeze().T)\n",
    "\n",
    "        N_ITERATIONS = 40000\n",
    "\n",
    "        advi = pm.ADVI(random_seed=1)\n",
    "        tracker = pm.callbacks.Tracker(\n",
    "            mean = advi.approx.mean.eval,\n",
    "            std = advi.approx.std.eval\n",
    "        )\n",
    "        approx = advi.fit(\n",
    "            n=N_ITERATIONS, \n",
    "            callbacks = [tracker],\n",
    "            obj_optimizer=pm.adagrad_window(learning_rate=5E-2), \n",
    "            total_grad_norm_constraint=1,\n",
    "            obj_n_mc=1)\n",
    "        \n",
    "    with sns.plotting_context('notebook', font_scale=1.2):\n",
    "\n",
    "        fig = plt.figure(figsize=(5,4))\n",
    "        plt.plot(approx.hist + 30, '.', rasterized=True, ms=1)\n",
    "        # plt.ylim([-1E1, 1E3])\n",
    "        plt.xlim([0, N_ITERATIONS])\n",
    "        sns.despine(trim=True, offset=10)\n",
    "\n",
    "        plt.ylabel('-ELBO')\n",
    "        plt.xlabel('Iteration')\n",
    "        plt.title('in vitro ADVI convergence')\n",
    "        plt.tight_layout()\n",
    "\n",
    "    if n_samp > 1:\n",
    "        samples = []\n",
    "        for i in range(n_samp): \n",
    "            samples.append(approx.sample(draws=1000, random_seed=i))\n",
    "        return samples\n",
    "    else:\n",
    "        return approx.sample(draws=1000, random_seed=n_samp)"
   ]
  },
  {
   "cell_type": "code",
   "execution_count": null,
   "metadata": {},
   "outputs": [
    {
     "data": {
      "text/html": [
       "\n",
       "<style>\n",
       "    /* Turns off some styling */\n",
       "    progress {\n",
       "        /* gets rid of default border in Firefox and Opera. */\n",
       "        border: none;\n",
       "        /* Needs to be in here for Safari polyfill so background images work as expected. */\n",
       "        background-size: auto;\n",
       "    }\n",
       "    progress:not([value]), progress:not([value])::-webkit-progress-bar {\n",
       "        background: repeating-linear-gradient(45deg, #7e7e7e, #7e7e7e 10px, #5c5c5c 10px, #5c5c5c 20px);\n",
       "    }\n",
       "    .progress-bar-interrupted, .progress-bar-interrupted::-webkit-progress-bar {\n",
       "        background: #F44336;\n",
       "    }\n",
       "</style>\n"
      ],
      "text/plain": [
       "<IPython.core.display.HTML object>"
      ]
     },
     "metadata": {},
     "output_type": "display_data"
    },
    {
     "data": {
      "text/html": [
       "\n",
       "    <div>\n",
       "      <progress value='3705' class='' max='40000' style='width:300px; height:20px; vertical-align: middle;'></progress>\n",
       "      9.26% [3705/40000 03:06&lt;30:26 Average Loss = 2,624.3]\n",
       "    </div>\n",
       "    "
      ],
      "text/plain": [
       "<IPython.core.display.HTML object>"
      ]
     },
     "metadata": {},
     "output_type": "display_data"
    },
    {
     "name": "stderr",
     "output_type": "stream",
     "text": [
      "c:\\Users\\user\\miniconda3\\envs\\gayles\\lib\\site-packages\\aesara\\scalar\\basic.py:2925: RuntimeWarning:\n",
      "\n",
      "invalid value encountered in log\n",
      "\n"
     ]
    }
   ],
   "source": [
    "trace01 = run_BayesInf(BMCA_obj01, n_samp=3)\n",
    "trace02 = run_BayesInf(BMCA_obj02, n_samp=3)\n",
    "trace03 = run_BayesInf(BMCA_obj03, n_samp=3)\n",
    "trace04 = run_BayesInf(BMCA_obj04, n_samp=3)\n",
    "trace05 = run_BayesInf(BMCA_obj05, n_samp=3)\n",
    "\n",
    "trace15 = run_BayesInf(BMCA_obj15, n_samp=3)\n",
    "trace3 = run_BayesInf(BMCA_obj3, n_samp=3)\n",
    "trace5 = run_BayesInf(BMCA_obj5, n_samp=3)\n",
    "trace7 = run_BayesInf(BMCA_obj7, n_samp=3)\n",
    "trace100 = run_BayesInf(BMCA_obj100, n_samp=3)\n",
    "# 484 min"
   ]
  },
  {
   "cell_type": "markdown",
   "metadata": {},
   "source": [
    "### saving trace data"
   ]
  },
  {
   "cell_type": "code",
   "execution_count": 10,
   "metadata": {},
   "outputs": [],
   "source": [
    "with gzip.open(\"topologyB-reg2_omitIntMet_traces.pgz\", \"wb\") as f:\n",
    "            cloudpickle.dump(\n",
    "                {\n",
    "                \"trace01\":trace01,\n",
    "                \"trace02\":trace02,\n",
    "                \"trace03\":trace03,\n",
    "                \"trace04\":trace04,\n",
    "                \"trace05\":trace05,\n",
    "                \"trace15\":trace15,\n",
    "                \"trace3\":trace3,\n",
    "                \"trace5\":trace5,\n",
    "                \"trace7\":trace7,\n",
    "                \"trace100\":trace100\n",
    "                },\n",
    "                f,\n",
    "            )"
   ]
  },
  {
   "cell_type": "markdown",
   "metadata": {},
   "source": [
    "# Analysis"
   ]
  },
  {
   "cell_type": "code",
   "execution_count": 8,
   "metadata": {},
   "outputs": [],
   "source": [
    "picklefolder = '../../../data/results/tracePickles/'\n",
    "with gzip.open(picklefolder + 'topologyB-reg2_omitIntMet_traces.pgz', \"rb\") as f:\n",
    "    traces = cloudpickle.load(f, encoding='bytes')"
   ]
  },
  {
   "cell_type": "code",
   "execution_count": 9,
   "metadata": {},
   "outputs": [],
   "source": [
    "trace01=traces['trace01']\n",
    "trace02=traces['trace02']\n",
    "trace03=traces['trace03']\n",
    "trace04=traces['trace04']\n",
    "trace05=traces['trace05']\n",
    "\n",
    "trace15=traces['trace15']\n",
    "trace3=traces['trace3']\n",
    "trace5=traces['trace5']\n",
    "trace7=traces['trace7']\n",
    "trace100=traces['trace100']"
   ]
  },
  {
   "cell_type": "markdown",
   "metadata": {},
   "source": [
    "### Elasticity check "
   ]
  },
  {
   "cell_type": "code",
   "execution_count": 10,
   "metadata": {},
   "outputs": [
    {
     "name": "stderr",
     "output_type": "stream",
     "text": [
      "arviz - WARNING - Shape validation failed: input_shape: (1, 1000), minimum_shape: (chains=2, draws=4)\n",
      "arviz - WARNING - Shape validation failed: input_shape: (1, 1000), minimum_shape: (chains=2, draws=4)\n",
      "arviz - WARNING - Shape validation failed: input_shape: (1, 1000), minimum_shape: (chains=2, draws=4)\n",
      "arviz - WARNING - Shape validation failed: input_shape: (1, 1000), minimum_shape: (chains=2, draws=4)\n",
      "arviz - WARNING - Shape validation failed: input_shape: (1, 1000), minimum_shape: (chains=2, draws=4)\n",
      "arviz - WARNING - Shape validation failed: input_shape: (1, 1000), minimum_shape: (chains=2, draws=4)\n",
      "arviz - WARNING - Shape validation failed: input_shape: (1, 1000), minimum_shape: (chains=2, draws=4)\n",
      "arviz - WARNING - Shape validation failed: input_shape: (1, 1000), minimum_shape: (chains=2, draws=4)\n",
      "arviz - WARNING - Shape validation failed: input_shape: (1, 1000), minimum_shape: (chains=2, draws=4)\n",
      "arviz - WARNING - Shape validation failed: input_shape: (1, 1000), minimum_shape: (chains=2, draws=4)\n",
      "arviz - WARNING - Shape validation failed: input_shape: (1, 1000), minimum_shape: (chains=2, draws=4)\n",
      "arviz - WARNING - Shape validation failed: input_shape: (1, 1000), minimum_shape: (chains=2, draws=4)\n",
      "arviz - WARNING - Shape validation failed: input_shape: (1, 1000), minimum_shape: (chains=2, draws=4)\n",
      "arviz - WARNING - Shape validation failed: input_shape: (1, 1000), minimum_shape: (chains=2, draws=4)\n",
      "arviz - WARNING - Shape validation failed: input_shape: (1, 1000), minimum_shape: (chains=2, draws=4)\n",
      "arviz - WARNING - Shape validation failed: input_shape: (1, 1000), minimum_shape: (chains=2, draws=4)\n",
      "arviz - WARNING - Shape validation failed: input_shape: (1, 1000), minimum_shape: (chains=2, draws=4)\n",
      "arviz - WARNING - Shape validation failed: input_shape: (1, 1000), minimum_shape: (chains=2, draws=4)\n",
      "arviz - WARNING - Shape validation failed: input_shape: (1, 1000), minimum_shape: (chains=2, draws=4)\n",
      "arviz - WARNING - Shape validation failed: input_shape: (1, 1000), minimum_shape: (chains=2, draws=4)\n",
      "arviz - WARNING - Shape validation failed: input_shape: (1, 1000), minimum_shape: (chains=2, draws=4)\n",
      "arviz - WARNING - Shape validation failed: input_shape: (1, 1000), minimum_shape: (chains=2, draws=4)\n",
      "arviz - WARNING - Shape validation failed: input_shape: (1, 1000), minimum_shape: (chains=2, draws=4)\n",
      "arviz - WARNING - Shape validation failed: input_shape: (1, 1000), minimum_shape: (chains=2, draws=4)\n",
      "arviz - WARNING - Shape validation failed: input_shape: (1, 1000), minimum_shape: (chains=2, draws=4)\n",
      "arviz - WARNING - Shape validation failed: input_shape: (1, 1000), minimum_shape: (chains=2, draws=4)\n",
      "arviz - WARNING - Shape validation failed: input_shape: (1, 1000), minimum_shape: (chains=2, draws=4)\n",
      "arviz - WARNING - Shape validation failed: input_shape: (1, 1000), minimum_shape: (chains=2, draws=4)\n",
      "arviz - WARNING - Shape validation failed: input_shape: (1, 1000), minimum_shape: (chains=2, draws=4)\n",
      "arviz - WARNING - Shape validation failed: input_shape: (1, 1000), minimum_shape: (chains=2, draws=4)\n"
     ]
    }
   ],
   "source": [
    "med_Ex01_advi = util.get_az_mean(trace01)\n",
    "med_Ex02_advi = util.get_az_mean(trace02)\n",
    "med_Ex03_advi = util.get_az_mean(trace03)\n",
    "med_Ex04_advi = util.get_az_mean(trace04)\n",
    "med_Ex05_advi = util.get_az_mean(trace05)\n",
    "\n",
    "med_Ex15_advi = util.get_az_mean(trace15)\n",
    "med_Ex3_advi = util.get_az_mean(trace3)\n",
    "med_Ex5_advi = util.get_az_mean(trace5)\n",
    "med_Ex7_advi = util.get_az_mean(trace7)\n",
    "med_Ex100_advi = util.get_az_mean(trace100)"
   ]
  },
  {
   "cell_type": "code",
   "execution_count": 11,
   "metadata": {},
   "outputs": [],
   "source": [
    "elasticity_values = np.column_stack([r.getScaledElasticityMatrix().flatten(),\n",
    "                                med_Ex01_advi, med_Ex02_advi, med_Ex03_advi, \n",
    "                               med_Ex04_advi, med_Ex05_advi,  \n",
    "                               med_Ex15_advi, med_Ex3_advi, med_Ex5_advi, \n",
    "                               med_Ex7_advi, med_Ex100_advi])\n",
    "\n",
    "elasticities_df = pd.DataFrame(elasticity_values, columns=['gt']+pt_labels, \n",
    "                               index=[i + '_' + ii for i in r.getReactionIds() for ii in r.getFloatingSpeciesIds()])\n",
    "# elasticities_df.to_csv('topologyA-reg2_omitFluxes_elasticities.csv')"
   ]
  },
  {
   "cell_type": "code",
   "execution_count": 12,
   "metadata": {},
   "outputs": [],
   "source": [
    "e_slopes = [round(util.calculate_slope(elasticities_df['gt'], elasticities_df[i])[0],3) for i in pt_labels]\n",
    "e_intercepts = [round(util.calculate_slope(elasticities_df['gt'], elasticities_df[i])[1],3) for i in pt_labels]\n",
    "e_r2s = [round(util.calculate_slope(elasticities_df['gt'], elasticities_df[i])[2],3) for i in pt_labels]"
   ]
  },
  {
   "cell_type": "code",
   "execution_count": 23,
   "metadata": {},
   "outputs": [
    {
     "data": {
      "image/png": "[encoded data removed]",
      "text/plain": [
       "<Figure size 640x480 with 1 Axes>"
      ]
     },
     "metadata": {},
     "output_type": "display_data"
    }
   ],
   "source": [
    "plt.axes().set_aspect('equal', 'datalim')\n",
    "plt.scatter(elasticities_df['gt'], elasticities_df['0.1x'], alpha=0.4, label='0.1x', zorder=10)\n",
    "plt.scatter(elasticities_df['gt'], elasticities_df['0.2x'], alpha=0.4, label='0.2x', zorder=10)\n",
    "plt.scatter(elasticities_df['gt'], elasticities_df['0.3x'], alpha=0.4, label='0.3x', zorder=10)\n",
    "plt.scatter(elasticities_df['gt'], elasticities_df['0.4x'], alpha=0.4, label='0.4x', zorder=10)\n",
    "plt.scatter(elasticities_df['gt'], elasticities_df['0.5x'], alpha=0.4, label='0.5x', zorder=10)\n",
    "# plt.scatter(elasticities_df['gt'], elasticities_df['1.01x'], alpha=0.4, label='1.01x', zorder=10)\n",
    "\n",
    "plt.axline([0, 0], [1, 1], c='gray', linestyle='dashed', zorder=1, linewidth=3)\n",
    "plt.grid(True, which='both', axis='both', zorder=0)\n",
    "plt.xlabel('ground truth elasticity values', size=14)\n",
    "plt.ylabel('predicted elasticity values, $\\it{r}$', size=14)\n",
    "# plt.title('Parity plot of elasticity values for various \\nenzyme perturbation strengths—CRISPRi', size=20)\n",
    "plt.title('omitIntMet reg2 CRISPRi', size=20)\n",
    "plt.legend(bbox_to_anchor=(1.04, 1), loc=\"upper left\")\n",
    "\n",
    "left_adjust = 29\n",
    "line_spacing = 1.5\n",
    "slope_start = 3\n",
    "r2_start = slope_start-(7*line_spacing)\n",
    "\n",
    "plt.text(left_adjust, slope_start, \"slopes\")\n",
    "for i, label in enumerate(pt_labels[0:5]):\n",
    "    plt.text(left_adjust, (slope_start-line_spacing)-(i*line_spacing), f'{label}: {e_slopes[i]}')\n",
    "\n",
    "plt.text(left_adjust, r2_start, 'R-squared')\n",
    "for i, label in enumerate(pt_labels[0:5]):\n",
    "    plt.text(left_adjust, (r2_start-line_spacing)-(i*line_spacing), f'{label}: {e_r2s[i]}')\n",
    "\n",
    "colors = ['tab:blue', 'tab:orange', 'tab:green', 'tab:red', 'tab:purple']\n",
    "for i in range(5):\n",
    "    plt.axline((0, e_intercepts[i]), slope=e_slopes[i], linestyle='--', alpha=0.6, color=colors[i], zorder=0)"
   ]
  },
  {
   "cell_type": "code",
   "execution_count": 24,
   "metadata": {},
   "outputs": [
    {
     "data": {
      "image/png": "[encoded data removed]",
      "text/plain": [
       "<Figure size 640x480 with 1 Axes>"
      ]
     },
     "metadata": {},
     "output_type": "display_data"
    }
   ],
   "source": [
    "plt.axes().set_aspect('equal', 'datalim')\n",
    "# plt.scatter(elasticities_df['gt'], elasticities_df['1.01x'], alpha=0.4, label='1.01x')\n",
    "plt.scatter(elasticities_df['gt'], elasticities_df['1.5x'], alpha=0.4, label='1.5x')\n",
    "plt.scatter(elasticities_df['gt'], elasticities_df['3x'], alpha=0.4, label='3x')\n",
    "plt.scatter(elasticities_df['gt'], elasticities_df['5x'], alpha=0.4, label='5x')\n",
    "plt.scatter(elasticities_df['gt'], elasticities_df['7x'], alpha=0.4, label='7x')\n",
    "plt.scatter(elasticities_df['gt'], elasticities_df['10x'], alpha=0.4, label='10x')\n",
    "\n",
    "plt.axline([0, 0], [1, 1], c='gray', linestyle='dashed', zorder=1,linewidth=3)\n",
    "plt.grid(True, which='both', axis='both', zorder=0)\n",
    "plt.xlabel('ground truth elasticity values', size=14)\n",
    "plt.ylabel('predicted elasticity values, $\\it{r}$', size=14)\n",
    "plt.title('omitIntMet reg2 CRISPRa', size=20)\n",
    "plt.legend(bbox_to_anchor=(1.04, 1), loc=\"upper left\")\n",
    "\n",
    "left_adjust = 29\n",
    "line_spacing = 1.5\n",
    "slope_start = 3\n",
    "r2_start = slope_start-(7*line_spacing)\n",
    "\n",
    "plt.text(left_adjust, slope_start, \"slopes\")\n",
    "for i, label in enumerate(pt_labels[5:]):\n",
    "    plt.text(left_adjust, (slope_start-line_spacing)-(i*line_spacing), f'{label}: {e_slopes[i+5]}')\n",
    "\n",
    "plt.text(left_adjust, r2_start, 'R-squared')\n",
    "for i, label in enumerate(pt_labels[5:]):\n",
    "    plt.text(left_adjust, (r2_start-line_spacing)-(i*line_spacing), f'{label}: {e_r2s[i+5]}')\n",
    "\n",
    "colors = ['tab:blue', 'tab:orange', 'tab:green', 'tab:red', 'tab:purple']\n",
    "for i in range(5):\n",
    "    plt.axline((0, e_intercepts[i+5]), slope=e_slopes[i+5], linestyle='--', alpha=0.6, color=colors[i], zorder=0)"
   ]
  },
  {
   "cell_type": "code",
   "execution_count": 13,
   "metadata": {},
   "outputs": [
    {
     "data": {
      "text/plain": [
       "F_onewayResult(statistic=2.7588268047173443, pvalue=0.0032725635038799977)"
      ]
     },
     "execution_count": 13,
     "metadata": {},
     "output_type": "execute_result"
    }
   ],
   "source": [
    "# running ANOVA on differences btw gt and predicted\n",
    "# elasticities_df = elasticities_df.sub(elasticities_df['gt'], axis=0)\n",
    "stats.f_oneway(elasticities_df['0.1x'],\n",
    "                elasticities_df['0.2x'],\n",
    "                elasticities_df['0.3x'],\n",
    "                elasticities_df['0.4x'],\n",
    "                elasticities_df['0.5x'],\n",
    "                elasticities_df['1.5x'],\n",
    "                elasticities_df['3x'],\n",
    "                elasticities_df['5x'],\n",
    "                elasticities_df['7x'],\n",
    "                elasticities_df['10x'])"
   ]
  },
  {
   "cell_type": "code",
   "execution_count": 14,
   "metadata": {},
   "outputs": [
    {
     "data": {
      "text/html": [
       "<div>\n",
       "<style scoped>\n",
       "    .dataframe tbody tr th:only-of-type {\n",
       "        vertical-align: middle;\n",
       "    }\n",
       "\n",
       "    .dataframe tbody tr th {\n",
       "        vertical-align: top;\n",
       "    }\n",
       "\n",
       "    .dataframe thead th {\n",
       "        text-align: right;\n",
       "    }\n",
       "</style>\n",
       "<table border=\"1\" class=\"dataframe\">\n",
       "  <thead>\n",
       "    <tr style=\"text-align: right;\">\n",
       "      <th></th>\n",
       "      <th>index</th>\n",
       "      <th>variable</th>\n",
       "      <th>value</th>\n",
       "    </tr>\n",
       "  </thead>\n",
       "  <tbody>\n",
       "    <tr>\n",
       "      <th>0</th>\n",
       "      <td>v1_D</td>\n",
       "      <td>0.1x</td>\n",
       "      <td>0.023000</td>\n",
       "    </tr>\n",
       "    <tr>\n",
       "      <th>1</th>\n",
       "      <td>v1_B</td>\n",
       "      <td>0.1x</td>\n",
       "      <td>0.131667</td>\n",
       "    </tr>\n",
       "    <tr>\n",
       "      <th>2</th>\n",
       "      <td>v1_O</td>\n",
       "      <td>0.1x</td>\n",
       "      <td>-0.006000</td>\n",
       "    </tr>\n",
       "    <tr>\n",
       "      <th>3</th>\n",
       "      <td>v1_F</td>\n",
       "      <td>0.1x</td>\n",
       "      <td>0.006000</td>\n",
       "    </tr>\n",
       "    <tr>\n",
       "      <th>4</th>\n",
       "      <td>v1_H</td>\n",
       "      <td>0.1x</td>\n",
       "      <td>0.000000</td>\n",
       "    </tr>\n",
       "  </tbody>\n",
       "</table>\n",
       "</div>"
      ],
      "text/plain": [
       "  index variable     value\n",
       "0  v1_D     0.1x  0.023000\n",
       "1  v1_B     0.1x  0.131667\n",
       "2  v1_O     0.1x -0.006000\n",
       "3  v1_F     0.1x  0.006000\n",
       "4  v1_H     0.1x  0.000000"
      ]
     },
     "execution_count": 14,
     "metadata": {},
     "output_type": "execute_result"
    }
   ],
   "source": [
    "melted_elasticities = elasticities_df.reset_index().melt(id_vars=['index'], value_vars=['0.1x', '0.2x', '0.3x', '0.4x', '0.5x', '1.5x', '3x', '5x', '7x', '10x'])\n",
    "melted_elasticities.head()"
   ]
  },
  {
   "cell_type": "code",
   "execution_count": 15,
   "metadata": {},
   "outputs": [
    {
     "name": "stdout",
     "output_type": "stream",
     "text": [
      "0.00999241269052291\n"
     ]
    }
   ],
   "source": [
    "import statsmodels.api as sm\n",
    "from statsmodels.formula.api import ols\n",
    "\n",
    "# Assuming you have a DataFrame named 'data' with your data\n",
    "# 'dv' is the dependent variable column name\n",
    "# 'iv' is the independent variable column name\n",
    "\n",
    "model = ols('value ~ variable', data=melted_elasticities).fit()\n",
    "anova_table = sm.stats.anova_lm(model, typ=2)\n",
    "eta_squared = anova_table['sum_sq'][0] / anova_table['sum_sq'].sum()\n",
    "\n",
    "print(eta_squared)"
   ]
  },
  {
   "cell_type": "code",
   "execution_count": 26,
   "metadata": {},
   "outputs": [
    {
     "data": {
      "text/plain": [
       "gt      0.000000\n",
       "0.1x    0.520215\n",
       "0.2x    0.520901\n",
       "0.3x    0.516812\n",
       "0.4x    0.515099\n",
       "0.5x    0.516053\n",
       "1.5x    0.514665\n",
       "3x      0.509459\n",
       "5x      0.503721\n",
       "7x      0.484502\n",
       "10x     0.469876\n",
       "dtype: float64"
      ]
     },
     "execution_count": 26,
     "metadata": {},
     "output_type": "execute_result"
    }
   ],
   "source": [
    "# print out MAE for each perturbation strength\n",
    "MAE = abs(elasticities_df.sub(elasticities_df['gt'], axis=0)).sum()/len(elasticities_df['gt'])\n",
    "MAE"
   ]
  },
  {
   "cell_type": "code",
   "execution_count": 27,
   "metadata": {},
   "outputs": [
    {
     "data": {
      "text/plain": [
       "Text(0.5, 1.0, 'MAE of elasticity predictions based\\non enzyme perturbation strength')"
      ]
     },
     "execution_count": 27,
     "metadata": {},
     "output_type": "execute_result"
    },
    {
     "data": {
      "image/png": "[encoded data removed]",
      "text/plain": [
       "<Figure size 640x480 with 1 Axes>"
      ]
     },
     "metadata": {},
     "output_type": "display_data"
    }
   ],
   "source": [
    "plt.scatter(pt_levels, MAE[1:].values, zorder=10)\n",
    "plt.grid(True, which='both', axis='both', zorder=0)\n",
    "plt.xscale('log')\n",
    "plt.xlabel('fold change in enzyme concentration', size=14)\n",
    "plt.ylabel('MAE, $\\it{r}$', size=14)\n",
    "plt.tick_params(axis='both', which='major', labelsize=13)\n",
    "plt.title(\"MAE of elasticity predictions based\\non enzyme perturbation strength\", size=20)"
   ]
  },
  {
   "cell_type": "code",
   "execution_count": 28,
   "metadata": {},
   "outputs": [],
   "source": [
    "MAE.to_csv('../../../data/results/MAE/topologyB-reg2_omitIntMet_MAE.csv')"
   ]
  },
  {
   "cell_type": "markdown",
   "metadata": {},
   "source": [
    "## Calculating FCCs"
   ]
  },
  {
   "cell_type": "code",
   "execution_count": 29,
   "metadata": {},
   "outputs": [],
   "source": [
    "gtFCC = pd.DataFrame(r.getScaledFluxControlCoefficientMatrix(), index=r.getReactionIds(), columns=r.getReactionIds())"
   ]
  },
  {
   "cell_type": "markdown",
   "metadata": {},
   "source": [
    "### Negative predictions"
   ]
  },
  {
   "cell_type": "code",
   "execution_count": 30,
   "metadata": {},
   "outputs": [
    {
     "name": "stderr",
     "output_type": "stream",
     "text": [
      "Sampling: [Ex_capacity_entries, Ex_kinetic_entries, Ey_capacity_entries, Ey_kinetic_entries]\n",
      "arviz - WARNING - Shape validation failed: input_shape: (1, 500), minimum_shape: (chains=2, draws=4)\n",
      "Sampling: [Ex_capacity_entries, Ex_kinetic_entries, Ey_capacity_entries, Ey_kinetic_entries]\n",
      "arviz - WARNING - Shape validation failed: input_shape: (1, 500), minimum_shape: (chains=2, draws=4)\n",
      "Sampling: [Ex_capacity_entries, Ex_kinetic_entries, Ey_capacity_entries, Ey_kinetic_entries]\n",
      "arviz - WARNING - Shape validation failed: input_shape: (1, 500), minimum_shape: (chains=2, draws=4)\n",
      "Sampling: [Ex_capacity_entries, Ex_kinetic_entries, Ey_capacity_entries, Ey_kinetic_entries]\n",
      "arviz - WARNING - Shape validation failed: input_shape: (1, 500), minimum_shape: (chains=2, draws=4)\n",
      "Sampling: [Ex_capacity_entries, Ex_kinetic_entries, Ey_capacity_entries, Ey_kinetic_entries]\n",
      "arviz - WARNING - Shape validation failed: input_shape: (1, 500), minimum_shape: (chains=2, draws=4)\n",
      "Sampling: [Ex_capacity_entries, Ex_kinetic_entries, Ey_capacity_entries, Ey_kinetic_entries]\n",
      "arviz - WARNING - Shape validation failed: input_shape: (1, 500), minimum_shape: (chains=2, draws=4)\n",
      "Sampling: [Ex_capacity_entries, Ex_kinetic_entries, Ey_capacity_entries, Ey_kinetic_entries]\n",
      "arviz - WARNING - Shape validation failed: input_shape: (1, 500), minimum_shape: (chains=2, draws=4)\n",
      "Sampling: [Ex_capacity_entries, Ex_kinetic_entries, Ey_capacity_entries, Ey_kinetic_entries]\n",
      "arviz - WARNING - Shape validation failed: input_shape: (1, 500), minimum_shape: (chains=2, draws=4)\n",
      "Sampling: [Ex_capacity_entries, Ex_kinetic_entries, Ey_capacity_entries, Ey_kinetic_entries]\n",
      "arviz - WARNING - Shape validation failed: input_shape: (1, 500), minimum_shape: (chains=2, draws=4)\n",
      "Sampling: [Ex_capacity_entries, Ex_kinetic_entries, Ey_capacity_entries, Ey_kinetic_entries]\n",
      "arviz - WARNING - Shape validation failed: input_shape: (1, 500), minimum_shape: (chains=2, draws=4)\n"
     ]
    }
   ],
   "source": [
    "Ex01_prior = util.get_az_summary(util.run_prior_predictive(BMCA_obj01)['prior']['Ex'])\n",
    "Ex02_prior = util.get_az_summary(util.run_prior_predictive(BMCA_obj02)['prior']['Ex'])\n",
    "Ex03_prior = util.get_az_summary(util.run_prior_predictive(BMCA_obj03)['prior']['Ex'])\n",
    "Ex04_prior = util.get_az_summary(util.run_prior_predictive(BMCA_obj04)['prior']['Ex'])\n",
    "Ex05_prior = util.get_az_summary(util.run_prior_predictive(BMCA_obj05)['prior']['Ex'])\n",
    "\n",
    "Ex15_prior = util.get_az_summary(util.run_prior_predictive(BMCA_obj15)['prior']['Ex'])\n",
    "Ex3_prior = util.get_az_summary(util.run_prior_predictive(BMCA_obj3)['prior']['Ex'])\n",
    "Ex5_prior = util.get_az_summary(util.run_prior_predictive(BMCA_obj5)['prior']['Ex'])\n",
    "Ex7_prior = util.get_az_summary(util.run_prior_predictive(BMCA_obj7)['prior']['Ex'])\n",
    "Ex100_prior = util.get_az_summary(util.run_prior_predictive(BMCA_obj100)['prior']['Ex'])\n"
   ]
  },
  {
   "cell_type": "code",
   "execution_count": 31,
   "metadata": {},
   "outputs": [],
   "source": [
    "priorFCC01 = util.estimate_CCs(BMCA_obj01, Ex01_prior.reshape((19,13)))\n",
    "priorFCC02 = util.estimate_CCs(BMCA_obj02, Ex02_prior.reshape((19,13)))\n",
    "priorFCC03 = util.estimate_CCs(BMCA_obj03, Ex03_prior.reshape((19,13)))\n",
    "priorFCC04 = util.estimate_CCs(BMCA_obj04, Ex04_prior.reshape((19,13)))\n",
    "priorFCC05 = util.estimate_CCs(BMCA_obj05, Ex05_prior.reshape((19,13)))\n",
    "\n",
    "priorFCC15 = util.estimate_CCs(BMCA_obj15, Ex15_prior.reshape((19,13)))\n",
    "priorFCC3 = util.estimate_CCs(BMCA_obj3, Ex3_prior.reshape((19,13)))\n",
    "priorFCC5 = util.estimate_CCs(BMCA_obj5, Ex5_prior.reshape((19,13)))\n",
    "priorFCC7 = util.estimate_CCs(BMCA_obj7, Ex7_prior.reshape((19,13)))\n",
    "priorFCC100 = util.estimate_CCs(BMCA_obj100, Ex100_prior.reshape((19,13)))\n"
   ]
  },
  {
   "cell_type": "code",
   "execution_count": 32,
   "metadata": {},
   "outputs": [],
   "source": [
    "postFCC01 = util.estimate_CCs(BMCA_obj01, med_Ex01_advi.reshape((19,13)))\n",
    "postFCC02 = util.estimate_CCs(BMCA_obj02, med_Ex02_advi.reshape((19,13)))\n",
    "postFCC03 = util.estimate_CCs(BMCA_obj03, med_Ex03_advi.reshape((19,13)))\n",
    "postFCC04 = util.estimate_CCs(BMCA_obj04, med_Ex04_advi.reshape((19,13)))\n",
    "postFCC05 = util.estimate_CCs(BMCA_obj05, med_Ex05_advi.reshape((19,13)))\n",
    "\n",
    "postFCC15 = util.estimate_CCs(BMCA_obj15, med_Ex15_advi.reshape((19,13)))\n",
    "postFCC3 = util.estimate_CCs(BMCA_obj3, med_Ex3_advi.reshape((19,13)))\n",
    "postFCC5 = util.estimate_CCs(BMCA_obj5, med_Ex5_advi.reshape((19,13)))\n",
    "postFCC7 = util.estimate_CCs(BMCA_obj7, med_Ex7_advi.reshape((19,13)))\n",
    "postFCC100 = util.estimate_CCs(BMCA_obj100, med_Ex100_advi.reshape((19,13)))"
   ]
  },
  {
   "cell_type": "code",
   "execution_count": 33,
   "metadata": {},
   "outputs": [],
   "source": [
    "prior_FCCs = [priorFCC01, priorFCC02, priorFCC03, priorFCC04, priorFCC05, priorFCC15, priorFCC3, priorFCC5, priorFCC7, priorFCC100]\n",
    "post_FCCs = [postFCC01, postFCC02, postFCC03, postFCC04, postFCC05, postFCC15, postFCC3, postFCC5, postFCC7, postFCC100]\n"
   ]
  },
  {
   "cell_type": "markdown",
   "metadata": {},
   "source": [
    "## Evaluating FCC ranking"
   ]
  },
  {
   "cell_type": "code",
   "execution_count": 34,
   "metadata": {},
   "outputs": [],
   "source": [
    "gtFCC=pd.DataFrame(r.getScaledFluxControlCoefficientMatrix(), columns=r.getReactionIds(), index=r.getReactionIds()).abs()\n",
    "m1 = gtFCC.index.values[:, None] == gtFCC.columns.values\n",
    "gtFCC = pd.DataFrame(np.select([m1], [float('Nan')], gtFCC), columns=gtFCC.columns, index=gtFCC.index)\n",
    "gtFCC_rankings= gtFCC.rank(axis=1, ascending=False, na_option='keep')\n",
    "\n",
    "a = gtFCC_rankings.loc['v19']"
   ]
  },
  {
   "cell_type": "markdown",
   "metadata": {},
   "source": [
    "### via Spearman rank coefficients"
   ]
  },
  {
   "cell_type": "code",
   "execution_count": 35,
   "metadata": {},
   "outputs": [],
   "source": [
    "spearman_coefficients = []\n",
    "p_values = []\n",
    "confidence_intervals = []\n",
    "b_list = []\n",
    "for FCC in prior_FCCs + post_FCCs:\n",
    "    b = util.calculate_FCC_med_rankings(FCC, 'v19', r)\n",
    "    b_list.append(b)\n",
    "    spearman_r, p_value, lower_ci, upper_ci = util.bootstrap_spearman(a.dropna(), b.dropna())\n",
    "    spearman_coefficients.append(spearman_r)\n",
    "    p_values.append(p_value)\n",
    "    confidence_intervals.append((lower_ci, upper_ci))\n"
   ]
  },
  {
   "cell_type": "code",
   "execution_count": 36,
   "metadata": {},
   "outputs": [],
   "source": [
    "pt_labels = [i+'-prior' for i in pt_labels] + [i+'-post' for i in pt_labels]"
   ]
  },
  {
   "cell_type": "code",
   "execution_count": 37,
   "metadata": {},
   "outputs": [
    {
     "data": {
      "text/html": [
       "<div>\n",
       "<style scoped>\n",
       "    .dataframe tbody tr th:only-of-type {\n",
       "        vertical-align: middle;\n",
       "    }\n",
       "\n",
       "    .dataframe tbody tr th {\n",
       "        vertical-align: top;\n",
       "    }\n",
       "\n",
       "    .dataframe thead th {\n",
       "        text-align: right;\n",
       "    }\n",
       "</style>\n",
       "<table border=\"1\" class=\"dataframe\">\n",
       "  <thead>\n",
       "    <tr style=\"text-align: right;\">\n",
       "      <th></th>\n",
       "      <th>r</th>\n",
       "      <th>p-value</th>\n",
       "      <th>lower</th>\n",
       "      <th>upper</th>\n",
       "    </tr>\n",
       "  </thead>\n",
       "  <tbody>\n",
       "    <tr>\n",
       "      <th>0.1x-prior</th>\n",
       "      <td>0.217750</td>\n",
       "      <td>0.385396</td>\n",
       "      <td>-0.338913</td>\n",
       "      <td>0.668232</td>\n",
       "    </tr>\n",
       "    <tr>\n",
       "      <th>0.2x-prior</th>\n",
       "      <td>0.192982</td>\n",
       "      <td>0.442944</td>\n",
       "      <td>-0.391089</td>\n",
       "      <td>0.643686</td>\n",
       "    </tr>\n",
       "    <tr>\n",
       "      <th>0.3x-prior</th>\n",
       "      <td>0.186791</td>\n",
       "      <td>0.457989</td>\n",
       "      <td>-0.401094</td>\n",
       "      <td>0.702374</td>\n",
       "    </tr>\n",
       "    <tr>\n",
       "      <th>0.4x-prior</th>\n",
       "      <td>0.215686</td>\n",
       "      <td>0.390027</td>\n",
       "      <td>-0.319535</td>\n",
       "      <td>0.754750</td>\n",
       "    </tr>\n",
       "    <tr>\n",
       "      <th>0.5x-prior</th>\n",
       "      <td>0.164087</td>\n",
       "      <td>0.515295</td>\n",
       "      <td>-0.436131</td>\n",
       "      <td>0.668872</td>\n",
       "    </tr>\n",
       "    <tr>\n",
       "      <th>1.5x-prior</th>\n",
       "      <td>0.095975</td>\n",
       "      <td>0.704812</td>\n",
       "      <td>-0.461916</td>\n",
       "      <td>0.616518</td>\n",
       "    </tr>\n",
       "    <tr>\n",
       "      <th>3x-prior</th>\n",
       "      <td>0.153767</td>\n",
       "      <td>0.542403</td>\n",
       "      <td>-0.424661</td>\n",
       "      <td>0.714723</td>\n",
       "    </tr>\n",
       "    <tr>\n",
       "      <th>5x-prior</th>\n",
       "      <td>0.145511</td>\n",
       "      <td>0.564541</td>\n",
       "      <td>-0.402744</td>\n",
       "      <td>0.664975</td>\n",
       "    </tr>\n",
       "    <tr>\n",
       "      <th>7x-prior</th>\n",
       "      <td>0.155831</td>\n",
       "      <td>0.536931</td>\n",
       "      <td>-0.405731</td>\n",
       "      <td>0.718348</td>\n",
       "    </tr>\n",
       "    <tr>\n",
       "      <th>10x-prior</th>\n",
       "      <td>0.182663</td>\n",
       "      <td>0.468161</td>\n",
       "      <td>-0.415257</td>\n",
       "      <td>0.754522</td>\n",
       "    </tr>\n",
       "    <tr>\n",
       "      <th>0.1x-post</th>\n",
       "      <td>-0.021672</td>\n",
       "      <td>0.931980</td>\n",
       "      <td>-0.605072</td>\n",
       "      <td>0.552555</td>\n",
       "    </tr>\n",
       "    <tr>\n",
       "      <th>0.2x-post</th>\n",
       "      <td>0.252838</td>\n",
       "      <td>0.311413</td>\n",
       "      <td>-0.233085</td>\n",
       "      <td>0.696673</td>\n",
       "    </tr>\n",
       "    <tr>\n",
       "      <th>0.3x-post</th>\n",
       "      <td>0.415893</td>\n",
       "      <td>0.086056</td>\n",
       "      <td>-0.089932</td>\n",
       "      <td>0.834299</td>\n",
       "    </tr>\n",
       "    <tr>\n",
       "      <th>0.4x-post</th>\n",
       "      <td>0.205366</td>\n",
       "      <td>0.413635</td>\n",
       "      <td>-0.354842</td>\n",
       "      <td>0.757676</td>\n",
       "    </tr>\n",
       "    <tr>\n",
       "      <th>0.5x-post</th>\n",
       "      <td>0.170279</td>\n",
       "      <td>0.499341</td>\n",
       "      <td>-0.327184</td>\n",
       "      <td>0.641262</td>\n",
       "    </tr>\n",
       "    <tr>\n",
       "      <th>1.5x-post</th>\n",
       "      <td>0.591331</td>\n",
       "      <td>0.009747</td>\n",
       "      <td>0.077044</td>\n",
       "      <td>0.853485</td>\n",
       "    </tr>\n",
       "    <tr>\n",
       "      <th>3x-post</th>\n",
       "      <td>0.413829</td>\n",
       "      <td>0.087785</td>\n",
       "      <td>-0.078306</td>\n",
       "      <td>0.745657</td>\n",
       "    </tr>\n",
       "    <tr>\n",
       "      <th>5x-post</th>\n",
       "      <td>0.659443</td>\n",
       "      <td>0.002909</td>\n",
       "      <td>0.276142</td>\n",
       "      <td>0.841506</td>\n",
       "    </tr>\n",
       "    <tr>\n",
       "      <th>7x-post</th>\n",
       "      <td>0.310630</td>\n",
       "      <td>0.209625</td>\n",
       "      <td>-0.202747</td>\n",
       "      <td>0.699687</td>\n",
       "    </tr>\n",
       "    <tr>\n",
       "      <th>10x-post</th>\n",
       "      <td>0.360165</td>\n",
       "      <td>0.142062</td>\n",
       "      <td>-0.129971</td>\n",
       "      <td>0.762724</td>\n",
       "    </tr>\n",
       "  </tbody>\n",
       "</table>\n",
       "</div>"
      ],
      "text/plain": [
       "                   r   p-value     lower     upper\n",
       "0.1x-prior  0.217750  0.385396 -0.338913  0.668232\n",
       "0.2x-prior  0.192982  0.442944 -0.391089  0.643686\n",
       "0.3x-prior  0.186791  0.457989 -0.401094  0.702374\n",
       "0.4x-prior  0.215686  0.390027 -0.319535  0.754750\n",
       "0.5x-prior  0.164087  0.515295 -0.436131  0.668872\n",
       "1.5x-prior  0.095975  0.704812 -0.461916  0.616518\n",
       "3x-prior    0.153767  0.542403 -0.424661  0.714723\n",
       "5x-prior    0.145511  0.564541 -0.402744  0.664975\n",
       "7x-prior    0.155831  0.536931 -0.405731  0.718348\n",
       "10x-prior   0.182663  0.468161 -0.415257  0.754522\n",
       "0.1x-post  -0.021672  0.931980 -0.605072  0.552555\n",
       "0.2x-post   0.252838  0.311413 -0.233085  0.696673\n",
       "0.3x-post   0.415893  0.086056 -0.089932  0.834299\n",
       "0.4x-post   0.205366  0.413635 -0.354842  0.757676\n",
       "0.5x-post   0.170279  0.499341 -0.327184  0.641262\n",
       "1.5x-post   0.591331  0.009747  0.077044  0.853485\n",
       "3x-post     0.413829  0.087785 -0.078306  0.745657\n",
       "5x-post     0.659443  0.002909  0.276142  0.841506\n",
       "7x-post     0.310630  0.209625 -0.202747  0.699687\n",
       "10x-post    0.360165  0.142062 -0.129971  0.762724"
      ]
     },
     "execution_count": 37,
     "metadata": {},
     "output_type": "execute_result"
    }
   ],
   "source": [
    "spearman_df = pd.DataFrame(spearman_coefficients, columns=['r'], index=pt_labels)\n",
    "spearman_df['p-value'] = p_values\n",
    "spearman_df['lower'] = [i[0] for i in confidence_intervals]\n",
    "spearman_df['upper'] = [i[1] for i in confidence_intervals]\n",
    "spearman_df"
   ]
  },
  {
   "cell_type": "code",
   "execution_count": 46,
   "metadata": {},
   "outputs": [
    {
     "data": {
      "image/png": "[encoded data removed]",
      "text/plain": [
       "<Figure size 640x480 with 1 Axes>"
      ]
     },
     "metadata": {},
     "output_type": "display_data"
    }
   ],
   "source": [
    "plt.bar(pt_labels, [i for i in spearman_coefficients], alpha=0.5, color=['r']*10 + ['b']*10)\n",
    "plt.grid()\n",
    "\n",
    "for i, val in enumerate(spearman_df['r']):\n",
    "    if round(val, 2) <= 0: \n",
    "        c ='gray'\n",
    "    else: \n",
    "        c='k'\n",
    "    plt.vlines(pt_labels[i], spearman_df['lower'][i], spearman_df['upper'][i], color=c)\n",
    "\n",
    "for i, val in enumerate(spearman_df['r']):\n",
    "    if round(val, 2) <= 0: \n",
    "        plt.annotate(round(val, 2), (pt_labels[i], 0.02), size=8, ha='center', rotation=30,rotation_mode=\"anchor\")\n",
    "\n",
    "plt.title(\"Spearman rank correlation coefficients by perturbation strength\")\n",
    "plt.xlabel('perturbation level')\n",
    "plt.ylabel('Spearman $\\it{r}$')\n",
    "plt.ylim((0, 1.05))\n",
    "\n",
    "_=plt.xticks(rotation=-70,ha='left',rotation_mode=\"anchor\")"
   ]
  },
  {
   "cell_type": "code",
   "execution_count": 41,
   "metadata": {},
   "outputs": [],
   "source": [
    "spearman_df.to_csv('../../../data/results/spearman_coefficients/topologyB-reg2_omitIntMet_spr.csv')"
   ]
  },
  {
   "cell_type": "markdown",
   "metadata": {},
   "source": [
    "### evaluating top 10 rankings"
   ]
  },
  {
   "cell_type": "code",
   "execution_count": 42,
   "metadata": {},
   "outputs": [
    {
     "data": {
      "text/html": [
       "<div>\n",
       "<style scoped>\n",
       "    .dataframe tbody tr th:only-of-type {\n",
       "        vertical-align: middle;\n",
       "    }\n",
       "\n",
       "    .dataframe tbody tr th {\n",
       "        vertical-align: top;\n",
       "    }\n",
       "\n",
       "    .dataframe thead th {\n",
       "        text-align: right;\n",
       "    }\n",
       "</style>\n",
       "<table border=\"1\" class=\"dataframe\">\n",
       "  <thead>\n",
       "    <tr style=\"text-align: right;\">\n",
       "      <th></th>\n",
       "      <th>gt</th>\n",
       "      <th>0.1x-prior</th>\n",
       "      <th>0.2x-prior</th>\n",
       "      <th>0.3x-prior</th>\n",
       "      <th>0.4x-prior</th>\n",
       "      <th>0.5x-prior</th>\n",
       "      <th>1.5x-prior</th>\n",
       "      <th>3x-prior</th>\n",
       "      <th>5x-prior</th>\n",
       "      <th>7x-prior</th>\n",
       "      <th>...</th>\n",
       "      <th>0.1x-post</th>\n",
       "      <th>0.2x-post</th>\n",
       "      <th>0.3x-post</th>\n",
       "      <th>0.4x-post</th>\n",
       "      <th>0.5x-post</th>\n",
       "      <th>1.5x-post</th>\n",
       "      <th>3x-post</th>\n",
       "      <th>5x-post</th>\n",
       "      <th>7x-post</th>\n",
       "      <th>10x-post</th>\n",
       "    </tr>\n",
       "    <tr>\n",
       "      <th>v19</th>\n",
       "      <th></th>\n",
       "      <th></th>\n",
       "      <th></th>\n",
       "      <th></th>\n",
       "      <th></th>\n",
       "      <th></th>\n",
       "      <th></th>\n",
       "      <th></th>\n",
       "      <th></th>\n",
       "      <th></th>\n",
       "      <th></th>\n",
       "      <th></th>\n",
       "      <th></th>\n",
       "      <th></th>\n",
       "      <th></th>\n",
       "      <th></th>\n",
       "      <th></th>\n",
       "      <th></th>\n",
       "      <th></th>\n",
       "      <th></th>\n",
       "      <th></th>\n",
       "    </tr>\n",
       "  </thead>\n",
       "  <tbody>\n",
       "    <tr>\n",
       "      <th>1.0</th>\n",
       "      <td>v18</td>\n",
       "      <td>v18</td>\n",
       "      <td>v18</td>\n",
       "      <td>v18</td>\n",
       "      <td>v18</td>\n",
       "      <td>v18</td>\n",
       "      <td>v18</td>\n",
       "      <td>v18</td>\n",
       "      <td>v18</td>\n",
       "      <td>v18</td>\n",
       "      <td>...</td>\n",
       "      <td>v18</td>\n",
       "      <td>v4</td>\n",
       "      <td>v11</td>\n",
       "      <td>v1</td>\n",
       "      <td>v8</td>\n",
       "      <td>v1</td>\n",
       "      <td>v14</td>\n",
       "      <td>v7</td>\n",
       "      <td>v18</td>\n",
       "      <td>v18</td>\n",
       "    </tr>\n",
       "    <tr>\n",
       "      <th>2.0</th>\n",
       "      <td>v1</td>\n",
       "      <td>v8</td>\n",
       "      <td>v14</td>\n",
       "      <td>v14</td>\n",
       "      <td>v14</td>\n",
       "      <td>v14</td>\n",
       "      <td>v15</td>\n",
       "      <td>v15</td>\n",
       "      <td>v15</td>\n",
       "      <td>v15</td>\n",
       "      <td>...</td>\n",
       "      <td>v16</td>\n",
       "      <td>v16</td>\n",
       "      <td>v12</td>\n",
       "      <td>v9</td>\n",
       "      <td>v16</td>\n",
       "      <td>v7</td>\n",
       "      <td>v18</td>\n",
       "      <td>v5</td>\n",
       "      <td>v12</td>\n",
       "      <td>v9</td>\n",
       "    </tr>\n",
       "    <tr>\n",
       "      <th>3.0</th>\n",
       "      <td>v7</td>\n",
       "      <td>v14</td>\n",
       "      <td>v8</td>\n",
       "      <td>v17</td>\n",
       "      <td>v8</td>\n",
       "      <td>v16</td>\n",
       "      <td>v17</td>\n",
       "      <td>v17</td>\n",
       "      <td>v17</td>\n",
       "      <td>v17</td>\n",
       "      <td>...</td>\n",
       "      <td>v17</td>\n",
       "      <td>v18</td>\n",
       "      <td>v1</td>\n",
       "      <td>v5</td>\n",
       "      <td>v13</td>\n",
       "      <td>v18</td>\n",
       "      <td>v12</td>\n",
       "      <td>v1</td>\n",
       "      <td>v9</td>\n",
       "      <td>v15</td>\n",
       "    </tr>\n",
       "    <tr>\n",
       "      <th>4.0</th>\n",
       "      <td>v14</td>\n",
       "      <td>v16</td>\n",
       "      <td>v17</td>\n",
       "      <td>v16</td>\n",
       "      <td>v17</td>\n",
       "      <td>v17</td>\n",
       "      <td>v16</td>\n",
       "      <td>v16</td>\n",
       "      <td>v16</td>\n",
       "      <td>v16</td>\n",
       "      <td>...</td>\n",
       "      <td>v11</td>\n",
       "      <td>v11</td>\n",
       "      <td>v7</td>\n",
       "      <td>v7</td>\n",
       "      <td>v18</td>\n",
       "      <td>v4</td>\n",
       "      <td>v15</td>\n",
       "      <td>v4</td>\n",
       "      <td>v15</td>\n",
       "      <td>v12</td>\n",
       "    </tr>\n",
       "    <tr>\n",
       "      <th>5.0</th>\n",
       "      <td>v5</td>\n",
       "      <td>v17</td>\n",
       "      <td>v16</td>\n",
       "      <td>v8</td>\n",
       "      <td>v16</td>\n",
       "      <td>v8</td>\n",
       "      <td>v14</td>\n",
       "      <td>v14</td>\n",
       "      <td>v14</td>\n",
       "      <td>v14</td>\n",
       "      <td>...</td>\n",
       "      <td>v9</td>\n",
       "      <td>v12</td>\n",
       "      <td>v9</td>\n",
       "      <td>v10</td>\n",
       "      <td>v7</td>\n",
       "      <td>v14</td>\n",
       "      <td>v5</td>\n",
       "      <td>v18</td>\n",
       "      <td>v5</td>\n",
       "      <td>v11</td>\n",
       "    </tr>\n",
       "    <tr>\n",
       "      <th>6.0</th>\n",
       "      <td>v4</td>\n",
       "      <td>v13</td>\n",
       "      <td>v13</td>\n",
       "      <td>v13</td>\n",
       "      <td>v13</td>\n",
       "      <td>v15</td>\n",
       "      <td>v8</td>\n",
       "      <td>v5</td>\n",
       "      <td>v5</td>\n",
       "      <td>v5</td>\n",
       "      <td>...</td>\n",
       "      <td>v8</td>\n",
       "      <td>v5</td>\n",
       "      <td>v3</td>\n",
       "      <td>v8</td>\n",
       "      <td>v15</td>\n",
       "      <td>v11</td>\n",
       "      <td>v9</td>\n",
       "      <td>v6</td>\n",
       "      <td>v4</td>\n",
       "      <td>v3</td>\n",
       "    </tr>\n",
       "    <tr>\n",
       "      <th>7.0</th>\n",
       "      <td>v9</td>\n",
       "      <td>v4</td>\n",
       "      <td>v15</td>\n",
       "      <td>v15</td>\n",
       "      <td>v15</td>\n",
       "      <td>v13</td>\n",
       "      <td>v5</td>\n",
       "      <td>v1</td>\n",
       "      <td>v1</td>\n",
       "      <td>v1</td>\n",
       "      <td>...</td>\n",
       "      <td>v5</td>\n",
       "      <td>v1</td>\n",
       "      <td>v5</td>\n",
       "      <td>v6</td>\n",
       "      <td>v12</td>\n",
       "      <td>v10</td>\n",
       "      <td>v11</td>\n",
       "      <td>v10</td>\n",
       "      <td>v6</td>\n",
       "      <td>v7</td>\n",
       "    </tr>\n",
       "    <tr>\n",
       "      <th>8.0</th>\n",
       "      <td>v3</td>\n",
       "      <td>v15</td>\n",
       "      <td>v4</td>\n",
       "      <td>v4</td>\n",
       "      <td>v4</td>\n",
       "      <td>v4</td>\n",
       "      <td>v4</td>\n",
       "      <td>v4</td>\n",
       "      <td>v4</td>\n",
       "      <td>v4</td>\n",
       "      <td>...</td>\n",
       "      <td>v14</td>\n",
       "      <td>v7</td>\n",
       "      <td>v18</td>\n",
       "      <td>v13</td>\n",
       "      <td>v1</td>\n",
       "      <td>v9</td>\n",
       "      <td>v4</td>\n",
       "      <td>v12</td>\n",
       "      <td>v14</td>\n",
       "      <td>v2</td>\n",
       "    </tr>\n",
       "    <tr>\n",
       "      <th>9.0</th>\n",
       "      <td>v8</td>\n",
       "      <td>v1</td>\n",
       "      <td>v1</td>\n",
       "      <td>v1</td>\n",
       "      <td>v1</td>\n",
       "      <td>v5</td>\n",
       "      <td>v1</td>\n",
       "      <td>v6</td>\n",
       "      <td>v6</td>\n",
       "      <td>v6</td>\n",
       "      <td>...</td>\n",
       "      <td>v10</td>\n",
       "      <td>v6</td>\n",
       "      <td>v4</td>\n",
       "      <td>v11</td>\n",
       "      <td>v5</td>\n",
       "      <td>v8</td>\n",
       "      <td>v6</td>\n",
       "      <td>v14</td>\n",
       "      <td>v11</td>\n",
       "      <td>v5</td>\n",
       "    </tr>\n",
       "    <tr>\n",
       "      <th>10.0</th>\n",
       "      <td>v12</td>\n",
       "      <td>v7</td>\n",
       "      <td>v7</td>\n",
       "      <td>v7</td>\n",
       "      <td>v7</td>\n",
       "      <td>v7</td>\n",
       "      <td>v13</td>\n",
       "      <td>v7</td>\n",
       "      <td>v7</td>\n",
       "      <td>v7</td>\n",
       "      <td>...</td>\n",
       "      <td>v6</td>\n",
       "      <td>v17</td>\n",
       "      <td>v15</td>\n",
       "      <td>v3</td>\n",
       "      <td>v4</td>\n",
       "      <td>v17</td>\n",
       "      <td>v7</td>\n",
       "      <td>v9</td>\n",
       "      <td>v1</td>\n",
       "      <td>v14</td>\n",
       "    </tr>\n",
       "    <tr>\n",
       "      <th>11.0</th>\n",
       "      <td>v10</td>\n",
       "      <td>v6</td>\n",
       "      <td>v6</td>\n",
       "      <td>v5</td>\n",
       "      <td>v5</td>\n",
       "      <td>v1</td>\n",
       "      <td>v6</td>\n",
       "      <td>v8</td>\n",
       "      <td>v8</td>\n",
       "      <td>v8</td>\n",
       "      <td>...</td>\n",
       "      <td>v13</td>\n",
       "      <td>v9</td>\n",
       "      <td>v10</td>\n",
       "      <td>v16</td>\n",
       "      <td>v6</td>\n",
       "      <td>v2</td>\n",
       "      <td>v1</td>\n",
       "      <td>v2</td>\n",
       "      <td>v10</td>\n",
       "      <td>v1</td>\n",
       "    </tr>\n",
       "    <tr>\n",
       "      <th>12.0</th>\n",
       "      <td>v13</td>\n",
       "      <td>v5</td>\n",
       "      <td>v5</td>\n",
       "      <td>v6</td>\n",
       "      <td>v6</td>\n",
       "      <td>v6</td>\n",
       "      <td>v7</td>\n",
       "      <td>v13</td>\n",
       "      <td>v10</td>\n",
       "      <td>v12</td>\n",
       "      <td>...</td>\n",
       "      <td>v4</td>\n",
       "      <td>v3</td>\n",
       "      <td>v6</td>\n",
       "      <td>v2</td>\n",
       "      <td>v10</td>\n",
       "      <td>v6</td>\n",
       "      <td>v16</td>\n",
       "      <td>v16</td>\n",
       "      <td>v3</td>\n",
       "      <td>v10</td>\n",
       "    </tr>\n",
       "    <tr>\n",
       "      <th>13.0</th>\n",
       "      <td>v6</td>\n",
       "      <td>v9</td>\n",
       "      <td>v9</td>\n",
       "      <td>v9</td>\n",
       "      <td>v9</td>\n",
       "      <td>v9</td>\n",
       "      <td>v9</td>\n",
       "      <td>v10</td>\n",
       "      <td>v13</td>\n",
       "      <td>v10</td>\n",
       "      <td>...</td>\n",
       "      <td>v7</td>\n",
       "      <td>v10</td>\n",
       "      <td>v8</td>\n",
       "      <td>v17</td>\n",
       "      <td>v9</td>\n",
       "      <td>v13</td>\n",
       "      <td>v10</td>\n",
       "      <td>v11</td>\n",
       "      <td>v2</td>\n",
       "      <td>v4</td>\n",
       "    </tr>\n",
       "    <tr>\n",
       "      <th>14.0</th>\n",
       "      <td>v11</td>\n",
       "      <td>v11</td>\n",
       "      <td>v11</td>\n",
       "      <td>v12</td>\n",
       "      <td>v10</td>\n",
       "      <td>v11</td>\n",
       "      <td>v10</td>\n",
       "      <td>v9</td>\n",
       "      <td>v11</td>\n",
       "      <td>v13</td>\n",
       "      <td>...</td>\n",
       "      <td>v12</td>\n",
       "      <td>v15</td>\n",
       "      <td>v2</td>\n",
       "      <td>v12</td>\n",
       "      <td>v17</td>\n",
       "      <td>v12</td>\n",
       "      <td>v2</td>\n",
       "      <td>v8</td>\n",
       "      <td>v16</td>\n",
       "      <td>v8</td>\n",
       "    </tr>\n",
       "    <tr>\n",
       "      <th>15.0</th>\n",
       "      <td>v15</td>\n",
       "      <td>v3</td>\n",
       "      <td>v10</td>\n",
       "      <td>v11</td>\n",
       "      <td>v11</td>\n",
       "      <td>v12</td>\n",
       "      <td>v11</td>\n",
       "      <td>v12</td>\n",
       "      <td>v12</td>\n",
       "      <td>v9</td>\n",
       "      <td>...</td>\n",
       "      <td>v1</td>\n",
       "      <td>v8</td>\n",
       "      <td>v13</td>\n",
       "      <td>v14</td>\n",
       "      <td>v11</td>\n",
       "      <td>v5</td>\n",
       "      <td>v3</td>\n",
       "      <td>v17</td>\n",
       "      <td>v17</td>\n",
       "      <td>v13</td>\n",
       "    </tr>\n",
       "  </tbody>\n",
       "</table>\n",
       "<p>15 rows × 21 columns</p>\n",
       "</div>"
      ],
      "text/plain": [
       "       gt 0.1x-prior 0.2x-prior 0.3x-prior 0.4x-prior 0.5x-prior 1.5x-prior  \\\n",
       "v19                                                                           \n",
       "1.0   v18        v18        v18        v18        v18        v18        v18   \n",
       "2.0    v1         v8        v14        v14        v14        v14        v15   \n",
       "3.0    v7        v14         v8        v17         v8        v16        v17   \n",
       "4.0   v14        v16        v17        v16        v17        v17        v16   \n",
       "5.0    v5        v17        v16         v8        v16         v8        v14   \n",
       "6.0    v4        v13        v13        v13        v13        v15         v8   \n",
       "7.0    v9         v4        v15        v15        v15        v13         v5   \n",
       "8.0    v3        v15         v4         v4         v4         v4         v4   \n",
       "9.0    v8         v1         v1         v1         v1         v5         v1   \n",
       "10.0  v12         v7         v7         v7         v7         v7        v13   \n",
       "11.0  v10         v6         v6         v5         v5         v1         v6   \n",
       "12.0  v13         v5         v5         v6         v6         v6         v7   \n",
       "13.0   v6         v9         v9         v9         v9         v9         v9   \n",
       "14.0  v11        v11        v11        v12        v10        v11        v10   \n",
       "15.0  v15         v3        v10        v11        v11        v12        v11   \n",
       "\n",
       "     3x-prior 5x-prior 7x-prior  ... 0.1x-post 0.2x-post 0.3x-post 0.4x-post  \\\n",
       "v19                              ...                                           \n",
       "1.0       v18      v18      v18  ...       v18        v4       v11        v1   \n",
       "2.0       v15      v15      v15  ...       v16       v16       v12        v9   \n",
       "3.0       v17      v17      v17  ...       v17       v18        v1        v5   \n",
       "4.0       v16      v16      v16  ...       v11       v11        v7        v7   \n",
       "5.0       v14      v14      v14  ...        v9       v12        v9       v10   \n",
       "6.0        v5       v5       v5  ...        v8        v5        v3        v8   \n",
       "7.0        v1       v1       v1  ...        v5        v1        v5        v6   \n",
       "8.0        v4       v4       v4  ...       v14        v7       v18       v13   \n",
       "9.0        v6       v6       v6  ...       v10        v6        v4       v11   \n",
       "10.0       v7       v7       v7  ...        v6       v17       v15        v3   \n",
       "11.0       v8       v8       v8  ...       v13        v9       v10       v16   \n",
       "12.0      v13      v10      v12  ...        v4        v3        v6        v2   \n",
       "13.0      v10      v13      v10  ...        v7       v10        v8       v17   \n",
       "14.0       v9      v11      v13  ...       v12       v15        v2       v12   \n",
       "15.0      v12      v12       v9  ...        v1        v8       v13       v14   \n",
       "\n",
       "     0.5x-post 1.5x-post 3x-post 5x-post 7x-post 10x-post  \n",
       "v19                                                        \n",
       "1.0         v8        v1     v14      v7     v18      v18  \n",
       "2.0        v16        v7     v18      v5     v12       v9  \n",
       "3.0        v13       v18     v12      v1      v9      v15  \n",
       "4.0        v18        v4     v15      v4     v15      v12  \n",
       "5.0         v7       v14      v5     v18      v5      v11  \n",
       "6.0        v15       v11      v9      v6      v4       v3  \n",
       "7.0        v12       v10     v11     v10      v6       v7  \n",
       "8.0         v1        v9      v4     v12     v14       v2  \n",
       "9.0         v5        v8      v6     v14     v11       v5  \n",
       "10.0        v4       v17      v7      v9      v1      v14  \n",
       "11.0        v6        v2      v1      v2     v10       v1  \n",
       "12.0       v10        v6     v16     v16      v3      v10  \n",
       "13.0        v9       v13     v10     v11      v2       v4  \n",
       "14.0       v17       v12      v2      v8     v16       v8  \n",
       "15.0       v11        v5      v3     v17     v17      v13  \n",
       "\n",
       "[15 rows x 21 columns]"
      ]
     },
     "execution_count": 42,
     "metadata": {},
     "output_type": "execute_result"
    }
   ],
   "source": [
    "b_list = []\n",
    "for FCC in prior_FCCs + post_FCCs:\n",
    "    b = util.calculate_FCC_med_rankings(FCC, 'v19', r)\n",
    "    b_list.append(b)\n",
    "\n",
    "ranked_b_list = [b.sort_values().reset_index().set_index('v19') for b in b_list]\n",
    "q = pd.concat(ranked_b_list, axis=1)\n",
    "q['gt'] = a.sort_values().reset_index().set_index('v19')\n",
    "q.columns = pt_labels + ['gt']\n",
    "q = q[['gt'] + pt_labels]\n",
    "q.head(15) ## top 15 table"
   ]
  },
  {
   "cell_type": "code",
   "execution_count": 43,
   "metadata": {},
   "outputs": [],
   "source": [
    "q.to_csv('../../../data/results/rankings/topologyB-reg2_omitIntMet_rankings.csv')\n",
    "rank_df = pd.read_csv('../../../data/results/rankings/topologyB-reg2_omitIntMet_rankings.csv')"
   ]
  },
  {
   "cell_type": "code",
   "execution_count": 44,
   "metadata": {},
   "outputs": [
    {
     "data": {
      "text/html": [
       "<div>\n",
       "<style scoped>\n",
       "    .dataframe tbody tr th:only-of-type {\n",
       "        vertical-align: middle;\n",
       "    }\n",
       "\n",
       "    .dataframe tbody tr th {\n",
       "        vertical-align: top;\n",
       "    }\n",
       "\n",
       "    .dataframe thead th {\n",
       "        text-align: right;\n",
       "    }\n",
       "</style>\n",
       "<table border=\"1\" class=\"dataframe\">\n",
       "  <thead>\n",
       "    <tr style=\"text-align: right;\">\n",
       "      <th></th>\n",
       "      <th>0.1x-prior</th>\n",
       "      <th>0.2x-prior</th>\n",
       "      <th>0.3x-prior</th>\n",
       "      <th>0.4x-prior</th>\n",
       "      <th>0.5x-prior</th>\n",
       "      <th>1.5x-prior</th>\n",
       "      <th>3x-prior</th>\n",
       "      <th>5x-prior</th>\n",
       "      <th>7x-prior</th>\n",
       "      <th>10x-prior</th>\n",
       "      <th>0.1x-post</th>\n",
       "      <th>0.2x-post</th>\n",
       "      <th>0.3x-post</th>\n",
       "      <th>0.4x-post</th>\n",
       "      <th>0.5x-post</th>\n",
       "      <th>1.5x-post</th>\n",
       "      <th>3x-post</th>\n",
       "      <th>5x-post</th>\n",
       "      <th>7x-post</th>\n",
       "      <th>10x-post</th>\n",
       "    </tr>\n",
       "  </thead>\n",
       "  <tbody>\n",
       "    <tr>\n",
       "      <th>0</th>\n",
       "      <td>6</td>\n",
       "      <td>6</td>\n",
       "      <td>6</td>\n",
       "      <td>6</td>\n",
       "      <td>6</td>\n",
       "      <td>6</td>\n",
       "      <td>6</td>\n",
       "      <td>6</td>\n",
       "      <td>6</td>\n",
       "      <td>6</td>\n",
       "      <td>5</td>\n",
       "      <td>6</td>\n",
       "      <td>8</td>\n",
       "      <td>6</td>\n",
       "      <td>7</td>\n",
       "      <td>7</td>\n",
       "      <td>7</td>\n",
       "      <td>8</td>\n",
       "      <td>7</td>\n",
       "      <td>7</td>\n",
       "    </tr>\n",
       "  </tbody>\n",
       "</table>\n",
       "</div>"
      ],
      "text/plain": [
       "   0.1x-prior  0.2x-prior  0.3x-prior  0.4x-prior  0.5x-prior  1.5x-prior  \\\n",
       "0           6           6           6           6           6           6   \n",
       "\n",
       "   3x-prior  5x-prior  7x-prior  10x-prior  0.1x-post  0.2x-post  0.3x-post  \\\n",
       "0         6         6         6          6          5          6          8   \n",
       "\n",
       "   0.4x-post  0.5x-post  1.5x-post  3x-post  5x-post  7x-post  10x-post  \n",
       "0          6          7          7        7        8        7         7  "
      ]
     },
     "execution_count": 44,
     "metadata": {},
     "output_type": "execute_result"
    }
   ],
   "source": [
    "topTen_df = rank_df[rank_df['v19'].isin([1,2,3,4,5,6,7,8,9,10])]\n",
    "\n",
    "gt_t10_set = set(list(topTen_df['gt']))\n",
    "\n",
    "t10_sets = []\n",
    "for pt in pt_labels: \n",
    "    t10_sets.append(set(list(topTen_df[pt])))\n",
    "\n",
    "t10_scores=[]\n",
    "for i in t10_sets: \n",
    "    t10_scores.append(len(set.intersection(gt_t10_set, i)))\n",
    "\n",
    "t10_results = pd.DataFrame((np.array(t10_scores)).reshape((len(pt_labels),-1)).T, \n",
    "             columns=pt_labels)\n",
    "t10_results ## number of correct predictions of top 10 FCC values "
   ]
  },
  {
   "cell_type": "code",
   "execution_count": 45,
   "metadata": {},
   "outputs": [
    {
     "name": "stdout",
     "output_type": "stream",
     "text": [
      "Int64Index([11, 14, 15, 17], dtype='int64')\n",
      "Int64Index([11, 14, 15, 17], dtype='int64')\n",
      "Int64Index([11, 14, 15, 17], dtype='int64')\n",
      "Int64Index([11, 14, 15, 17], dtype='int64')\n",
      "Int64Index([11, 14, 15, 17], dtype='int64')\n",
      "Int64Index([11, 14, 15, 17], dtype='int64')\n",
      "Int64Index([12, 14, 15, 17], dtype='int64')\n",
      "Int64Index([12, 14, 15, 17], dtype='int64')\n",
      "Int64Index([12, 14, 15, 17], dtype='int64')\n",
      "Int64Index([12, 14, 15, 17], dtype='int64')\n",
      "Int64Index([10, 12, 13, 15, 17], dtype='int64')\n",
      "Int64Index([12, 13, 15, 17], dtype='int64')\n",
      "Int64Index([13, 14], dtype='int64')\n",
      "Int64Index([10, 11, 12, 13], dtype='int64')\n",
      "Int64Index([11, 14, 15], dtype='int64')\n",
      "Int64Index([10, 13, 17], dtype='int64')\n",
      "Int64Index([12, 13, 14], dtype='int64')\n",
      "Int64Index([10, 12], dtype='int64')\n",
      "Int64Index([12, 13, 14], dtype='int64')\n",
      "Int64Index([13, 14, 16], dtype='int64')\n"
     ]
    }
   ],
   "source": [
    "# difference\n",
    "dif_list = []\n",
    "for i in t10_sets: \n",
    "    dif_list.append(i.difference(gt_t10_set))\n",
    "\n",
    "for i in dif_list: \n",
    "    print(rank_df['gt'].loc[lambda x: x.isin(i)].index)"
   ]
  }
 ],
 "metadata": {
  "kernelspec": {
   "display_name": "gayles",
   "language": "python",
   "name": "python3"
  },
  "language_info": {
   "codemirror_mode": {
    "name": "ipython",
    "version": 3
   },
   "file_extension": ".py",
   "mimetype": "text/x-python",
   "name": "python",
   "nbconvert_exporter": "python",
   "pygments_lexer": "ipython3",
   "version": "3.9.19"
  }
 },
 "nbformat": 4,
 "nbformat_minor": 2
}
