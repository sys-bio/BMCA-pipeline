{
 "cells": [
  {
   "cell_type": "markdown",
   "id": "22c31e18",
   "metadata": {},
   "source": [
    "Critique from reviewer:\n",
    "\n",
    "_For testing how well the model predicted a ground truth value, it should be possible to calculate the log probability density of the true value according to the model. This is usually a better metric than correlation coefficient._"
   ]
  },
  {
   "cell_type": "code",
   "execution_count": 1,
   "id": "9366fdee",
   "metadata": {},
   "outputs": [
    {
     "name": "stderr",
     "output_type": "stream",
     "text": [
      "WARNING (aesara.configdefaults): g++ not available, if using conda: `conda install m2w64-toolchain`\n",
      "WARNING (aesara.configdefaults): g++ not detected!  Aesara will be unable to compile C-implementations and will default to Python. Performance may be severely degraded. To remove this warning, set Aesara flags cxx to an empty string.\n",
      "WARNING (aesara.tensor.blas): Using NumPy C-API based implementation for BLAS functions.\n"
     ]
    }
   ],
   "source": [
    "SEED = 1\n",
    "import random\n",
    "random.seed(SEED)\n",
    "\n",
    "import tellurium as te\n",
    "import pandas as pd\n",
    "import numpy as np\n",
    "np.random.seed(SEED)\n",
    "\n",
    "import matplotlib.pyplot as plt\n",
    "import seaborn as sns\n",
    "import arviz as az\n",
    "\n",
    "import aesara.tensor as at\n",
    "import aesara\n",
    "floatX = aesara.config.floatX\n",
    "import pymc as pm\n",
    "import numpy as np\n",
    "\n",
    "import cobra\n",
    "import os\n",
    "\n",
    "from scipy import stats\n",
    "import scipy as sp\n",
    "import math\n",
    "\n",
    "import gzip\n",
    "import cloudpickle"
   ]
  },
  {
   "cell_type": "code",
   "execution_count": 2,
   "id": "a621b578",
   "metadata": {},
   "outputs": [],
   "source": [
    "os.chdir('../../..')\n",
    "from src import antemll, util\n",
    "import emll\n",
    "from emll.aesara_utils import LeastSquaresSolve\n",
    "os.chdir('notebooks/topologyB/all_data/')"
   ]
  },
  {
   "cell_type": "code",
   "execution_count": 3,
   "id": "229a2548",
   "metadata": {},
   "outputs": [
    {
     "data": {
      "text/plain": [
       "1.7241056990445864e-15"
      ]
     },
     "execution_count": 3,
     "metadata": {},
     "output_type": "execute_result"
    }
   ],
   "source": [
    "ant ='../../../models/Antimony/topologyB-noReg.ant' \n",
    "r = te.loada(ant)\n",
    "r.conservedMoietyAnalysis = True\n",
    "r.steadyState()"
   ]
  },
  {
   "cell_type": "code",
   "execution_count": 4,
   "id": "7fbdeb6e",
   "metadata": {},
   "outputs": [],
   "source": [
    "enzymes = ['e_' + i for i in r.getReactionIds()]\n",
    "internal = r.getFloatingSpeciesIds()\n",
    "external = r.getBoundarySpeciesIds()\n",
    "fluxes = ['v_' + i for i in r.getReactionIds()]"
   ]
  },
  {
   "cell_type": "code",
   "execution_count": 5,
   "id": "419839d8",
   "metadata": {},
   "outputs": [],
   "source": [
    "data01 = pd.read_csv('../../../data/generated_data/TopologyB-noReg/TopologyB-noReg_0.1.csv')[fluxes+external+enzymes]\n",
    "data02 = pd.read_csv('../../../data/generated_data/TopologyB-noReg/TopologyB-noReg_0.2.csv')[fluxes+external+enzymes]\n",
    "data03 = pd.read_csv('../../../data/generated_data/TopologyB-noReg/TopologyB-noReg_0.3.csv')[fluxes+external+enzymes]\n",
    "data04 = pd.read_csv('../../../data/generated_data/TopologyB-noReg/TopologyB-noReg_0.4.csv')[fluxes+external+enzymes]\n",
    "data05 = pd.read_csv('../../../data/generated_data/TopologyB-noReg/TopologyB-noReg_0.5.csv')[fluxes+external+enzymes]\n",
    "\n",
    "data15 = pd.read_csv('../../../data/generated_data/TopologyB-noReg/TopologyB-noReg_1.5.csv')[fluxes+external+enzymes]\n",
    "data3 = pd.read_csv('../../../data/generated_data/TopologyB-noReg/TopologyB-noReg_3.csv')[fluxes+external+enzymes]\n",
    "data5 = pd.read_csv('../../../data/generated_data/TopologyB-noReg/TopologyB-noReg_5.csv')[fluxes+external+enzymes]\n",
    "data7 = pd.read_csv('../../../data/generated_data/TopologyB-noReg/TopologyB-noReg_7.csv')[fluxes+external+enzymes]\n",
    "data100 = pd.read_csv('../../../data/generated_data/TopologyB-noReg/TopologyB-noReg_10.csv')[fluxes+external+enzymes]\n"
   ]
  },
  {
   "cell_type": "code",
   "execution_count": 6,
   "id": "1ab5adc7",
   "metadata": {},
   "outputs": [
    {
     "name": "stderr",
     "output_type": "stream",
     "text": [
      "No objective coefficients in model. Unclear what should be optimized\n"
     ]
    },
    {
     "name": "stdout",
     "output_type": "stream",
     "text": [
      "../../../models/Antimony/topologyB_cobra.ant\n"
     ]
    },
    {
     "name": "stderr",
     "output_type": "stream",
     "text": [
      "No objective coefficients in model. Unclear what should be optimized\n"
     ]
    },
    {
     "name": "stdout",
     "output_type": "stream",
     "text": [
      "../../../models/Antimony/topologyB_cobra.ant\n"
     ]
    },
    {
     "name": "stderr",
     "output_type": "stream",
     "text": [
      "No objective coefficients in model. Unclear what should be optimized\n"
     ]
    },
    {
     "name": "stdout",
     "output_type": "stream",
     "text": [
      "../../../models/Antimony/topologyB_cobra.ant\n"
     ]
    },
    {
     "name": "stderr",
     "output_type": "stream",
     "text": [
      "No objective coefficients in model. Unclear what should be optimized\n"
     ]
    },
    {
     "name": "stdout",
     "output_type": "stream",
     "text": [
      "../../../models/Antimony/topologyB_cobra.ant\n"
     ]
    },
    {
     "name": "stderr",
     "output_type": "stream",
     "text": [
      "No objective coefficients in model. Unclear what should be optimized\n"
     ]
    },
    {
     "name": "stdout",
     "output_type": "stream",
     "text": [
      "../../../models/Antimony/topologyB_cobra.ant\n"
     ]
    },
    {
     "name": "stderr",
     "output_type": "stream",
     "text": [
      "No objective coefficients in model. Unclear what should be optimized\n"
     ]
    },
    {
     "name": "stdout",
     "output_type": "stream",
     "text": [
      "../../../models/Antimony/topologyB_cobra.ant\n"
     ]
    },
    {
     "name": "stderr",
     "output_type": "stream",
     "text": [
      "No objective coefficients in model. Unclear what should be optimized\n"
     ]
    },
    {
     "name": "stdout",
     "output_type": "stream",
     "text": [
      "../../../models/Antimony/topologyB_cobra.ant\n"
     ]
    },
    {
     "name": "stderr",
     "output_type": "stream",
     "text": [
      "No objective coefficients in model. Unclear what should be optimized\n"
     ]
    },
    {
     "name": "stdout",
     "output_type": "stream",
     "text": [
      "../../../models/Antimony/topologyB_cobra.ant\n"
     ]
    },
    {
     "name": "stderr",
     "output_type": "stream",
     "text": [
      "No objective coefficients in model. Unclear what should be optimized\n"
     ]
    },
    {
     "name": "stdout",
     "output_type": "stream",
     "text": [
      "../../../models/Antimony/topologyB_cobra.ant\n"
     ]
    },
    {
     "name": "stderr",
     "output_type": "stream",
     "text": [
      "No objective coefficients in model. Unclear what should be optimized\n"
     ]
    },
    {
     "name": "stdout",
     "output_type": "stream",
     "text": [
      "../../../models/Antimony/topologyB_cobra.ant\n"
     ]
    }
   ],
   "source": [
    "BMCA_obj01 = antemll.antemll(ant, data01, cobra_sbml='../../../models/sbml/TopologyB_cobra.xml')\n",
    "BMCA_obj02 = antemll.antemll(ant, data02, cobra_sbml='../../../models/sbml/TopologyB_cobra.xml')\n",
    "BMCA_obj03 = antemll.antemll(ant, data03, cobra_sbml='../../../models/sbml/TopologyB_cobra.xml')\n",
    "BMCA_obj04 = antemll.antemll(ant, data04, cobra_sbml='../../../models/sbml/TopologyB_cobra.xml')\n",
    "BMCA_obj05 = antemll.antemll(ant, data05, cobra_sbml='../../../models/sbml/TopologyB_cobra.xml')\n",
    "\n",
    "BMCA_obj15 = antemll.antemll(ant, data15, cobra_sbml='../../../models/sbml/TopologyB_cobra.xml')\n",
    "BMCA_obj3 = antemll.antemll(ant, data3, cobra_sbml='../../../models/sbml/TopologyB_cobra.xml')\n",
    "BMCA_obj5 = antemll.antemll(ant, data5, cobra_sbml='../../../models/sbml/TopologyB_cobra.xml')\n",
    "BMCA_obj7 = antemll.antemll(ant, data7, cobra_sbml='../../../models/sbml/TopologyB_cobra.xml')\n",
    "BMCA_obj100 = antemll.antemll(ant, data100, cobra_sbml='../../../models/sbml/TopologyB_cobra.xml')\n"
   ]
  },
  {
   "cell_type": "markdown",
   "id": "15a4adf6",
   "metadata": {},
   "source": [
    "## Analysis\n"
   ]
  },
  {
   "cell_type": "code",
   "execution_count": 7,
   "id": "4fb44245",
   "metadata": {},
   "outputs": [],
   "source": [
    "picklefolder = '../../../data/results/tracePickles/'\n",
    "with gzip.open(picklefolder + 'topologyB-noReg_omitIntMet_traces.pgz', \"rb\") as f:\n",
    "    traces = cloudpickle.load(f, encoding='bytes')"
   ]
  },
  {
   "cell_type": "code",
   "execution_count": 8,
   "id": "7ff46af8",
   "metadata": {},
   "outputs": [],
   "source": [
    "trace01=traces['trace01']\n",
    "trace02=traces['trace02']\n",
    "trace03=traces['trace03']\n",
    "trace04=traces['trace04']\n",
    "trace05=traces['trace05']\n",
    "trace15=traces['trace15']\n",
    "trace3=traces['trace3']\n",
    "trace5=traces['trace5']\n",
    "trace7=traces['trace7']\n",
    "trace100=traces['trace100']"
   ]
  },
  {
   "cell_type": "code",
   "execution_count": 9,
   "id": "06b0ff54",
   "metadata": {},
   "outputs": [],
   "source": [
    "from scipy.stats import gaussian_kde\n",
    "\n",
    "def get_logp(trace, true_values):  \n",
    "    \"\"\"\n",
    "    Estimate marginal logp at each ground truth value using KDE.\n",
    "\n",
    "    Parameters:\n",
    "    - trace: ArviZ InferenceData object containing posterior samples\n",
    "    - true_values: numpy array of shape (16, 11) representing ground truth\n",
    "\n",
    "    Returns:\n",
    "    - logps: numpy array of shape (16, 11) of log probabilities\n",
    "    \"\"\"\n",
    "\n",
    "    samples = trace.posterior[\"Ex\"].stack(sample=(\"chain\", \"draw\")).values  # shape: (16, 11, 1000)\n",
    "    samples = np.moveaxis(samples, -1, 0)  # shape: (1000, 16, 11)\n",
    "    \n",
    "    logps = np.zeros_like(true_values)\n",
    "\n",
    "    for i in range(true_values.shape[0]):\n",
    "        for j in range(true_values.shape[1]):\n",
    "            var_samples = samples[:, i, j]\n",
    "            kde = gaussian_kde(var_samples)\n",
    "            logps[i, j] = np.log(kde(true_values[i, j]))\n",
    "\n",
    "    return np.array(logps)\n"
   ]
  },
  {
   "cell_type": "code",
   "execution_count": 10,
   "id": "bb72e336",
   "metadata": {},
   "outputs": [
    {
     "name": "stderr",
     "output_type": "stream",
     "text": [
      "C:\\Users\\user\\AppData\\Local\\Temp\\ipykernel_54308\\95413887.py:24: RuntimeWarning:\n",
      "\n",
      "divide by zero encountered in log\n",
      "\n"
     ]
    }
   ],
   "source": [
    "logp_array = get_logp(trace100[0], true_values=r.getScaledElasticityMatrix())  # where Ex_true is your (16, 11) ground truth"
   ]
  },
  {
   "cell_type": "code",
   "execution_count": 11,
   "id": "bf65deac",
   "metadata": {},
   "outputs": [
    {
     "data": {
      "text/html": [
       "<div>\n",
       "<style scoped>\n",
       "    .dataframe tbody tr th:only-of-type {\n",
       "        vertical-align: middle;\n",
       "    }\n",
       "\n",
       "    .dataframe tbody tr th {\n",
       "        vertical-align: top;\n",
       "    }\n",
       "\n",
       "    .dataframe thead th {\n",
       "        text-align: right;\n",
       "    }\n",
       "</style>\n",
       "<table border=\"1\" class=\"dataframe\">\n",
       "  <thead>\n",
       "    <tr style=\"text-align: right;\">\n",
       "      <th></th>\n",
       "      <th>0</th>\n",
       "      <th>1</th>\n",
       "      <th>2</th>\n",
       "      <th>3</th>\n",
       "      <th>4</th>\n",
       "      <th>5</th>\n",
       "      <th>6</th>\n",
       "      <th>7</th>\n",
       "      <th>8</th>\n",
       "      <th>9</th>\n",
       "      <th>10</th>\n",
       "      <th>11</th>\n",
       "      <th>12</th>\n",
       "    </tr>\n",
       "  </thead>\n",
       "  <tbody>\n",
       "    <tr>\n",
       "      <th>0</th>\n",
       "      <td>2.264815</td>\n",
       "      <td>-inf</td>\n",
       "      <td>3.323971</td>\n",
       "      <td>3.324653</td>\n",
       "      <td>2.968253</td>\n",
       "      <td>3.432623</td>\n",
       "      <td>2.891004</td>\n",
       "      <td>3.007349</td>\n",
       "      <td>3.047271</td>\n",
       "      <td>2.695314</td>\n",
       "      <td>3.419094</td>\n",
       "      <td>3.038311</td>\n",
       "      <td>3.231075</td>\n",
       "    </tr>\n",
       "    <tr>\n",
       "      <th>1</th>\n",
       "      <td>3.103749</td>\n",
       "      <td>-inf</td>\n",
       "      <td>2.923523</td>\n",
       "      <td>2.983864</td>\n",
       "      <td>3.047872</td>\n",
       "      <td>3.093656</td>\n",
       "      <td>2.914078</td>\n",
       "      <td>-inf</td>\n",
       "      <td>3.145321</td>\n",
       "      <td>3.120671</td>\n",
       "      <td>3.083405</td>\n",
       "      <td>3.084398</td>\n",
       "      <td>3.043958</td>\n",
       "    </tr>\n",
       "    <tr>\n",
       "      <th>2</th>\n",
       "      <td>2.973968</td>\n",
       "      <td>2.878992</td>\n",
       "      <td>3.101951</td>\n",
       "      <td>3.176381</td>\n",
       "      <td>3.017292</td>\n",
       "      <td>3.112928</td>\n",
       "      <td>3.072223</td>\n",
       "      <td>-inf</td>\n",
       "      <td>3.133846</td>\n",
       "      <td>3.109890</td>\n",
       "      <td>3.188868</td>\n",
       "      <td>3.115974</td>\n",
       "      <td>3.219059</td>\n",
       "    </tr>\n",
       "    <tr>\n",
       "      <th>3</th>\n",
       "      <td>3.360523</td>\n",
       "      <td>-inf</td>\n",
       "      <td>3.022247</td>\n",
       "      <td>3.277897</td>\n",
       "      <td>3.062698</td>\n",
       "      <td>3.193362</td>\n",
       "      <td>3.122683</td>\n",
       "      <td>3.161576</td>\n",
       "      <td>3.012901</td>\n",
       "      <td>-inf</td>\n",
       "      <td>3.400450</td>\n",
       "      <td>3.058828</td>\n",
       "      <td>3.199902</td>\n",
       "    </tr>\n",
       "    <tr>\n",
       "      <th>4</th>\n",
       "      <td>-inf</td>\n",
       "      <td>0.735398</td>\n",
       "      <td>2.927885</td>\n",
       "      <td>3.182568</td>\n",
       "      <td>2.910926</td>\n",
       "      <td>3.117011</td>\n",
       "      <td>3.321215</td>\n",
       "      <td>3.006336</td>\n",
       "      <td>2.984359</td>\n",
       "      <td>-inf</td>\n",
       "      <td>3.001999</td>\n",
       "      <td>3.281137</td>\n",
       "      <td>2.903711</td>\n",
       "    </tr>\n",
       "    <tr>\n",
       "      <th>5</th>\n",
       "      <td>-inf</td>\n",
       "      <td>2.894308</td>\n",
       "      <td>3.055626</td>\n",
       "      <td>3.115754</td>\n",
       "      <td>3.036076</td>\n",
       "      <td>3.127037</td>\n",
       "      <td>-inf</td>\n",
       "      <td>3.008927</td>\n",
       "      <td>2.953071</td>\n",
       "      <td>3.029052</td>\n",
       "      <td>3.064897</td>\n",
       "      <td>3.100071</td>\n",
       "      <td>3.016975</td>\n",
       "    </tr>\n",
       "    <tr>\n",
       "      <th>6</th>\n",
       "      <td>2.746669</td>\n",
       "      <td>1.390806</td>\n",
       "      <td>3.268930</td>\n",
       "      <td>3.048927</td>\n",
       "      <td>3.146451</td>\n",
       "      <td>3.430989</td>\n",
       "      <td>-inf</td>\n",
       "      <td>3.076859</td>\n",
       "      <td>3.151527</td>\n",
       "      <td>3.182928</td>\n",
       "      <td>3.238699</td>\n",
       "      <td>3.036833</td>\n",
       "      <td>3.344192</td>\n",
       "    </tr>\n",
       "    <tr>\n",
       "      <th>7</th>\n",
       "      <td>-inf</td>\n",
       "      <td>2.742253</td>\n",
       "      <td>3.092176</td>\n",
       "      <td>-inf</td>\n",
       "      <td>2.970136</td>\n",
       "      <td>2.888149</td>\n",
       "      <td>2.872585</td>\n",
       "      <td>3.211281</td>\n",
       "      <td>2.544245</td>\n",
       "      <td>2.998163</td>\n",
       "      <td>2.904914</td>\n",
       "      <td>3.127173</td>\n",
       "      <td>3.094810</td>\n",
       "    </tr>\n",
       "    <tr>\n",
       "      <th>8</th>\n",
       "      <td>-inf</td>\n",
       "      <td>-3.022660</td>\n",
       "      <td>3.030466</td>\n",
       "      <td>3.185697</td>\n",
       "      <td>3.369120</td>\n",
       "      <td>3.181047</td>\n",
       "      <td>3.059073</td>\n",
       "      <td>3.176590</td>\n",
       "      <td>1.030848</td>\n",
       "      <td>3.351726</td>\n",
       "      <td>3.184418</td>\n",
       "      <td>-inf</td>\n",
       "      <td>3.163604</td>\n",
       "    </tr>\n",
       "    <tr>\n",
       "      <th>9</th>\n",
       "      <td>3.057205</td>\n",
       "      <td>1.386187</td>\n",
       "      <td>3.058276</td>\n",
       "      <td>3.060255</td>\n",
       "      <td>-inf</td>\n",
       "      <td>3.084705</td>\n",
       "      <td>3.040190</td>\n",
       "      <td>3.008487</td>\n",
       "      <td>2.605346</td>\n",
       "      <td>3.061614</td>\n",
       "      <td>2.937429</td>\n",
       "      <td>-inf</td>\n",
       "      <td>3.108617</td>\n",
       "    </tr>\n",
       "    <tr>\n",
       "      <th>10</th>\n",
       "      <td>2.506106</td>\n",
       "      <td>2.301146</td>\n",
       "      <td>2.929091</td>\n",
       "      <td>3.052184</td>\n",
       "      <td>-inf</td>\n",
       "      <td>3.052900</td>\n",
       "      <td>3.003675</td>\n",
       "      <td>3.142492</td>\n",
       "      <td>-inf</td>\n",
       "      <td>2.502261</td>\n",
       "      <td>3.054445</td>\n",
       "      <td>3.064885</td>\n",
       "      <td>2.972010</td>\n",
       "    </tr>\n",
       "    <tr>\n",
       "      <th>11</th>\n",
       "      <td>2.870723</td>\n",
       "      <td>-21.172191</td>\n",
       "      <td>3.039598</td>\n",
       "      <td>2.989473</td>\n",
       "      <td>2.995420</td>\n",
       "      <td>3.131201</td>\n",
       "      <td>2.940218</td>\n",
       "      <td>3.110301</td>\n",
       "      <td>-inf</td>\n",
       "      <td>2.966583</td>\n",
       "      <td>3.123137</td>\n",
       "      <td>2.925890</td>\n",
       "      <td>3.146464</td>\n",
       "    </tr>\n",
       "    <tr>\n",
       "      <th>12</th>\n",
       "      <td>2.238576</td>\n",
       "      <td>-600.935193</td>\n",
       "      <td>3.044412</td>\n",
       "      <td>-inf</td>\n",
       "      <td>2.955673</td>\n",
       "      <td>3.131480</td>\n",
       "      <td>2.618585</td>\n",
       "      <td>3.034524</td>\n",
       "      <td>2.278391</td>\n",
       "      <td>2.808294</td>\n",
       "      <td>3.224388</td>\n",
       "      <td>3.047123</td>\n",
       "      <td>3.287912</td>\n",
       "    </tr>\n",
       "    <tr>\n",
       "      <th>13</th>\n",
       "      <td>2.305249</td>\n",
       "      <td>-379.694798</td>\n",
       "      <td>2.822118</td>\n",
       "      <td>-inf</td>\n",
       "      <td>2.419141</td>\n",
       "      <td>3.539088</td>\n",
       "      <td>2.548980</td>\n",
       "      <td>3.104490</td>\n",
       "      <td>2.769069</td>\n",
       "      <td>1.675535</td>\n",
       "      <td>3.979441</td>\n",
       "      <td>2.855801</td>\n",
       "      <td>-inf</td>\n",
       "    </tr>\n",
       "    <tr>\n",
       "      <th>14</th>\n",
       "      <td>3.013919</td>\n",
       "      <td>3.274274</td>\n",
       "      <td>2.992917</td>\n",
       "      <td>3.119107</td>\n",
       "      <td>2.991459</td>\n",
       "      <td>-inf</td>\n",
       "      <td>3.100528</td>\n",
       "      <td>2.833945</td>\n",
       "      <td>3.085330</td>\n",
       "      <td>3.083168</td>\n",
       "      <td>3.086124</td>\n",
       "      <td>3.117838</td>\n",
       "      <td>-inf</td>\n",
       "    </tr>\n",
       "    <tr>\n",
       "      <th>15</th>\n",
       "      <td>3.050137</td>\n",
       "      <td>3.345917</td>\n",
       "      <td>3.093273</td>\n",
       "      <td>3.067184</td>\n",
       "      <td>3.061231</td>\n",
       "      <td>-inf</td>\n",
       "      <td>3.116383</td>\n",
       "      <td>3.135838</td>\n",
       "      <td>3.085996</td>\n",
       "      <td>3.030195</td>\n",
       "      <td>-inf</td>\n",
       "      <td>2.908236</td>\n",
       "      <td>3.000258</td>\n",
       "    </tr>\n",
       "    <tr>\n",
       "      <th>16</th>\n",
       "      <td>3.108539</td>\n",
       "      <td>3.292884</td>\n",
       "      <td>-inf</td>\n",
       "      <td>3.176945</td>\n",
       "      <td>3.071027</td>\n",
       "      <td>3.119830</td>\n",
       "      <td>3.115127</td>\n",
       "      <td>3.147766</td>\n",
       "      <td>3.022770</td>\n",
       "      <td>2.998391</td>\n",
       "      <td>-inf</td>\n",
       "      <td>3.202703</td>\n",
       "      <td>3.018720</td>\n",
       "    </tr>\n",
       "    <tr>\n",
       "      <th>17</th>\n",
       "      <td>3.104349</td>\n",
       "      <td>3.282313</td>\n",
       "      <td>-inf</td>\n",
       "      <td>3.059958</td>\n",
       "      <td>2.863068</td>\n",
       "      <td>3.152678</td>\n",
       "      <td>3.202963</td>\n",
       "      <td>3.117841</td>\n",
       "      <td>2.999467</td>\n",
       "      <td>3.123147</td>\n",
       "      <td>3.041932</td>\n",
       "      <td>2.909571</td>\n",
       "      <td>3.008876</td>\n",
       "    </tr>\n",
       "    <tr>\n",
       "      <th>18</th>\n",
       "      <td>3.041853</td>\n",
       "      <td>3.388756</td>\n",
       "      <td>-inf</td>\n",
       "      <td>2.974839</td>\n",
       "      <td>3.138548</td>\n",
       "      <td>3.134193</td>\n",
       "      <td>3.144566</td>\n",
       "      <td>2.929244</td>\n",
       "      <td>3.109076</td>\n",
       "      <td>3.100230</td>\n",
       "      <td>3.147364</td>\n",
       "      <td>2.916160</td>\n",
       "      <td>3.072090</td>\n",
       "    </tr>\n",
       "  </tbody>\n",
       "</table>\n",
       "</div>"
      ],
      "text/plain": [
       "          0           1         2         3         4         5         6   \\\n",
       "0   2.264815        -inf  3.323971  3.324653  2.968253  3.432623  2.891004   \n",
       "1   3.103749        -inf  2.923523  2.983864  3.047872  3.093656  2.914078   \n",
       "2   2.973968    2.878992  3.101951  3.176381  3.017292  3.112928  3.072223   \n",
       "3   3.360523        -inf  3.022247  3.277897  3.062698  3.193362  3.122683   \n",
       "4       -inf    0.735398  2.927885  3.182568  2.910926  3.117011  3.321215   \n",
       "5       -inf    2.894308  3.055626  3.115754  3.036076  3.127037      -inf   \n",
       "6   2.746669    1.390806  3.268930  3.048927  3.146451  3.430989      -inf   \n",
       "7       -inf    2.742253  3.092176      -inf  2.970136  2.888149  2.872585   \n",
       "8       -inf   -3.022660  3.030466  3.185697  3.369120  3.181047  3.059073   \n",
       "9   3.057205    1.386187  3.058276  3.060255      -inf  3.084705  3.040190   \n",
       "10  2.506106    2.301146  2.929091  3.052184      -inf  3.052900  3.003675   \n",
       "11  2.870723  -21.172191  3.039598  2.989473  2.995420  3.131201  2.940218   \n",
       "12  2.238576 -600.935193  3.044412      -inf  2.955673  3.131480  2.618585   \n",
       "13  2.305249 -379.694798  2.822118      -inf  2.419141  3.539088  2.548980   \n",
       "14  3.013919    3.274274  2.992917  3.119107  2.991459      -inf  3.100528   \n",
       "15  3.050137    3.345917  3.093273  3.067184  3.061231      -inf  3.116383   \n",
       "16  3.108539    3.292884      -inf  3.176945  3.071027  3.119830  3.115127   \n",
       "17  3.104349    3.282313      -inf  3.059958  2.863068  3.152678  3.202963   \n",
       "18  3.041853    3.388756      -inf  2.974839  3.138548  3.134193  3.144566   \n",
       "\n",
       "          7         8         9         10        11        12  \n",
       "0   3.007349  3.047271  2.695314  3.419094  3.038311  3.231075  \n",
       "1       -inf  3.145321  3.120671  3.083405  3.084398  3.043958  \n",
       "2       -inf  3.133846  3.109890  3.188868  3.115974  3.219059  \n",
       "3   3.161576  3.012901      -inf  3.400450  3.058828  3.199902  \n",
       "4   3.006336  2.984359      -inf  3.001999  3.281137  2.903711  \n",
       "5   3.008927  2.953071  3.029052  3.064897  3.100071  3.016975  \n",
       "6   3.076859  3.151527  3.182928  3.238699  3.036833  3.344192  \n",
       "7   3.211281  2.544245  2.998163  2.904914  3.127173  3.094810  \n",
       "8   3.176590  1.030848  3.351726  3.184418      -inf  3.163604  \n",
       "9   3.008487  2.605346  3.061614  2.937429      -inf  3.108617  \n",
       "10  3.142492      -inf  2.502261  3.054445  3.064885  2.972010  \n",
       "11  3.110301      -inf  2.966583  3.123137  2.925890  3.146464  \n",
       "12  3.034524  2.278391  2.808294  3.224388  3.047123  3.287912  \n",
       "13  3.104490  2.769069  1.675535  3.979441  2.855801      -inf  \n",
       "14  2.833945  3.085330  3.083168  3.086124  3.117838      -inf  \n",
       "15  3.135838  3.085996  3.030195      -inf  2.908236  3.000258  \n",
       "16  3.147766  3.022770  2.998391      -inf  3.202703  3.018720  \n",
       "17  3.117841  2.999467  3.123147  3.041932  2.909571  3.008876  \n",
       "18  2.929244  3.109076  3.100230  3.147364  2.916160  3.072090  "
      ]
     },
     "execution_count": 11,
     "metadata": {},
     "output_type": "execute_result"
    }
   ],
   "source": [
    "pd.DataFrame(logp_array)"
   ]
  },
  {
   "cell_type": "code",
   "execution_count": 12,
   "id": "7725e8a3",
   "metadata": {},
   "outputs": [],
   "source": [
    "from scipy.stats import gaussian_kde\n",
    "\n",
    "def inspect_kde(samples, true_value):\n",
    "    # Fit KDE\n",
    "    kde = gaussian_kde(samples)\n",
    "\n",
    "    # Evaluate density around the true value\n",
    "    x_grid = np.linspace(true_value - 1, true_value + 1, 500)\n",
    "    density = kde(x_grid)\n",
    "\n",
    "    # Plot\n",
    "    plt.figure(figsize=(8, 4))\n",
    "    plt.plot(x_grid, density, label=\"KDE\")\n",
    "    plt.axvline(true_value, color='red', linestyle='--', label=f\"True value: {true_value:.3f}\")\n",
    "    plt.title(\"KDE around True Value\")\n",
    "    plt.xlabel(\"Value\")\n",
    "    plt.ylabel(\"Density\")\n",
    "    plt.legend()\n",
    "    plt.grid(True)\n",
    "    plt.show()\n",
    "\n",
    "    print(f\"Bandwidth: {kde.factor:.4f}\")\n",
    "    print(f\"Max density: {np.max(density):.4f}\")"
   ]
  },
  {
   "cell_type": "code",
   "execution_count": 13,
   "id": "3b85978f",
   "metadata": {},
   "outputs": [
    {
     "name": "stdout",
     "output_type": "stream",
     "text": [
      "0 1\n",
      "1 1\n",
      "1 7\n",
      "2 7\n",
      "3 1\n",
      "3 9\n",
      "4 0\n",
      "4 9\n",
      "5 0\n",
      "5 6\n",
      "6 6\n",
      "7 0\n",
      "7 3\n",
      "8 0\n",
      "8 11\n",
      "9 4\n",
      "9 11\n",
      "10 4\n",
      "10 8\n",
      "11 8\n",
      "12 3\n",
      "13 3\n",
      "13 12\n",
      "14 5\n",
      "14 12\n",
      "15 5\n",
      "15 10\n",
      "16 2\n",
      "16 10\n",
      "17 2\n",
      "18 2\n"
     ]
    }
   ],
   "source": [
    "nonzeros = np.where(r.getScaledElasticityMatrix()!=0)\n",
    "for i,ii in zip(nonzeros[0], nonzeros[1]):\n",
    "    print(i,ii)"
   ]
  },
  {
   "cell_type": "code",
   "execution_count": 14,
   "id": "d82245ab",
   "metadata": {},
   "outputs": [
    {
     "data": {
      "image/png": "[encoded data removed]",
      "text/plain": [
       "<Figure size 800x400 with 1 Axes>"
      ]
     },
     "metadata": {},
     "output_type": "display_data"
    },
    {
     "name": "stdout",
     "output_type": "stream",
     "text": [
      "Bandwidth: 0.2512\n",
      "Max density: 0.0000\n"
     ]
    }
   ],
   "source": [
    "a, b = 15,10\n",
    "\n",
    "samples = trace100[0].posterior['Ex'].stack(sample=(\"chain\", \"draw\")).values[a,b]\n",
    "true_value = r.getScaledElasticityMatrix()[a,b]\n",
    "inspect_kde(samples, true_value)\n"
   ]
  },
  {
   "cell_type": "markdown",
   "id": "23d98e3b",
   "metadata": {},
   "source": [
    "## Summary statistics and plots"
   ]
  },
  {
   "cell_type": "code",
   "execution_count": 15,
   "id": "4e21ab6a",
   "metadata": {},
   "outputs": [
    {
     "name": "stdout",
     "output_type": "stream",
     "text": [
      "min logp: -inf\n",
      "max logp: 3.9794409264847643\n",
      "median logp 3.041932146970419\n"
     ]
    }
   ],
   "source": [
    "print(\"min logp:\", logp_array.min())\n",
    "print(\"max logp:\", logp_array.max())\n",
    "print('median logp', np.median(logp_array))"
   ]
  },
  {
   "cell_type": "code",
   "execution_count": 16,
   "id": "2310480a",
   "metadata": {},
   "outputs": [
    {
     "data": {
      "image/png": "[encoded data removed]",
      "text/plain": [
       "<Figure size 1000x600 with 1 Axes>"
      ]
     },
     "metadata": {},
     "output_type": "display_data"
    }
   ],
   "source": [
    "logp_for_plotting = logp_array.copy()\n",
    "logp_for_plotting[logp_for_plotting<-4] = -4.6\n",
    "\n",
    "# Remove -inf values for plotting\n",
    "finite_logp = logp_for_plotting[np.isfinite(logp_for_plotting)]\n",
    "\n",
    "# Plot histogram\n",
    "plt.figure(figsize=(10, 6))\n",
    "n, bins, patches = plt.hist(finite_logp, bins=30, color='skyblue', edgecolor='black', zorder=100)\n",
    "plt.title(\"Histogram of Log Probability Densities for Ground Truth Values\")\n",
    "plt.xlabel(\"Log Probability Density\")\n",
    "plt.ylabel(\"Count\")\n",
    "plt.grid(True)\n",
    "plt.axvline(np.median(finite_logp), color='red', linestyle='--', label=f\"Median: {np.median(finite_logp):.2f}\", zorder=101)\n",
    "\n",
    "for i in np.where(bins<-1.1)[0]: \n",
    "    patches[i].set_facecolor('orange')\n",
    "patches[0].set_facecolor('red')\n",
    "\n",
    "plt.legend()\n",
    "\n",
    "plt.text(-4.5, -1.4, '<-4', ha='center')\n",
    "\n",
    "plt.tight_layout()\n"
   ]
  },
  {
   "cell_type": "code",
   "execution_count": 17,
   "id": "c765ce4e",
   "metadata": {},
   "outputs": [
    {
     "name": "stdout",
     "output_type": "stream",
     "text": [
      "Elasticities with good estimations: 212 (85.83%)\n",
      "Elasticities with bad estimations: 35 (14.17%)\n"
     ]
    }
   ],
   "source": [
    "good = len(logp_array[logp_array>-1])\n",
    "bad = len(logp_array[logp_array<-1])\n",
    "total = len(logp_array.flatten())\n",
    "print('Elasticities with good estimations:', good, f'({round(good*100/total,2)}%)')\n",
    "print('Elasticities with bad estimations:', bad, f'({round(bad*100/total,2)}%)')"
   ]
  },
  {
   "cell_type": "code",
   "execution_count": 18,
   "id": "f792d55b",
   "metadata": {},
   "outputs": [
    {
     "data": {
      "image/png": "[encoded data removed]",
      "text/plain": [
       "<Figure size 800x600 with 1 Axes>"
      ]
     },
     "metadata": {},
     "output_type": "display_data"
    }
   ],
   "source": [
    "# Example arrays\n",
    "true_values = r.getScaledElasticityMatrix().flatten()\n",
    "logp_values = logp_array.flatten()\n",
    "\n",
    "# Remove -inf or NaN\n",
    "mask = np.isfinite(logp_values)\n",
    "true_values = true_values# [mask]\n",
    "logp_values = logp_for_plotting\n",
    "\n",
    "conditions = [\n",
    "    logp_values < -4,\n",
    "    (logp_values >= -4) & (logp_values < -1),\n",
    "    logp_values >= -1\n",
    "]\n",
    "\n",
    "choices = ['red', 'darkorange', 'blue']\n",
    "\n",
    "colors = np.select(conditions, choices).flatten()\n",
    "\n",
    "plt.figure(figsize=(8, 6))\n",
    "plt.grid(True)\n",
    "plt.scatter(true_values, logp_values, c=colors, alpha=0.8, zorder=100)\n",
    "plt.xlabel(\"Ground Truth Value\")\n",
    "plt.ylabel(\"Log Probability Density\")\n",
    "plt.title(\"Logp vs. Ground Truth Value\", fontsize=16)\n",
    "plt.axhline(0, color='gray', linestyle='--', linewidth=1)\n",
    "\n",
    "plt.axhline(-4.6, color='orangered', linestyle='--', linewidth=1)\n",
    "plt.text(-12.68, -4.7, '<-4', ha='center')\n",
    "\n",
    "plt.tight_layout()\n"
   ]
  },
  {
   "cell_type": "markdown",
   "id": "0caa8a99",
   "metadata": {},
   "source": [
    "# For all traces"
   ]
  },
  {
   "cell_type": "code",
   "execution_count": 19,
   "id": "947f1608",
   "metadata": {},
   "outputs": [],
   "source": [
    "pt_labels = ['0.1x', '0.2x', '0.3x', '0.4x','0.5x', '1.5x', '3x', '5x', '7x', '10x']\n",
    "traces = [trace01, trace02, trace03, trace04, trace05, trace15, trace3, trace5, trace7, trace100]"
   ]
  },
  {
   "cell_type": "code",
   "execution_count": 20,
   "id": "173b5e92",
   "metadata": {},
   "outputs": [
    {
     "name": "stderr",
     "output_type": "stream",
     "text": [
      "C:\\Users\\user\\AppData\\Local\\Temp\\ipykernel_54308\\95413887.py:24: RuntimeWarning:\n",
      "\n",
      "divide by zero encountered in log\n",
      "\n"
     ]
    }
   ],
   "source": [
    "logp_arrays = [get_logp(i[0], true_values=r.getScaledElasticityMatrix()) for i in traces]"
   ]
  },
  {
   "cell_type": "code",
   "execution_count": 21,
   "id": "def2f355",
   "metadata": {},
   "outputs": [
    {
     "data": {
      "text/plain": [
       "3.985254471520339"
      ]
     },
     "execution_count": 21,
     "metadata": {},
     "output_type": "execute_result"
    }
   ],
   "source": [
    "np.max([i.max() for i in logp_arrays])"
   ]
  },
  {
   "cell_type": "code",
   "execution_count": 22,
   "id": "b7926fba",
   "metadata": {},
   "outputs": [
    {
     "name": "stderr",
     "output_type": "stream",
     "text": [
      "C:\\Users\\user\\AppData\\Local\\Temp\\ipykernel_54308\\3067201008.py:22: MatplotlibDeprecationWarning:\n",
      "\n",
      "The get_cmap function was deprecated in Matplotlib 3.7 and will be removed two minor releases later. Use ``matplotlib.colormaps[name]`` or ``matplotlib.colormaps.get_cmap(obj)`` instead.\n",
      "\n",
      "C:\\Users\\user\\AppData\\Local\\Temp\\ipykernel_54308\\3067201008.py:38: MatplotlibDeprecationWarning:\n",
      "\n",
      "The get_cmap function was deprecated in Matplotlib 3.7 and will be removed two minor releases later. Use ``matplotlib.colormaps[name]`` or ``matplotlib.colormaps.get_cmap(obj)`` instead.\n",
      "\n"
     ]
    },
    {
     "data": {
      "image/png": "[encoded data removed]",
      "text/plain": [
       "<Figure size 1000x800 with 1 Axes>"
      ]
     },
     "metadata": {},
     "output_type": "display_data"
    }
   ],
   "source": [
    "MAX_LENGTH = 4.2\n",
    "\n",
    "from matplotlib.colors import Normalize\n",
    "from matplotlib.cm import ScalarMappable, get_cmap\n",
    "\n",
    "# Clip and flatten all traces\n",
    "clipped_arrays = []\n",
    "for i, logp_array in enumerate(logp_arrays):\n",
    "    clipped = logp_array.copy()\n",
    "    clipped[clipped < -4] = -4.6\n",
    "    clipped = clipped[np.isfinite(clipped)].flatten()\n",
    "    clipped_arrays.append(pd.Series(clipped, name=pt_labels[i]))\n",
    "\n",
    "df = pd.concat(reversed(clipped_arrays), axis=1)\n",
    "\n",
    "# Parameters\n",
    "num_traces = df.shape[1]\n",
    "bins = np.linspace(-4.6, MAX_LENGTH, 50)\n",
    "height = 1.0\n",
    "\n",
    "# Setup color gradient left to right\n",
    "cmap = get_cmap(\"RdGy\")\n",
    "norm = Normalize(vmin=bins[0], vmax=bins[-1])\n",
    "\n",
    "# Plot\n",
    "plt.figure(figsize=(10, 8))\n",
    "\n",
    "for plot_idx in range(num_traces):\n",
    "    \n",
    "    col = df.columns[plot_idx]\n",
    "    values = df[col].dropna()\n",
    "    hist, bin_edges = np.histogram(values, bins=bins)\n",
    "    hist = hist / hist.max()\n",
    "    bin_centers = 0.5 * (bin_edges[:-1] + bin_edges[1:])\n",
    "\n",
    "    # Alternate colormaps per row\n",
    "    cmap_name = \"Wistia_r\" if (num_traces - 1 - plot_idx) % 2 == 0 else \"autumn\"\n",
    "    cmap = get_cmap(cmap_name)\n",
    "    norm = Normalize(vmin=bins[0], vmax=bins[-1])\n",
    "\n",
    "    for i in range(len(hist)):\n",
    "        color = cmap(norm(bin_centers[i]))\n",
    "        plt.fill_between([bin_edges[i], bin_edges[i+1]],\n",
    "                         plot_idx * height,\n",
    "                         plot_idx * height + hist[i],\n",
    "                         color=color, step='pre', linewidth=0)\n",
    "\n",
    "        plt.plot([bin_edges[i], bin_edges[i+1]],\n",
    "                 [plot_idx * height, plot_idx * height],\n",
    "                 color=color, linewidth=0.5, alpha=0.7)\n",
    "\n",
    "    # Median line\n",
    "    median = np.median(values)\n",
    "    plt.axvline(median,\n",
    "                ymin=(plot_idx * height) / ((num_traces+1) * height) + 0.05,\n",
    "                ymax=((plot_idx * height + 1) / ((num_traces+1) * height)) + 0.04,\n",
    "                color='orangered',\n",
    "                linestyle='--',\n",
    "                linewidth=1)\n",
    "\n",
    "# Formatting\n",
    "plt.xticks(fontsize=14)\n",
    "plt.yticks(height * np.arange(num_traces), [f\"{pt_labels[i]}\" for i in range(num_traces)][::-1], fontsize=14)\n",
    "plt.xlabel(\"Log probability density\", fontsize=14)\n",
    "plt.ylabel(\"Perturbation strength in dataset\", fontsize=14)\n",
    "plt.title(\"Distributions of Logp Densities for Different Perturbation Strengths\", fontsize=18)\n",
    "plt.grid(True, axis='x', linestyle='--', alpha=0.3)\n",
    "plt.xlim(-4.8, MAX_LENGTH)\n",
    "\n",
    "plt.text(-4.5, -0.89, '<-4', ha='center', fontsize=14)\n",
    "\n",
    "plt.tight_layout()\n"
   ]
  },
  {
   "cell_type": "code",
   "execution_count": 23,
   "id": "74116d72",
   "metadata": {},
   "outputs": [
    {
     "name": "stdout",
     "output_type": "stream",
     "text": [
      "85.43\n",
      "87.45\n",
      "87.85\n",
      "87.85\n",
      "87.85\n",
      "87.85\n",
      "86.23\n",
      "86.23\n",
      "84.62\n",
      "85.83\n"
     ]
    }
   ],
   "source": [
    "def calculate_goods(logp_array):\n",
    "    good = len(logp_array[logp_array>-1])\n",
    "    total = len(logp_array.flatten())\n",
    "    return round(good*100/total,2)\n",
    "\n",
    "for i in logp_arrays:\n",
    "    print(calculate_goods(i))"
   ]
  },
  {
   "cell_type": "code",
   "execution_count": 24,
   "id": "13cd9b30",
   "metadata": {},
   "outputs": [
    {
     "name": "stdout",
     "output_type": "stream",
     "text": [
      "0.0\n",
      "0.0\n",
      "3.23\n",
      "3.23\n",
      "3.23\n",
      "3.23\n",
      "0.0\n",
      "0.0\n",
      "0.0\n",
      "0.0\n"
     ]
    }
   ],
   "source": [
    "def calculate_nonzero_goods(logp_array):\n",
    "    where_nonzero = np.where(r.getScaledElasticityMatrix()!=0)\n",
    "    total = len(where_nonzero[0])\n",
    "    good = 0\n",
    "    for i in range(total):\n",
    "        if logp_array[where_nonzero[0][i], where_nonzero[1][i]] > -1:\n",
    "            good += 1\n",
    "\n",
    "    return round(good*100/total,2)\n",
    "\n",
    "for i in logp_arrays:\n",
    "    print(calculate_nonzero_goods(i))"
   ]
  },
  {
   "cell_type": "code",
   "execution_count": 25,
   "id": "827cd4ff",
   "metadata": {},
   "outputs": [
    {
     "data": {
      "text/plain": [
       "1.292"
      ]
     },
     "execution_count": 25,
     "metadata": {},
     "output_type": "execute_result"
    }
   ],
   "source": [
    "import numpy as np\n",
    "np.mean([0.0,\n",
    "0.0,\n",
    "3.23,\n",
    "3.23,\n",
    "3.23,\n",
    "3.23,\n",
    "0.0,\n",
    "0.0,\n",
    "0.0,\n",
    "0.0])"
   ]
  }
 ],
 "metadata": {
  "kernelspec": {
   "display_name": "gayles",
   "language": "python",
   "name": "python3"
  },
  "language_info": {
   "codemirror_mode": {
    "name": "ipython",
    "version": 3
   },
   "file_extension": ".py",
   "mimetype": "text/x-python",
   "name": "python",
   "nbconvert_exporter": "python",
   "pygments_lexer": "ipython3",
   "version": "3.9.19"
  }
 },
 "nbformat": 4,
 "nbformat_minor": 5
}
