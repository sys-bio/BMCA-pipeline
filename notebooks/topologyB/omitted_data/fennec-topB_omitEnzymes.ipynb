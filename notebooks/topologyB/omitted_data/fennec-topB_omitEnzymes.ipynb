{
 "cells": [
  {
   "cell_type": "markdown",
   "id": "22c31e18",
   "metadata": {},
   "source": [
    "Critique from reviewer:\n",
    "\n",
    "_For testing how well the model predicted a ground truth value, it should be possible to calculate the log probability density of the true value according to the model. This is usually a better metric than correlation coefficient._"
   ]
  },
  {
   "cell_type": "code",
   "execution_count": 1,
   "id": "9366fdee",
   "metadata": {},
   "outputs": [
    {
     "name": "stderr",
     "output_type": "stream",
     "text": [
      "WARNING (aesara.configdefaults): g++ not available, if using conda: `conda install m2w64-toolchain`\n",
      "WARNING (aesara.configdefaults): g++ not detected!  Aesara will be unable to compile C-implementations and will default to Python. Performance may be severely degraded. To remove this warning, set Aesara flags cxx to an empty string.\n",
      "WARNING (aesara.tensor.blas): Using NumPy C-API based implementation for BLAS functions.\n"
     ]
    }
   ],
   "source": [
    "SEED = 1\n",
    "import random\n",
    "\n",
    "import tellurium as te\n",
    "import pandas as pd\n",
    "import numpy as np\n",
    "np.random.seed(SEED)\n",
    "\n",
    "import matplotlib.pyplot as plt\n",
    "import seaborn as sns\n",
    "import arviz as az\n",
    "\n",
    "import aesara.tensor as at\n",
    "import aesara\n",
    "floatX = aesara.config.floatX\n",
    "import pymc as pm\n",
    "import numpy as np\n",
    "\n",
    "import cobra\n",
    "import os\n",
    "\n",
    "from scipy import stats\n",
    "import scipy as sp\n",
    "import math\n",
    "\n",
    "import gzip\n",
    "import cloudpickle"
   ]
  },
  {
   "cell_type": "code",
   "execution_count": 2,
   "id": "a621b578",
   "metadata": {},
   "outputs": [],
   "source": [
    "os.chdir('../../..')\n",
    "from src import antemll, util\n",
    "import emll\n",
    "from emll.aesara_utils import LeastSquaresSolve\n",
    "os.chdir('notebooks/topologyB/all_data/')"
   ]
  },
  {
   "cell_type": "code",
   "execution_count": 3,
   "id": "229a2548",
   "metadata": {},
   "outputs": [
    {
     "data": {
      "text/plain": [
       "1.7241056990445864e-15"
      ]
     },
     "execution_count": 3,
     "metadata": {},
     "output_type": "execute_result"
    }
   ],
   "source": [
    "ant ='../../../models/Antimony/topologyB-noReg.ant' \n",
    "r = te.loada(ant)\n",
    "r.conservedMoietyAnalysis = True\n",
    "r.steadyState()"
   ]
  },
  {
   "cell_type": "code",
   "execution_count": 4,
   "id": "7fbdeb6e",
   "metadata": {},
   "outputs": [],
   "source": [
    "enzymes = ['e_' + i for i in r.getReactionIds()]\n",
    "internal = r.getFloatingSpeciesIds()\n",
    "external = r.getBoundarySpeciesIds()\n",
    "fluxes = ['v_' + i for i in r.getReactionIds()]"
   ]
  },
  {
   "cell_type": "code",
   "execution_count": 5,
   "id": "419839d8",
   "metadata": {},
   "outputs": [],
   "source": [
    "data01 = pd.read_csv('../../../data/generated_data/TopologyB-noReg/TopologyB-noReg_0.1.csv')[fluxes+internal+external]\n",
    "data02 = pd.read_csv('../../../data/generated_data/TopologyB-noReg/TopologyB-noReg_0.2.csv')[fluxes+internal+external]\n",
    "data03 = pd.read_csv('../../../data/generated_data/TopologyB-noReg/TopologyB-noReg_0.3.csv')[fluxes+internal+external]\n",
    "data04 = pd.read_csv('../../../data/generated_data/TopologyB-noReg/TopologyB-noReg_0.4.csv')[fluxes+internal+external]\n",
    "data05 = pd.read_csv('../../../data/generated_data/TopologyB-noReg/TopologyB-noReg_0.5.csv')[fluxes+internal+external]\n",
    "\n",
    "data15 = pd.read_csv('../../../data/generated_data/TopologyB-noReg/TopologyB-noReg_1.5.csv')[fluxes+internal+external]\n",
    "data3 = pd.read_csv('../../../data/generated_data/TopologyB-noReg/TopologyB-noReg_3.csv')[fluxes+internal+external]\n",
    "data5 = pd.read_csv('../../../data/generated_data/TopologyB-noReg/TopologyB-noReg_5.csv')[fluxes+internal+external]\n",
    "data7 = pd.read_csv('../../../data/generated_data/TopologyB-noReg/TopologyB-noReg_7.csv')[fluxes+internal+external]\n",
    "data100 = pd.read_csv('../../../data/generated_data/TopologyB-noReg/TopologyB-noReg_10.csv')[fluxes+internal+external]\n"
   ]
  },
  {
   "cell_type": "code",
   "execution_count": 6,
   "id": "1ab5adc7",
   "metadata": {},
   "outputs": [
    {
     "name": "stderr",
     "output_type": "stream",
     "text": [
      "No objective coefficients in model. Unclear what should be optimized\n"
     ]
    },
    {
     "name": "stdout",
     "output_type": "stream",
     "text": [
      "../../../models/Antimony/topologyB_cobra.ant\n"
     ]
    },
    {
     "name": "stderr",
     "output_type": "stream",
     "text": [
      "No objective coefficients in model. Unclear what should be optimized\n"
     ]
    },
    {
     "name": "stdout",
     "output_type": "stream",
     "text": [
      "../../../models/Antimony/topologyB_cobra.ant\n"
     ]
    },
    {
     "name": "stderr",
     "output_type": "stream",
     "text": [
      "No objective coefficients in model. Unclear what should be optimized\n"
     ]
    },
    {
     "name": "stdout",
     "output_type": "stream",
     "text": [
      "../../../models/Antimony/topologyB_cobra.ant\n"
     ]
    },
    {
     "name": "stderr",
     "output_type": "stream",
     "text": [
      "No objective coefficients in model. Unclear what should be optimized\n"
     ]
    },
    {
     "name": "stdout",
     "output_type": "stream",
     "text": [
      "../../../models/Antimony/topologyB_cobra.ant\n"
     ]
    },
    {
     "name": "stderr",
     "output_type": "stream",
     "text": [
      "No objective coefficients in model. Unclear what should be optimized\n"
     ]
    },
    {
     "name": "stdout",
     "output_type": "stream",
     "text": [
      "../../../models/Antimony/topologyB_cobra.ant\n"
     ]
    },
    {
     "name": "stderr",
     "output_type": "stream",
     "text": [
      "No objective coefficients in model. Unclear what should be optimized\n"
     ]
    },
    {
     "name": "stdout",
     "output_type": "stream",
     "text": [
      "../../../models/Antimony/topologyB_cobra.ant\n"
     ]
    },
    {
     "name": "stderr",
     "output_type": "stream",
     "text": [
      "No objective coefficients in model. Unclear what should be optimized\n"
     ]
    },
    {
     "name": "stdout",
     "output_type": "stream",
     "text": [
      "../../../models/Antimony/topologyB_cobra.ant\n"
     ]
    },
    {
     "name": "stderr",
     "output_type": "stream",
     "text": [
      "No objective coefficients in model. Unclear what should be optimized\n"
     ]
    },
    {
     "name": "stdout",
     "output_type": "stream",
     "text": [
      "../../../models/Antimony/topologyB_cobra.ant\n"
     ]
    },
    {
     "name": "stderr",
     "output_type": "stream",
     "text": [
      "No objective coefficients in model. Unclear what should be optimized\n"
     ]
    },
    {
     "name": "stdout",
     "output_type": "stream",
     "text": [
      "../../../models/Antimony/topologyB_cobra.ant\n"
     ]
    },
    {
     "name": "stderr",
     "output_type": "stream",
     "text": [
      "No objective coefficients in model. Unclear what should be optimized\n"
     ]
    },
    {
     "name": "stdout",
     "output_type": "stream",
     "text": [
      "../../../models/Antimony/topologyB_cobra.ant\n"
     ]
    }
   ],
   "source": [
    "BMCA_obj01 = antemll.antemll(ant, data01, cobra_sbml='../../../models/sbml/TopologyB_cobra.xml')\n",
    "BMCA_obj02 = antemll.antemll(ant, data02, cobra_sbml='../../../models/sbml/TopologyB_cobra.xml')\n",
    "BMCA_obj03 = antemll.antemll(ant, data03, cobra_sbml='../../../models/sbml/TopologyB_cobra.xml')\n",
    "BMCA_obj04 = antemll.antemll(ant, data04, cobra_sbml='../../../models/sbml/TopologyB_cobra.xml')\n",
    "BMCA_obj05 = antemll.antemll(ant, data05, cobra_sbml='../../../models/sbml/TopologyB_cobra.xml')\n",
    "\n",
    "BMCA_obj15 = antemll.antemll(ant, data15, cobra_sbml='../../../models/sbml/TopologyB_cobra.xml')\n",
    "BMCA_obj3 = antemll.antemll(ant, data3, cobra_sbml='../../../models/sbml/TopologyB_cobra.xml')\n",
    "BMCA_obj5 = antemll.antemll(ant, data5, cobra_sbml='../../../models/sbml/TopologyB_cobra.xml')\n",
    "BMCA_obj7 = antemll.antemll(ant, data7, cobra_sbml='../../../models/sbml/TopologyB_cobra.xml')\n",
    "BMCA_obj100 = antemll.antemll(ant, data100, cobra_sbml='../../../models/sbml/TopologyB_cobra.xml')"
   ]
  },
  {
   "cell_type": "markdown",
   "id": "15a4adf6",
   "metadata": {},
   "source": [
    "## Analysis\n"
   ]
  },
  {
   "cell_type": "code",
   "execution_count": 7,
   "id": "4fb44245",
   "metadata": {},
   "outputs": [],
   "source": [
    "picklefolder = '../../../data/results/tracePickles/'\n",
    "with gzip.open(picklefolder + 'topologyB-noReg_omitEnzymes_traces.pgz', \"rb\") as f:\n",
    "    traces = cloudpickle.load(f, encoding='bytes')"
   ]
  },
  {
   "cell_type": "code",
   "execution_count": 8,
   "id": "7ff46af8",
   "metadata": {},
   "outputs": [],
   "source": [
    "trace01=traces['trace01']\n",
    "trace02=traces['trace02']\n",
    "trace03=traces['trace03']\n",
    "trace04=traces['trace04']\n",
    "trace05=traces['trace05']\n",
    "trace15=traces['trace15']\n",
    "trace3=traces['trace3']\n",
    "trace5=traces['trace5']\n",
    "trace7=traces['trace7']\n",
    "trace100=traces['trace100']"
   ]
  },
  {
   "cell_type": "code",
   "execution_count": 9,
   "id": "06b0ff54",
   "metadata": {},
   "outputs": [],
   "source": [
    "from scipy.stats import gaussian_kde\n",
    "\n",
    "def get_logp(trace, true_values):  \n",
    "    \"\"\"\n",
    "    Estimate marginal logp at each ground truth value using KDE.\n",
    "\n",
    "    Parameters:\n",
    "    - trace: ArviZ InferenceData object containing posterior samples\n",
    "    - true_values: numpy array of shape (16, 11) representing ground truth\n",
    "\n",
    "    Returns:\n",
    "    - logps: numpy array of shape (16, 11) of log probabilities\n",
    "    \"\"\"\n",
    "\n",
    "    samples = trace.posterior[\"Ex\"].stack(sample=(\"chain\", \"draw\")).values  # shape: (16, 11, 1000)\n",
    "    samples = np.moveaxis(samples, -1, 0)  # shape: (1000, 16, 11)\n",
    "    \n",
    "    logps = np.zeros_like(true_values)\n",
    "\n",
    "    for i in range(true_values.shape[0]):\n",
    "        for j in range(true_values.shape[1]):\n",
    "            var_samples = samples[:, i, j]\n",
    "            kde = gaussian_kde(var_samples)\n",
    "            logps[i, j] = np.log(kde(true_values[i, j]))\n",
    "\n",
    "    return np.array(logps)\n"
   ]
  },
  {
   "cell_type": "code",
   "execution_count": 10,
   "id": "bb72e336",
   "metadata": {},
   "outputs": [
    {
     "name": "stderr",
     "output_type": "stream",
     "text": [
      "C:\\Users\\user\\AppData\\Local\\Temp\\ipykernel_3488\\95413887.py:24: RuntimeWarning:\n",
      "\n",
      "divide by zero encountered in log\n",
      "\n"
     ]
    }
   ],
   "source": [
    "logp_array = get_logp(trace100[0], true_values=r.getScaledElasticityMatrix())  # where Ex_true is your (16, 11) ground truth"
   ]
  },
  {
   "cell_type": "code",
   "execution_count": 11,
   "id": "bf65deac",
   "metadata": {},
   "outputs": [
    {
     "data": {
      "text/html": [
       "<div>\n",
       "<style scoped>\n",
       "    .dataframe tbody tr th:only-of-type {\n",
       "        vertical-align: middle;\n",
       "    }\n",
       "\n",
       "    .dataframe tbody tr th {\n",
       "        vertical-align: top;\n",
       "    }\n",
       "\n",
       "    .dataframe thead th {\n",
       "        text-align: right;\n",
       "    }\n",
       "</style>\n",
       "<table border=\"1\" class=\"dataframe\">\n",
       "  <thead>\n",
       "    <tr style=\"text-align: right;\">\n",
       "      <th></th>\n",
       "      <th>0</th>\n",
       "      <th>1</th>\n",
       "      <th>2</th>\n",
       "      <th>3</th>\n",
       "      <th>4</th>\n",
       "      <th>5</th>\n",
       "      <th>6</th>\n",
       "      <th>7</th>\n",
       "      <th>8</th>\n",
       "      <th>9</th>\n",
       "      <th>10</th>\n",
       "      <th>11</th>\n",
       "      <th>12</th>\n",
       "    </tr>\n",
       "  </thead>\n",
       "  <tbody>\n",
       "    <tr>\n",
       "      <th>0</th>\n",
       "      <td>2.227729</td>\n",
       "      <td>-5.161986</td>\n",
       "      <td>1.511634</td>\n",
       "      <td>2.202322</td>\n",
       "      <td>1.947573</td>\n",
       "      <td>1.656908</td>\n",
       "      <td>2.264066</td>\n",
       "      <td>2.526096</td>\n",
       "      <td>1.923743</td>\n",
       "      <td>2.111389</td>\n",
       "      <td>1.605360</td>\n",
       "      <td>2.037277</td>\n",
       "      <td>1.727454</td>\n",
       "    </tr>\n",
       "    <tr>\n",
       "      <th>1</th>\n",
       "      <td>2.113825</td>\n",
       "      <td>-133.601058</td>\n",
       "      <td>1.641645</td>\n",
       "      <td>2.141134</td>\n",
       "      <td>1.896239</td>\n",
       "      <td>1.620637</td>\n",
       "      <td>2.136219</td>\n",
       "      <td>-inf</td>\n",
       "      <td>1.887803</td>\n",
       "      <td>2.090988</td>\n",
       "      <td>1.616238</td>\n",
       "      <td>1.847601</td>\n",
       "      <td>1.690690</td>\n",
       "    </tr>\n",
       "    <tr>\n",
       "      <th>2</th>\n",
       "      <td>2.113850</td>\n",
       "      <td>1.882865</td>\n",
       "      <td>1.477141</td>\n",
       "      <td>2.072518</td>\n",
       "      <td>1.964685</td>\n",
       "      <td>1.665567</td>\n",
       "      <td>2.303609</td>\n",
       "      <td>-82.598458</td>\n",
       "      <td>1.913008</td>\n",
       "      <td>2.112493</td>\n",
       "      <td>1.557616</td>\n",
       "      <td>1.978142</td>\n",
       "      <td>1.743924</td>\n",
       "    </tr>\n",
       "    <tr>\n",
       "      <th>3</th>\n",
       "      <td>2.180782</td>\n",
       "      <td>-233.253051</td>\n",
       "      <td>1.600126</td>\n",
       "      <td>2.228790</td>\n",
       "      <td>1.929269</td>\n",
       "      <td>1.713786</td>\n",
       "      <td>2.215516</td>\n",
       "      <td>2.461913</td>\n",
       "      <td>1.861607</td>\n",
       "      <td>-376.459495</td>\n",
       "      <td>1.616615</td>\n",
       "      <td>1.970622</td>\n",
       "      <td>1.695730</td>\n",
       "    </tr>\n",
       "    <tr>\n",
       "      <th>4</th>\n",
       "      <td>-514.622283</td>\n",
       "      <td>2.049863</td>\n",
       "      <td>1.450177</td>\n",
       "      <td>2.157248</td>\n",
       "      <td>1.858853</td>\n",
       "      <td>1.663693</td>\n",
       "      <td>2.298174</td>\n",
       "      <td>2.523492</td>\n",
       "      <td>1.943428</td>\n",
       "      <td>-344.326433</td>\n",
       "      <td>1.542911</td>\n",
       "      <td>1.924054</td>\n",
       "      <td>1.734908</td>\n",
       "    </tr>\n",
       "    <tr>\n",
       "      <th>5</th>\n",
       "      <td>-inf</td>\n",
       "      <td>2.001690</td>\n",
       "      <td>1.579461</td>\n",
       "      <td>2.130875</td>\n",
       "      <td>2.006401</td>\n",
       "      <td>1.694989</td>\n",
       "      <td>-inf</td>\n",
       "      <td>2.451982</td>\n",
       "      <td>1.899002</td>\n",
       "      <td>2.092661</td>\n",
       "      <td>1.571272</td>\n",
       "      <td>1.980508</td>\n",
       "      <td>1.761847</td>\n",
       "    </tr>\n",
       "    <tr>\n",
       "      <th>6</th>\n",
       "      <td>2.341236</td>\n",
       "      <td>2.017815</td>\n",
       "      <td>1.575522</td>\n",
       "      <td>2.222295</td>\n",
       "      <td>2.008561</td>\n",
       "      <td>1.647630</td>\n",
       "      <td>-110.335168</td>\n",
       "      <td>2.414735</td>\n",
       "      <td>1.912712</td>\n",
       "      <td>1.988321</td>\n",
       "      <td>1.613890</td>\n",
       "      <td>2.014540</td>\n",
       "      <td>1.743980</td>\n",
       "    </tr>\n",
       "    <tr>\n",
       "      <th>7</th>\n",
       "      <td>-inf</td>\n",
       "      <td>1.971058</td>\n",
       "      <td>1.627861</td>\n",
       "      <td>-inf</td>\n",
       "      <td>1.884950</td>\n",
       "      <td>1.686252</td>\n",
       "      <td>2.211771</td>\n",
       "      <td>2.509642</td>\n",
       "      <td>1.948938</td>\n",
       "      <td>1.933231</td>\n",
       "      <td>1.655871</td>\n",
       "      <td>1.907674</td>\n",
       "      <td>1.797135</td>\n",
       "    </tr>\n",
       "    <tr>\n",
       "      <th>8</th>\n",
       "      <td>-443.603398</td>\n",
       "      <td>1.956438</td>\n",
       "      <td>1.513634</td>\n",
       "      <td>2.098031</td>\n",
       "      <td>1.854631</td>\n",
       "      <td>1.646570</td>\n",
       "      <td>2.211235</td>\n",
       "      <td>2.493607</td>\n",
       "      <td>2.000527</td>\n",
       "      <td>2.071285</td>\n",
       "      <td>1.640783</td>\n",
       "      <td>-557.792352</td>\n",
       "      <td>1.739798</td>\n",
       "    </tr>\n",
       "    <tr>\n",
       "      <th>9</th>\n",
       "      <td>1.995073</td>\n",
       "      <td>2.018074</td>\n",
       "      <td>1.566399</td>\n",
       "      <td>2.002591</td>\n",
       "      <td>-inf</td>\n",
       "      <td>1.652038</td>\n",
       "      <td>2.075032</td>\n",
       "      <td>2.472826</td>\n",
       "      <td>1.942363</td>\n",
       "      <td>1.981069</td>\n",
       "      <td>1.610492</td>\n",
       "      <td>-inf</td>\n",
       "      <td>1.738042</td>\n",
       "    </tr>\n",
       "    <tr>\n",
       "      <th>10</th>\n",
       "      <td>2.025954</td>\n",
       "      <td>1.913482</td>\n",
       "      <td>1.516291</td>\n",
       "      <td>2.030940</td>\n",
       "      <td>-inf</td>\n",
       "      <td>1.622740</td>\n",
       "      <td>2.185745</td>\n",
       "      <td>2.514513</td>\n",
       "      <td>-inf</td>\n",
       "      <td>2.057782</td>\n",
       "      <td>1.674770</td>\n",
       "      <td>1.931642</td>\n",
       "      <td>1.726687</td>\n",
       "    </tr>\n",
       "    <tr>\n",
       "      <th>11</th>\n",
       "      <td>2.035724</td>\n",
       "      <td>1.869401</td>\n",
       "      <td>1.556793</td>\n",
       "      <td>2.016055</td>\n",
       "      <td>1.925030</td>\n",
       "      <td>1.617343</td>\n",
       "      <td>1.815939</td>\n",
       "      <td>2.316520</td>\n",
       "      <td>-119.097721</td>\n",
       "      <td>2.038006</td>\n",
       "      <td>1.635469</td>\n",
       "      <td>1.898691</td>\n",
       "      <td>1.740029</td>\n",
       "    </tr>\n",
       "    <tr>\n",
       "      <th>12</th>\n",
       "      <td>-133.085095</td>\n",
       "      <td>1.933970</td>\n",
       "      <td>1.523927</td>\n",
       "      <td>-inf</td>\n",
       "      <td>1.617723</td>\n",
       "      <td>1.570634</td>\n",
       "      <td>-367.929909</td>\n",
       "      <td>1.762437</td>\n",
       "      <td>1.661473</td>\n",
       "      <td>0.467554</td>\n",
       "      <td>1.593179</td>\n",
       "      <td>1.498730</td>\n",
       "      <td>1.424630</td>\n",
       "    </tr>\n",
       "    <tr>\n",
       "      <th>13</th>\n",
       "      <td>2.134218</td>\n",
       "      <td>2.117627</td>\n",
       "      <td>1.552734</td>\n",
       "      <td>-313.092046</td>\n",
       "      <td>1.834377</td>\n",
       "      <td>1.573463</td>\n",
       "      <td>2.243013</td>\n",
       "      <td>2.533790</td>\n",
       "      <td>1.880771</td>\n",
       "      <td>2.049846</td>\n",
       "      <td>1.585623</td>\n",
       "      <td>1.942796</td>\n",
       "      <td>-inf</td>\n",
       "    </tr>\n",
       "    <tr>\n",
       "      <th>14</th>\n",
       "      <td>2.101257</td>\n",
       "      <td>1.989619</td>\n",
       "      <td>1.582011</td>\n",
       "      <td>2.106358</td>\n",
       "      <td>1.875499</td>\n",
       "      <td>-inf</td>\n",
       "      <td>2.079431</td>\n",
       "      <td>2.429667</td>\n",
       "      <td>1.798908</td>\n",
       "      <td>2.127370</td>\n",
       "      <td>1.633449</td>\n",
       "      <td>1.981628</td>\n",
       "      <td>-inf</td>\n",
       "    </tr>\n",
       "    <tr>\n",
       "      <th>15</th>\n",
       "      <td>2.095837</td>\n",
       "      <td>2.043002</td>\n",
       "      <td>1.594279</td>\n",
       "      <td>2.172626</td>\n",
       "      <td>1.870662</td>\n",
       "      <td>-inf</td>\n",
       "      <td>2.203358</td>\n",
       "      <td>2.475596</td>\n",
       "      <td>1.924227</td>\n",
       "      <td>2.092657</td>\n",
       "      <td>-inf</td>\n",
       "      <td>1.901938</td>\n",
       "      <td>1.778552</td>\n",
       "    </tr>\n",
       "    <tr>\n",
       "      <th>16</th>\n",
       "      <td>2.039756</td>\n",
       "      <td>1.924496</td>\n",
       "      <td>-inf</td>\n",
       "      <td>2.241420</td>\n",
       "      <td>1.939525</td>\n",
       "      <td>1.732234</td>\n",
       "      <td>2.227778</td>\n",
       "      <td>2.462602</td>\n",
       "      <td>1.943806</td>\n",
       "      <td>1.964051</td>\n",
       "      <td>-inf</td>\n",
       "      <td>1.945885</td>\n",
       "      <td>1.762826</td>\n",
       "    </tr>\n",
       "    <tr>\n",
       "      <th>17</th>\n",
       "      <td>2.149231</td>\n",
       "      <td>2.017476</td>\n",
       "      <td>-90.214670</td>\n",
       "      <td>1.975641</td>\n",
       "      <td>1.882658</td>\n",
       "      <td>1.567831</td>\n",
       "      <td>2.141520</td>\n",
       "      <td>2.500183</td>\n",
       "      <td>1.832717</td>\n",
       "      <td>2.135678</td>\n",
       "      <td>1.631008</td>\n",
       "      <td>1.967214</td>\n",
       "      <td>1.610284</td>\n",
       "    </tr>\n",
       "    <tr>\n",
       "      <th>18</th>\n",
       "      <td>1.191133</td>\n",
       "      <td>1.851595</td>\n",
       "      <td>-inf</td>\n",
       "      <td>0.180221</td>\n",
       "      <td>1.840133</td>\n",
       "      <td>1.630765</td>\n",
       "      <td>0.104483</td>\n",
       "      <td>2.263019</td>\n",
       "      <td>1.731950</td>\n",
       "      <td>1.687653</td>\n",
       "      <td>1.578675</td>\n",
       "      <td>1.748893</td>\n",
       "      <td>1.665584</td>\n",
       "    </tr>\n",
       "  </tbody>\n",
       "</table>\n",
       "</div>"
      ],
      "text/plain": [
       "            0           1          2           3         4         5   \\\n",
       "0     2.227729   -5.161986   1.511634    2.202322  1.947573  1.656908   \n",
       "1     2.113825 -133.601058   1.641645    2.141134  1.896239  1.620637   \n",
       "2     2.113850    1.882865   1.477141    2.072518  1.964685  1.665567   \n",
       "3     2.180782 -233.253051   1.600126    2.228790  1.929269  1.713786   \n",
       "4  -514.622283    2.049863   1.450177    2.157248  1.858853  1.663693   \n",
       "5         -inf    2.001690   1.579461    2.130875  2.006401  1.694989   \n",
       "6     2.341236    2.017815   1.575522    2.222295  2.008561  1.647630   \n",
       "7         -inf    1.971058   1.627861        -inf  1.884950  1.686252   \n",
       "8  -443.603398    1.956438   1.513634    2.098031  1.854631  1.646570   \n",
       "9     1.995073    2.018074   1.566399    2.002591      -inf  1.652038   \n",
       "10    2.025954    1.913482   1.516291    2.030940      -inf  1.622740   \n",
       "11    2.035724    1.869401   1.556793    2.016055  1.925030  1.617343   \n",
       "12 -133.085095    1.933970   1.523927        -inf  1.617723  1.570634   \n",
       "13    2.134218    2.117627   1.552734 -313.092046  1.834377  1.573463   \n",
       "14    2.101257    1.989619   1.582011    2.106358  1.875499      -inf   \n",
       "15    2.095837    2.043002   1.594279    2.172626  1.870662      -inf   \n",
       "16    2.039756    1.924496       -inf    2.241420  1.939525  1.732234   \n",
       "17    2.149231    2.017476 -90.214670    1.975641  1.882658  1.567831   \n",
       "18    1.191133    1.851595       -inf    0.180221  1.840133  1.630765   \n",
       "\n",
       "            6          7           8           9         10          11  \\\n",
       "0     2.264066   2.526096    1.923743    2.111389  1.605360    2.037277   \n",
       "1     2.136219       -inf    1.887803    2.090988  1.616238    1.847601   \n",
       "2     2.303609 -82.598458    1.913008    2.112493  1.557616    1.978142   \n",
       "3     2.215516   2.461913    1.861607 -376.459495  1.616615    1.970622   \n",
       "4     2.298174   2.523492    1.943428 -344.326433  1.542911    1.924054   \n",
       "5         -inf   2.451982    1.899002    2.092661  1.571272    1.980508   \n",
       "6  -110.335168   2.414735    1.912712    1.988321  1.613890    2.014540   \n",
       "7     2.211771   2.509642    1.948938    1.933231  1.655871    1.907674   \n",
       "8     2.211235   2.493607    2.000527    2.071285  1.640783 -557.792352   \n",
       "9     2.075032   2.472826    1.942363    1.981069  1.610492        -inf   \n",
       "10    2.185745   2.514513        -inf    2.057782  1.674770    1.931642   \n",
       "11    1.815939   2.316520 -119.097721    2.038006  1.635469    1.898691   \n",
       "12 -367.929909   1.762437    1.661473    0.467554  1.593179    1.498730   \n",
       "13    2.243013   2.533790    1.880771    2.049846  1.585623    1.942796   \n",
       "14    2.079431   2.429667    1.798908    2.127370  1.633449    1.981628   \n",
       "15    2.203358   2.475596    1.924227    2.092657      -inf    1.901938   \n",
       "16    2.227778   2.462602    1.943806    1.964051      -inf    1.945885   \n",
       "17    2.141520   2.500183    1.832717    2.135678  1.631008    1.967214   \n",
       "18    0.104483   2.263019    1.731950    1.687653  1.578675    1.748893   \n",
       "\n",
       "          12  \n",
       "0   1.727454  \n",
       "1   1.690690  \n",
       "2   1.743924  \n",
       "3   1.695730  \n",
       "4   1.734908  \n",
       "5   1.761847  \n",
       "6   1.743980  \n",
       "7   1.797135  \n",
       "8   1.739798  \n",
       "9   1.738042  \n",
       "10  1.726687  \n",
       "11  1.740029  \n",
       "12  1.424630  \n",
       "13      -inf  \n",
       "14      -inf  \n",
       "15  1.778552  \n",
       "16  1.762826  \n",
       "17  1.610284  \n",
       "18  1.665584  "
      ]
     },
     "execution_count": 11,
     "metadata": {},
     "output_type": "execute_result"
    }
   ],
   "source": [
    "pd.DataFrame(logp_array)"
   ]
  },
  {
   "cell_type": "code",
   "execution_count": 12,
   "id": "d82245ab",
   "metadata": {},
   "outputs": [
    {
     "data": {
      "image/png": "[encoded data removed]",
      "text/plain": [
       "<Figure size 800x400 with 1 Axes>"
      ]
     },
     "metadata": {},
     "output_type": "display_data"
    },
    {
     "name": "stdout",
     "output_type": "stream",
     "text": [
      "Bandwidth: 0.2512\n",
      "Max density: 6.8835\n"
     ]
    }
   ],
   "source": [
    "import numpy as np\n",
    "import matplotlib.pyplot as plt\n",
    "from scipy.stats import gaussian_kde\n",
    "\n",
    "def inspect_kde(samples, true_value):\n",
    "    # Fit KDE\n",
    "    kde = gaussian_kde(samples)\n",
    "\n",
    "    # Evaluate density around the true value\n",
    "    x_grid = np.linspace(true_value - 1, true_value + 1, 500)\n",
    "    density = kde(x_grid)\n",
    "\n",
    "    # Plot\n",
    "    plt.figure(figsize=(8, 4))\n",
    "    plt.plot(x_grid, density, label=\"KDE\")\n",
    "    plt.axvline(true_value, color='red', linestyle='--', label=f\"True value: {true_value:.3f}\")\n",
    "    plt.title(\"KDE around True Value\")\n",
    "    plt.xlabel(\"Value\")\n",
    "    plt.ylabel(\"Density\")\n",
    "    plt.legend()\n",
    "    plt.grid(True)\n",
    "    plt.show()\n",
    "\n",
    "    print(f\"Bandwidth: {kde.factor:.4f}\")\n",
    "    print(f\"Max density: {np.max(density):.4f}\")\n",
    "\n",
    "samples = trace100[0].posterior['Ex'].stack(sample=(\"chain\", \"draw\")).values[3, 4]\n",
    "true_value = r.getScaledElasticityMatrix()[3, 4]\n",
    "inspect_kde(samples, true_value)\n"
   ]
  },
  {
   "cell_type": "markdown",
   "id": "23d98e3b",
   "metadata": {},
   "source": [
    "## Summary statistics and plots"
   ]
  },
  {
   "cell_type": "code",
   "execution_count": 13,
   "id": "4e21ab6a",
   "metadata": {},
   "outputs": [
    {
     "name": "stdout",
     "output_type": "stream",
     "text": [
      "min logp: -inf\n",
      "max logp: 2.5337903790136265\n",
      "median logp 1.8754993148756047\n"
     ]
    }
   ],
   "source": [
    "print(\"min logp:\", logp_array.min())\n",
    "print(\"max logp:\", logp_array.max())\n",
    "print('median logp', np.median(logp_array))"
   ]
  },
  {
   "cell_type": "code",
   "execution_count": 23,
   "id": "2310480a",
   "metadata": {},
   "outputs": [
    {
     "data": {
      "image/png": "[encoded data removed]",
      "text/plain": [
       "<Figure size 1000x600 with 1 Axes>"
      ]
     },
     "metadata": {},
     "output_type": "display_data"
    }
   ],
   "source": [
    "logp_for_plotting = logp_array.copy()\n",
    "logp_for_plotting[logp_for_plotting<-4] = -4.6\n",
    "\n",
    "# Remove -inf values for plotting\n",
    "finite_logp = logp_for_plotting[np.isfinite(logp_for_plotting)]\n",
    "\n",
    "# Plot histogram\n",
    "plt.figure(figsize=(10, 6))\n",
    "n, bins, patches = plt.hist(finite_logp, bins=30, color='skyblue', edgecolor='black', zorder=100)\n",
    "plt.title(\"Histogram of Log Probability Densities for Ground Truth Values\")\n",
    "plt.xlabel(\"Log Probability Density\")\n",
    "plt.ylabel(\"Count\")\n",
    "plt.grid(True)\n",
    "plt.axvline(np.median(finite_logp), color='red', linestyle='--', label=f\"Median: {np.median(finite_logp):.2f}\", zorder=101)\n",
    "\n",
    "for i in np.where(bins<-1.1)[0]: \n",
    "    patches[i].set_facecolor('orange')\n",
    "patches[0].set_facecolor('red')\n",
    "\n",
    "plt.legend()\n",
    "\n",
    "plt.text(-4.5, -1.4, '<-4', ha='center')\n",
    "\n",
    "plt.tight_layout()\n"
   ]
  },
  {
   "cell_type": "code",
   "execution_count": 15,
   "id": "c765ce4e",
   "metadata": {},
   "outputs": [
    {
     "name": "stdout",
     "output_type": "stream",
     "text": [
      "Elasticities with good estimations: 214 (86.64%)\n",
      "Elasticities with bad estimations: 33 (13.36%)\n"
     ]
    }
   ],
   "source": [
    "good = len(logp_array[logp_array>-1])\n",
    "bad = len(logp_array[logp_array<-1])\n",
    "total = len(logp_array.flatten())\n",
    "print('Elasticities with good estimations:', good, f'({round(good*100/total,2)}%)')\n",
    "print('Elasticities with bad estimations:', bad, f'({round(bad*100/total,2)}%)')"
   ]
  },
  {
   "cell_type": "code",
   "execution_count": 16,
   "id": "f792d55b",
   "metadata": {},
   "outputs": [
    {
     "data": {
      "image/png": "[encoded data removed]",
      "text/plain": [
       "<Figure size 800x600 with 1 Axes>"
      ]
     },
     "metadata": {},
     "output_type": "display_data"
    }
   ],
   "source": [
    "# Example arrays\n",
    "true_values = r.getScaledElasticityMatrix().flatten()\n",
    "logp_values = logp_array.flatten()\n",
    "\n",
    "# Remove -inf or NaN\n",
    "mask = np.isfinite(logp_values)\n",
    "true_values = true_values# [mask]\n",
    "logp_values = logp_for_plotting\n",
    "\n",
    "conditions = [\n",
    "    logp_values < -4,\n",
    "    (logp_values >= -4) & (logp_values < -1),\n",
    "    logp_values >= -1\n",
    "]\n",
    "\n",
    "choices = ['red', 'darkorange', 'blue']\n",
    "\n",
    "colors = np.select(conditions, choices).flatten()\n",
    "\n",
    "plt.figure(figsize=(8, 6))\n",
    "plt.grid(True)\n",
    "plt.scatter(true_values, logp_values, c=colors, alpha=0.8, zorder=100)\n",
    "plt.xlabel(\"Ground Truth Value\")\n",
    "plt.ylabel(\"Log Probability Density\")\n",
    "plt.title(\"Logp vs. Ground Truth Value\", fontsize=16)\n",
    "plt.axhline(0, color='gray', linestyle='--', linewidth=1)\n",
    "\n",
    "plt.axhline(-4.6, color='orangered', linestyle='--', linewidth=1)\n",
    "plt.text(-12.68, -4.7, '<-4', ha='center')\n",
    "\n",
    "plt.tight_layout()\n"
   ]
  },
  {
   "cell_type": "markdown",
   "id": "0caa8a99",
   "metadata": {},
   "source": [
    "# For all traces"
   ]
  },
  {
   "cell_type": "code",
   "execution_count": 17,
   "id": "947f1608",
   "metadata": {},
   "outputs": [],
   "source": [
    "pt_labels = ['0.1x', '0.2x', '0.3x', '0.4x','0.5x', '1.5x', '3x', '5x', '7x', '10x']\n",
    "traces = [trace01, trace02, trace03, trace04, trace05, trace15, trace3, trace5, trace7, trace100]"
   ]
  },
  {
   "cell_type": "code",
   "execution_count": 18,
   "id": "173b5e92",
   "metadata": {},
   "outputs": [
    {
     "name": "stderr",
     "output_type": "stream",
     "text": [
      "C:\\Users\\user\\AppData\\Local\\Temp\\ipykernel_3488\\95413887.py:24: RuntimeWarning:\n",
      "\n",
      "divide by zero encountered in log\n",
      "\n"
     ]
    }
   ],
   "source": [
    "logp_arrays = [get_logp(i[0], true_values=r.getScaledElasticityMatrix()) for i in traces]"
   ]
  },
  {
   "cell_type": "code",
   "execution_count": 19,
   "id": "def2f355",
   "metadata": {},
   "outputs": [
    {
     "data": {
      "text/plain": [
       "2.5337903790136265"
      ]
     },
     "execution_count": 19,
     "metadata": {},
     "output_type": "execute_result"
    }
   ],
   "source": [
    "np.max([i.max() for i in logp_arrays])"
   ]
  },
  {
   "cell_type": "code",
   "execution_count": 20,
   "id": "b7926fba",
   "metadata": {},
   "outputs": [
    {
     "name": "stderr",
     "output_type": "stream",
     "text": [
      "C:\\Users\\user\\AppData\\Local\\Temp\\ipykernel_3488\\2814568961.py:20: MatplotlibDeprecationWarning:\n",
      "\n",
      "The get_cmap function was deprecated in Matplotlib 3.7 and will be removed two minor releases later. Use ``matplotlib.colormaps[name]`` or ``matplotlib.colormaps.get_cmap(obj)`` instead.\n",
      "\n",
      "C:\\Users\\user\\AppData\\Local\\Temp\\ipykernel_3488\\2814568961.py:36: MatplotlibDeprecationWarning:\n",
      "\n",
      "The get_cmap function was deprecated in Matplotlib 3.7 and will be removed two minor releases later. Use ``matplotlib.colormaps[name]`` or ``matplotlib.colormaps.get_cmap(obj)`` instead.\n",
      "\n"
     ]
    },
    {
     "data": {
      "image/png": "[encoded data removed]",
      "text/plain": [
       "<Figure size 1000x800 with 1 Axes>"
      ]
     },
     "metadata": {},
     "output_type": "display_data"
    }
   ],
   "source": [
    "from matplotlib.colors import Normalize\n",
    "from matplotlib.cm import ScalarMappable, get_cmap\n",
    "\n",
    "# Clip and flatten all traces\n",
    "clipped_arrays = []\n",
    "for i, logp_array in enumerate(logp_arrays):\n",
    "    clipped = logp_array.copy()\n",
    "    clipped[clipped < -4] = -4.6\n",
    "    clipped = clipped[np.isfinite(clipped)].flatten()\n",
    "    clipped_arrays.append(pd.Series(clipped, name=pt_labels[i]))\n",
    "\n",
    "df = pd.concat(reversed(clipped_arrays), axis=1)\n",
    "\n",
    "# Parameters\n",
    "num_traces = df.shape[1]\n",
    "bins = np.linspace(-4.6, 3.4, 50)\n",
    "height = 1.0\n",
    "\n",
    "# Setup color gradient left to right\n",
    "cmap = get_cmap(\"RdGy\")\n",
    "norm = Normalize(vmin=bins[0], vmax=bins[-1])\n",
    "\n",
    "# Plot\n",
    "plt.figure(figsize=(10, 8))\n",
    "\n",
    "for plot_idx in range(num_traces):\n",
    "    \n",
    "    col = df.columns[plot_idx]\n",
    "    values = df[col].dropna()\n",
    "    hist, bin_edges = np.histogram(values, bins=bins)\n",
    "    hist = hist / hist.max()\n",
    "    bin_centers = 0.5 * (bin_edges[:-1] + bin_edges[1:])\n",
    "\n",
    "    # Alternate colormaps per row\n",
    "    cmap_name = \"Wistia_r\" if (num_traces - 1 - plot_idx) % 2 == 0 else \"autumn\"\n",
    "    cmap = get_cmap(cmap_name)\n",
    "    norm = Normalize(vmin=bins[0], vmax=bins[-1])\n",
    "\n",
    "    for i in range(len(hist)):\n",
    "        color = cmap(norm(bin_centers[i]))\n",
    "        plt.fill_between([bin_edges[i], bin_edges[i+1]],\n",
    "                         plot_idx * height,\n",
    "                         plot_idx * height + hist[i],\n",
    "                         color=color, step='pre', linewidth=0)\n",
    "\n",
    "        plt.plot([bin_edges[i], bin_edges[i+1]],\n",
    "                 [plot_idx * height, plot_idx * height],\n",
    "                 color=color, linewidth=0.5, alpha=0.7)\n",
    "\n",
    "    # Median line\n",
    "    median = np.median(values)\n",
    "    plt.axvline(median,\n",
    "                ymin=(plot_idx * height) / ((num_traces+1) * height) + 0.05,\n",
    "                ymax=((plot_idx * height + 1) / ((num_traces+1) * height)) + 0.04,\n",
    "                color='orangered',\n",
    "                linestyle='--',\n",
    "                linewidth=1)\n",
    "\n",
    "# Formatting\n",
    "plt.xticks(fontsize=14)\n",
    "plt.yticks(height * np.arange(num_traces), [f\"{pt_labels[i]}\" for i in range(num_traces)][::-1], fontsize=14)\n",
    "plt.xlabel(\"Log probability density\", fontsize=14)\n",
    "plt.ylabel(\"Perturbation strength in dataset\", fontsize=14)\n",
    "plt.title(\"Distributions of Logp Densities for Different Perturbation Strengths\", fontsize=18)\n",
    "plt.grid(True, axis='x', linestyle='--', alpha=0.3)\n",
    "plt.xlim(-4.8,3.5)\n",
    "\n",
    "plt.text(-4.5, -0.89, '<-4', ha='center', fontsize=14)\n",
    "\n",
    "plt.tight_layout()\n"
   ]
  },
  {
   "cell_type": "code",
   "execution_count": 21,
   "id": "74116d72",
   "metadata": {},
   "outputs": [
    {
     "name": "stdout",
     "output_type": "stream",
     "text": [
      "89.47\n",
      "89.47\n",
      "89.07\n",
      "89.07\n",
      "89.47\n",
      "89.88\n",
      "87.45\n",
      "87.04\n",
      "87.04\n",
      "86.64\n"
     ]
    }
   ],
   "source": [
    "def calculate_goods(logp_array):\n",
    "    good = len(logp_array[logp_array>-1])\n",
    "    total = len(logp_array.flatten())\n",
    "    return round(good*100/total,2)\n",
    "\n",
    "for i in logp_arrays:\n",
    "    print(calculate_goods(i))"
   ]
  },
  {
   "cell_type": "code",
   "execution_count": 25,
   "id": "5ff50510",
   "metadata": {},
   "outputs": [
    {
     "data": {
      "text/plain": [
       "31"
      ]
     },
     "execution_count": 25,
     "metadata": {},
     "output_type": "execute_result"
    }
   ],
   "source": [
    "where_nonzero = np.where(r.getScaledElasticityMatrix()!=0)\n",
    "total = len(where_nonzero[0])\n",
    "total"
   ]
  },
  {
   "cell_type": "code",
   "execution_count": 22,
   "id": "13cd9b30",
   "metadata": {},
   "outputs": [
    {
     "name": "stdout",
     "output_type": "stream",
     "text": [
      "16.13\n",
      "16.13\n",
      "12.9\n",
      "12.9\n",
      "16.13\n",
      "19.35\n",
      "0.0\n",
      "0.0\n",
      "0.0\n",
      "0.0\n"
     ]
    }
   ],
   "source": [
    "def calculate_nonzero_goods(logp_array):\n",
    "    where_nonzero = np.where(r.getScaledElasticityMatrix()!=0)\n",
    "    total = len(where_nonzero[0])\n",
    "    good = 0\n",
    "    for i in range(total):\n",
    "        if logp_array[where_nonzero[0][i], where_nonzero[1][i]] > -1:\n",
    "            good += 1\n",
    "\n",
    "    return round(good*100/total,2)\n",
    "\n",
    "for i in logp_arrays:\n",
    "    print(calculate_nonzero_goods(i))"
   ]
  },
  {
   "cell_type": "code",
   "execution_count": 1,
   "id": "f4ac9c52",
   "metadata": {},
   "outputs": [
    {
     "data": {
      "text/plain": [
       "9.354000000000001"
      ]
     },
     "execution_count": 1,
     "metadata": {},
     "output_type": "execute_result"
    }
   ],
   "source": [
    "import numpy as np\n",
    "np.mean([16.13,\n",
    "16.13,\n",
    "12.9,\n",
    "12.9,\n",
    "16.13,\n",
    "19.35,\n",
    "0.0,\n",
    "0.0,\n",
    "0.0,\n",
    "0.0])"
   ]
  }
 ],
 "metadata": {
  "kernelspec": {
   "display_name": "gayles",
   "language": "python",
   "name": "python3"
  },
  "language_info": {
   "codemirror_mode": {
    "name": "ipython",
    "version": 3
   },
   "file_extension": ".py",
   "mimetype": "text/x-python",
   "name": "python",
   "nbconvert_exporter": "python",
   "pygments_lexer": "ipython3",
   "version": "3.9.19"
  }
 },
 "nbformat": 4,
 "nbformat_minor": 5
}
