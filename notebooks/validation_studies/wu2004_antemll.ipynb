{
 "cells": [
  {
   "cell_type": "code",
   "execution_count": 2,
   "id": "63aad7db",
   "metadata": {},
   "outputs": [
    {
     "name": "stderr",
     "output_type": "stream",
     "text": [
      "WARNING (aesara.configdefaults): g++ not available, if using conda: `conda install m2w64-toolchain`\n",
      "WARNING (aesara.configdefaults): g++ not detected!  Aesara will be unable to compile C-implementations and will default to Python. Performance may be severely degraded. To remove this warning, set Aesara flags cxx to an empty string.\n",
      "WARNING (aesara.tensor.blas): Using NumPy C-API based implementation for BLAS functions.\n"
     ]
    },
    {
     "data": {
      "text/plain": [
       "'c:\\\\Users\\\\user\\\\Documents\\\\research\\\\BMCA-pipeline\\\\notebooks\\\\validation_studies'"
      ]
     },
     "execution_count": 2,
     "metadata": {},
     "output_type": "execute_result"
    }
   ],
   "source": [
    "SEED = 1\n",
    "import random\n",
    "\n",
    "import tellurium as te\n",
    "import pandas as pd\n",
    "import numpy as np\n",
    "np.random.seed(SEED)\n",
    "import matplotlib.pyplot as plt\n",
    "import seaborn as sns\n",
    "\n",
    "import pymc as pm\n",
    "\n",
    "import gzip \n",
    "import cloudpickle\n",
    "\n",
    "import cobra\n",
    "import os\n",
    "os.getcwd()"
   ]
  },
  {
   "cell_type": "code",
   "execution_count": 3,
   "id": "286ebb05",
   "metadata": {},
   "outputs": [],
   "source": [
    "os.chdir(\"../..\")\n",
    "from src import antemll, util\n",
    "import emll\n",
    "os.chdir(\"notebooks/validation_studies\")"
   ]
  },
  {
   "cell_type": "code",
   "execution_count": 4,
   "id": "e85b8bf1",
   "metadata": {},
   "outputs": [],
   "source": [
    "# 2pg was changed to pg2 because of how antimony parses metabolite\n",
    "# coefficients\n",
    "\n",
    "wu_ant = \"\"\"\n",
    "    PGM: -> pg2; ; \n",
    "    ENO: pg2 -> pep; ; \n",
    "    PK: pep -> ; ;\n",
    "\n",
    "\"\"\"\n",
    "r = te.loada(wu_ant)\n",
    "with open('../../models/sbml/wu_cobra.xml', 'w') as f:\n",
    "    f.write(r.getCurrentSBML())"
   ]
  },
  {
   "cell_type": "code",
   "execution_count": 5,
   "id": "35e76dd7",
   "metadata": {},
   "outputs": [
    {
     "data": {
      "text/plain": [
       "       PGM, ENO, PK\n",
       "pg2 [[   1,  -1,  0],\n",
       "pep  [   0,   1, -1]]"
      ]
     },
     "execution_count": 5,
     "metadata": {},
     "output_type": "execute_result"
    }
   ],
   "source": [
    "N = r.getFullStoichiometryMatrix()\n",
    "N"
   ]
  },
  {
   "cell_type": "code",
   "execution_count": 6,
   "id": "912c2742",
   "metadata": {},
   "outputs": [
    {
     "data": {
      "text/html": [
       "<div>\n",
       "<style scoped>\n",
       "    .dataframe tbody tr th:only-of-type {\n",
       "        vertical-align: middle;\n",
       "    }\n",
       "\n",
       "    .dataframe tbody tr th {\n",
       "        vertical-align: top;\n",
       "    }\n",
       "\n",
       "    .dataframe thead th {\n",
       "        text-align: right;\n",
       "    }\n",
       "</style>\n",
       "<table border=\"1\" class=\"dataframe\">\n",
       "  <thead>\n",
       "    <tr style=\"text-align: right;\">\n",
       "      <th></th>\n",
       "      <th>PGM</th>\n",
       "      <th>ENO</th>\n",
       "      <th>PK</th>\n",
       "      <th>2PG</th>\n",
       "      <th>PEP</th>\n",
       "      <th>BPG</th>\n",
       "      <th>ADP</th>\n",
       "      <th>Flux</th>\n",
       "    </tr>\n",
       "  </thead>\n",
       "  <tbody>\n",
       "    <tr>\n",
       "      <th>0</th>\n",
       "      <td>31.0</td>\n",
       "      <td>5.6</td>\n",
       "      <td>46.0</td>\n",
       "      <td>170.0</td>\n",
       "      <td>50.0</td>\n",
       "      <td>13.2</td>\n",
       "      <td>107.0</td>\n",
       "      <td>157.0</td>\n",
       "    </tr>\n",
       "    <tr>\n",
       "      <th>1</th>\n",
       "      <td>25.0</td>\n",
       "      <td>12.0</td>\n",
       "      <td>30.0</td>\n",
       "      <td>60.0</td>\n",
       "      <td>103.0</td>\n",
       "      <td>13.2</td>\n",
       "      <td>61.0</td>\n",
       "      <td>87.0</td>\n",
       "    </tr>\n",
       "    <tr>\n",
       "      <th>2</th>\n",
       "      <td>25.0</td>\n",
       "      <td>12.0</td>\n",
       "      <td>30.0</td>\n",
       "      <td>57.0</td>\n",
       "      <td>91.0</td>\n",
       "      <td>13.2</td>\n",
       "      <td>83.0</td>\n",
       "      <td>114.0</td>\n",
       "    </tr>\n",
       "    <tr>\n",
       "      <th>3</th>\n",
       "      <td>25.0</td>\n",
       "      <td>12.0</td>\n",
       "      <td>30.0</td>\n",
       "      <td>55.0</td>\n",
       "      <td>83.0</td>\n",
       "      <td>13.2</td>\n",
       "      <td>107.0</td>\n",
       "      <td>128.0</td>\n",
       "    </tr>\n",
       "    <tr>\n",
       "      <th>4</th>\n",
       "      <td>25.0</td>\n",
       "      <td>12.0</td>\n",
       "      <td>30.0</td>\n",
       "      <td>54.0</td>\n",
       "      <td>76.0</td>\n",
       "      <td>13.2</td>\n",
       "      <td>130.0</td>\n",
       "      <td>136.0</td>\n",
       "    </tr>\n",
       "    <tr>\n",
       "      <th>5</th>\n",
       "      <td>25.0</td>\n",
       "      <td>12.0</td>\n",
       "      <td>30.0</td>\n",
       "      <td>40.0</td>\n",
       "      <td>60.0</td>\n",
       "      <td>8.5</td>\n",
       "      <td>107.0</td>\n",
       "      <td>111.0</td>\n",
       "    </tr>\n",
       "    <tr>\n",
       "      <th>6</th>\n",
       "      <td>25.0</td>\n",
       "      <td>12.0</td>\n",
       "      <td>30.0</td>\n",
       "      <td>46.0</td>\n",
       "      <td>70.0</td>\n",
       "      <td>10.8</td>\n",
       "      <td>107.0</td>\n",
       "      <td>118.0</td>\n",
       "    </tr>\n",
       "    <tr>\n",
       "      <th>7</th>\n",
       "      <td>25.0</td>\n",
       "      <td>12.0</td>\n",
       "      <td>30.0</td>\n",
       "      <td>55.0</td>\n",
       "      <td>81.0</td>\n",
       "      <td>13.2</td>\n",
       "      <td>107.0</td>\n",
       "      <td>122.0</td>\n",
       "    </tr>\n",
       "    <tr>\n",
       "      <th>8</th>\n",
       "      <td>25.0</td>\n",
       "      <td>12.0</td>\n",
       "      <td>30.0</td>\n",
       "      <td>59.0</td>\n",
       "      <td>89.0</td>\n",
       "      <td>15.6</td>\n",
       "      <td>107.0</td>\n",
       "      <td>130.0</td>\n",
       "    </tr>\n",
       "    <tr>\n",
       "      <th>9</th>\n",
       "      <td>25.0</td>\n",
       "      <td>12.0</td>\n",
       "      <td>30.0</td>\n",
       "      <td>63.0</td>\n",
       "      <td>95.0</td>\n",
       "      <td>18.0</td>\n",
       "      <td>107.0</td>\n",
       "      <td>133.0</td>\n",
       "    </tr>\n",
       "    <tr>\n",
       "      <th>10</th>\n",
       "      <td>36.8</td>\n",
       "      <td>6.5</td>\n",
       "      <td>34.0</td>\n",
       "      <td>161.0</td>\n",
       "      <td>81.0</td>\n",
       "      <td>13.2</td>\n",
       "      <td>107.0</td>\n",
       "      <td>108.0</td>\n",
       "    </tr>\n",
       "    <tr>\n",
       "      <th>11</th>\n",
       "      <td>45.0</td>\n",
       "      <td>6.5</td>\n",
       "      <td>34.0</td>\n",
       "      <td>178.0</td>\n",
       "      <td>82.0</td>\n",
       "      <td>13.2</td>\n",
       "      <td>107.0</td>\n",
       "      <td>108.0</td>\n",
       "    </tr>\n",
       "    <tr>\n",
       "      <th>12</th>\n",
       "      <td>53.2</td>\n",
       "      <td>6.5</td>\n",
       "      <td>34.0</td>\n",
       "      <td>204.0</td>\n",
       "      <td>81.0</td>\n",
       "      <td>13.2</td>\n",
       "      <td>107.0</td>\n",
       "      <td>108.0</td>\n",
       "    </tr>\n",
       "    <tr>\n",
       "      <th>13</th>\n",
       "      <td>45.0</td>\n",
       "      <td>5.3</td>\n",
       "      <td>34.0</td>\n",
       "      <td>206.0</td>\n",
       "      <td>75.0</td>\n",
       "      <td>13.2</td>\n",
       "      <td>107.0</td>\n",
       "      <td>106.0</td>\n",
       "    </tr>\n",
       "    <tr>\n",
       "      <th>14</th>\n",
       "      <td>45.0</td>\n",
       "      <td>6.5</td>\n",
       "      <td>34.0</td>\n",
       "      <td>195.0</td>\n",
       "      <td>87.0</td>\n",
       "      <td>13.2</td>\n",
       "      <td>107.0</td>\n",
       "      <td>108.0</td>\n",
       "    </tr>\n",
       "    <tr>\n",
       "      <th>15</th>\n",
       "      <td>45.0</td>\n",
       "      <td>7.7</td>\n",
       "      <td>34.0</td>\n",
       "      <td>180.0</td>\n",
       "      <td>92.0</td>\n",
       "      <td>13.2</td>\n",
       "      <td>107.0</td>\n",
       "      <td>112.0</td>\n",
       "    </tr>\n",
       "    <tr>\n",
       "      <th>16</th>\n",
       "      <td>45.0</td>\n",
       "      <td>6.5</td>\n",
       "      <td>30.9</td>\n",
       "      <td>192.0</td>\n",
       "      <td>91.0</td>\n",
       "      <td>13.2</td>\n",
       "      <td>107.0</td>\n",
       "      <td>96.0</td>\n",
       "    </tr>\n",
       "    <tr>\n",
       "      <th>17</th>\n",
       "      <td>45.0</td>\n",
       "      <td>6.5</td>\n",
       "      <td>34.0</td>\n",
       "      <td>192.0</td>\n",
       "      <td>84.0</td>\n",
       "      <td>13.2</td>\n",
       "      <td>107.0</td>\n",
       "      <td>106.0</td>\n",
       "    </tr>\n",
       "    <tr>\n",
       "      <th>18</th>\n",
       "      <td>45.0</td>\n",
       "      <td>6.5</td>\n",
       "      <td>37.1</td>\n",
       "      <td>196.0</td>\n",
       "      <td>79.0</td>\n",
       "      <td>13.2</td>\n",
       "      <td>107.0</td>\n",
       "      <td>116.0</td>\n",
       "    </tr>\n",
       "  </tbody>\n",
       "</table>\n",
       "</div>"
      ],
      "text/plain": [
       "     PGM   ENO    PK    2PG    PEP   BPG    ADP   Flux\n",
       "0   31.0   5.6  46.0  170.0   50.0  13.2  107.0  157.0\n",
       "1   25.0  12.0  30.0   60.0  103.0  13.2   61.0   87.0\n",
       "2   25.0  12.0  30.0   57.0   91.0  13.2   83.0  114.0\n",
       "3   25.0  12.0  30.0   55.0   83.0  13.2  107.0  128.0\n",
       "4   25.0  12.0  30.0   54.0   76.0  13.2  130.0  136.0\n",
       "5   25.0  12.0  30.0   40.0   60.0   8.5  107.0  111.0\n",
       "6   25.0  12.0  30.0   46.0   70.0  10.8  107.0  118.0\n",
       "7   25.0  12.0  30.0   55.0   81.0  13.2  107.0  122.0\n",
       "8   25.0  12.0  30.0   59.0   89.0  15.6  107.0  130.0\n",
       "9   25.0  12.0  30.0   63.0   95.0  18.0  107.0  133.0\n",
       "10  36.8   6.5  34.0  161.0   81.0  13.2  107.0  108.0\n",
       "11  45.0   6.5  34.0  178.0   82.0  13.2  107.0  108.0\n",
       "12  53.2   6.5  34.0  204.0   81.0  13.2  107.0  108.0\n",
       "13  45.0   5.3  34.0  206.0   75.0  13.2  107.0  106.0\n",
       "14  45.0   6.5  34.0  195.0   87.0  13.2  107.0  108.0\n",
       "15  45.0   7.7  34.0  180.0   92.0  13.2  107.0  112.0\n",
       "16  45.0   6.5  30.9  192.0   91.0  13.2  107.0   96.0\n",
       "17  45.0   6.5  34.0  192.0   84.0  13.2  107.0  106.0\n",
       "18  45.0   6.5  37.1  196.0   79.0  13.2  107.0  116.0"
      ]
     },
     "execution_count": 6,
     "metadata": {},
     "output_type": "execute_result"
    }
   ],
   "source": [
    "giersch_data = pd.read_csv('../../data/giersch.csv').astype(float)\n",
    "giersch_data"
   ]
  },
  {
   "cell_type": "code",
   "execution_count": 7,
   "id": "256b5c55",
   "metadata": {},
   "outputs": [],
   "source": [
    "e = giersch_data.loc[:, ['PGM', 'ENO', 'PK']]\n",
    "y = giersch_data.loc[:, ['BPG', 'ADP']]\n",
    "v = giersch_data.loc[:, ['Flux']]\n",
    "x = giersch_data.loc[:, ['2PG', 'PEP']]\n",
    "\n",
    "ref_ind = 1\n",
    "\n",
    "v_star = v.iloc[ref_ind].values * np.ones(3)\n",
    "x_star = x.iloc[ref_ind].values\n",
    "y_star = y.iloc[ref_ind].values\n",
    "e_star = e.iloc[ref_ind].values\n",
    "\n",
    "# Normalize to reference values (and drop trivial measurement)\n",
    "en = e.values / e_star\n",
    "yn = np.log(y.values / y_star)\n",
    "xn = np.log(x.values / x_star)\n",
    "vn = v.values / v_star[0]"
   ]
  },
  {
   "cell_type": "code",
   "execution_count": 8,
   "id": "264cdb15",
   "metadata": {},
   "outputs": [
    {
     "data": {
      "text/plain": [
       "<roadrunner.RoadRunner() { this = 000001566AB23DF0 }>"
      ]
     },
     "execution_count": 8,
     "metadata": {},
     "output_type": "execute_result"
    }
   ],
   "source": [
    "os.getcwd()\n",
    "te.loads('../../models/sbml/wu_cobra.xml')"
   ]
  },
  {
   "cell_type": "code",
   "execution_count": 9,
   "id": "3f41c610",
   "metadata": {},
   "outputs": [],
   "source": [
    "import libsbml \n",
    "def create_Visser_elasticity_matrix(model_file, cobra_smbl, Ex=True):\n",
    "    \"\"\"Create an elasticity matrix for metabolites given the model in model.\n",
    "    E[j,i] represents the elasticity of reaction j for metabolite i.\n",
    "    stolen from emll.util.create_elasticity_matrix\n",
    "    \"\"\"        \n",
    "    if Ex: # making the Ex matrix\n",
    "        cobra_ant = model_file\n",
    "\n",
    "        r = te.loada(cobra_ant)\n",
    "        r.conservedMoietyAnalysis = True\n",
    "        model = cobra.io.read_sbml_model(cobra_smbl)\n",
    "\n",
    "        n_metabolites = len(model.metabolites)\n",
    "        n_reactions = len(model.reactions)\n",
    "        array = np.zeros((n_reactions, n_metabolites), dtype=float)\n",
    "\n",
    "        m_ind = model.metabolites.index\n",
    "        r_ind = model.reactions.index\n",
    "\n",
    "        for reaction in model.reactions:\n",
    "            for metabolite, stoich in reaction.metabolites.items():\n",
    "\n",
    "                # Reversible reaction, assign all elements to -stoich\n",
    "                if reaction.reversibility:\n",
    "                    array[r_ind(reaction), m_ind(metabolite)] = -np.sign(stoich)\n",
    "\n",
    "                # Irrevesible in forward direction, only assign if met is reactant\n",
    "                elif ((not reaction.reversibility) & \n",
    "                    (reaction.upper_bound > 0) &\n",
    "                    (stoich < 0)):\n",
    "                    array[r_ind(reaction), m_ind(metabolite)] = -np.sign(stoich)\n",
    "\n",
    "                # Irreversible in reverse direction, only assign if met is product\n",
    "                elif ((not reaction.reversibility) & \n",
    "                    (reaction.lower_bound < 0) &\n",
    "                    (stoich > 0)):\n",
    "                    array[r_ind(reaction), m_ind(metabolite)] = -np.sign(stoich)\n",
    "\n",
    "        array = emll.util.create_elasticity_matrix(model)\n",
    "        array = pd.DataFrame(array, index=r.getReactionIds(), columns=[i.id for i in model.metabolites])\n",
    "        array = array.loc[:,r.getFloatingSpeciesIds()]\n",
    "        \n",
    "    else: # making the Ey matrix\n",
    "        r = te.loada(model_file)\n",
    "        r.conservedMoietyAnalysis = True\n",
    "        \n",
    "        doc = libsbml.readSBMLFromString(r.getSBML())\n",
    "        model = doc.getModel()\n",
    "        \n",
    "        rxns = r.getReactionIds()\n",
    "        bd_sp = r.getBoundarySpeciesIds()\n",
    "        \n",
    "        array = np.zeros((len(rxns), len(bd_sp)))\n",
    "        for n in range(len(rxns)): \n",
    "            rxn = model.getReaction(n)\n",
    "            for reactant in range(rxn.getNumReactants()):                 \n",
    "                sp = rxn.getReactant(reactant).species\n",
    "                stoich = rxn.getReactant(reactant).getStoichiometry()\n",
    "                if sp in bd_sp: \n",
    "                    array[n, bd_sp.index(sp)] = -np.sign(stoich)\n",
    "            for prod in range(rxn.getNumProducts()):\n",
    "                sp = rxn.getProduct(prod).species\n",
    "                stoich = rxn.getProduct(prod).getStoichiometry()\n",
    "                if sp in bd_sp: \n",
    "                    array[n, bd_sp.index(sp)] = -np.sign(stoich)\n",
    "        array = pd.DataFrame(array, index=r.getReactionIds(), \\\n",
    "                                columns=r.getBoundarySpeciesIds())\n",
    "\n",
    "    return array"
   ]
  },
  {
   "cell_type": "code",
   "execution_count": 10,
   "id": "9bdc1e5c",
   "metadata": {},
   "outputs": [
    {
     "name": "stderr",
     "output_type": "stream",
     "text": [
      "No objective coefficients in model. Unclear what should be optimized\n"
     ]
    }
   ],
   "source": [
    "Ex = create_Visser_elasticity_matrix(wu_ant, '../../models/sbml/wu_cobra.xml')\n",
    "# Ey = create_Visser_elasticity_matrix(wu_ant, '../../models/sbml/wu_cobra.xml', Ex=False)"
   ]
  },
  {
   "cell_type": "code",
   "execution_count": 11,
   "id": "a8a59c70",
   "metadata": {},
   "outputs": [],
   "source": [
    "Ey = np.zeros((3, 2))\n",
    "Ey[0, 0] = 1  # bpg (+) PGM\n",
    "Ey[2, 1] = 1  # adp (+) PK\n",
    "\n",
    "Ey = pd.DataFrame(Ey, columns=['bpg','adp'], index=Ex.index)\n"
   ]
  },
  {
   "cell_type": "code",
   "execution_count": 12,
   "id": "033bca22",
   "metadata": {},
   "outputs": [],
   "source": [
    "class BMCAobj:\n",
    "    def __init__(self, N, Ex, Ey, v_star, vn, en, x_star, xn, yn):\n",
    "        self.N = N\n",
    "        self.Ex = Ex\n",
    "        self.Ey = Ey\n",
    "        self.v_star = v_star\n",
    "        self.vn = vn\n",
    "        self.en = en\n",
    "        self.x_star = x_star\n",
    "        self.xn = xn\n",
    "        self.yn = yn"
   ]
  },
  {
   "cell_type": "code",
   "execution_count": 13,
   "id": "4b2471fd",
   "metadata": {},
   "outputs": [],
   "source": [
    "BMCA_obj01 = BMCAobj(\n",
    "    N = N,\n",
    "    Ex = Ex,\n",
    "    Ey = Ey,\n",
    "    v_star = v_star,\n",
    "    vn = vn,\n",
    "    en = en,\n",
    "    x_star = x_star,\n",
    "    xn = xn,\n",
    "    yn = yn\n",
    ")"
   ]
  },
  {
   "cell_type": "markdown",
   "id": "f9ac1fcc",
   "metadata": {},
   "source": [
    "## Run ADVI"
   ]
  },
  {
   "cell_type": "code",
   "execution_count": null,
   "id": "ea71c2bd",
   "metadata": {},
   "outputs": [
    {
     "data": {
      "text/html": [
       "\n",
       "<style>\n",
       "    /* Turns off some styling */\n",
       "    progress {\n",
       "        /* gets rid of default border in Firefox and Opera. */\n",
       "        border: none;\n",
       "        /* Needs to be in here for Safari polyfill so background images work as expected. */\n",
       "        background-size: auto;\n",
       "    }\n",
       "    progress:not([value]), progress:not([value])::-webkit-progress-bar {\n",
       "        background: repeating-linear-gradient(45deg, #7e7e7e, #7e7e7e 10px, #5c5c5c 10px, #5c5c5c 20px);\n",
       "    }\n",
       "    .progress-bar-interrupted, .progress-bar-interrupted::-webkit-progress-bar {\n",
       "        background: #F44336;\n",
       "    }\n",
       "</style>\n"
      ],
      "text/plain": [
       "<IPython.core.display.HTML object>"
      ]
     },
     "metadata": {},
     "output_type": "display_data"
    },
    {
     "data": {
      "text/html": [
       "\n",
       "    <div>\n",
       "      <progress value='45000' class='' max='45000' style='width:300px; height:20px; vertical-align: middle;'></progress>\n",
       "      100.00% [45000/45000 01:46&lt;00:00 Average Loss = 46.748]\n",
       "    </div>\n",
       "    "
      ],
      "text/plain": [
       "<IPython.core.display.HTML object>"
      ]
     },
     "metadata": {},
     "output_type": "display_data"
    },
    {
     "name": "stderr",
     "output_type": "stream",
     "text": [
      "c:\\Users\\user\\miniconda3\\envs\\gayles\\lib\\site-packages\\aesara\\scalar\\basic.py:2925: RuntimeWarning:\n",
      "\n",
      "invalid value encountered in log\n",
      "\n",
      "Finished [100%]: Average Loss = 46.766\n",
      "Sampling: [e_obs, v_hat_obs]\n"
     ]
    },
    {
     "data": {
      "text/html": [
       "\n",
       "<style>\n",
       "    /* Turns off some styling */\n",
       "    progress {\n",
       "        /* gets rid of default border in Firefox and Opera. */\n",
       "        border: none;\n",
       "        /* Needs to be in here for Safari polyfill so background images work as expected. */\n",
       "        background-size: auto;\n",
       "    }\n",
       "    progress:not([value]), progress:not([value])::-webkit-progress-bar {\n",
       "        background: repeating-linear-gradient(45deg, #7e7e7e, #7e7e7e 10px, #5c5c5c 10px, #5c5c5c 20px);\n",
       "    }\n",
       "    .progress-bar-interrupted, .progress-bar-interrupted::-webkit-progress-bar {\n",
       "        background: #F44336;\n",
       "    }\n",
       "</style>\n"
      ],
      "text/plain": [
       "<IPython.core.display.HTML object>"
      ]
     },
     "metadata": {},
     "output_type": "display_data"
    },
    {
     "data": {
      "text/html": [
       "\n",
       "    <div>\n",
       "      <progress value='1000' class='' max='1000' style='width:300px; height:20px; vertical-align: middle;'></progress>\n",
       "      100.00% [1000/1000 00:00&lt;00:00]\n",
       "    </div>\n",
       "    "
      ],
      "text/plain": [
       "<IPython.core.display.HTML object>"
      ]
     },
     "metadata": {},
     "output_type": "display_data"
    },
    {
     "data": {
      "image/png": "[encoded data removed]",
      "text/plain": [
       "<Figure size 500x400 with 1 Axes>"
      ]
     },
     "metadata": {},
     "output_type": "display_data"
    }
   ],
   "source": [
    "with pm.Model() as pymc_model:\n",
    "    \n",
    "    # Initialize elasticities\n",
    "    Ex_t = pm.Deterministic('Ex', util.initialize_elasticity(Ex.to_numpy(), name='Ex', b=0.01))\n",
    "    Ey_t = pm.Deterministic('Ey', util.initialize_elasticity(Ey.to_numpy(), name='Ey', b=0.01))\n",
    "    e_obs = pm.Normal('e_obs', mu=1, sigma=1, observed=en.T)\n",
    "    chi_obs = xn.T # pm.Normal('chi_obs', mu=0, sigma=10, observed=xn.T)\n",
    "    y_obs = yn.T # pm.Normal('y_obs', mu=0, sigma=10, observed=yn.T)\n",
    "    likelihood = pm.Deterministic('vn', (e_obs * (np.ones(en.T.shape) + pm.math.dot(Ex_t,chi_obs) + pm.math.dot(Ey_t,y_obs)))[2])\n",
    "    v_hat_obs = pm.Normal('v_hat_obs', mu=likelihood, sigma=0.1, observed=vn.squeeze().T)\n",
    "\n",
    "    N_ITERATIONS = 45000\n",
    "\n",
    "with pymc_model:\n",
    "    advi = pm.ADVI()\n",
    "    tracker = pm.callbacks.Tracker(\n",
    "        mean = advi.approx.mean.eval,\n",
    "        std = advi.approx.std.eval\n",
    "    )\n",
    "    approx = advi.fit(\n",
    "        n= N_ITERATIONS, \n",
    "        callbacks = [tracker],\n",
    "        obj_optimizer=pm.adagrad_window(learning_rate=5E-3), \n",
    "        total_grad_norm_constraint=0.7,\n",
    "        obj_n_mc=1)\n",
    "\n",
    "with sns.plotting_context('notebook', font_scale=1.2):\n",
    "\n",
    "    fig = plt.figure(figsize=(5,4))\n",
    "    plt.plot(approx.hist + 30, '.', rasterized=True, ms=1)\n",
    "    # plt.ylim([-1E1, 1E3])\n",
    "    plt.xlim([0, N_ITERATIONS])\n",
    "    sns.despine(trim=True, offset=10)\n",
    "\n",
    "    plt.ylabel('-ELBO')\n",
    "    plt.xlabel('Iteration')\n",
    "    plt.title('in vitro ADVI convergence')\n",
    "    plt.tight_layout()\n",
    "\n",
    "with pymc_model:\n",
    "    trace = approx.sample(1000)\n",
    "    ppc_vi = pm.sample_posterior_predictive(trace)\n",
    "\n",
    "# 2 min"
   ]
  },
  {
   "cell_type": "code",
   "execution_count": 103,
   "id": "1c2c2c38",
   "metadata": {},
   "outputs": [],
   "source": [
    "with gzip.open(\"../../data/results/tracePickles/wu2004_validation.pgz\", \"wb\") as f:\n",
    "            cloudpickle.dump(\n",
    "                {\n",
    "                \"trace\":trace,\n",
    "                \"ppc\":ppc_vi\n",
    "                },\n",
    "                f,\n",
    "            )"
   ]
  },
  {
   "cell_type": "markdown",
   "id": "425f5bca",
   "metadata": {},
   "source": [
    "## Analysis"
   ]
  },
  {
   "cell_type": "code",
   "execution_count": 14,
   "id": "89109df2",
   "metadata": {},
   "outputs": [],
   "source": [
    "picklefolder = '../../data/results/tracePickles/'\n",
    "with gzip.open(picklefolder + 'wu2004_validation.pgz', \"rb\") as f:\n",
    "    traces = cloudpickle.load(f, encoding='bytes')\n",
    "trace=traces['trace']\n",
    "ppc_vi=traces['ppc']"
   ]
  },
  {
   "cell_type": "code",
   "execution_count": 15,
   "id": "8005c3fe",
   "metadata": {},
   "outputs": [
    {
     "data": {
      "text/html": [
       "<div>\n",
       "<style scoped>\n",
       "    .dataframe tbody tr th:only-of-type {\n",
       "        vertical-align: middle;\n",
       "    }\n",
       "\n",
       "    .dataframe tbody tr th {\n",
       "        vertical-align: top;\n",
       "    }\n",
       "\n",
       "    .dataframe thead th {\n",
       "        text-align: right;\n",
       "    }\n",
       "</style>\n",
       "<table border=\"1\" class=\"dataframe\">\n",
       "  <thead>\n",
       "    <tr style=\"text-align: right;\">\n",
       "      <th></th>\n",
       "      <th>2PG</th>\n",
       "      <th>PEP</th>\n",
       "    </tr>\n",
       "  </thead>\n",
       "  <tbody>\n",
       "    <tr>\n",
       "      <th>0</th>\n",
       "      <td>170.0</td>\n",
       "      <td>50.0</td>\n",
       "    </tr>\n",
       "    <tr>\n",
       "      <th>1</th>\n",
       "      <td>60.0</td>\n",
       "      <td>103.0</td>\n",
       "    </tr>\n",
       "  </tbody>\n",
       "</table>\n",
       "</div>"
      ],
      "text/plain": [
       "     2PG    PEP\n",
       "0  170.0   50.0\n",
       "1   60.0  103.0"
      ]
     },
     "execution_count": 15,
     "metadata": {},
     "output_type": "execute_result"
    }
   ],
   "source": [
    "metabolites = giersch_data[['2PG','PEP']]\n",
    "metabolites.head(2)"
   ]
  },
  {
   "cell_type": "code",
   "execution_count": 16,
   "id": "dea2c2be",
   "metadata": {},
   "outputs": [],
   "source": [
    "def calculate_Smallbone_ss(Ea, Eb):\n",
    "    \"\"\"\n",
    "    As outlined in Smallbone et al. 2007, Equations 6 and 10\n",
    "\n",
    "    Because compartment volumes usually have a value of 1, I have \n",
    "    simply opted to make np.ones matrices instead of calling on \n",
    "    roadrunner for the compartment volumes.\n",
    "\n",
    "    \"\"\"\n",
    "    r = te.loada(wu_ant)\n",
    "    r.conservedMoietyAnalysis = True\n",
    "    a = r.getIndependentFloatingSpeciesIds()\n",
    "    b = r.getFloatingSpeciesIds()\n",
    "    squiggle_idx = [b.index(i) for i in a if i in b]\n",
    "    squiggle_idx.sort()\n",
    "    \n",
    "    t1 = np.linalg.inv(np.diag(x_star))\n",
    "    t2 = np.linalg.inv(np.diag(np.ones(len(x_star))))\n",
    "    t3 = N\n",
    "    t4 = np.linalg.pinv(N[squiggle_idx,:])\n",
    "    t5 = np.diag(np.ones(len(squiggle_idx)))\n",
    "    t6 = np.diag(x_star[squiggle_idx])\n",
    "    L = t1 @ t2 @ t3 @ t4 @ t5 @ t6 # link matrix\n",
    "    \n",
    "    L_ = r.getLinkMatrix()\n",
    "\n",
    "    # solving for equation 10, steady state internal metabolite concentrations\n",
    "    t7 = N[squiggle_idx,:]\n",
    "    t7_ = r.getReducedStoichiometryMatrix()\n",
    "    t8 = np.diag(v_star)\n",
    "    \n",
    "    # d = t7_ @ t8 @ Ea @ L\n",
    "    # print(np.linalg.matrix_rank(d)) \n",
    "\n",
    "    t100 = -np.linalg.inv(t7_ @ t8 @ Ea @ L_) \n",
    "    t101 = t7_ @ t8 @ Eb @ (yn).T # here, we may need to add in another dimension\n",
    "    chi_star = t100 @ t101\n",
    "\n",
    "    # chi_star.rename({1:'met_conc'}, axis=1, inplace=True)\n",
    "    res = {squiggle_idx[i]: b[i] for i in range(len(squiggle_idx))}\n",
    "    chi_star = chi_star.rename(index=res)\n",
    "\n",
    "    return chi_star"
   ]
  },
  {
   "cell_type": "code",
   "execution_count": 17,
   "id": "932c56ba",
   "metadata": {},
   "outputs": [],
   "source": [
    "chi = calculate_Smallbone_ss(BMCA_obj01.Ex, BMCA_obj01.Ey)"
   ]
  },
  {
   "cell_type": "code",
   "execution_count": 18,
   "id": "17d73b9a",
   "metadata": {},
   "outputs": [],
   "source": [
    "recovered_met_concs = (np.exp(BMCA_obj01.xn))*BMCA_obj01.x_star"
   ]
  },
  {
   "cell_type": "code",
   "execution_count": 18,
   "id": "e1087bdb",
   "metadata": {},
   "outputs": [
    {
     "data": {
      "text/plain": [
       "Text(0, 0.5, 'x values using Smallbone ss')"
      ]
     },
     "execution_count": 18,
     "metadata": {},
     "output_type": "execute_result"
    },
    {
     "data": {
      "image/png": "[encoded data removed]",
      "text/plain": [
       "<Figure size 640x480 with 1 Axes>"
      ]
     },
     "metadata": {},
     "output_type": "display_data"
    }
   ],
   "source": [
    "plt.scatter(giersch_data[['2PG','PEP']], \n",
    "            recovered_met_concs, alpha=0.3, zorder=100)\n",
    "plt.axline([0, 0], [10, 10], c='gray', linestyle='dashed', linewidth=2)\n",
    "\n",
    "plt.title('')\n",
    "plt.xlabel('ground truth x values')\n",
    "plt.ylabel('x values using Smallbone ss')"
   ]
  },
  {
   "cell_type": "code",
   "execution_count": 19,
   "id": "6fccf281",
   "metadata": {},
   "outputs": [],
   "source": [
    "ppc = ppc_vi.posterior_predictive['v_hat_obs']*v_star[0]\n",
    "median = ppc.median(dim=['chain','draw'])\n",
    "v_hat_obs_post_df = pd.DataFrame(np.array(median))\n",
    "\n",
    "hpd = pm.hdi(ppc)\n",
    "err = np.abs(hpd - median).to_array()[0]"
   ]
  },
  {
   "cell_type": "code",
   "execution_count": 20,
   "id": "388c0bcc",
   "metadata": {},
   "outputs": [
    {
     "data": {
      "text/plain": [
       "Text(0, 0.5, 'median posterior predictive flux values')"
      ]
     },
     "execution_count": 20,
     "metadata": {},
     "output_type": "execute_result"
    },
    {
     "data": {
      "image/png": "[encoded data removed]",
      "text/plain": [
       "<Figure size 640x480 with 1 Axes>"
      ]
     },
     "metadata": {},
     "output_type": "display_data"
    }
   ],
   "source": [
    "plt.errorbar(BMCA_obj01.vn*v_star[0], median, yerr=err.T, alpha=0.4, fmt='o', label='prior', zorder=100)\n",
    "\n",
    "plt.axis('equal')\n",
    "plt.axline([0, 0], [2, 2], c='gray', linestyle='dashed', linewidth=2)\n",
    "\n",
    "plt.title('posterior predictive flux validation ')\n",
    "plt.xlabel('empirical flux values')\n",
    "plt.ylabel('median posterior predictive flux values')"
   ]
  },
  {
   "cell_type": "code",
   "execution_count": 24,
   "id": "4e16c563",
   "metadata": {},
   "outputs": [
    {
     "data": {
      "text/plain": [
       "Text(0, 0.5, 'median posterior predictive flux values')"
      ]
     },
     "execution_count": 24,
     "metadata": {},
     "output_type": "execute_result"
    },
    {
     "data": {
      "image/png": "[encoded data removed]",
      "text/plain": [
       "<Figure size 500x500 with 1 Axes>"
      ]
     },
     "metadata": {},
     "output_type": "display_data"
    }
   ],
   "source": [
    "plt.figure(figsize=(5, 5))\n",
    "plt.errorbar(BMCA_obj01.vn*v_star[0], median, yerr=err.T, alpha=0.4, fmt='o', label='prior', zorder=100)\n",
    "\n",
    "plt.axis('equal')\n",
    "plt.axline([0, 0], [2, 2], c='gray', linestyle='dashed', linewidth=2)\n",
    "\n",
    "plt.ylim(75, 175)\n",
    "plt.xlim(75, 175)\n",
    "\n",
    "plt.title('posterior predictive flux validation ')\n",
    "plt.xlabel('empirical flux values')\n",
    "plt.ylabel('median posterior predictive flux values')"
   ]
  },
  {
   "cell_type": "code",
   "execution_count": 21,
   "id": "3d6e8ce5",
   "metadata": {},
   "outputs": [
    {
     "name": "stderr",
     "output_type": "stream",
     "text": [
      "arviz - WARNING - Shape validation failed: input_shape: (1, 1000), minimum_shape: (chains=2, draws=4)\n",
      "arviz - WARNING - Shape validation failed: input_shape: (1, 1000), minimum_shape: (chains=2, draws=4)\n"
     ]
    }
   ],
   "source": [
    "Ex_advi = util.get_az_summary(trace)\n",
    "Ey_advi = util.get_az_summary(trace, elasticity='Ey')"
   ]
  },
  {
   "cell_type": "code",
   "execution_count": 82,
   "id": "0ce32878",
   "metadata": {},
   "outputs": [
    {
     "data": {
      "text/html": [
       "<div>\n",
       "<style scoped>\n",
       "    .dataframe tbody tr th:only-of-type {\n",
       "        vertical-align: middle;\n",
       "    }\n",
       "\n",
       "    .dataframe tbody tr th {\n",
       "        vertical-align: top;\n",
       "    }\n",
       "\n",
       "    .dataframe thead th {\n",
       "        text-align: right;\n",
       "    }\n",
       "</style>\n",
       "<table border=\"1\" class=\"dataframe\">\n",
       "  <thead>\n",
       "    <tr style=\"text-align: right;\">\n",
       "      <th></th>\n",
       "      <th>predicted</th>\n",
       "    </tr>\n",
       "  </thead>\n",
       "  <tbody>\n",
       "    <tr>\n",
       "      <th>PGM_pg2</th>\n",
       "      <td>-0.817</td>\n",
       "    </tr>\n",
       "    <tr>\n",
       "      <th>PGM_pep</th>\n",
       "      <td>0.004</td>\n",
       "    </tr>\n",
       "    <tr>\n",
       "      <th>ENO_pg2</th>\n",
       "      <td>0.820</td>\n",
       "    </tr>\n",
       "    <tr>\n",
       "      <th>ENO_pep</th>\n",
       "      <td>-0.824</td>\n",
       "    </tr>\n",
       "    <tr>\n",
       "      <th>PK_pg2</th>\n",
       "      <td>-0.109</td>\n",
       "    </tr>\n",
       "    <tr>\n",
       "      <th>PK_pep</th>\n",
       "      <td>0.113</td>\n",
       "    </tr>\n",
       "    <tr>\n",
       "      <th>PGM_bpg</th>\n",
       "      <td>0.814</td>\n",
       "    </tr>\n",
       "    <tr>\n",
       "      <th>PGM_adp</th>\n",
       "      <td>-0.005</td>\n",
       "    </tr>\n",
       "    <tr>\n",
       "      <th>ENO_bpg</th>\n",
       "      <td>-0.004</td>\n",
       "    </tr>\n",
       "    <tr>\n",
       "      <th>ENO_adp</th>\n",
       "      <td>-0.004</td>\n",
       "    </tr>\n",
       "    <tr>\n",
       "      <th>PK_bpg</th>\n",
       "      <td>0.001</td>\n",
       "    </tr>\n",
       "    <tr>\n",
       "      <th>PK_adp</th>\n",
       "      <td>0.607</td>\n",
       "    </tr>\n",
       "  </tbody>\n",
       "</table>\n",
       "</div>"
      ],
      "text/plain": [
       "         predicted\n",
       "PGM_pg2     -0.817\n",
       "PGM_pep      0.004\n",
       "ENO_pg2      0.820\n",
       "ENO_pep     -0.824\n",
       "PK_pg2      -0.109\n",
       "PK_pep       0.113\n",
       "PGM_bpg      0.814\n",
       "PGM_adp     -0.005\n",
       "ENO_bpg     -0.004\n",
       "ENO_adp     -0.004\n",
       "PK_bpg       0.001\n",
       "PK_adp       0.607"
      ]
     },
     "execution_count": 82,
     "metadata": {},
     "output_type": "execute_result"
    }
   ],
   "source": [
    "mean_elasticities_df = pd.DataFrame(np.concatenate((Ex_advi,Ey_advi)), columns=['predicted'], \n",
    "                               index=[i + '_' + ii for i in Ex.index for ii in Ex.columns]+[i + '_' + ii for i in Ey.index for ii in Ey.columns])\n",
    "mean_elasticities_df "
   ]
  },
  {
   "cell_type": "code",
   "execution_count": 83,
   "id": "e33d661f",
   "metadata": {},
   "outputs": [
    {
     "data": {
      "text/html": [
       "<div>\n",
       "<style scoped>\n",
       "    .dataframe tbody tr th:only-of-type {\n",
       "        vertical-align: middle;\n",
       "    }\n",
       "\n",
       "    .dataframe tbody tr th {\n",
       "        vertical-align: top;\n",
       "    }\n",
       "\n",
       "    .dataframe thead th {\n",
       "        text-align: right;\n",
       "    }\n",
       "</style>\n",
       "<table border=\"1\" class=\"dataframe\">\n",
       "  <thead>\n",
       "    <tr style=\"text-align: right;\">\n",
       "      <th></th>\n",
       "      <th>index</th>\n",
       "      <th>predicted</th>\n",
       "    </tr>\n",
       "  </thead>\n",
       "  <tbody>\n",
       "    <tr>\n",
       "      <th>0</th>\n",
       "      <td>PGM_pg2</td>\n",
       "      <td>-0.817</td>\n",
       "    </tr>\n",
       "    <tr>\n",
       "      <th>1</th>\n",
       "      <td>PGM_pep</td>\n",
       "      <td>0.004</td>\n",
       "    </tr>\n",
       "    <tr>\n",
       "      <th>2</th>\n",
       "      <td>ENO_pg2</td>\n",
       "      <td>0.820</td>\n",
       "    </tr>\n",
       "    <tr>\n",
       "      <th>3</th>\n",
       "      <td>ENO_pep</td>\n",
       "      <td>-0.824</td>\n",
       "    </tr>\n",
       "    <tr>\n",
       "      <th>4</th>\n",
       "      <td>PK_pg2</td>\n",
       "      <td>-0.109</td>\n",
       "    </tr>\n",
       "    <tr>\n",
       "      <th>5</th>\n",
       "      <td>PK_pep</td>\n",
       "      <td>0.113</td>\n",
       "    </tr>\n",
       "    <tr>\n",
       "      <th>6</th>\n",
       "      <td>PGM_bpg</td>\n",
       "      <td>0.814</td>\n",
       "    </tr>\n",
       "    <tr>\n",
       "      <th>7</th>\n",
       "      <td>PGM_adp</td>\n",
       "      <td>-0.005</td>\n",
       "    </tr>\n",
       "    <tr>\n",
       "      <th>8</th>\n",
       "      <td>ENO_bpg</td>\n",
       "      <td>-0.004</td>\n",
       "    </tr>\n",
       "    <tr>\n",
       "      <th>9</th>\n",
       "      <td>ENO_adp</td>\n",
       "      <td>-0.004</td>\n",
       "    </tr>\n",
       "    <tr>\n",
       "      <th>10</th>\n",
       "      <td>PK_bpg</td>\n",
       "      <td>0.001</td>\n",
       "    </tr>\n",
       "    <tr>\n",
       "      <th>11</th>\n",
       "      <td>PK_adp</td>\n",
       "      <td>0.607</td>\n",
       "    </tr>\n",
       "  </tbody>\n",
       "</table>\n",
       "</div>"
      ],
      "text/plain": [
       "      index  predicted\n",
       "0   PGM_pg2     -0.817\n",
       "1   PGM_pep      0.004\n",
       "2   ENO_pg2      0.820\n",
       "3   ENO_pep     -0.824\n",
       "4    PK_pg2     -0.109\n",
       "5    PK_pep      0.113\n",
       "6   PGM_bpg      0.814\n",
       "7   PGM_adp     -0.005\n",
       "8   ENO_bpg     -0.004\n",
       "9   ENO_adp     -0.004\n",
       "10   PK_bpg      0.001\n",
       "11   PK_adp      0.607"
      ]
     },
     "execution_count": 83,
     "metadata": {},
     "output_type": "execute_result"
    }
   ],
   "source": [
    "mean_elasticities_df.reset_index()"
   ]
  },
  {
   "cell_type": "code",
   "execution_count": 74,
   "id": "f762185a",
   "metadata": {},
   "outputs": [
    {
     "data": {
      "text/plain": [
       "(1, 1000, 3, 2)"
      ]
     },
     "execution_count": 74,
     "metadata": {},
     "output_type": "execute_result"
    }
   ],
   "source": [
    "trace.posterior['Ex'].to_numpy().shape"
   ]
  },
  {
   "cell_type": "code",
   "execution_count": 79,
   "id": "89bf80ca",
   "metadata": {},
   "outputs": [],
   "source": [
    "ex = trace.posterior['Ex'].to_numpy().reshape((1000, -1))\n",
    "ey = trace.posterior['Ey'].to_numpy().reshape((1000, -1))\n",
    "e_all = np.hstack([ex, ey])"
   ]
  },
  {
   "cell_type": "code",
   "execution_count": 75,
   "id": "3c887b24",
   "metadata": {},
   "outputs": [],
   "source": [
    "e_labels = [i + '_' + ii for i in Ex.index for ii in Ex.columns]+[i + '_' + ii for i in Ey.index for ii in Ey.columns]"
   ]
  },
  {
   "cell_type": "code",
   "execution_count": 80,
   "id": "07d1f94e",
   "metadata": {},
   "outputs": [
    {
     "data": {
      "text/html": [
       "<div>\n",
       "<style scoped>\n",
       "    .dataframe tbody tr th:only-of-type {\n",
       "        vertical-align: middle;\n",
       "    }\n",
       "\n",
       "    .dataframe tbody tr th {\n",
       "        vertical-align: top;\n",
       "    }\n",
       "\n",
       "    .dataframe thead th {\n",
       "        text-align: right;\n",
       "    }\n",
       "</style>\n",
       "<table border=\"1\" class=\"dataframe\">\n",
       "  <thead>\n",
       "    <tr style=\"text-align: right;\">\n",
       "      <th></th>\n",
       "      <th>PGM_pg2</th>\n",
       "      <th>PGM_pep</th>\n",
       "      <th>ENO_pg2</th>\n",
       "      <th>ENO_pep</th>\n",
       "      <th>PK_pg2</th>\n",
       "      <th>PK_pep</th>\n",
       "      <th>PGM_bpg</th>\n",
       "      <th>PGM_adp</th>\n",
       "      <th>ENO_bpg</th>\n",
       "      <th>ENO_adp</th>\n",
       "      <th>PK_bpg</th>\n",
       "      <th>PK_adp</th>\n",
       "    </tr>\n",
       "  </thead>\n",
       "  <tbody>\n",
       "    <tr>\n",
       "      <th>0</th>\n",
       "      <td>-1.805891</td>\n",
       "      <td>-0.022095</td>\n",
       "      <td>-0.182346</td>\n",
       "      <td>-1.815231</td>\n",
       "      <td>-0.153768</td>\n",
       "      <td>-0.003137</td>\n",
       "      <td>-0.171923</td>\n",
       "      <td>-0.033537</td>\n",
       "      <td>-0.035914</td>\n",
       "      <td>-0.032435</td>\n",
       "      <td>-0.024915</td>\n",
       "      <td>0.526820</td>\n",
       "    </tr>\n",
       "    <tr>\n",
       "      <th>1</th>\n",
       "      <td>0.144455</td>\n",
       "      <td>0.033815</td>\n",
       "      <td>1.853157</td>\n",
       "      <td>0.186973</td>\n",
       "      <td>-0.059991</td>\n",
       "      <td>0.246788</td>\n",
       "      <td>1.852898</td>\n",
       "      <td>0.022704</td>\n",
       "      <td>0.025270</td>\n",
       "      <td>0.023802</td>\n",
       "      <td>0.032025</td>\n",
       "      <td>0.682765</td>\n",
       "    </tr>\n",
       "  </tbody>\n",
       "</table>\n",
       "</div>"
      ],
      "text/plain": [
       "    PGM_pg2   PGM_pep   ENO_pg2   ENO_pep    PK_pg2    PK_pep   PGM_bpg  \\\n",
       "0 -1.805891 -0.022095 -0.182346 -1.815231 -0.153768 -0.003137 -0.171923   \n",
       "1  0.144455  0.033815  1.853157  0.186973 -0.059991  0.246788  1.852898   \n",
       "\n",
       "    PGM_adp   ENO_bpg   ENO_adp    PK_bpg    PK_adp  \n",
       "0 -0.033537 -0.035914 -0.032435 -0.024915  0.526820  \n",
       "1  0.022704  0.025270  0.023802  0.032025  0.682765  "
      ]
     },
     "execution_count": 80,
     "metadata": {},
     "output_type": "execute_result"
    }
   ],
   "source": [
    "e_df = pd.DataFrame(e_all, columns=e_labels)\n",
    "\n",
    "# Create an empty DataFrame to store HDI results in wide format\n",
    "hdi_results = pd.DataFrame(columns=e_df.columns)\n",
    "\n",
    "# Iterate through each column and calculate HDI separately\n",
    "for column in e_df.columns:\n",
    "    hdi = pm.hdi(e_df[column].values)\n",
    "    hdi_results[column] = hdi\n",
    "\n",
    "# Display or use the DataFrame with HDI results in wide format\n",
    "hdi_results\n",
    "\n",
    "e_df = hdi_results\n",
    "e_df"
   ]
  },
  {
   "cell_type": "code",
   "execution_count": 23,
   "id": "9916c23c",
   "metadata": {},
   "outputs": [],
   "source": [
    "def run_prior_predictive(BMCA_obj):\n",
    "    ll = emll.LinLogLeastNorm(N, BMCA_obj.Ex, BMCA_obj.Ey, BMCA_obj.v_star, driver='gelsy')\n",
    "    \n",
    "    with pm.Model() as pymc_model:\n",
    "        # Initialize elasticities\n",
    "        # Ex and Ey have to be shape (rxns, mets)\n",
    "        Ex_t = pm.Deterministic('Ex', util.initialize_elasticity(BMCA_obj.Ex.to_numpy(), 'Ex'))\n",
    "        Ey_t = pm.Deterministic('Ey', util.initialize_elasticity(BMCA_obj.Ey.to_numpy(), 'Ey'))\n",
    "\n",
    "        trace_prior = pm.sample_prior_predictive(random_seed=SEED)\n",
    "\n",
    "    return trace_prior\n"
   ]
  },
  {
   "cell_type": "markdown",
   "id": "b865efdb",
   "metadata": {},
   "source": [
    "### Calculating CCCs"
   ]
  },
  {
   "cell_type": "code",
   "execution_count": null,
   "id": "89aac17c",
   "metadata": {},
   "outputs": [],
   "source": [
    "Ex01_prior_med = util.get_az_summary(run_prior_predictive(BMCA_obj01)['prior']['Ex'])\n",
    "Ex01_prior_med"
   ]
  },
  {
   "cell_type": "code",
   "execution_count": 25,
   "id": "6888de3a",
   "metadata": {},
   "outputs": [],
   "source": [
    "priorCCC01 = util.estimate_CCCs(BMCA_obj01, Ex01_prior_med.reshape((3,-1)))"
   ]
  },
  {
   "cell_type": "code",
   "execution_count": 26,
   "id": "7e0f9ec4",
   "metadata": {},
   "outputs": [
    {
     "data": {
      "text/plain": [
       "(1000, 2, 3)"
      ]
     },
     "execution_count": 26,
     "metadata": {},
     "output_type": "execute_result"
    }
   ],
   "source": [
    "postCCC01 = util.estimate_CCCs(BMCA_obj01, Ex_advi.reshape((3,-1)))\n",
    "postCCC01.shape"
   ]
  },
  {
   "cell_type": "markdown",
   "id": "89c4b199",
   "metadata": {},
   "source": [
    "### Calculating FCCs"
   ]
  },
  {
   "cell_type": "code",
   "execution_count": 27,
   "id": "b28cba6e",
   "metadata": {},
   "outputs": [
    {
     "name": "stderr",
     "output_type": "stream",
     "text": [
      "Sampling: [Ex_capacity_entries, Ex_kinetic_entries, Ey_capacity_entries, Ey_kinetic_entries]\n"
     ]
    },
    {
     "data": {
      "text/plain": [
       "(500, 3, 3)"
      ]
     },
     "execution_count": 27,
     "metadata": {},
     "output_type": "execute_result"
    }
   ],
   "source": [
    "priorFCC01 = util.estimate_FCCs(BMCA_obj01, np.squeeze(run_prior_predictive(BMCA_obj01)['prior']['Ex'].values))\n",
    "priorFCC01.shape"
   ]
  },
  {
   "cell_type": "code",
   "execution_count": 32,
   "id": "9bd4919e",
   "metadata": {},
   "outputs": [
    {
     "data": {
      "text/plain": [
       "(1000, 3, 3)"
      ]
     },
     "execution_count": 32,
     "metadata": {},
     "output_type": "execute_result"
    }
   ],
   "source": [
    "postFCC01 = util.estimate_FCCs(BMCA_obj01, np.squeeze(trace.posterior['Ex'].values))\n",
    "postFCC01.shape"
   ]
  },
  {
   "cell_type": "markdown",
   "id": "1bc243aa",
   "metadata": {},
   "source": [
    "### Visualizing FCC predictions"
   ]
  },
  {
   "cell_type": "code",
   "execution_count": 104,
   "id": "36cd603c",
   "metadata": {},
   "outputs": [
    {
     "data": {
      "image/png": "[encoded data removed]",
      "text/plain": [
       "<Figure size 800x400 with 2 Axes>"
      ]
     },
     "metadata": {},
     "output_type": "display_data"
    }
   ],
   "source": [
    "# Create a figure and axes\n",
    "fig = plt.figure(figsize=(8, 4))\n",
    "ax = fig.add_subplot(111)\n",
    "ax2 = fig.add_subplot(111, frameon=False, sharex=ax, sharey=ax)\n",
    "\n",
    "# Define palette colors for different types\n",
    "my_pal = {\"Prior\": \".8\", \"ADVI\": \"tab:blue\"}\n",
    "\n",
    "# Filter data for specific type 'Prior'\n",
    "# Reshape to long-form DataFrame\n",
    "data_prior = pd.DataFrame(priorFCC01[:,2,:], columns=['PGM', 'ENO', 'PK'])\n",
    "data_prior = data_prior.melt(var_name='Reaction', value_name='FCC')\n",
    "data_prior['Type'] = 'Prior'  # adds same label to all rows\n",
    "\n",
    "# Create violin plot for 'Prior' type on ax\n",
    "sns.violinplot(\n",
    "    x='Reaction', y='FCC', hue='Type', data=data_prior,\n",
    "    density_norm='width', width=0.5, palette=my_pal, saturation=1., alpha=0.1, ax=ax\n",
    ")\n",
    "\n",
    "data_post = pd.DataFrame(postFCC01[:,2,:], columns=['PGM', 'ENO', 'PK'])\n",
    "data_post = data_post.melt(var_name='Reaction', value_name='FCC')\n",
    "data_post['Type'] = 'ADVI'  # adds same label to all rows\n",
    "sns.violinplot(\n",
    "    x='Reaction', y='FCC', hue='Type', data=data_post,\n",
    "    density_norm='width', width=0.8,\n",
    "    hue_order=['ADVI'],\n",
    "    palette=my_pal, ax=ax2\n",
    ")\n",
    "\n",
    "# Control coefficients estimated from elasticities; Wu table 7\n",
    "wu_ccs = np.array([-0.34 , 0.14 , 1.20])\n",
    "# Additional plot elements or customizations\n",
    "for i, cc in enumerate(wu_ccs):\n",
    "    ax2.plot([i - .4, i + .4], [cc, cc], '-', color=sns.color_palette('muted')[3])\n",
    "\n",
    "\n",
    "# Set y-axis limit for ax\n",
    "ax.set_ylim([-1, 2])\n",
    "# Add horizontal line at y=0 to ax\n",
    "ax.axhline(0, ls='--', color='.7', zorder=10000)\n",
    "# Remove spines for aesthetics\n",
    "sns.despine(trim=True)"
   ]
  },
  {
   "cell_type": "code",
   "execution_count": null,
   "id": "e541d33d",
   "metadata": {},
   "outputs": [],
   "source": [
    "man = util.estimate_FCCs(BMCA_obj01, util.get_az_summary(trace).reshape((3,-1)))\n",
    "man"
   ]
  }
 ],
 "metadata": {
  "kernelspec": {
   "display_name": "gayles",
   "language": "python",
   "name": "python3"
  },
  "language_info": {
   "codemirror_mode": {
    "name": "ipython",
    "version": 3
   },
   "file_extension": ".py",
   "mimetype": "text/x-python",
   "name": "python",
   "nbconvert_exporter": "python",
   "pygments_lexer": "ipython3",
   "version": "3.9.19"
  }
 },
 "nbformat": 4,
 "nbformat_minor": 5
}
