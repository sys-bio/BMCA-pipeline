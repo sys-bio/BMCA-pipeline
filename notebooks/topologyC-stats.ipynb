{
 "cells": [
  {
   "cell_type": "code",
   "execution_count": 1,
   "metadata": {},
   "outputs": [],
   "source": [
    "from scipy.stats import f_oneway\n",
    "from scipy.stats import kruskal\n",
    "\n",
    "import pandas as pd\n",
    "import numpy as np\n",
    "np.random.seed(SEED)\n",
    "import tellurium as te\n",
    "\n",
    "import statsmodels.api as sm\n",
    "from statsmodels.formula.api import ols\n",
    "\n",
    "import scipy as sp\n",
    "\n",
    "import seaborn as sns\n",
    "import matplotlib.pyplot as plt\n",
    "from matplotlib.colors import LogNorm\n",
    "\n",
    "import os\n",
    "\n",
    "import gzip\n",
    "import cloudpickle"
   ]
  },
  {
   "cell_type": "code",
   "execution_count": 3,
   "metadata": {},
   "outputs": [
    {
     "name": "stderr",
     "output_type": "stream",
     "text": [
      "WARNING (aesara.configdefaults): g++ not available, if using conda: `conda install m2w64-toolchain`\n",
      "WARNING (aesara.configdefaults): g++ not detected!  Aesara will be unable to compile C-implementations and will default to Python. Performance may be severely degraded. To remove this warning, set Aesara flags cxx to an empty string.\n",
      "WARNING (aesara.tensor.blas): Using NumPy C-API based implementation for BLAS functions.\n"
     ]
    }
   ],
   "source": [
    "os.chdir('..')\n",
    "from src import util\n",
    "os.chdir('notebooks')"
   ]
  },
  {
   "cell_type": "markdown",
   "metadata": {},
   "source": [
    "## Quantifying the number of FCCs in top ten that were predicted correctly by BMCA\n"
   ]
  },
  {
   "cell_type": "code",
   "execution_count": null,
   "metadata": {},
   "outputs": [],
   "source": []
  },
  {
   "cell_type": "markdown",
   "metadata": {},
   "source": [
    "## Visualizing Spearman data "
   ]
  },
  {
   "cell_type": "markdown",
   "metadata": {},
   "source": [
    "### Graph Spearman data"
   ]
  },
  {
   "cell_type": "code",
   "execution_count": 3,
   "metadata": {},
   "outputs": [
    {
     "data": {
      "text/html": [
       "<div>\n",
       "<style scoped>\n",
       "    .dataframe tbody tr th:only-of-type {\n",
       "        vertical-align: middle;\n",
       "    }\n",
       "\n",
       "    .dataframe tbody tr th {\n",
       "        vertical-align: top;\n",
       "    }\n",
       "\n",
       "    .dataframe thead th {\n",
       "        text-align: right;\n",
       "    }\n",
       "</style>\n",
       "<table border=\"1\" class=\"dataframe\">\n",
       "  <thead>\n",
       "    <tr style=\"text-align: right;\">\n",
       "      <th></th>\n",
       "      <th>pt_lvl</th>\n",
       "      <th>r</th>\n",
       "      <th>p-value</th>\n",
       "      <th>lower</th>\n",
       "      <th>upper</th>\n",
       "    </tr>\n",
       "  </thead>\n",
       "  <tbody>\n",
       "    <tr>\n",
       "      <th>0</th>\n",
       "      <td>0.5x</td>\n",
       "      <td>0.261433</td>\n",
       "      <td>0.03260</td>\n",
       "      <td>-0.007976</td>\n",
       "      <td>0.498054</td>\n",
       "    </tr>\n",
       "    <tr>\n",
       "      <th>1</th>\n",
       "      <td>1.5x</td>\n",
       "      <td>0.144864</td>\n",
       "      <td>0.24215</td>\n",
       "      <td>-0.139492</td>\n",
       "      <td>0.384847</td>\n",
       "    </tr>\n",
       "  </tbody>\n",
       "</table>\n",
       "</div>"
      ],
      "text/plain": [
       "  pt_lvl         r  p-value     lower     upper\n",
       "0   0.5x  0.261433  0.03260 -0.007976  0.498054\n",
       "1   1.5x  0.144864  0.24215 -0.139492  0.384847"
      ]
     },
     "execution_count": 3,
     "metadata": {},
     "output_type": "execute_result"
    }
   ],
   "source": [
    "#spr_df = pd.read_csv('../data/results/spearman_coefficients/topologyC_allData_spr.csv')\n",
    "spr_df = pd.read_csv('../data/results/spearman_coefficients/topologyC_emll_spr.csv')\n",
    "spr_df.rename(columns={'Unnamed: 0': 'pt_lvl'}, inplace=True)\n",
    "spr_df"
   ]
  },
  {
   "cell_type": "code",
   "execution_count": 4,
   "metadata": {},
   "outputs": [
    {
     "data": {
      "text/plain": [
       "(0.0, 1.05)"
      ]
     },
     "execution_count": 4,
     "metadata": {},
     "output_type": "execute_result"
    },
    {
     "data": {
      "image/png": "[encoded data removed]",
      "text/plain": [
       "<Figure size 640x480 with 1 Axes>"
      ]
     },
     "metadata": {},
     "output_type": "display_data"
    }
   ],
   "source": [
    "plt.bar(spr_df['pt_lvl'], spr_df['r'], alpha=0.5, color='r')\n",
    "plt.grid()\n",
    "\n",
    "plt.axvline(0, spr_df[spr_df['pt_lvl']=='0.5x']['lower'].values[0], spr_df[spr_df['pt_lvl']=='0.5x']['upper'].values[0], c='k')\n",
    "plt.axvline(1, spr_df[spr_df['pt_lvl']=='1.5x']['lower'].values[0], spr_df[spr_df['pt_lvl']=='1.5x']['upper'].values[0], c='k')\n",
    "\n",
    "plt.title(\"Spearman rank correlation coefficients by perturbation strength\")\n",
    "plt.xlabel('perturbation level')\n",
    "plt.ylabel('Spearman $\\it{r}$')\n",
    "plt.ylim((0, 1.05))"
   ]
  },
  {
   "cell_type": "markdown",
   "metadata": {},
   "source": [
    "## Visualizing MAE across the different types of data"
   ]
  },
  {
   "cell_type": "code",
   "execution_count": 5,
   "metadata": {},
   "outputs": [
    {
     "data": {
      "text/html": [
       "<div>\n",
       "<style scoped>\n",
       "    .dataframe tbody tr th:only-of-type {\n",
       "        vertical-align: middle;\n",
       "    }\n",
       "\n",
       "    .dataframe tbody tr th {\n",
       "        vertical-align: top;\n",
       "    }\n",
       "\n",
       "    .dataframe thead th {\n",
       "        text-align: right;\n",
       "    }\n",
       "</style>\n",
       "<table border=\"1\" class=\"dataframe\">\n",
       "  <thead>\n",
       "    <tr style=\"text-align: right;\">\n",
       "      <th></th>\n",
       "      <th>pt_lvl</th>\n",
       "      <th>values</th>\n",
       "    </tr>\n",
       "  </thead>\n",
       "  <tbody>\n",
       "    <tr>\n",
       "      <th>0</th>\n",
       "      <td>gt</td>\n",
       "      <td>0.000000</td>\n",
       "    </tr>\n",
       "    <tr>\n",
       "      <th>1</th>\n",
       "      <td>0.5x</td>\n",
       "      <td>2.861646</td>\n",
       "    </tr>\n",
       "    <tr>\n",
       "      <th>2</th>\n",
       "      <td>1.5x</td>\n",
       "      <td>2.862109</td>\n",
       "    </tr>\n",
       "  </tbody>\n",
       "</table>\n",
       "</div>"
      ],
      "text/plain": [
       "  pt_lvl    values\n",
       "0     gt  0.000000\n",
       "1   0.5x  2.861646\n",
       "2   1.5x  2.862109"
      ]
     },
     "execution_count": 5,
     "metadata": {},
     "output_type": "execute_result"
    }
   ],
   "source": [
    "MAE_df = pd.read_csv('../data/results/MAE/topologyC_allData_MAE.csv')\n",
    "MAE_df.rename(columns={'Unnamed: 0': 'pt_lvl', '0': 'values'}, inplace=True)\n",
    "MAE_df['values'] = MAE_df['values']/4352\n",
    "MAE_df"
   ]
  },
  {
   "cell_type": "code",
   "execution_count": 6,
   "metadata": {},
   "outputs": [
    {
     "data": {
      "text/plain": [
       "Text(0, 0.5, 'MAE')"
      ]
     },
     "execution_count": 6,
     "metadata": {},
     "output_type": "execute_result"
    },
    {
     "data": {
      "image/png": "[encoded data removed]",
      "text/plain": [
       "<Figure size 640x480 with 1 Axes>"
      ]
     },
     "metadata": {},
     "output_type": "display_data"
    }
   ],
   "source": [
    "plt.bar(MAE_df['pt_lvl'], MAE_df['values'], alpha=0.5, color='r')\n",
    "plt.grid()\n",
    "\n",
    "# plt.axvline(0, MAE_df[MAE_df['pt_lvl']=='0.5x']['lower'].values[0], MAE_df[MAE_df['pt_lvl']=='0.5x']['upper'].values[0], c='k')\n",
    "# plt.axvline(1, MAE_df[MAE_df['pt_lvl']=='1.5x']['lower'].values[0], MAE_df[MAE_df['pt_lvl']=='1.5x']['upper'].values[0], c='k')\n",
    "\n",
    "plt.title(\"MAE by perturbation strength\")\n",
    "plt.xlabel('perturbation level')\n",
    "plt.ylabel('MAE')\n"
   ]
  },
  {
   "cell_type": "markdown",
   "metadata": {},
   "source": [
    "## Make tables of ranking correctness"
   ]
  },
  {
   "cell_type": "code",
   "execution_count": 3,
   "metadata": {},
   "outputs": [],
   "source": [
    "# os.chdir('../data/results/rankings/')"
   ]
  },
  {
   "cell_type": "code",
   "execution_count": 4,
   "metadata": {},
   "outputs": [
    {
     "data": {
      "text/html": [
       "<div>\n",
       "<style scoped>\n",
       "    .dataframe tbody tr th:only-of-type {\n",
       "        vertical-align: middle;\n",
       "    }\n",
       "\n",
       "    .dataframe tbody tr th {\n",
       "        vertical-align: top;\n",
       "    }\n",
       "\n",
       "    .dataframe thead th {\n",
       "        text-align: right;\n",
       "    }\n",
       "</style>\n",
       "<table border=\"1\" class=\"dataframe\">\n",
       "  <thead>\n",
       "    <tr style=\"text-align: right;\">\n",
       "      <th></th>\n",
       "      <th>v_ACE_OUT</th>\n",
       "      <th>gt</th>\n",
       "      <th>0.5x</th>\n",
       "      <th>1.5x</th>\n",
       "    </tr>\n",
       "  </thead>\n",
       "  <tbody>\n",
       "    <tr>\n",
       "      <th>0</th>\n",
       "      <td>1.0</td>\n",
       "      <td>vACS</td>\n",
       "      <td>vXCH_ACE1</td>\n",
       "      <td>vGLT</td>\n",
       "    </tr>\n",
       "    <tr>\n",
       "      <th>1</th>\n",
       "      <td>2.0</td>\n",
       "      <td>vGLT</td>\n",
       "      <td>vATP_MAINTENANCE</td>\n",
       "      <td>vACS</td>\n",
       "    </tr>\n",
       "    <tr>\n",
       "      <th>2</th>\n",
       "      <td>3.0</td>\n",
       "      <td>vACK</td>\n",
       "      <td>vGLT</td>\n",
       "      <td>vXCH_ACE1</td>\n",
       "    </tr>\n",
       "    <tr>\n",
       "      <th>3</th>\n",
       "      <td>4.0</td>\n",
       "      <td>vGLC_feed</td>\n",
       "      <td>vACS</td>\n",
       "      <td>vPTA</td>\n",
       "    </tr>\n",
       "    <tr>\n",
       "      <th>4</th>\n",
       "      <td>5.0</td>\n",
       "      <td>vATP_MAINTENANCE</td>\n",
       "      <td>vGLC_feed</td>\n",
       "      <td>vACK</td>\n",
       "    </tr>\n",
       "    <tr>\n",
       "      <th>...</th>\n",
       "      <td>...</td>\n",
       "      <td>...</td>\n",
       "      <td>...</td>\n",
       "      <td>...</td>\n",
       "    </tr>\n",
       "    <tr>\n",
       "      <th>63</th>\n",
       "      <td>64.0</td>\n",
       "      <td>vGL6P_HYDROLYSIS</td>\n",
       "      <td>vS7P_R5P_TKT</td>\n",
       "      <td>vACN_1</td>\n",
       "    </tr>\n",
       "    <tr>\n",
       "      <th>64</th>\n",
       "      <td>65.0</td>\n",
       "      <td>vPTS_4</td>\n",
       "      <td>vPPS</td>\n",
       "      <td>vPPS</td>\n",
       "    </tr>\n",
       "    <tr>\n",
       "      <th>65</th>\n",
       "      <td>66.0</td>\n",
       "      <td>vPTS_3</td>\n",
       "      <td>vFBP</td>\n",
       "      <td>vFBP</td>\n",
       "    </tr>\n",
       "    <tr>\n",
       "      <th>66</th>\n",
       "      <td>67.0</td>\n",
       "      <td>vXCH_GLC</td>\n",
       "      <td>vGL6P_HYDROLYSIS</td>\n",
       "      <td>vGL6P_HYDROLYSIS</td>\n",
       "    </tr>\n",
       "    <tr>\n",
       "      <th>67</th>\n",
       "      <td>NaN</td>\n",
       "      <td>v_ACE_OUT</td>\n",
       "      <td>v_ACE_OUT</td>\n",
       "      <td>v_ACE_OUT</td>\n",
       "    </tr>\n",
       "  </tbody>\n",
       "</table>\n",
       "<p>68 rows × 4 columns</p>\n",
       "</div>"
      ],
      "text/plain": [
       "    v_ACE_OUT                gt              0.5x              1.5x\n",
       "0         1.0              vACS         vXCH_ACE1              vGLT\n",
       "1         2.0              vGLT  vATP_MAINTENANCE              vACS\n",
       "2         3.0              vACK              vGLT         vXCH_ACE1\n",
       "3         4.0         vGLC_feed              vACS              vPTA\n",
       "4         5.0  vATP_MAINTENANCE         vGLC_feed              vACK\n",
       "..        ...               ...               ...               ...\n",
       "63       64.0  vGL6P_HYDROLYSIS      vS7P_R5P_TKT            vACN_1\n",
       "64       65.0            vPTS_4              vPPS              vPPS\n",
       "65       66.0            vPTS_3              vFBP              vFBP\n",
       "66       67.0          vXCH_GLC  vGL6P_HYDROLYSIS  vGL6P_HYDROLYSIS\n",
       "67        NaN         v_ACE_OUT         v_ACE_OUT         v_ACE_OUT\n",
       "\n",
       "[68 rows x 4 columns]"
      ]
     },
     "execution_count": 4,
     "metadata": {},
     "output_type": "execute_result"
    }
   ],
   "source": [
    "rank_df = pd.read_csv('../data/results/rankings/topologyC_allData-5-15_rankings.csv')\n",
    "rank_df"
   ]
  },
  {
   "cell_type": "code",
   "execution_count": 5,
   "metadata": {},
   "outputs": [],
   "source": [
    "pt_labels = ['0.5x', '1.5x']\n",
    "gt_ranks = rank_df['gt']"
   ]
  },
  {
   "cell_type": "markdown",
   "metadata": {},
   "source": [
    "#### Counts of top three ranked FCCs"
   ]
  },
  {
   "cell_type": "code",
   "execution_count": 6,
   "metadata": {},
   "outputs": [
    {
     "data": {
      "text/html": [
       "<div>\n",
       "<style scoped>\n",
       "    .dataframe tbody tr th:only-of-type {\n",
       "        vertical-align: middle;\n",
       "    }\n",
       "\n",
       "    .dataframe tbody tr th {\n",
       "        vertical-align: top;\n",
       "    }\n",
       "\n",
       "    .dataframe thead th {\n",
       "        text-align: right;\n",
       "    }\n",
       "</style>\n",
       "<table border=\"1\" class=\"dataframe\">\n",
       "  <thead>\n",
       "    <tr style=\"text-align: right;\">\n",
       "      <th></th>\n",
       "      <th>v_ACE_OUT</th>\n",
       "      <th>gt</th>\n",
       "      <th>0.5x</th>\n",
       "      <th>1.5x</th>\n",
       "    </tr>\n",
       "  </thead>\n",
       "  <tbody>\n",
       "    <tr>\n",
       "      <th>0</th>\n",
       "      <td>1.0</td>\n",
       "      <td>vACS</td>\n",
       "      <td>vXCH_ACE1</td>\n",
       "      <td>vGLT</td>\n",
       "    </tr>\n",
       "    <tr>\n",
       "      <th>1</th>\n",
       "      <td>2.0</td>\n",
       "      <td>vGLT</td>\n",
       "      <td>vATP_MAINTENANCE</td>\n",
       "      <td>vACS</td>\n",
       "    </tr>\n",
       "    <tr>\n",
       "      <th>2</th>\n",
       "      <td>3.0</td>\n",
       "      <td>vACK</td>\n",
       "      <td>vGLT</td>\n",
       "      <td>vXCH_ACE1</td>\n",
       "    </tr>\n",
       "  </tbody>\n",
       "</table>\n",
       "</div>"
      ],
      "text/plain": [
       "   v_ACE_OUT    gt              0.5x       1.5x\n",
       "0        1.0  vACS         vXCH_ACE1       vGLT\n",
       "1        2.0  vGLT  vATP_MAINTENANCE       vACS\n",
       "2        3.0  vACK              vGLT  vXCH_ACE1"
      ]
     },
     "execution_count": 6,
     "metadata": {},
     "output_type": "execute_result"
    }
   ],
   "source": [
    "topThree_df = rank_df[rank_df['v_ACE_OUT'].isin([1, 2, 3])]\n",
    "topThree_df"
   ]
  },
  {
   "cell_type": "code",
   "execution_count": 7,
   "metadata": {},
   "outputs": [
    {
     "data": {
      "text/plain": [
       "{'vACK', 'vACS', 'vGLT'}"
      ]
     },
     "execution_count": 7,
     "metadata": {},
     "output_type": "execute_result"
    }
   ],
   "source": [
    "gt_t3_set = set(list(topThree_df['gt']))\n",
    "gt_t3_set"
   ]
  },
  {
   "cell_type": "code",
   "execution_count": 8,
   "metadata": {},
   "outputs": [],
   "source": [
    "t3_sets = []\n",
    "for pt in pt_labels: \n",
    "    t3_sets.append(set(list(topThree_df[pt])))"
   ]
  },
  {
   "cell_type": "code",
   "execution_count": 9,
   "metadata": {},
   "outputs": [],
   "source": [
    "t3_scores=[]\n",
    "for i in t3_sets: \n",
    "    t3_scores.append(len(set.intersection(gt_t3_set, i)))"
   ]
  },
  {
   "cell_type": "code",
   "execution_count": 10,
   "metadata": {},
   "outputs": [
    {
     "data": {
      "text/html": [
       "<div>\n",
       "<style scoped>\n",
       "    .dataframe tbody tr th:only-of-type {\n",
       "        vertical-align: middle;\n",
       "    }\n",
       "\n",
       "    .dataframe tbody tr th {\n",
       "        vertical-align: top;\n",
       "    }\n",
       "\n",
       "    .dataframe thead th {\n",
       "        text-align: right;\n",
       "    }\n",
       "</style>\n",
       "<table border=\"1\" class=\"dataframe\">\n",
       "  <thead>\n",
       "    <tr style=\"text-align: right;\">\n",
       "      <th></th>\n",
       "      <th>0.5x</th>\n",
       "      <th>1.5x</th>\n",
       "    </tr>\n",
       "  </thead>\n",
       "  <tbody>\n",
       "    <tr>\n",
       "      <th>0</th>\n",
       "      <td>1</td>\n",
       "      <td>2</td>\n",
       "    </tr>\n",
       "  </tbody>\n",
       "</table>\n",
       "</div>"
      ],
      "text/plain": [
       "   0.5x  1.5x\n",
       "0     1     2"
      ]
     },
     "execution_count": 10,
     "metadata": {},
     "output_type": "execute_result"
    }
   ],
   "source": [
    "t3_results = pd.DataFrame((np.array(t3_scores)).reshape((len(pt_labels),-1)).T, \n",
    "             columns=pt_labels)\n",
    "t3_results"
   ]
  },
  {
   "cell_type": "code",
   "execution_count": 11,
   "metadata": {},
   "outputs": [],
   "source": [
    "# visualizations. Heatmaps?"
   ]
  },
  {
   "cell_type": "markdown",
   "metadata": {},
   "source": [
    "#### Counts of top ten ranked FCCs"
   ]
  },
  {
   "cell_type": "code",
   "execution_count": 12,
   "metadata": {},
   "outputs": [
    {
     "data": {
      "text/html": [
       "<div>\n",
       "<style scoped>\n",
       "    .dataframe tbody tr th:only-of-type {\n",
       "        vertical-align: middle;\n",
       "    }\n",
       "\n",
       "    .dataframe tbody tr th {\n",
       "        vertical-align: top;\n",
       "    }\n",
       "\n",
       "    .dataframe thead th {\n",
       "        text-align: right;\n",
       "    }\n",
       "</style>\n",
       "<table border=\"1\" class=\"dataframe\">\n",
       "  <thead>\n",
       "    <tr style=\"text-align: right;\">\n",
       "      <th></th>\n",
       "      <th>v_ACE_OUT</th>\n",
       "      <th>gt</th>\n",
       "      <th>0.5x</th>\n",
       "      <th>1.5x</th>\n",
       "    </tr>\n",
       "  </thead>\n",
       "  <tbody>\n",
       "    <tr>\n",
       "      <th>0</th>\n",
       "      <td>1.0</td>\n",
       "      <td>vACS</td>\n",
       "      <td>vXCH_ACE1</td>\n",
       "      <td>vGLT</td>\n",
       "    </tr>\n",
       "    <tr>\n",
       "      <th>1</th>\n",
       "      <td>2.0</td>\n",
       "      <td>vGLT</td>\n",
       "      <td>vATP_MAINTENANCE</td>\n",
       "      <td>vACS</td>\n",
       "    </tr>\n",
       "    <tr>\n",
       "      <th>2</th>\n",
       "      <td>3.0</td>\n",
       "      <td>vACK</td>\n",
       "      <td>vGLT</td>\n",
       "      <td>vXCH_ACE1</td>\n",
       "    </tr>\n",
       "    <tr>\n",
       "      <th>3</th>\n",
       "      <td>4.0</td>\n",
       "      <td>vGLC_feed</td>\n",
       "      <td>vACS</td>\n",
       "      <td>vPTA</td>\n",
       "    </tr>\n",
       "    <tr>\n",
       "      <th>4</th>\n",
       "      <td>5.0</td>\n",
       "      <td>vATP_MAINTENANCE</td>\n",
       "      <td>vGLC_feed</td>\n",
       "      <td>vACK</td>\n",
       "    </tr>\n",
       "    <tr>\n",
       "      <th>5</th>\n",
       "      <td>6.0</td>\n",
       "      <td>vATP_syn</td>\n",
       "      <td>vPTA</td>\n",
       "      <td>vGLC_feed</td>\n",
       "    </tr>\n",
       "    <tr>\n",
       "      <th>6</th>\n",
       "      <td>7.0</td>\n",
       "      <td>vPTA</td>\n",
       "      <td>vADK</td>\n",
       "      <td>vATP_MAINTENANCE</td>\n",
       "    </tr>\n",
       "    <tr>\n",
       "      <th>7</th>\n",
       "      <td>8.0</td>\n",
       "      <td>vNADH_req</td>\n",
       "      <td>vACK</td>\n",
       "      <td>vXCH_ACE2</td>\n",
       "    </tr>\n",
       "    <tr>\n",
       "      <th>8</th>\n",
       "      <td>9.0</td>\n",
       "      <td>vGROWTH</td>\n",
       "      <td>vATP_syn</td>\n",
       "      <td>vADK</td>\n",
       "    </tr>\n",
       "    <tr>\n",
       "      <th>9</th>\n",
       "      <td>10.0</td>\n",
       "      <td>vNDHII</td>\n",
       "      <td>vPFK</td>\n",
       "      <td>vENO</td>\n",
       "    </tr>\n",
       "  </tbody>\n",
       "</table>\n",
       "</div>"
      ],
      "text/plain": [
       "   v_ACE_OUT                gt              0.5x              1.5x\n",
       "0        1.0              vACS         vXCH_ACE1              vGLT\n",
       "1        2.0              vGLT  vATP_MAINTENANCE              vACS\n",
       "2        3.0              vACK              vGLT         vXCH_ACE1\n",
       "3        4.0         vGLC_feed              vACS              vPTA\n",
       "4        5.0  vATP_MAINTENANCE         vGLC_feed              vACK\n",
       "5        6.0          vATP_syn              vPTA         vGLC_feed\n",
       "6        7.0              vPTA              vADK  vATP_MAINTENANCE\n",
       "7        8.0         vNADH_req              vACK         vXCH_ACE2\n",
       "8        9.0           vGROWTH          vATP_syn              vADK\n",
       "9       10.0            vNDHII              vPFK              vENO"
      ]
     },
     "execution_count": 12,
     "metadata": {},
     "output_type": "execute_result"
    }
   ],
   "source": [
    "topTen_df = rank_df[rank_df['v_ACE_OUT'].isin([1,2,3,4,5,6,7,8,9,10])]\n",
    "topTen_df"
   ]
  },
  {
   "cell_type": "code",
   "execution_count": 13,
   "metadata": {},
   "outputs": [
    {
     "data": {
      "text/plain": [
       "{'vACK',\n",
       " 'vACS',\n",
       " 'vATP_MAINTENANCE',\n",
       " 'vATP_syn',\n",
       " 'vGLC_feed',\n",
       " 'vGLT',\n",
       " 'vGROWTH',\n",
       " 'vNADH_req',\n",
       " 'vNDHII',\n",
       " 'vPTA'}"
      ]
     },
     "execution_count": 13,
     "metadata": {},
     "output_type": "execute_result"
    }
   ],
   "source": [
    "gt_t10_set = set(list(topTen_df['gt']))\n",
    "gt_t10_set"
   ]
  },
  {
   "cell_type": "code",
   "execution_count": 14,
   "metadata": {},
   "outputs": [],
   "source": [
    "t10_sets = []\n",
    "for pt in pt_labels: \n",
    "    t10_sets.append(set(list(topTen_df[pt])))"
   ]
  },
  {
   "cell_type": "code",
   "execution_count": 15,
   "metadata": {},
   "outputs": [],
   "source": [
    "t10_scores=[]\n",
    "for i in t10_sets: \n",
    "    t10_scores.append(len(set.intersection(gt_t10_set, i)))"
   ]
  },
  {
   "cell_type": "code",
   "execution_count": 16,
   "metadata": {},
   "outputs": [
    {
     "data": {
      "text/html": [
       "<div>\n",
       "<style scoped>\n",
       "    .dataframe tbody tr th:only-of-type {\n",
       "        vertical-align: middle;\n",
       "    }\n",
       "\n",
       "    .dataframe tbody tr th {\n",
       "        vertical-align: top;\n",
       "    }\n",
       "\n",
       "    .dataframe thead th {\n",
       "        text-align: right;\n",
       "    }\n",
       "</style>\n",
       "<table border=\"1\" class=\"dataframe\">\n",
       "  <thead>\n",
       "    <tr style=\"text-align: right;\">\n",
       "      <th></th>\n",
       "      <th>0.5x</th>\n",
       "      <th>1.5x</th>\n",
       "    </tr>\n",
       "  </thead>\n",
       "  <tbody>\n",
       "    <tr>\n",
       "      <th>0</th>\n",
       "      <td>7</td>\n",
       "      <td>6</td>\n",
       "    </tr>\n",
       "  </tbody>\n",
       "</table>\n",
       "</div>"
      ],
      "text/plain": [
       "   0.5x  1.5x\n",
       "0     7     6"
      ]
     },
     "execution_count": 16,
     "metadata": {},
     "output_type": "execute_result"
    }
   ],
   "source": [
    "t10_results = pd.DataFrame((np.array(t10_scores)).reshape((len(pt_labels),-1)).T, \n",
    "             columns=pt_labels)\n",
    "t10_results"
   ]
  },
  {
   "cell_type": "code",
   "execution_count": null,
   "metadata": {},
   "outputs": [],
   "source": [
    "# difference\n",
    "dif_list = []\n",
    "for i in t10_sets: \n",
    "    dif_list.append(i.difference(gt_t10_set))\n",
    "\n",
    "dif_list"
   ]
  },
  {
   "cell_type": "code",
   "execution_count": 32,
   "metadata": {},
   "outputs": [
    {
     "name": "stdout",
     "output_type": "stream",
     "text": [
      "Int64Index([33, 43, 48], dtype='int64')\n",
      "Int64Index([33, 38, 42, 43], dtype='int64')\n"
     ]
    }
   ],
   "source": [
    "for i in dif_list: \n",
    "    print(rank_df['gt'].loc[lambda x: x.isin(i)].index)"
   ]
  }
 ],
 "metadata": {
  "kernelspec": {
   "display_name": "gayles",
   "language": "python",
   "name": "python3"
  },
  "language_info": {
   "codemirror_mode": {
    "name": "ipython",
    "version": 3
   },
   "file_extension": ".py",
   "mimetype": "text/x-python",
   "name": "python",
   "nbconvert_exporter": "python",
   "pygments_lexer": "ipython3",
   "version": "3.9.19"
  }
 },
 "nbformat": 4,
 "nbformat_minor": 2
}
