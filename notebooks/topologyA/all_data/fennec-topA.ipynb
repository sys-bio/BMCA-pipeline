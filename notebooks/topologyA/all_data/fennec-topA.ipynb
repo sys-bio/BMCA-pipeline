{
 "cells": [
  {
   "cell_type": "markdown",
   "id": "22c31e18",
   "metadata": {},
   "source": [
    "Critique from reviewer:\n",
    "\n",
    "_For testing how well the model predicted a ground truth value, it should be possible to calculate the log probability density of the true value according to the model. This is usually a better metric than correlation coefficient._"
   ]
  },
  {
   "cell_type": "code",
   "execution_count": 1,
   "id": "9366fdee",
   "metadata": {},
   "outputs": [
    {
     "name": "stderr",
     "output_type": "stream",
     "text": [
      "WARNING (aesara.configdefaults): g++ not available, if using conda: `conda install m2w64-toolchain`\n",
      "WARNING (aesara.configdefaults): g++ not detected!  Aesara will be unable to compile C-implementations and will default to Python. Performance may be severely degraded. To remove this warning, set Aesara flags cxx to an empty string.\n",
      "WARNING (aesara.tensor.blas): Using NumPy C-API based implementation for BLAS functions.\n"
     ]
    }
   ],
   "source": [
    "import tellurium as te\n",
    "import pandas as pd\n",
    "import numpy as np\n",
    "\n",
    "import matplotlib.pyplot as plt\n",
    "import seaborn as sns\n",
    "import arviz as az\n",
    "\n",
    "import aesara.tensor as at\n",
    "import aesara\n",
    "floatX = aesara.config.floatX\n",
    "import pymc as pm\n",
    "import numpy as np\n",
    "\n",
    "import cobra\n",
    "import os\n",
    "\n",
    "from scipy import stats\n",
    "import scipy as sp\n",
    "import math\n",
    "\n",
    "import gzip\n",
    "import cloudpickle"
   ]
  },
  {
   "cell_type": "code",
   "execution_count": 2,
   "id": "a621b578",
   "metadata": {},
   "outputs": [],
   "source": [
    "os.chdir('../../..')\n",
    "from src import antemll, util\n",
    "import emll\n",
    "from emll.aesara_utils import LeastSquaresSolve\n",
    "os.chdir('notebooks/topologyA/all_data/')"
   ]
  },
  {
   "cell_type": "code",
   "execution_count": 3,
   "id": "229a2548",
   "metadata": {},
   "outputs": [
    {
     "data": {
      "text/plain": [
       "1.5710734600032811e-15"
      ]
     },
     "execution_count": 3,
     "metadata": {},
     "output_type": "execute_result"
    }
   ],
   "source": [
    "Teusink_ant ='../../../models/Antimony/topologyA-noReg.ant' \n",
    "r = te.loada(Teusink_ant)\n",
    "r.conservedMoietyAnalysis = True\n",
    "r.steadyState()"
   ]
  },
  {
   "cell_type": "code",
   "execution_count": 4,
   "id": "419839d8",
   "metadata": {},
   "outputs": [],
   "source": [
    "data_file01 = '../../../data/generated_data/topologyA-noReg/topologyA-noReg_0.1.csv'\n",
    "data_file02 = '../../../data/generated_data/topologyA-noReg/topologyA-noReg_0.2.csv'\n",
    "data_file03 = '../../../data/generated_data/topologyA-noReg/topologyA-noReg_0.3.csv'\n",
    "data_file04 = '../../../data/generated_data/topologyA-noReg/topologyA-noReg_0.4.csv'\n",
    "data_file05 = '../../../data/generated_data/topologyA-noReg/topologyA-noReg_0.5.csv'\n",
    "\n",
    "data_file15 = '../../../data/generated_data/topologyA-noReg/topologyA-noReg_1.5.csv'\n",
    "data_file3 = '../../../data/generated_data/topologyA-noReg/topologyA-noReg_3.csv'\n",
    "data_file5 = '../../../data/generated_data/topologyA-noReg/topologyA-noReg_5.csv'\n",
    "data_file7 = '../../../data/generated_data/topologyA-noReg/topologyA-noReg_7.csv'\n",
    "data_file100 = '../../../data/generated_data/topologyA-noReg/topologyA-noReg_10.csv'\n"
   ]
  },
  {
   "cell_type": "code",
   "execution_count": 5,
   "id": "1ab5adc7",
   "metadata": {},
   "outputs": [
    {
     "name": "stderr",
     "output_type": "stream",
     "text": [
      "No objective coefficients in model. Unclear what should be optimized\n"
     ]
    },
    {
     "name": "stdout",
     "output_type": "stream",
     "text": [
      "../../../models/Antimony/topologyA_cobra.ant\n"
     ]
    },
    {
     "name": "stderr",
     "output_type": "stream",
     "text": [
      "No objective coefficients in model. Unclear what should be optimized\n"
     ]
    },
    {
     "name": "stdout",
     "output_type": "stream",
     "text": [
      "../../../models/Antimony/topologyA_cobra.ant\n"
     ]
    },
    {
     "name": "stderr",
     "output_type": "stream",
     "text": [
      "No objective coefficients in model. Unclear what should be optimized\n"
     ]
    },
    {
     "name": "stdout",
     "output_type": "stream",
     "text": [
      "../../../models/Antimony/topologyA_cobra.ant\n"
     ]
    },
    {
     "name": "stderr",
     "output_type": "stream",
     "text": [
      "No objective coefficients in model. Unclear what should be optimized\n"
     ]
    },
    {
     "name": "stdout",
     "output_type": "stream",
     "text": [
      "../../../models/Antimony/topologyA_cobra.ant\n"
     ]
    },
    {
     "name": "stderr",
     "output_type": "stream",
     "text": [
      "No objective coefficients in model. Unclear what should be optimized\n"
     ]
    },
    {
     "name": "stdout",
     "output_type": "stream",
     "text": [
      "../../../models/Antimony/topologyA_cobra.ant\n"
     ]
    },
    {
     "name": "stderr",
     "output_type": "stream",
     "text": [
      "No objective coefficients in model. Unclear what should be optimized\n"
     ]
    },
    {
     "name": "stdout",
     "output_type": "stream",
     "text": [
      "../../../models/Antimony/topologyA_cobra.ant\n"
     ]
    },
    {
     "name": "stderr",
     "output_type": "stream",
     "text": [
      "No objective coefficients in model. Unclear what should be optimized\n"
     ]
    },
    {
     "name": "stdout",
     "output_type": "stream",
     "text": [
      "../../../models/Antimony/topologyA_cobra.ant\n"
     ]
    },
    {
     "name": "stderr",
     "output_type": "stream",
     "text": [
      "No objective coefficients in model. Unclear what should be optimized\n"
     ]
    },
    {
     "name": "stdout",
     "output_type": "stream",
     "text": [
      "../../../models/Antimony/topologyA_cobra.ant\n"
     ]
    },
    {
     "name": "stderr",
     "output_type": "stream",
     "text": [
      "No objective coefficients in model. Unclear what should be optimized\n"
     ]
    },
    {
     "name": "stdout",
     "output_type": "stream",
     "text": [
      "../../../models/Antimony/topologyA_cobra.ant\n"
     ]
    },
    {
     "name": "stderr",
     "output_type": "stream",
     "text": [
      "No objective coefficients in model. Unclear what should be optimized\n"
     ]
    },
    {
     "name": "stdout",
     "output_type": "stream",
     "text": [
      "../../../models/Antimony/topologyA_cobra.ant\n"
     ]
    }
   ],
   "source": [
    "BMCA_obj01 = antemll.antemll(Teusink_ant, data_file01, '../../../models/sbml/topologyA_cobra.xml')\n",
    "BMCA_obj02 = antemll.antemll(Teusink_ant, data_file02, '../../../models/sbml/topologyA_cobra.xml')\n",
    "BMCA_obj03 = antemll.antemll(Teusink_ant, data_file03, '../../../models/sbml/topologyA_cobra.xml')\n",
    "BMCA_obj04 = antemll.antemll(Teusink_ant, data_file04, '../../../models/sbml/topologyA_cobra.xml')\n",
    "BMCA_obj05 = antemll.antemll(Teusink_ant, data_file05, '../../../models/sbml/topologyA_cobra.xml')\n",
    "\n",
    "BMCA_obj15 = antemll.antemll(Teusink_ant, data_file15, '../../../models/sbml/topologyA_cobra.xml')\n",
    "BMCA_obj3 = antemll.antemll(Teusink_ant, data_file3, '../../../models/sbml/topologyA_cobra.xml')\n",
    "BMCA_obj5 = antemll.antemll(Teusink_ant, data_file5, '../../../models/sbml/topologyA_cobra.xml')\n",
    "BMCA_obj7 = antemll.antemll(Teusink_ant, data_file7, '../../../models/sbml/topologyA_cobra.xml')\n",
    "BMCA_obj100 = antemll.antemll(Teusink_ant, data_file100, '../../../models/sbml/topologyA_cobra.xml')\n"
   ]
  },
  {
   "cell_type": "markdown",
   "id": "15a4adf6",
   "metadata": {},
   "source": [
    "## Analysis\n"
   ]
  },
  {
   "cell_type": "code",
   "execution_count": 6,
   "id": "4fb44245",
   "metadata": {},
   "outputs": [],
   "source": [
    "picklefolder = '../../../data/results/tracePickles/'\n",
    "with gzip.open(picklefolder + 'topologyA-noReg_allData_traces.pgz', \"rb\") as f:\n",
    "    traces = cloudpickle.load(f, encoding='bytes')"
   ]
  },
  {
   "cell_type": "code",
   "execution_count": 7,
   "id": "7ff46af8",
   "metadata": {},
   "outputs": [],
   "source": [
    "trace01=traces['trace01']\n",
    "trace02=traces['trace02']\n",
    "trace03=traces['trace03']\n",
    "trace04=traces['trace04']\n",
    "trace05=traces['trace05']\n",
    "trace15=traces['trace15']\n",
    "trace3=traces['trace3']\n",
    "trace5=traces['trace5']\n",
    "trace7=traces['trace7']\n",
    "trace100=traces['trace100']\n",
    "\n",
    "ppc01=traces['ppc01']\n",
    "ppc02=traces['ppc02']\n",
    "ppc03=traces['ppc03']\n",
    "ppc04=traces['ppc04']\n",
    "ppc05=traces['ppc05']\n",
    "ppc15=traces['ppc15']\n",
    "ppc3=traces['ppc3']\n",
    "ppc5=traces['ppc5']\n",
    "ppc7=traces['ppc7']\n",
    "ppc100=traces['ppc100']"
   ]
  },
  {
   "cell_type": "code",
   "execution_count": 31,
   "id": "06b0ff54",
   "metadata": {},
   "outputs": [],
   "source": [
    "from scipy.stats import gaussian_kde\n",
    "\n",
    "def get_logp(trace, true_values):  \n",
    "    \"\"\"\n",
    "    Estimate marginal logp at each ground truth value using KDE.\n",
    "\n",
    "    Parameters:\n",
    "    - trace: ArviZ InferenceData object containing posterior samples\n",
    "    - true_values: numpy array of shape (16, 11) representing ground truth\n",
    "\n",
    "    Returns:\n",
    "    - logps: numpy array of shape (16, 11) of log probabilities\n",
    "    \"\"\"\n",
    "\n",
    "    samples = trace.posterior[\"Ex\"].stack(sample=(\"chain\", \"draw\")).values  # shape: (16, 11, 1000)\n",
    "    samples = np.moveaxis(samples, -1, 0)  # shape: (1000, 16, 11)\n",
    "    \n",
    "    logps = np.zeros_like(true_values)\n",
    "\n",
    "    for i in range(true_values.shape[0]):\n",
    "        for j in range(true_values.shape[1]):\n",
    "            var_samples = samples[:, i, j]\n",
    "            kde = gaussian_kde(var_samples)\n",
    "            logps[i, j] = np.log(kde(true_values[i, j]))\n",
    "\n",
    "    return np.array(logps)\n"
   ]
  },
  {
   "cell_type": "code",
   "execution_count": null,
   "id": "bb72e336",
   "metadata": {},
   "outputs": [
    {
     "name": "stderr",
     "output_type": "stream",
     "text": [
      "C:\\Users\\user\\AppData\\Local\\Temp\\ipykernel_28360\\95413887.py:24: RuntimeWarning:\n",
      "\n",
      "divide by zero encountered in log\n",
      "\n"
     ]
    },
    {
     "data": {
      "text/plain": [
       "numpy.ndarray"
      ]
     },
     "execution_count": 32,
     "metadata": {},
     "output_type": "execute_result"
    }
   ],
   "source": [
    "logp_array = get_logp(trace100, true_values=r.getScaledElasticityMatrix())  # where Ex_true is your (16, 11) ground truth"
   ]
  },
  {
   "cell_type": "code",
   "execution_count": 66,
   "id": "bf65deac",
   "metadata": {},
   "outputs": [
    {
     "data": {
      "text/html": [
       "<div>\n",
       "<style scoped>\n",
       "    .dataframe tbody tr th:only-of-type {\n",
       "        vertical-align: middle;\n",
       "    }\n",
       "\n",
       "    .dataframe tbody tr th {\n",
       "        vertical-align: top;\n",
       "    }\n",
       "\n",
       "    .dataframe thead th {\n",
       "        text-align: right;\n",
       "    }\n",
       "</style>\n",
       "<table border=\"1\" class=\"dataframe\">\n",
       "  <thead>\n",
       "    <tr style=\"text-align: right;\">\n",
       "      <th></th>\n",
       "      <th>0</th>\n",
       "      <th>1</th>\n",
       "      <th>2</th>\n",
       "      <th>3</th>\n",
       "      <th>4</th>\n",
       "      <th>5</th>\n",
       "      <th>6</th>\n",
       "      <th>7</th>\n",
       "      <th>8</th>\n",
       "      <th>9</th>\n",
       "      <th>10</th>\n",
       "    </tr>\n",
       "  </thead>\n",
       "  <tbody>\n",
       "    <tr>\n",
       "      <th>0</th>\n",
       "      <td>-1.673000</td>\n",
       "      <td>1.121300</td>\n",
       "      <td>1.085242</td>\n",
       "      <td>1.055080</td>\n",
       "      <td>1.071970</td>\n",
       "      <td>-1.816391</td>\n",
       "      <td>1.138301</td>\n",
       "      <td>1.144162</td>\n",
       "      <td>1.033875</td>\n",
       "      <td>1.150863</td>\n",
       "      <td>1.092161</td>\n",
       "    </tr>\n",
       "    <tr>\n",
       "      <th>1</th>\n",
       "      <td>0.484272</td>\n",
       "      <td>1.709093</td>\n",
       "      <td>1.158668</td>\n",
       "      <td>1.692334</td>\n",
       "      <td>1.564684</td>\n",
       "      <td>0.697533</td>\n",
       "      <td>1.821660</td>\n",
       "      <td>1.766213</td>\n",
       "      <td>1.276445</td>\n",
       "      <td>1.871290</td>\n",
       "      <td>1.652593</td>\n",
       "    </tr>\n",
       "    <tr>\n",
       "      <th>2</th>\n",
       "      <td>0.270475</td>\n",
       "      <td>1.246742</td>\n",
       "      <td>1.064773</td>\n",
       "      <td>1.232227</td>\n",
       "      <td>1.104971</td>\n",
       "      <td>0.858489</td>\n",
       "      <td>1.239530</td>\n",
       "      <td>1.319086</td>\n",
       "      <td>0.993014</td>\n",
       "      <td>1.240032</td>\n",
       "      <td>1.130358</td>\n",
       "    </tr>\n",
       "    <tr>\n",
       "      <th>3</th>\n",
       "      <td>-405.861016</td>\n",
       "      <td>2.348739</td>\n",
       "      <td>1.799446</td>\n",
       "      <td>2.373854</td>\n",
       "      <td>2.268669</td>\n",
       "      <td>1.823701</td>\n",
       "      <td>2.374402</td>\n",
       "      <td>2.391779</td>\n",
       "      <td>2.023824</td>\n",
       "      <td>2.498497</td>\n",
       "      <td>2.289683</td>\n",
       "    </tr>\n",
       "    <tr>\n",
       "      <th>4</th>\n",
       "      <td>0.742415</td>\n",
       "      <td>1.431207</td>\n",
       "      <td>1.064318</td>\n",
       "      <td>1.356929</td>\n",
       "      <td>1.303080</td>\n",
       "      <td>0.780799</td>\n",
       "      <td>0.878294</td>\n",
       "      <td>1.501293</td>\n",
       "      <td>1.198147</td>\n",
       "      <td>0.779517</td>\n",
       "      <td>1.277800</td>\n",
       "    </tr>\n",
       "    <tr>\n",
       "      <th>5</th>\n",
       "      <td>0.673426</td>\n",
       "      <td>0.262725</td>\n",
       "      <td>1.057733</td>\n",
       "      <td>1.403840</td>\n",
       "      <td>1.255778</td>\n",
       "      <td>0.777338</td>\n",
       "      <td>1.224345</td>\n",
       "      <td>1.502835</td>\n",
       "      <td>1.066510</td>\n",
       "      <td>-0.141642</td>\n",
       "      <td>1.265973</td>\n",
       "    </tr>\n",
       "    <tr>\n",
       "      <th>6</th>\n",
       "      <td>0.640897</td>\n",
       "      <td>1.407637</td>\n",
       "      <td>1.327101</td>\n",
       "      <td>1.737794</td>\n",
       "      <td>1.606902</td>\n",
       "      <td>0.677034</td>\n",
       "      <td>0.959434</td>\n",
       "      <td>0.780357</td>\n",
       "      <td>1.510177</td>\n",
       "      <td>1.208958</td>\n",
       "      <td>1.774206</td>\n",
       "    </tr>\n",
       "    <tr>\n",
       "      <th>7</th>\n",
       "      <td>0.685352</td>\n",
       "      <td>1.432782</td>\n",
       "      <td>1.162051</td>\n",
       "      <td>0.307251</td>\n",
       "      <td>1.412846</td>\n",
       "      <td>0.632292</td>\n",
       "      <td>0.871274</td>\n",
       "      <td>0.117288</td>\n",
       "      <td>1.168176</td>\n",
       "      <td>1.060174</td>\n",
       "      <td>1.588342</td>\n",
       "    </tr>\n",
       "    <tr>\n",
       "      <th>8</th>\n",
       "      <td>0.536989</td>\n",
       "      <td>1.130415</td>\n",
       "      <td>1.148844</td>\n",
       "      <td>-3.843541</td>\n",
       "      <td>1.147479</td>\n",
       "      <td>0.543597</td>\n",
       "      <td>0.825625</td>\n",
       "      <td>1.598461</td>\n",
       "      <td>1.126055</td>\n",
       "      <td>0.883203</td>\n",
       "      <td>0.089866</td>\n",
       "    </tr>\n",
       "    <tr>\n",
       "      <th>9</th>\n",
       "      <td>0.626046</td>\n",
       "      <td>1.029945</td>\n",
       "      <td>1.039264</td>\n",
       "      <td>1.702303</td>\n",
       "      <td>-0.345304</td>\n",
       "      <td>0.649783</td>\n",
       "      <td>0.772784</td>\n",
       "      <td>1.325539</td>\n",
       "      <td>1.005002</td>\n",
       "      <td>0.883604</td>\n",
       "      <td>-9.305018</td>\n",
       "    </tr>\n",
       "    <tr>\n",
       "      <th>10</th>\n",
       "      <td>0.615398</td>\n",
       "      <td>0.952389</td>\n",
       "      <td>1.150500</td>\n",
       "      <td>1.511996</td>\n",
       "      <td>-57.312185</td>\n",
       "      <td>0.631518</td>\n",
       "      <td>0.740107</td>\n",
       "      <td>1.172511</td>\n",
       "      <td>0.157429</td>\n",
       "      <td>0.798365</td>\n",
       "      <td>2.109223</td>\n",
       "    </tr>\n",
       "    <tr>\n",
       "      <th>11</th>\n",
       "      <td>0.634423</td>\n",
       "      <td>0.911815</td>\n",
       "      <td>0.496728</td>\n",
       "      <td>1.171166</td>\n",
       "      <td>1.890131</td>\n",
       "      <td>0.531700</td>\n",
       "      <td>0.758464</td>\n",
       "      <td>0.948078</td>\n",
       "      <td>-386.522855</td>\n",
       "      <td>0.867129</td>\n",
       "      <td>1.538489</td>\n",
       "    </tr>\n",
       "    <tr>\n",
       "      <th>12</th>\n",
       "      <td>0.592404</td>\n",
       "      <td>0.882586</td>\n",
       "      <td>-inf</td>\n",
       "      <td>0.904680</td>\n",
       "      <td>1.046281</td>\n",
       "      <td>0.558177</td>\n",
       "      <td>0.740684</td>\n",
       "      <td>0.904531</td>\n",
       "      <td>1.197287</td>\n",
       "      <td>0.790996</td>\n",
       "      <td>0.897906</td>\n",
       "    </tr>\n",
       "    <tr>\n",
       "      <th>13</th>\n",
       "      <td>1.935548</td>\n",
       "      <td>1.682483</td>\n",
       "      <td>1.146468</td>\n",
       "      <td>1.627575</td>\n",
       "      <td>1.356903</td>\n",
       "      <td>1.911852</td>\n",
       "      <td>1.904964</td>\n",
       "      <td>1.673488</td>\n",
       "      <td>1.288698</td>\n",
       "      <td>1.776338</td>\n",
       "      <td>1.504007</td>\n",
       "    </tr>\n",
       "    <tr>\n",
       "      <th>14</th>\n",
       "      <td>0.643925</td>\n",
       "      <td>0.794453</td>\n",
       "      <td>-inf</td>\n",
       "      <td>0.992029</td>\n",
       "      <td>1.065047</td>\n",
       "      <td>0.602898</td>\n",
       "      <td>0.796079</td>\n",
       "      <td>0.860545</td>\n",
       "      <td>1.424101</td>\n",
       "      <td>0.857702</td>\n",
       "      <td>0.990862</td>\n",
       "    </tr>\n",
       "    <tr>\n",
       "      <th>15</th>\n",
       "      <td>0.747739</td>\n",
       "      <td>-311.318162</td>\n",
       "      <td>1.608508</td>\n",
       "      <td>2.230229</td>\n",
       "      <td>2.093882</td>\n",
       "      <td>0.525303</td>\n",
       "      <td>1.123722</td>\n",
       "      <td>2.186075</td>\n",
       "      <td>1.885310</td>\n",
       "      <td>1.691111</td>\n",
       "      <td>2.131983</td>\n",
       "    </tr>\n",
       "  </tbody>\n",
       "</table>\n",
       "</div>"
      ],
      "text/plain": [
       "            0           1         2         3          4         5         6   \\\n",
       "0    -1.673000    1.121300  1.085242  1.055080   1.071970 -1.816391  1.138301   \n",
       "1     0.484272    1.709093  1.158668  1.692334   1.564684  0.697533  1.821660   \n",
       "2     0.270475    1.246742  1.064773  1.232227   1.104971  0.858489  1.239530   \n",
       "3  -405.861016    2.348739  1.799446  2.373854   2.268669  1.823701  2.374402   \n",
       "4     0.742415    1.431207  1.064318  1.356929   1.303080  0.780799  0.878294   \n",
       "5     0.673426    0.262725  1.057733  1.403840   1.255778  0.777338  1.224345   \n",
       "6     0.640897    1.407637  1.327101  1.737794   1.606902  0.677034  0.959434   \n",
       "7     0.685352    1.432782  1.162051  0.307251   1.412846  0.632292  0.871274   \n",
       "8     0.536989    1.130415  1.148844 -3.843541   1.147479  0.543597  0.825625   \n",
       "9     0.626046    1.029945  1.039264  1.702303  -0.345304  0.649783  0.772784   \n",
       "10    0.615398    0.952389  1.150500  1.511996 -57.312185  0.631518  0.740107   \n",
       "11    0.634423    0.911815  0.496728  1.171166   1.890131  0.531700  0.758464   \n",
       "12    0.592404    0.882586      -inf  0.904680   1.046281  0.558177  0.740684   \n",
       "13    1.935548    1.682483  1.146468  1.627575   1.356903  1.911852  1.904964   \n",
       "14    0.643925    0.794453      -inf  0.992029   1.065047  0.602898  0.796079   \n",
       "15    0.747739 -311.318162  1.608508  2.230229   2.093882  0.525303  1.123722   \n",
       "\n",
       "          7           8         9         10  \n",
       "0   1.144162    1.033875  1.150863  1.092161  \n",
       "1   1.766213    1.276445  1.871290  1.652593  \n",
       "2   1.319086    0.993014  1.240032  1.130358  \n",
       "3   2.391779    2.023824  2.498497  2.289683  \n",
       "4   1.501293    1.198147  0.779517  1.277800  \n",
       "5   1.502835    1.066510 -0.141642  1.265973  \n",
       "6   0.780357    1.510177  1.208958  1.774206  \n",
       "7   0.117288    1.168176  1.060174  1.588342  \n",
       "8   1.598461    1.126055  0.883203  0.089866  \n",
       "9   1.325539    1.005002  0.883604 -9.305018  \n",
       "10  1.172511    0.157429  0.798365  2.109223  \n",
       "11  0.948078 -386.522855  0.867129  1.538489  \n",
       "12  0.904531    1.197287  0.790996  0.897906  \n",
       "13  1.673488    1.288698  1.776338  1.504007  \n",
       "14  0.860545    1.424101  0.857702  0.990862  \n",
       "15  2.186075    1.885310  1.691111  2.131983  "
      ]
     },
     "execution_count": 66,
     "metadata": {},
     "output_type": "execute_result"
    }
   ],
   "source": [
    "pd.DataFrame(logp_array)"
   ]
  },
  {
   "cell_type": "code",
   "execution_count": 67,
   "id": "d82245ab",
   "metadata": {},
   "outputs": [
    {
     "data": {
      "image/png": "[encoded data removed]",
      "text/plain": [
       "<Figure size 800x400 with 1 Axes>"
      ]
     },
     "metadata": {},
     "output_type": "display_data"
    },
    {
     "name": "stdout",
     "output_type": "stream",
     "text": [
      "Bandwidth: 0.2512\n",
      "Max density: 9.6655\n"
     ]
    }
   ],
   "source": [
    "import numpy as np\n",
    "import matplotlib.pyplot as plt\n",
    "from scipy.stats import gaussian_kde\n",
    "\n",
    "def inspect_kde(samples, true_value):\n",
    "    # Fit KDE\n",
    "    kde = gaussian_kde(samples)\n",
    "\n",
    "    # Evaluate density around the true value\n",
    "    x_grid = np.linspace(true_value - 1, true_value + 1, 500)\n",
    "    density = kde(x_grid)\n",
    "\n",
    "    # Plot\n",
    "    plt.figure(figsize=(8, 4))\n",
    "    plt.plot(x_grid, density, label=\"KDE\")\n",
    "    plt.axvline(true_value, color='red', linestyle='--', label=f\"True value: {true_value:.3f}\")\n",
    "    plt.title(\"KDE around True Value\")\n",
    "    plt.xlabel(\"Value\")\n",
    "    plt.ylabel(\"Density\")\n",
    "    plt.legend()\n",
    "    plt.grid(True)\n",
    "    plt.show()\n",
    "\n",
    "    print(f\"Bandwidth: {kde.factor:.4f}\")\n",
    "    print(f\"Max density: {np.max(density):.4f}\")\n",
    "\n",
    "samples = trace100.posterior['Ex'].stack(sample=(\"chain\", \"draw\")).values[3, 4]\n",
    "true_value = r.getScaledElasticityMatrix()[3, 4]\n",
    "inspect_kde(samples, true_value)\n"
   ]
  },
  {
   "cell_type": "markdown",
   "id": "23d98e3b",
   "metadata": {},
   "source": [
    "## Summary statistics and plots"
   ]
  },
  {
   "cell_type": "code",
   "execution_count": 62,
   "id": "4e21ab6a",
   "metadata": {},
   "outputs": [
    {
     "name": "stdout",
     "output_type": "stream",
     "text": [
      "min logp: -inf\n",
      "max logp: 2.498496567863032\n",
      "median logp 1.0985662476553741\n"
     ]
    }
   ],
   "source": [
    "print(\"min logp:\", logp_array.min())\n",
    "print(\"max logp:\", logp_array.max())\n",
    "print('median logp', np.median(logp_array))"
   ]
  },
  {
   "cell_type": "code",
   "execution_count": 102,
   "id": "2310480a",
   "metadata": {},
   "outputs": [
    {
     "data": {
      "image/png": "[encoded data removed]",
      "text/plain": [
       "<Figure size 1000x600 with 1 Axes>"
      ]
     },
     "metadata": {},
     "output_type": "display_data"
    }
   ],
   "source": [
    "logp_for_plotting = logp_array.copy()\n",
    "logp_for_plotting[logp_for_plotting<-4] = -4.6\n",
    "\n",
    "# Remove -inf values for plotting\n",
    "finite_logp = logp_for_plotting[np.isfinite(logp_for_plotting)]\n",
    "\n",
    "# Plot histogram\n",
    "plt.figure(figsize=(10, 6))\n",
    "n, bins, patches = plt.hist(finite_logp, bins=30, color='skyblue', edgecolor='black')\n",
    "plt.title(\"Histogram of Log Probability Densities for Ground Truth Values\")\n",
    "plt.xlabel(\"Log Probability Density\")\n",
    "plt.ylabel(\"Count\")\n",
    "plt.grid(True)\n",
    "plt.axvline(np.median(finite_logp), color='red', linestyle='--', label=f\"Median: {np.median(finite_logp):.2f}\")\n",
    "patches[0].set_facecolor('red')\n",
    "patches[3].set_facecolor('orange')\n",
    "patches[11].set_facecolor('orange')\n",
    "patches[12].set_facecolor('orange')\n",
    "plt.legend()\n",
    "\n",
    "plt.text(-4.5, -1.4, '<-4', ha='center')\n",
    "\n",
    "plt.tight_layout()\n"
   ]
  },
  {
   "cell_type": "code",
   "execution_count": 65,
   "id": "c765ce4e",
   "metadata": {},
   "outputs": [
    {
     "name": "stdout",
     "output_type": "stream",
     "text": [
      "Elasticities with good estimations: 166\n",
      "Elasticities with bad estimations: 10\n"
     ]
    }
   ],
   "source": [
    "print('Elasticities with good estimations:', len(logp_array[logp_array>-1]))\n",
    "print('Elasticities with bad estimations:', len(logp_array[logp_array<-1]))"
   ]
  },
  {
   "cell_type": "code",
   "execution_count": 117,
   "id": "5bf1714f",
   "metadata": {},
   "outputs": [
    {
     "name": "stdout",
     "output_type": "stream",
     "text": [
      "% of elasticities with good estimations: 94.32\n",
      "% oElasticities with bad estimations: 5.68\n"
     ]
    }
   ],
   "source": [
    "print('% of elasticities with good estimations:', round(len(logp_array[logp_array>-1])*100/176, 2))\n",
    "print('% oElasticities with bad estimations:', round(len(logp_array[logp_array<-1])*100/176, 2))"
   ]
  },
  {
   "cell_type": "code",
   "execution_count": 113,
   "id": "f792d55b",
   "metadata": {},
   "outputs": [
    {
     "data": {
      "image/png": "[encoded data removed]",
      "text/plain": [
       "<Figure size 800x600 with 1 Axes>"
      ]
     },
     "metadata": {},
     "output_type": "display_data"
    }
   ],
   "source": [
    "# Example arrays\n",
    "true_values = r.getScaledElasticityMatrix().flatten()\n",
    "logp_values = logp_array.flatten()\n",
    "\n",
    "# Remove -inf or NaN\n",
    "mask = np.isfinite(logp_values)\n",
    "true_values = true_values# [mask]\n",
    "logp_values = logp_for_plotting\n",
    "\n",
    "conditions = [\n",
    "    logp_values < -4,\n",
    "    (logp_values >= -4) & (logp_values < -1),\n",
    "    logp_values >= -1\n",
    "]\n",
    "\n",
    "choices = ['red', 'darkorange', 'blue']\n",
    "\n",
    "colors = np.select(conditions, choices).flatten()\n",
    "\n",
    "plt.figure(figsize=(8, 6))\n",
    "plt.grid(True)\n",
    "plt.scatter(true_values, logp_values, c=colors, alpha=0.8, zorder=100)\n",
    "plt.xlabel(\"Ground Truth Value\")\n",
    "plt.ylabel(\"Log Probability Density\")\n",
    "plt.title(\"Logp vs. Ground Truth Value\", fontsize=16)\n",
    "plt.axhline(0, color='gray', linestyle='--', linewidth=1)\n",
    "\n",
    "\n",
    "plt.axhline(-4.6, color='orangered', linestyle='--', linewidth=1)\n",
    "plt.text(-1.68, -4.7, '<-4', ha='center')\n",
    "\n",
    "plt.tight_layout()\n",
    "\n"
   ]
  }
 ],
 "metadata": {
  "kernelspec": {
   "display_name": "gayles",
   "language": "python",
   "name": "python3"
  },
  "language_info": {
   "codemirror_mode": {
    "name": "ipython",
    "version": 3
   },
   "file_extension": ".py",
   "mimetype": "text/x-python",
   "name": "python",
   "nbconvert_exporter": "python",
   "pygments_lexer": "ipython3",
   "version": "3.9.19"
  }
 },
 "nbformat": 4,
 "nbformat_minor": 5
}
