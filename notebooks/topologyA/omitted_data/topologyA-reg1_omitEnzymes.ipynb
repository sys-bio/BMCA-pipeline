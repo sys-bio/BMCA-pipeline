{
 "cells": [
  {
   "cell_type": "markdown",
   "metadata": {},
   "source": [
    "# Set up "
   ]
  },
  {
   "cell_type": "code",
   "execution_count": 1,
   "metadata": {},
   "outputs": [
    {
     "name": "stderr",
     "output_type": "stream",
     "text": [
      "WARNING (aesara.configdefaults): g++ not available, if using conda: `conda install m2w64-toolchain`\n",
      "WARNING (aesara.configdefaults): g++ not detected!  Aesara will be unable to compile C-implementations and will default to Python. Performance may be severely degraded. To remove this warning, set Aesara flags cxx to an empty string.\n",
      "WARNING (aesara.tensor.blas): Using NumPy C-API based implementation for BLAS functions.\n"
     ]
    }
   ],
   "source": [
    "SEED = 1\n",
    "import random\n",
    "\n",
    "import tellurium as te\n",
    "import pandas as pd\n",
    "import numpy as np\n",
    "np.random.seed(SEED)\n",
    "\n",
    "import matplotlib.pyplot as plt\n",
    "import seaborn as sns\n",
    "import arviz as az\n",
    "\n",
    "import aesara.tensor as at\n",
    "import aesara\n",
    "floatX = aesara.config.floatX\n",
    "import pymc as pm\n",
    "import numpy as np\n",
    "\n",
    "import cobra\n",
    "import os\n",
    "\n",
    "from scipy import stats\n",
    "import scipy as sp\n",
    "import math\n",
    "\n",
    "import gzip\n",
    "import cloudpickle"
   ]
  },
  {
   "cell_type": "code",
   "execution_count": 2,
   "metadata": {},
   "outputs": [],
   "source": [
    "os.chdir('../../..')\n",
    "from src import antemll, util\n",
    "import emll\n",
    "from emll.aesara_utils import LeastSquaresSolve\n",
    "os.chdir('notebooks/topologyA/omitted_data/')"
   ]
  },
  {
   "cell_type": "code",
   "execution_count": 3,
   "metadata": {},
   "outputs": [
    {
     "data": {
      "text/plain": [
       "9.995861419348e-16"
      ]
     },
     "execution_count": 3,
     "metadata": {},
     "output_type": "execute_result"
    }
   ],
   "source": [
    "Teusink_ant ='../../../models/Antimony/topologyA-reg1.ant' \n",
    "r = te.loada(Teusink_ant)\n",
    "r.conservedMoietyAnalysis = True\n",
    "r.steadyState()"
   ]
  },
  {
   "cell_type": "code",
   "execution_count": 4,
   "metadata": {},
   "outputs": [],
   "source": [
    "pt_levels = [0.1, 0.2, 0.3, 0.4 ,0.5, 1.5, 3, 5, 7, 10]\n",
    "pt_labels = ['0.1x', '0.2x', '0.3x', '0.4x','0.5x', '1.5x', '3x', '5x', '7x', '10x']"
   ]
  },
  {
   "cell_type": "code",
   "execution_count": 5,
   "metadata": {},
   "outputs": [],
   "source": [
    "enzymes = ['e_' + i for i in r.getReactionIds()]\n",
    "internal = r.getFloatingSpeciesIds()\n",
    "external = r.getBoundarySpeciesIds()\n",
    "fluxes = ['v_' + i for i in r.getReactionIds()]"
   ]
  },
  {
   "cell_type": "markdown",
   "metadata": {},
   "source": [
    "## Leaving out enzyme data"
   ]
  },
  {
   "cell_type": "code",
   "execution_count": 6,
   "metadata": {},
   "outputs": [],
   "source": [
    "data0 = pd.read_csv('../../../data/interim/generated_data/topologyA-reg1/topologyA-reg1_0.csv')[fluxes+internal+external]\n",
    "data01 = pd.read_csv('../../../data/interim/generated_data/topologyA-reg1/topologyA-reg1_0.1.csv')[fluxes+internal+external]\n",
    "data02 = pd.read_csv('../../../data/interim/generated_data/topologyA-reg1/topologyA-reg1_0.2.csv')[fluxes+internal+external]\n",
    "data03 = pd.read_csv('../../../data/interim/generated_data/topologyA-reg1/topologyA-reg1_0.3.csv')[fluxes+internal+external]\n",
    "data04 = pd.read_csv('../../../data/interim/generated_data/topologyA-reg1/topologyA-reg1_0.4.csv')[fluxes+internal+external]\n",
    "data05 = pd.read_csv('../../../data/interim/generated_data/topologyA-reg1/topologyA-reg1_0.5.csv')[fluxes+internal+external]\n",
    "\n",
    "data15 = pd.read_csv('../../../data/interim/generated_data/topologyA-reg1/topologyA-reg1_1.5.csv')[fluxes+internal+external]\n",
    "data3 = pd.read_csv('../../../data/interim/generated_data/topologyA-reg1/topologyA-reg1_3.csv')[fluxes+internal+external]\n",
    "data5 = pd.read_csv('../../../data/interim/generated_data/topologyA-reg1/topologyA-reg1_5.csv')[fluxes+internal+external]\n",
    "data7 = pd.read_csv('../../../data/interim/generated_data/topologyA-reg1/topologyA-reg1_7.csv')[fluxes+internal+external]\n",
    "data100 = pd.read_csv('../../../data/interim/generated_data/topologyA-reg1/topologyA-reg1_10.csv')[fluxes+internal+external]"
   ]
  },
  {
   "cell_type": "code",
   "execution_count": 7,
   "metadata": {},
   "outputs": [
    {
     "name": "stderr",
     "output_type": "stream",
     "text": [
      "c:\\Users\\user\\miniconda3\\envs\\gayles\\lib\\site-packages\\pandas\\core\\internals\\blocks.py:351: RuntimeWarning:\n",
      "\n",
      "divide by zero encountered in log\n",
      "\n",
      "No objective coefficients in model. Unclear what should be optimized\n"
     ]
    },
    {
     "name": "stdout",
     "output_type": "stream",
     "text": [
      "../../../models/Antimony/topologyA_cobra.ant\n"
     ]
    },
    {
     "name": "stderr",
     "output_type": "stream",
     "text": [
      "No objective coefficients in model. Unclear what should be optimized\n"
     ]
    },
    {
     "name": "stdout",
     "output_type": "stream",
     "text": [
      "../../../models/Antimony/topologyA_cobra.ant\n"
     ]
    },
    {
     "name": "stderr",
     "output_type": "stream",
     "text": [
      "No objective coefficients in model. Unclear what should be optimized\n"
     ]
    },
    {
     "name": "stdout",
     "output_type": "stream",
     "text": [
      "../../../models/Antimony/topologyA_cobra.ant\n"
     ]
    },
    {
     "name": "stderr",
     "output_type": "stream",
     "text": [
      "No objective coefficients in model. Unclear what should be optimized\n"
     ]
    },
    {
     "name": "stdout",
     "output_type": "stream",
     "text": [
      "../../../models/Antimony/topologyA_cobra.ant\n"
     ]
    },
    {
     "name": "stderr",
     "output_type": "stream",
     "text": [
      "No objective coefficients in model. Unclear what should be optimized\n"
     ]
    },
    {
     "name": "stdout",
     "output_type": "stream",
     "text": [
      "../../../models/Antimony/topologyA_cobra.ant\n"
     ]
    },
    {
     "name": "stderr",
     "output_type": "stream",
     "text": [
      "No objective coefficients in model. Unclear what should be optimized\n"
     ]
    },
    {
     "name": "stdout",
     "output_type": "stream",
     "text": [
      "../../../models/Antimony/topologyA_cobra.ant\n"
     ]
    },
    {
     "name": "stderr",
     "output_type": "stream",
     "text": [
      "No objective coefficients in model. Unclear what should be optimized\n"
     ]
    },
    {
     "name": "stdout",
     "output_type": "stream",
     "text": [
      "../../../models/Antimony/topologyA_cobra.ant\n"
     ]
    },
    {
     "name": "stderr",
     "output_type": "stream",
     "text": [
      "No objective coefficients in model. Unclear what should be optimized\n"
     ]
    },
    {
     "name": "stdout",
     "output_type": "stream",
     "text": [
      "../../../models/Antimony/topologyA_cobra.ant\n"
     ]
    },
    {
     "name": "stderr",
     "output_type": "stream",
     "text": [
      "No objective coefficients in model. Unclear what should be optimized\n"
     ]
    },
    {
     "name": "stdout",
     "output_type": "stream",
     "text": [
      "../../../models/Antimony/topologyA_cobra.ant\n"
     ]
    },
    {
     "name": "stderr",
     "output_type": "stream",
     "text": [
      "No objective coefficients in model. Unclear what should be optimized\n"
     ]
    },
    {
     "name": "stdout",
     "output_type": "stream",
     "text": [
      "../../../models/Antimony/topologyA_cobra.ant\n"
     ]
    },
    {
     "name": "stderr",
     "output_type": "stream",
     "text": [
      "No objective coefficients in model. Unclear what should be optimized\n"
     ]
    },
    {
     "name": "stdout",
     "output_type": "stream",
     "text": [
      "../../../models/Antimony/topologyA_cobra.ant\n"
     ]
    }
   ],
   "source": [
    "BMCA_obj0 = antemll.antemll(Teusink_ant, data0, '../../../models/sbml/topologyA_cobra.xml')\n",
    "BMCA_obj01 = antemll.antemll(Teusink_ant, data01, '../../../models/sbml/topologyA_cobra.xml')\n",
    "BMCA_obj02 = antemll.antemll(Teusink_ant, data02, '../../../models/sbml/topologyA_cobra.xml')\n",
    "BMCA_obj03 = antemll.antemll(Teusink_ant, data03, '../../../models/sbml/topologyA_cobra.xml')\n",
    "BMCA_obj04 = antemll.antemll(Teusink_ant, data04, '../../../models/sbml/topologyA_cobra.xml')\n",
    "BMCA_obj05 = antemll.antemll(Teusink_ant, data05, '../../../models/sbml/topologyA_cobra.xml')\n",
    "\n",
    "BMCA_obj15 = antemll.antemll(Teusink_ant, data15, '../../../models/sbml/topologyA_cobra.xml')\n",
    "BMCA_obj3 = antemll.antemll(Teusink_ant, data3, '../../../models/sbml/topologyA_cobra.xml')\n",
    "BMCA_obj5 = antemll.antemll(Teusink_ant, data5, '../../../models/sbml/topologyA_cobra.xml')\n",
    "BMCA_obj7 = antemll.antemll(Teusink_ant, data7, '../../../models/sbml/topologyA_cobra.xml')\n",
    "BMCA_obj100 = antemll.antemll(Teusink_ant, data100, '../../../models/sbml/topologyA_cobra.xml')\n"
   ]
  },
  {
   "cell_type": "markdown",
   "metadata": {},
   "source": [
    "## Running ADVI"
   ]
  },
  {
   "cell_type": "code",
   "execution_count": 8,
   "metadata": {},
   "outputs": [],
   "source": [
    "def run_BayesInf(BMCA_obj, n_samp=1):\n",
    "    np.random.seed(SEED)\n",
    "    random.seed(SEED)\n",
    "\n",
    "    enzymes = ['e_' + i for i in r.getReactionIds()]\n",
    "        \n",
    "    known_e_inds = []\n",
    "    omitted_e_inds = []\n",
    "    for i, e in enumerate(enzymes):\n",
    "        if e in data100.columns:\n",
    "            known_e_inds.append(i)\n",
    "        else: \n",
    "            omitted_e_inds.append(i)\n",
    "    e_inds = np.hstack([known_e_inds, omitted_e_inds]).argsort()\n",
    "\n",
    "    with pm.Model() as pymc_model:\n",
    "\n",
    "        # Initialize elasticities\n",
    "        Ex_t = pm.Deterministic('Ex', util.initialize_elasticity(BMCA_obj.Ex.to_numpy(), name='Ex'))\n",
    "        Ey_t = pm.Deterministic('Ey', util.initialize_elasticity(BMCA_obj.Ey.to_numpy(), name='Ey'))\n",
    "        \n",
    "        #Protein Expression Priors\n",
    "        e_measured = pm.Normal('e_measured', mu=1, sigma=0.1, observed=BMCA_obj.en.T)\n",
    "        e_unmeasured = pm.Normal('e_unmeasured', mu=1, sigma=0.1, shape=(len(omitted_e_inds), len(BMCA_obj.en)))\n",
    "        e_t = at.concatenate([e_measured, e_unmeasured], axis=0)[e_inds, :]\n",
    "        pm.Deterministic('e_t', e_t)\n",
    "        \n",
    "        chi_t = pm.Normal('chi_t', mu=0, sigma=0.5, observed=BMCA_obj.xn.T)\n",
    "        y_t = pm.Normal('y_t', mu=0, sigma=0.5, observed=BMCA_obj.yn.T)\n",
    "        \n",
    "        likelihood = pm.Deterministic('vn', e_t * (np.ones((len(e_inds), len(BMCA_obj.en))) + pm.math.dot(Ex_t,chi_t) + pm.math.dot(Ey_t,y_t)))\n",
    "        v_hat_obs = pm.Normal('v_hat_obs', mu=likelihood, sigma=0.1, observed=BMCA_obj.vn.squeeze().T)\n",
    "        \n",
    "        N_ITERATIONS = 15000 # 45000\n",
    "\n",
    "        advi = pm.ADVI(random_seed=SEED)\n",
    "        tracker = pm.callbacks.Tracker(\n",
    "            mean = advi.approx.mean.eval,\n",
    "            std = advi.approx.std.eval\n",
    "        )\n",
    "    \n",
    "        approx = advi.fit(\n",
    "            n=N_ITERATIONS, \n",
    "            callbacks = [tracker],\n",
    "            obj_optimizer=pm.adagrad_window(learning_rate=1E-1), \n",
    "            total_grad_norm_constraint=0.7,\n",
    "            obj_n_mc=1)\n",
    "\n",
    "\n",
    "    with sns.plotting_context('notebook', font_scale=1.2):\n",
    "\n",
    "        fig = plt.figure(figsize=(5,4))\n",
    "        plt.plot(approx.hist + 30, '.', rasterized=True, ms=1)\n",
    "        # plt.ylim([-1E1, 1E3])\n",
    "        plt.xlim([0, N_ITERATIONS])\n",
    "        sns.despine(trim=True, offset=10)\n",
    "\n",
    "        plt.ylabel('-ELBO')\n",
    "        plt.xlabel('Iteration')\n",
    "        plt.title('in vitro ADVI convergence')\n",
    "        plt.tight_layout()\n",
    "\n",
    "    if n_samp > 1:\n",
    "        samples = []\n",
    "        for i in range(n_samp): \n",
    "            samples.append(approx.sample(draws=1000))\n",
    "        return samples\n",
    "    else:\n",
    "        return approx.sample(draws=1000), random_seed=SEED"
   ]
  },
  {
   "cell_type": "code",
   "execution_count": null,
   "metadata": {},
   "outputs": [],
   "source": [
    "trace0 = run_BayesInf(BMCA_obj0, n_samp=3)\n",
    "trace01 = run_BayesInf(BMCA_obj01, n_samp=3)\n",
    "trace02 = run_BayesInf(BMCA_obj02, n_samp=3)\n",
    "trace03 = run_BayesInf(BMCA_obj03, n_samp=3)\n",
    "trace04 = run_BayesInf(BMCA_obj04, n_samp=3)\n",
    "trace05 = run_BayesInf(BMCA_obj05, n_samp=3)\n",
    "\n",
    "trace15 = run_BayesInf(BMCA_obj15, n_samp=3)\n",
    "trace3 = run_BayesInf(BMCA_obj3, n_samp=3)\n",
    "trace5 = run_BayesInf(BMCA_obj5, n_samp=3)\n",
    "trace7 = run_BayesInf(BMCA_obj7, n_samp=3)\n",
    "trace100 = run_BayesInf(BMCA_obj100, n_samp=3)\n",
    "# 130min"
   ]
  },
  {
   "cell_type": "markdown",
   "metadata": {},
   "source": [
    "### saving trace data"
   ]
  },
  {
   "cell_type": "code",
   "execution_count": null,
   "metadata": {},
   "outputs": [],
   "source": [
    "with gzip.open(\"topologyA-reg1_omitEnzymes_traces.pgz\", \"wb\") as f:\n",
    "            cloudpickle.dump(\n",
    "                {\n",
    "                \"trace0\":trace0,\n",
    "                \"trace01\":trace01,\n",
    "                \"trace02\":trace02,\n",
    "                \"trace03\":trace03,\n",
    "                \"trace04\":trace04,\n",
    "                \"trace05\":trace05,\n",
    "                \n",
    "                \"trace15\":trace15,\n",
    "                \"trace3\":trace3,\n",
    "                \"trace5\":trace5,\n",
    "                \"trace7\":trace7,\n",
    "                \"trace100\":trace100\n",
    "                },\n",
    "                f,\n",
    "            )"
   ]
  },
  {
   "cell_type": "markdown",
   "metadata": {},
   "source": [
    "# Analysis"
   ]
  },
  {
   "cell_type": "code",
   "execution_count": 8,
   "metadata": {},
   "outputs": [],
   "source": [
    "picklefolder = '../../../data/results/tracePickles-20240718/'\n",
    "with gzip.open(picklefolder + 'topologyA-reg1_omitEnzymes_traces.pgz', \"rb\") as f:\n",
    "    traces = cloudpickle.load(f, encoding='bytes')"
   ]
  },
  {
   "cell_type": "code",
   "execution_count": 9,
   "metadata": {},
   "outputs": [],
   "source": [
    "trace01=traces['trace01']\n",
    "trace02=traces['trace02']\n",
    "trace03=traces['trace03']\n",
    "trace04=traces['trace04']\n",
    "trace05=traces['trace05']\n",
    "\n",
    "trace15=traces['trace15']\n",
    "trace3=traces['trace3']\n",
    "trace5=traces['trace5']\n",
    "trace7=traces['trace7']\n",
    "trace100=traces['trace100']"
   ]
  },
  {
   "cell_type": "markdown",
   "metadata": {},
   "source": [
    "### Elasticity check"
   ]
  },
  {
   "cell_type": "code",
   "execution_count": 10,
   "metadata": {},
   "outputs": [
    {
     "name": "stderr",
     "output_type": "stream",
     "text": [
      "arviz - WARNING - Shape validation failed: input_shape: (1, 1000), minimum_shape: (chains=2, draws=4)\n",
      "arviz - WARNING - Shape validation failed: input_shape: (1, 1000), minimum_shape: (chains=2, draws=4)\n",
      "arviz - WARNING - Shape validation failed: input_shape: (1, 1000), minimum_shape: (chains=2, draws=4)\n",
      "arviz - WARNING - Shape validation failed: input_shape: (1, 1000), minimum_shape: (chains=2, draws=4)\n",
      "arviz - WARNING - Shape validation failed: input_shape: (1, 1000), minimum_shape: (chains=2, draws=4)\n",
      "arviz - WARNING - Shape validation failed: input_shape: (1, 1000), minimum_shape: (chains=2, draws=4)\n",
      "arviz - WARNING - Shape validation failed: input_shape: (1, 1000), minimum_shape: (chains=2, draws=4)\n",
      "arviz - WARNING - Shape validation failed: input_shape: (1, 1000), minimum_shape: (chains=2, draws=4)\n",
      "arviz - WARNING - Shape validation failed: input_shape: (1, 1000), minimum_shape: (chains=2, draws=4)\n",
      "arviz - WARNING - Shape validation failed: input_shape: (1, 1000), minimum_shape: (chains=2, draws=4)\n",
      "arviz - WARNING - Shape validation failed: input_shape: (1, 1000), minimum_shape: (chains=2, draws=4)\n",
      "arviz - WARNING - Shape validation failed: input_shape: (1, 1000), minimum_shape: (chains=2, draws=4)\n",
      "arviz - WARNING - Shape validation failed: input_shape: (1, 1000), minimum_shape: (chains=2, draws=4)\n",
      "arviz - WARNING - Shape validation failed: input_shape: (1, 1000), minimum_shape: (chains=2, draws=4)\n",
      "arviz - WARNING - Shape validation failed: input_shape: (1, 1000), minimum_shape: (chains=2, draws=4)\n",
      "arviz - WARNING - Shape validation failed: input_shape: (1, 1000), minimum_shape: (chains=2, draws=4)\n",
      "arviz - WARNING - Shape validation failed: input_shape: (1, 1000), minimum_shape: (chains=2, draws=4)\n",
      "arviz - WARNING - Shape validation failed: input_shape: (1, 1000), minimum_shape: (chains=2, draws=4)\n",
      "arviz - WARNING - Shape validation failed: input_shape: (1, 1000), minimum_shape: (chains=2, draws=4)\n",
      "arviz - WARNING - Shape validation failed: input_shape: (1, 1000), minimum_shape: (chains=2, draws=4)\n",
      "arviz - WARNING - Shape validation failed: input_shape: (1, 1000), minimum_shape: (chains=2, draws=4)\n",
      "arviz - WARNING - Shape validation failed: input_shape: (1, 1000), minimum_shape: (chains=2, draws=4)\n",
      "arviz - WARNING - Shape validation failed: input_shape: (1, 1000), minimum_shape: (chains=2, draws=4)\n",
      "arviz - WARNING - Shape validation failed: input_shape: (1, 1000), minimum_shape: (chains=2, draws=4)\n",
      "arviz - WARNING - Shape validation failed: input_shape: (1, 1000), minimum_shape: (chains=2, draws=4)\n",
      "arviz - WARNING - Shape validation failed: input_shape: (1, 1000), minimum_shape: (chains=2, draws=4)\n",
      "arviz - WARNING - Shape validation failed: input_shape: (1, 1000), minimum_shape: (chains=2, draws=4)\n",
      "arviz - WARNING - Shape validation failed: input_shape: (1, 1000), minimum_shape: (chains=2, draws=4)\n",
      "arviz - WARNING - Shape validation failed: input_shape: (1, 1000), minimum_shape: (chains=2, draws=4)\n",
      "arviz - WARNING - Shape validation failed: input_shape: (1, 1000), minimum_shape: (chains=2, draws=4)\n"
     ]
    }
   ],
   "source": [
    "med_Ex01_advi = util.get_az_mean(trace01)\n",
    "med_Ex02_advi = util.get_az_mean(trace02)\n",
    "med_Ex03_advi = util.get_az_mean(trace03)\n",
    "med_Ex04_advi = util.get_az_mean(trace04)\n",
    "med_Ex05_advi = util.get_az_mean(trace05)\n",
    "\n",
    "med_Ex15_advi = util.get_az_mean(trace15)\n",
    "med_Ex3_advi = util.get_az_mean(trace3)\n",
    "med_Ex5_advi = util.get_az_mean(trace5)\n",
    "med_Ex7_advi = util.get_az_mean(trace7)\n",
    "med_Ex100_advi = util.get_az_mean(trace100)"
   ]
  },
  {
   "cell_type": "code",
   "execution_count": 11,
   "metadata": {},
   "outputs": [],
   "source": [
    "et01_0 = (trace01[0]['posterior']['e_t']).to_numpy().squeeze()\n",
    "et01_1 = (trace01[1]['posterior']['e_t']).to_numpy().squeeze()\n",
    "et01_2 = (trace01[2]['posterior']['e_t']).to_numpy().squeeze()\n",
    "et01 = np.concatenate([et01_0, et01_1, et01_2])\n",
    "med_et_advi_01 = np.median(et01, axis=0).transpose()\n",
    "\n",
    "et02_0 = (trace02[0]['posterior']['e_t']).to_numpy().squeeze()\n",
    "et02_1 = (trace02[1]['posterior']['e_t']).to_numpy().squeeze()\n",
    "et02_2 = (trace02[2]['posterior']['e_t']).to_numpy().squeeze()\n",
    "et02 = np.concatenate([et02_0, et02_1, et02_2])\n",
    "med_et_advi_02 = np.median(et02, axis=0).transpose()\n",
    "\n",
    "et03_0 = (trace03[0]['posterior']['e_t']).to_numpy().squeeze()\n",
    "et03_1 = (trace03[1]['posterior']['e_t']).to_numpy().squeeze()\n",
    "et03_2 = (trace03[2]['posterior']['e_t']).to_numpy().squeeze()\n",
    "et03 = np.concatenate([et03_0, et03_1, et03_2])\n",
    "med_et_advi_03 = np.median(et03, axis=0).transpose()\n",
    "\n",
    "et04_0 = (trace04[0]['posterior']['e_t']).to_numpy().squeeze()\n",
    "et04_1 = (trace04[1]['posterior']['e_t']).to_numpy().squeeze()\n",
    "et04_2 = (trace04[2]['posterior']['e_t']).to_numpy().squeeze()\n",
    "et04 = np.concatenate([et04_0, et04_1, et04_2])\n",
    "med_et_advi_04 = np.median(et04, axis=0).transpose()\n",
    "\n",
    "et05_0 = (trace05[0]['posterior']['e_t']).to_numpy().squeeze()\n",
    "et05_1 = (trace05[1]['posterior']['e_t']).to_numpy().squeeze()\n",
    "et05_2 = (trace05[2]['posterior']['e_t']).to_numpy().squeeze()\n",
    "et05 = np.concatenate([et05_0, et05_1, et05_2])\n",
    "med_et_advi_05 = np.median(et05, axis=0).transpose()\n",
    "\n",
    "\n",
    "et15_0 = (trace15[0]['posterior']['e_t']).to_numpy().squeeze()\n",
    "et15_1 = (trace15[1]['posterior']['e_t']).to_numpy().squeeze()\n",
    "et15_2 = (trace15[2]['posterior']['e_t']).to_numpy().squeeze()\n",
    "et15 = np.concatenate([et15_0, et15_1, et15_2])\n",
    "med_et_advi_15 = np.median(et15, axis=0).transpose()\n",
    "\n",
    "et3_0 = (trace3[0]['posterior']['e_t']).to_numpy().squeeze()\n",
    "et3_1 = (trace3[1]['posterior']['e_t']).to_numpy().squeeze()\n",
    "et3_2 = (trace3[2]['posterior']['e_t']).to_numpy().squeeze()\n",
    "et3 = np.concatenate([et3_0, et3_1, et3_2])\n",
    "med_et_advi_3 = np.median(et3, axis=0).transpose()\n",
    "\n",
    "et5_0 = (trace5[0]['posterior']['e_t']).to_numpy().squeeze()\n",
    "et5_1 = (trace5[1]['posterior']['e_t']).to_numpy().squeeze()\n",
    "et5_2 = (trace5[2]['posterior']['e_t']).to_numpy().squeeze()\n",
    "et5 = np.concatenate([et5_0, et5_1, et5_2])\n",
    "med_et_advi_5 = np.median(et5, axis=0).transpose()\n",
    "\n",
    "et7_0 = (trace7[0]['posterior']['e_t']).to_numpy().squeeze()\n",
    "et7_1 = (trace7[1]['posterior']['e_t']).to_numpy().squeeze()\n",
    "et7_2 = (trace7[2]['posterior']['e_t']).to_numpy().squeeze()\n",
    "et7 = np.concatenate([et7_0, et7_1, et7_2])\n",
    "med_et_advi_7 = np.median(et7, axis=0).transpose()\n",
    "\n",
    "et100_0 = (trace100[0]['posterior']['e_t']).to_numpy().squeeze()\n",
    "et100_1 = (trace100[1]['posterior']['e_t']).to_numpy().squeeze()\n",
    "et100_2 = (trace100[2]['posterior']['e_t']).to_numpy().squeeze()\n",
    "et100 = np.concatenate([et100_0, et100_1, et100_2])\n",
    "med_et_advi_100 = np.median(et100, axis=0).transpose()\n"
   ]
  },
  {
   "cell_type": "code",
   "execution_count": 12,
   "metadata": {},
   "outputs": [],
   "source": [
    "elasticity_values = np.column_stack([r.getScaledElasticityMatrix().flatten(),\n",
    "                                med_Ex01_advi, med_Ex02_advi, med_Ex03_advi, \n",
    "                               med_Ex04_advi, med_Ex05_advi,  \n",
    "                               med_Ex15_advi, med_Ex3_advi, med_Ex5_advi, \n",
    "                               med_Ex7_advi, med_Ex100_advi])\n",
    "\n",
    "elasticities_df = pd.DataFrame(elasticity_values, columns=['gt']+pt_labels, \n",
    "                               index=[i + '_' + ii for i in r.getReactionIds() for ii in r.getFloatingSpeciesIds()])\n",
    "# elasticities_df.to_csv('topologyA-reg2_omitEnzymes_elasticities.csv')"
   ]
  },
  {
   "cell_type": "code",
   "execution_count": 13,
   "metadata": {},
   "outputs": [],
   "source": [
    "e_slopes = [round(util.calculate_slope(elasticities_df['gt'], elasticities_df[i])[0],3) for i in pt_labels]\n",
    "e_intercepts = [round(util.calculate_slope(elasticities_df['gt'], elasticities_df[i])[1],3) for i in pt_labels]\n",
    "e_r2s = [round(util.calculate_slope(elasticities_df['gt'], elasticities_df[i])[2],3) for i in pt_labels]"
   ]
  },
  {
   "cell_type": "code",
   "execution_count": 22,
   "metadata": {},
   "outputs": [
    {
     "data": {
      "image/png": "[encoded data removed]",
      "text/plain": [
       "<Figure size 640x480 with 1 Axes>"
      ]
     },
     "metadata": {},
     "output_type": "display_data"
    }
   ],
   "source": [
    "plt.axes().set_aspect('equal', 'datalim')\n",
    "plt.scatter(elasticities_df['gt'], elasticities_df['knockout'], alpha=0.4, label='knockout', zorder=10)\n",
    "plt.scatter(elasticities_df['gt'], elasticities_df['0.1x'], alpha=0.4, label='0.1x', zorder=10)\n",
    "plt.scatter(elasticities_df['gt'], elasticities_df['0.2x'], alpha=0.4, label='0.2x', zorder=10)\n",
    "plt.scatter(elasticities_df['gt'], elasticities_df['0.3x'], alpha=0.4, label='0.3x', zorder=10)\n",
    "plt.scatter(elasticities_df['gt'], elasticities_df['0.4x'], alpha=0.4, label='0.4x', zorder=10)\n",
    "plt.scatter(elasticities_df['gt'], elasticities_df['0.5x'], alpha=0.4, label='0.5x', zorder=10)\n",
    "\n",
    "plt.axline([0, 0], [1, 1], c='gray', linestyle='dashed', zorder=1, linewidth=3)\n",
    "plt.grid(True, which='both', axis='both', zorder=0)\n",
    "plt.xlabel('ground truth elasticity values', size=14)\n",
    "plt.ylabel('predicted elasticity values, $\\it{r}$', size=14)\n",
    "# plt.title('Parity plot of elasticity values for various \\nenzyme perturbation strengths—CRISPRi', size=20)\n",
    "plt.title('omitEnzymes reg1 CRISPRi', size=20)\n",
    "plt.legend(bbox_to_anchor=(1.04, 1), loc=\"upper left\")\n",
    "\n",
    "left_adjust = 2.2\n",
    "line_spacing = 0.12\n",
    "slope_start = 0\n",
    "r2_start = slope_start-(7*line_spacing)\n",
    "\n",
    "plt.text(left_adjust, slope_start, \"slopes\")\n",
    "for i, label in enumerate(pt_labels[0:5]):\n",
    "    plt.text(left_adjust, (slope_start-line_spacing)-(i*line_spacing), f'{label}: {e_slopes[i]}')\n",
    "\n",
    "plt.text(left_adjust, r2_start, 'R-squared')\n",
    "for i, label in enumerate(pt_labels[0:5]):\n",
    "    plt.text(left_adjust, (r2_start-line_spacing)-(i*line_spacing), f'{label}: {e_r2s[i]}')\n",
    "\n",
    "colors = ['tab:blue', 'tab:orange', 'tab:green', 'tab:red', 'tab:purple']\n",
    "for i in range(5):\n",
    "    plt.axline((0, e_intercepts[i]), slope=e_slopes[i], linestyle='--', alpha=0.6, color=colors[i], zorder=0)"
   ]
  },
  {
   "cell_type": "code",
   "execution_count": 20,
   "metadata": {},
   "outputs": [
    {
     "data": {
      "image/png": "[encoded data removed]",
      "text/plain": [
       "<Figure size 640x480 with 1 Axes>"
      ]
     },
     "metadata": {},
     "output_type": "display_data"
    }
   ],
   "source": [
    "plt.axes().set_aspect('equal', 'datalim')\n",
    "plt.scatter(elasticities_df['gt'], elasticities_df['1.5x'], alpha=0.4, label='1.5x')\n",
    "plt.scatter(elasticities_df['gt'], elasticities_df['3x'], alpha=0.4, label='3x')\n",
    "plt.scatter(elasticities_df['gt'], elasticities_df['5x'], alpha=0.4, label='5x')\n",
    "plt.scatter(elasticities_df['gt'], elasticities_df['7x'], alpha=0.4, label='7x')\n",
    "plt.scatter(elasticities_df['gt'], elasticities_df['10x'], alpha=0.4, label='10x')\n",
    "\n",
    "plt.axline([0, 0], [1, 1], c='gray', linestyle='dashed', zorder=1,linewidth=3)\n",
    "plt.grid(True, which='both', axis='both', zorder=0)\n",
    "plt.xlabel('ground truth elasticity values', size=14)\n",
    "plt.ylabel('predicted elasticity values, $\\it{r}$', size=14)\n",
    "plt.title('omitEnzymes reg1 CRISPRa', size=20)\n",
    "plt.legend(bbox_to_anchor=(1.04, 1), loc=\"upper left\")\n",
    "\n",
    "left_adjust = 3.3\n",
    "line_spacing = 0.15\n",
    "slope_start = -0.5\n",
    "r2_start = slope_start-(7*line_spacing)\n",
    "\n",
    "plt.text(left_adjust, slope_start, \"slopes\")\n",
    "for i, label in enumerate(pt_labels[6:11]):\n",
    "    plt.text(left_adjust, (slope_start-line_spacing)-(i*line_spacing), f'{label}: {e_slopes[i+6]}')\n",
    "\n",
    "plt.text(left_adjust, r2_start, 'R-squared')\n",
    "for i, label in enumerate(pt_labels[6:11]):\n",
    "    plt.text(left_adjust, (r2_start-line_spacing)-(i*line_spacing), f'{label}: {e_r2s[i+6]}')\n",
    "\n",
    "colors = ['tab:blue', 'tab:orange', 'tab:green', 'tab:red', 'tab:purple']\n",
    "for i in range(5):\n",
    "    plt.axline((0, e_intercepts[i+6]), slope=e_slopes[i+6], linestyle='--', alpha=0.6, color=colors[i], zorder=0)"
   ]
  },
  {
   "cell_type": "code",
   "execution_count": 14,
   "metadata": {},
   "outputs": [
    {
     "data": {
      "text/plain": [
       "F_onewayResult(statistic=2.090400621637513, pvalue=0.027399287961785274)"
      ]
     },
     "execution_count": 14,
     "metadata": {},
     "output_type": "execute_result"
    }
   ],
   "source": [
    "# running ANOVA on differences btw gt and predicted\n",
    "# elasticities_df = elasticities_df.sub(elasticities_df['gt'], axis=0)\n",
    "stats.f_oneway(elasticities_df['0.1x'],\n",
    "                elasticities_df['0.2x'],\n",
    "                elasticities_df['0.3x'],\n",
    "                elasticities_df['0.4x'],\n",
    "                elasticities_df['0.5x'],\n",
    "                elasticities_df['1.5x'],\n",
    "                elasticities_df['3x'],\n",
    "                elasticities_df['5x'],\n",
    "                elasticities_df['7x'],\n",
    "                elasticities_df['10x'])"
   ]
  },
  {
   "cell_type": "code",
   "execution_count": 15,
   "metadata": {},
   "outputs": [
    {
     "data": {
      "text/html": [
       "<div>\n",
       "<style scoped>\n",
       "    .dataframe tbody tr th:only-of-type {\n",
       "        vertical-align: middle;\n",
       "    }\n",
       "\n",
       "    .dataframe tbody tr th {\n",
       "        vertical-align: top;\n",
       "    }\n",
       "\n",
       "    .dataframe thead th {\n",
       "        text-align: right;\n",
       "    }\n",
       "</style>\n",
       "<table border=\"1\" class=\"dataframe\">\n",
       "  <thead>\n",
       "    <tr style=\"text-align: right;\">\n",
       "      <th></th>\n",
       "      <th>index</th>\n",
       "      <th>variable</th>\n",
       "      <th>value</th>\n",
       "    </tr>\n",
       "  </thead>\n",
       "  <tbody>\n",
       "    <tr>\n",
       "      <th>0</th>\n",
       "      <td>vKIL_B__</td>\n",
       "      <td>0.1x</td>\n",
       "      <td>0.329667</td>\n",
       "    </tr>\n",
       "    <tr>\n",
       "      <th>1</th>\n",
       "      <td>vKIL_E__</td>\n",
       "      <td>0.1x</td>\n",
       "      <td>0.000000</td>\n",
       "    </tr>\n",
       "    <tr>\n",
       "      <th>2</th>\n",
       "      <td>vKIL_K__</td>\n",
       "      <td>0.1x</td>\n",
       "      <td>0.002000</td>\n",
       "    </tr>\n",
       "    <tr>\n",
       "      <th>3</th>\n",
       "      <td>vKIL_G__</td>\n",
       "      <td>0.1x</td>\n",
       "      <td>-0.001333</td>\n",
       "    </tr>\n",
       "    <tr>\n",
       "      <th>4</th>\n",
       "      <td>vKIL_I__</td>\n",
       "      <td>0.1x</td>\n",
       "      <td>-0.004000</td>\n",
       "    </tr>\n",
       "  </tbody>\n",
       "</table>\n",
       "</div>"
      ],
      "text/plain": [
       "      index variable     value\n",
       "0  vKIL_B__     0.1x  0.329667\n",
       "1  vKIL_E__     0.1x  0.000000\n",
       "2  vKIL_K__     0.1x  0.002000\n",
       "3  vKIL_G__     0.1x -0.001333\n",
       "4  vKIL_I__     0.1x -0.004000"
      ]
     },
     "execution_count": 15,
     "metadata": {},
     "output_type": "execute_result"
    }
   ],
   "source": [
    "melted_elasticities = elasticities_df.reset_index().melt(id_vars=['index'], value_vars=['0.1x', '0.2x', '0.3x', '0.4x', '0.5x', '1.5x', '3x', '5x', '7x', '10x'])\n",
    "melted_elasticities.head()"
   ]
  },
  {
   "cell_type": "code",
   "execution_count": 16,
   "metadata": {},
   "outputs": [
    {
     "name": "stdout",
     "output_type": "stream",
     "text": [
      "0.010636284985162054\n"
     ]
    }
   ],
   "source": [
    "import statsmodels.api as sm\n",
    "from statsmodels.formula.api import ols\n",
    "\n",
    "# Assuming you have a DataFrame named 'data' with your data\n",
    "# 'dv' is the dependent variable column name\n",
    "# 'iv' is the independent variable column name\n",
    "\n",
    "model = ols('value ~ variable', data=melted_elasticities).fit()\n",
    "anova_table = sm.stats.anova_lm(model, typ=2)\n",
    "eta_squared = anova_table['sum_sq'][0] / anova_table['sum_sq'].sum()\n",
    "\n",
    "print(eta_squared)"
   ]
  },
  {
   "cell_type": "code",
   "execution_count": 21,
   "metadata": {},
   "outputs": [
    {
     "data": {
      "text/plain": [
       "gt      0.000000\n",
       "0.1x    0.151216\n",
       "0.2x    0.138759\n",
       "0.3x    0.127121\n",
       "0.4x    0.120683\n",
       "0.5x    0.112786\n",
       "1.5x    0.103776\n",
       "3x      0.129797\n",
       "5x      0.139395\n",
       "7x      0.147484\n",
       "10x     0.172299\n",
       "dtype: float64"
      ]
     },
     "execution_count": 21,
     "metadata": {},
     "output_type": "execute_result"
    }
   ],
   "source": [
    "# print out MAE for each perturbation strength\n",
    "MAE = abs(elasticities_df.sub(elasticities_df['gt'], axis=0)).sum()/len(elasticities_df['gt'])\n",
    "MAE"
   ]
  },
  {
   "cell_type": "code",
   "execution_count": null,
   "metadata": {},
   "outputs": [],
   "source": [
    "MAE.to_csv('topologyA-reg1_omitEnzymes_MAE.csv')"
   ]
  },
  {
   "cell_type": "code",
   "execution_count": 16,
   "metadata": {},
   "outputs": [
    {
     "data": {
      "text/plain": [
       "Text(0.5, 1.0, 'MAE of elasticity predictions based\\non enzyme perturbation strength')"
      ]
     },
     "execution_count": 16,
     "metadata": {},
     "output_type": "execute_result"
    },
    {
     "data": {
      "image/png": "[encoded data removed]",
      "text/plain": [
       "<Figure size 640x480 with 1 Axes>"
      ]
     },
     "metadata": {},
     "output_type": "display_data"
    }
   ],
   "source": [
    "plt.scatter(pt_levels, MAE[1:].values, zorder=10)\n",
    "plt.grid(True, which='both', axis='both', zorder=0)\n",
    "plt.xscale('log')\n",
    "plt.xlabel('fold change in enzyme concentration', size=14)\n",
    "plt.ylabel('MAE, $\\it{r}$', size=14)\n",
    "plt.tick_params(axis='both', which='major', labelsize=13)\n",
    "plt.title(\"MAE of elasticity predictions based\\non enzyme perturbation strength\", size=20)"
   ]
  },
  {
   "cell_type": "markdown",
   "metadata": {},
   "source": [
    "## Calculating FCCs"
   ]
  },
  {
   "cell_type": "code",
   "execution_count": 14,
   "metadata": {},
   "outputs": [],
   "source": [
    "gtFCC = pd.DataFrame(r.getScaledFluxControlCoefficientMatrix(), index=r.getReactionIds(), columns=r.getReactionIds())"
   ]
  },
  {
   "cell_type": "markdown",
   "metadata": {},
   "source": [
    "### Negative predictions"
   ]
  },
  {
   "cell_type": "code",
   "execution_count": 15,
   "metadata": {},
   "outputs": [
    {
     "name": "stderr",
     "output_type": "stream",
     "text": [
      "Sampling: [Ex_capacity_entries, Ex_kinetic_entries, Ey_capacity_entries, Ey_kinetic_entries]\n",
      "arviz - WARNING - Shape validation failed: input_shape: (1, 500), minimum_shape: (chains=2, draws=4)\n",
      "Sampling: [Ex_capacity_entries, Ex_kinetic_entries, Ey_capacity_entries, Ey_kinetic_entries]\n",
      "arviz - WARNING - Shape validation failed: input_shape: (1, 500), minimum_shape: (chains=2, draws=4)\n",
      "Sampling: [Ex_capacity_entries, Ex_kinetic_entries, Ey_capacity_entries, Ey_kinetic_entries]\n",
      "arviz - WARNING - Shape validation failed: input_shape: (1, 500), minimum_shape: (chains=2, draws=4)\n",
      "Sampling: [Ex_capacity_entries, Ex_kinetic_entries, Ey_capacity_entries, Ey_kinetic_entries]\n",
      "arviz - WARNING - Shape validation failed: input_shape: (1, 500), minimum_shape: (chains=2, draws=4)\n",
      "Sampling: [Ex_capacity_entries, Ex_kinetic_entries, Ey_capacity_entries, Ey_kinetic_entries]\n",
      "arviz - WARNING - Shape validation failed: input_shape: (1, 500), minimum_shape: (chains=2, draws=4)\n",
      "Sampling: [Ex_capacity_entries, Ex_kinetic_entries, Ey_capacity_entries, Ey_kinetic_entries]\n",
      "arviz - WARNING - Shape validation failed: input_shape: (1, 500), minimum_shape: (chains=2, draws=4)\n",
      "Sampling: [Ex_capacity_entries, Ex_kinetic_entries, Ey_capacity_entries, Ey_kinetic_entries]\n",
      "arviz - WARNING - Shape validation failed: input_shape: (1, 500), minimum_shape: (chains=2, draws=4)\n",
      "Sampling: [Ex_capacity_entries, Ex_kinetic_entries, Ey_capacity_entries, Ey_kinetic_entries]\n",
      "arviz - WARNING - Shape validation failed: input_shape: (1, 500), minimum_shape: (chains=2, draws=4)\n",
      "Sampling: [Ex_capacity_entries, Ex_kinetic_entries, Ey_capacity_entries, Ey_kinetic_entries]\n",
      "arviz - WARNING - Shape validation failed: input_shape: (1, 500), minimum_shape: (chains=2, draws=4)\n",
      "Sampling: [Ex_capacity_entries, Ex_kinetic_entries, Ey_capacity_entries, Ey_kinetic_entries]\n",
      "arviz - WARNING - Shape validation failed: input_shape: (1, 500), minimum_shape: (chains=2, draws=4)\n"
     ]
    }
   ],
   "source": [
    "Ex01_prior = util.get_az_summary(util.run_prior_predictive(BMCA_obj01)['prior']['Ex'])\n",
    "Ex02_prior = util.get_az_summary(util.run_prior_predictive(BMCA_obj02)['prior']['Ex'])\n",
    "Ex03_prior = util.get_az_summary(util.run_prior_predictive(BMCA_obj03)['prior']['Ex'])\n",
    "Ex04_prior = util.get_az_summary(util.run_prior_predictive(BMCA_obj04)['prior']['Ex'])\n",
    "Ex05_prior = util.get_az_summary(util.run_prior_predictive(BMCA_obj05)['prior']['Ex'])\n",
    "\n",
    "Ex15_prior = util.get_az_summary(util.run_prior_predictive(BMCA_obj15)['prior']['Ex'])\n",
    "Ex3_prior = util.get_az_summary(util.run_prior_predictive(BMCA_obj3)['prior']['Ex'])\n",
    "Ex5_prior = util.get_az_summary(util.run_prior_predictive(BMCA_obj5)['prior']['Ex'])\n",
    "Ex7_prior = util.get_az_summary(util.run_prior_predictive(BMCA_obj7)['prior']['Ex'])\n",
    "Ex100_prior = util.get_az_summary(util.run_prior_predictive(BMCA_obj100)['prior']['Ex'])\n"
   ]
  },
  {
   "cell_type": "code",
   "execution_count": 16,
   "metadata": {},
   "outputs": [],
   "source": [
    "BMCA_obj01.en = pd.DataFrame(np.ones((17, 16)))\n",
    "BMCA_obj02.en = pd.DataFrame(np.ones((17, 16)))\n",
    "BMCA_obj03.en = pd.DataFrame(np.ones((17, 16)))\n",
    "BMCA_obj04.en = pd.DataFrame(np.ones((17, 16)))\n",
    "BMCA_obj05.en = pd.DataFrame(np.ones((17, 16)))\n",
    "BMCA_obj15.en = pd.DataFrame(np.ones((17, 16)))\n",
    "BMCA_obj3.en = pd.DataFrame(np.ones((17, 16)))\n",
    "BMCA_obj5.en = pd.DataFrame(np.ones((17, 16)))\n",
    "BMCA_obj7.en = pd.DataFrame(np.ones((17, 16)))\n",
    "BMCA_obj100.en = pd.DataFrame(np.ones((17, 16)))\n"
   ]
  },
  {
   "cell_type": "code",
   "execution_count": 17,
   "metadata": {},
   "outputs": [],
   "source": [
    "priorFCC01 = util.estimate_CCs(BMCA_obj01, Ex01_prior.reshape((16,-1)))\n",
    "priorFCC02 = util.estimate_CCs(BMCA_obj02, Ex02_prior.reshape((16,-1)))\n",
    "priorFCC03 = util.estimate_CCs(BMCA_obj03, Ex03_prior.reshape((16,-1)))\n",
    "priorFCC04 = util.estimate_CCs(BMCA_obj04, Ex04_prior.reshape((16,-1)))\n",
    "priorFCC05 = util.estimate_CCs(BMCA_obj05, Ex05_prior.reshape((16,-1)))\n",
    "\n",
    "priorFCC15 = util.estimate_CCs(BMCA_obj15, Ex15_prior.reshape((16,-1)))\n",
    "priorFCC3 = util.estimate_CCs(BMCA_obj3, Ex3_prior.reshape((16,-1)))\n",
    "priorFCC5 = util.estimate_CCs(BMCA_obj5, Ex5_prior.reshape((16,-1)))\n",
    "priorFCC7 = util.estimate_CCs(BMCA_obj7, Ex7_prior.reshape((16,-1)))\n",
    "priorFCC100 = util.estimate_CCs(BMCA_obj100, Ex100_prior.reshape((16,-1)))\n"
   ]
  },
  {
   "cell_type": "code",
   "execution_count": 18,
   "metadata": {},
   "outputs": [],
   "source": [
    "def estimate_CCs(BMCA_obj, Ex, med_et_advi):\n",
    "    BMCA_obj.vn[BMCA_obj.vn == 0] = 1e-6\n",
    "    \n",
    "    a = np.diag(med_et_advi / BMCA_obj.vn.values)\n",
    "    a = np.diag(a)\n",
    "    a = a[np.newaxis,:].repeat(3000, axis=0)\n",
    "\n",
    "    Ex_ss = a @ Ex\n",
    "    As = BMCA_obj.N @ np.diag(BMCA_obj.v_star) @ Ex_ss\n",
    "    bs = BMCA_obj.N @ np.diag(BMCA_obj.v_star)\n",
    "    bs = bs[np.newaxis, :].repeat(3000, axis=0)\n",
    "    \n",
    "    As = at.as_tensor_variable(As)\n",
    "    bs = at.as_tensor_variable(bs)\n",
    "\n",
    "    def solve_aesara(A, b):\n",
    "        rsolve_op = LeastSquaresSolve()\n",
    "        return rsolve_op(A, b).squeeze()\n",
    "\n",
    "    CCC, _ = aesara.scan(lambda A, b: solve_aesara(A, b),\n",
    "                        sequences=[As, bs], strict=True)\n",
    "\n",
    "    identity = np.eye(len(BMCA_obj.N.T))\n",
    "    identity = identity[np.newaxis,:].repeat(3000, axis=0)\n",
    "    \n",
    "    FCC = (Ex_ss @ CCC.eval()) + identity\n",
    "    \n",
    "    return FCC\n"
   ]
  },
  {
   "cell_type": "code",
   "execution_count": 19,
   "metadata": {},
   "outputs": [],
   "source": [
    "postFCC01 = estimate_CCs(BMCA_obj01, med_Ex01_advi.reshape((16,11)), med_et_advi_01)\n",
    "postFCC02 = estimate_CCs(BMCA_obj02, med_Ex02_advi.reshape((16,11)), med_et_advi_02)\n",
    "postFCC03 = estimate_CCs(BMCA_obj03, med_Ex03_advi.reshape((16,11)), med_et_advi_03)\n",
    "postFCC04 = estimate_CCs(BMCA_obj04, med_Ex04_advi.reshape((16,11)), med_et_advi_04)\n",
    "postFCC05 = estimate_CCs(BMCA_obj05, med_Ex05_advi.reshape((16,11)), med_et_advi_05)\n",
    "\n",
    "postFCC15 = estimate_CCs(BMCA_obj15, med_Ex15_advi.reshape((16,11)), med_et_advi_15)\n",
    "postFCC3 = estimate_CCs(BMCA_obj3, med_Ex3_advi.reshape((16,11)), med_et_advi_3)\n",
    "postFCC5 = estimate_CCs(BMCA_obj5, med_Ex5_advi.reshape((16,11)), med_et_advi_5)\n",
    "postFCC7 = estimate_CCs(BMCA_obj7, med_Ex7_advi.reshape((16,11)), med_et_advi_7)\n",
    "postFCC100 = estimate_CCs(BMCA_obj100, med_Ex100_advi.reshape((16,11)), med_et_advi_100)"
   ]
  },
  {
   "cell_type": "code",
   "execution_count": null,
   "metadata": {},
   "outputs": [],
   "source": [
    "prior_FCCs = [priorFCC01, priorFCC02, priorFCC03, priorFCC04, priorFCC05, priorFCC15, priorFCC3, priorFCC5, priorFCC7, priorFCC100]\n",
    "post_FCCs = [postFCC01, postFCC02, postFCC03, postFCC04, postFCC05, postFCC15, postFCC3, postFCC5, postFCC7, postFCC100]"
   ]
  },
  {
   "cell_type": "markdown",
   "metadata": {},
   "source": [
    "## Evaluating FCC ranking"
   ]
  },
  {
   "cell_type": "code",
   "execution_count": 21,
   "metadata": {},
   "outputs": [],
   "source": [
    "## ground truth FCC rankings\n",
    "\n",
    "gtFCC=pd.DataFrame(r.getScaledFluxControlCoefficientMatrix(), columns=r.getReactionIds(), index=r.getReactionIds()).abs()\n",
    "m1 = gtFCC.index.values[:, None] == gtFCC.columns.values\n",
    "gtFCC = pd.DataFrame(np.select([m1], [float('Nan')], gtFCC), columns=gtFCC.columns, index=gtFCC.index)\n",
    "gtFCC_rankings= gtFCC.rank(axis=1, ascending=False, na_option='keep')\n",
    "\n",
    "a = gtFCC_rankings.loc['vYAN']"
   ]
  },
  {
   "cell_type": "markdown",
   "metadata": {},
   "source": [
    "### via Spearman rank coefficients"
   ]
  },
  {
   "cell_type": "code",
   "execution_count": 22,
   "metadata": {},
   "outputs": [],
   "source": [
    "spearman_coefficients = []\n",
    "p_values = []\n",
    "confidence_intervals = []\n",
    "b_list = []\n",
    "for FCC in prior_FCCs + post_FCCs:\n",
    "    b = util.calculate_FCC_med_rankings(FCC, 'vYAN', r)\n",
    "    b_list.append(b)\n",
    "    spearman_r, p_value, lower_ci, upper_ci = util.bootstrap_spearman(a.dropna(), b.dropna())\n",
    "    spearman_coefficients.append(spearman_r)\n",
    "    p_values.append(p_value)\n",
    "    confidence_intervals.append((lower_ci, upper_ci))\n"
   ]
  },
  {
   "cell_type": "code",
   "execution_count": 23,
   "metadata": {},
   "outputs": [],
   "source": [
    "pt_labels = [i+'-prior' for i in pt_labels] + [i+'-post' for i in pt_labels]"
   ]
  },
  {
   "cell_type": "code",
   "execution_count": 24,
   "metadata": {},
   "outputs": [
    {
     "data": {
      "text/html": [
       "<div>\n",
       "<style scoped>\n",
       "    .dataframe tbody tr th:only-of-type {\n",
       "        vertical-align: middle;\n",
       "    }\n",
       "\n",
       "    .dataframe tbody tr th {\n",
       "        vertical-align: top;\n",
       "    }\n",
       "\n",
       "    .dataframe thead th {\n",
       "        text-align: right;\n",
       "    }\n",
       "</style>\n",
       "<table border=\"1\" class=\"dataframe\">\n",
       "  <thead>\n",
       "    <tr style=\"text-align: right;\">\n",
       "      <th></th>\n",
       "      <th>r</th>\n",
       "      <th>p-value</th>\n",
       "      <th>lower</th>\n",
       "      <th>upper</th>\n",
       "    </tr>\n",
       "  </thead>\n",
       "  <tbody>\n",
       "    <tr>\n",
       "      <th>0.1x-prior</th>\n",
       "      <td>0.235714</td>\n",
       "      <td>0.397703</td>\n",
       "      <td>-0.526463</td>\n",
       "      <td>0.761302</td>\n",
       "    </tr>\n",
       "    <tr>\n",
       "      <th>0.2x-prior</th>\n",
       "      <td>0.250000</td>\n",
       "      <td>0.368846</td>\n",
       "      <td>-0.508446</td>\n",
       "      <td>0.771536</td>\n",
       "    </tr>\n",
       "    <tr>\n",
       "      <th>0.3x-prior</th>\n",
       "      <td>0.196429</td>\n",
       "      <td>0.482899</td>\n",
       "      <td>-0.542712</td>\n",
       "      <td>0.724650</td>\n",
       "    </tr>\n",
       "    <tr>\n",
       "      <th>0.4x-prior</th>\n",
       "      <td>0.135714</td>\n",
       "      <td>0.629620</td>\n",
       "      <td>-0.481758</td>\n",
       "      <td>0.675774</td>\n",
       "    </tr>\n",
       "    <tr>\n",
       "      <th>0.5x-prior</th>\n",
       "      <td>0.246429</td>\n",
       "      <td>0.375951</td>\n",
       "      <td>-0.393318</td>\n",
       "      <td>0.702936</td>\n",
       "    </tr>\n",
       "    <tr>\n",
       "      <th>1.5x-prior</th>\n",
       "      <td>0.035714</td>\n",
       "      <td>0.899447</td>\n",
       "      <td>-0.703310</td>\n",
       "      <td>0.605911</td>\n",
       "    </tr>\n",
       "    <tr>\n",
       "      <th>3x-prior</th>\n",
       "      <td>0.146429</td>\n",
       "      <td>0.602550</td>\n",
       "      <td>-0.499212</td>\n",
       "      <td>0.702860</td>\n",
       "    </tr>\n",
       "    <tr>\n",
       "      <th>5x-prior</th>\n",
       "      <td>0.153571</td>\n",
       "      <td>0.584764</td>\n",
       "      <td>-0.396801</td>\n",
       "      <td>0.672163</td>\n",
       "    </tr>\n",
       "    <tr>\n",
       "      <th>7x-prior</th>\n",
       "      <td>-0.064286</td>\n",
       "      <td>0.819948</td>\n",
       "      <td>-0.710261</td>\n",
       "      <td>0.533774</td>\n",
       "    </tr>\n",
       "    <tr>\n",
       "      <th>10x-prior</th>\n",
       "      <td>0.089286</td>\n",
       "      <td>0.751673</td>\n",
       "      <td>-0.458262</td>\n",
       "      <td>0.650075</td>\n",
       "    </tr>\n",
       "    <tr>\n",
       "      <th>0.1x-post</th>\n",
       "      <td>0.189286</td>\n",
       "      <td>0.499263</td>\n",
       "      <td>-0.380525</td>\n",
       "      <td>0.640728</td>\n",
       "    </tr>\n",
       "    <tr>\n",
       "      <th>0.2x-post</th>\n",
       "      <td>0.217857</td>\n",
       "      <td>0.435393</td>\n",
       "      <td>-0.382797</td>\n",
       "      <td>0.714352</td>\n",
       "    </tr>\n",
       "    <tr>\n",
       "      <th>0.3x-post</th>\n",
       "      <td>0.428571</td>\n",
       "      <td>0.110960</td>\n",
       "      <td>-0.075850</td>\n",
       "      <td>0.779436</td>\n",
       "    </tr>\n",
       "    <tr>\n",
       "      <th>0.4x-post</th>\n",
       "      <td>0.682143</td>\n",
       "      <td>0.005086</td>\n",
       "      <td>0.372942</td>\n",
       "      <td>0.839738</td>\n",
       "    </tr>\n",
       "    <tr>\n",
       "      <th>0.5x-post</th>\n",
       "      <td>0.782143</td>\n",
       "      <td>0.000570</td>\n",
       "      <td>0.426890</td>\n",
       "      <td>0.910086</td>\n",
       "    </tr>\n",
       "    <tr>\n",
       "      <th>1.5x-post</th>\n",
       "      <td>0.667857</td>\n",
       "      <td>0.006510</td>\n",
       "      <td>0.162060</td>\n",
       "      <td>0.960004</td>\n",
       "    </tr>\n",
       "    <tr>\n",
       "      <th>3x-post</th>\n",
       "      <td>0.607143</td>\n",
       "      <td>0.016381</td>\n",
       "      <td>0.154652</td>\n",
       "      <td>0.803314</td>\n",
       "    </tr>\n",
       "    <tr>\n",
       "      <th>5x-post</th>\n",
       "      <td>0.414286</td>\n",
       "      <td>0.124715</td>\n",
       "      <td>-0.138957</td>\n",
       "      <td>0.814562</td>\n",
       "    </tr>\n",
       "    <tr>\n",
       "      <th>7x-post</th>\n",
       "      <td>0.239286</td>\n",
       "      <td>0.390379</td>\n",
       "      <td>-0.301717</td>\n",
       "      <td>0.696754</td>\n",
       "    </tr>\n",
       "    <tr>\n",
       "      <th>10x-post</th>\n",
       "      <td>0.610714</td>\n",
       "      <td>0.015593</td>\n",
       "      <td>0.115942</td>\n",
       "      <td>0.908609</td>\n",
       "    </tr>\n",
       "  </tbody>\n",
       "</table>\n",
       "</div>"
      ],
      "text/plain": [
       "                   r   p-value     lower     upper\n",
       "0.1x-prior  0.235714  0.397703 -0.526463  0.761302\n",
       "0.2x-prior  0.250000  0.368846 -0.508446  0.771536\n",
       "0.3x-prior  0.196429  0.482899 -0.542712  0.724650\n",
       "0.4x-prior  0.135714  0.629620 -0.481758  0.675774\n",
       "0.5x-prior  0.246429  0.375951 -0.393318  0.702936\n",
       "1.5x-prior  0.035714  0.899447 -0.703310  0.605911\n",
       "3x-prior    0.146429  0.602550 -0.499212  0.702860\n",
       "5x-prior    0.153571  0.584764 -0.396801  0.672163\n",
       "7x-prior   -0.064286  0.819948 -0.710261  0.533774\n",
       "10x-prior   0.089286  0.751673 -0.458262  0.650075\n",
       "0.1x-post   0.189286  0.499263 -0.380525  0.640728\n",
       "0.2x-post   0.217857  0.435393 -0.382797  0.714352\n",
       "0.3x-post   0.428571  0.110960 -0.075850  0.779436\n",
       "0.4x-post   0.682143  0.005086  0.372942  0.839738\n",
       "0.5x-post   0.782143  0.000570  0.426890  0.910086\n",
       "1.5x-post   0.667857  0.006510  0.162060  0.960004\n",
       "3x-post     0.607143  0.016381  0.154652  0.803314\n",
       "5x-post     0.414286  0.124715 -0.138957  0.814562\n",
       "7x-post     0.239286  0.390379 -0.301717  0.696754\n",
       "10x-post    0.610714  0.015593  0.115942  0.908609"
      ]
     },
     "execution_count": 24,
     "metadata": {},
     "output_type": "execute_result"
    }
   ],
   "source": [
    "spearman_df = pd.DataFrame(spearman_coefficients, columns=['r'], index=pt_labels)\n",
    "spearman_df['p-value'] = p_values\n",
    "spearman_df['lower'] = [i[0] for i in confidence_intervals]\n",
    "spearman_df['upper'] = [i[1] for i in confidence_intervals]\n",
    "spearman_df"
   ]
  },
  {
   "cell_type": "code",
   "execution_count": 25,
   "metadata": {},
   "outputs": [
    {
     "data": {
      "image/png": "[encoded data removed]",
      "text/plain": [
       "<Figure size 640x480 with 1 Axes>"
      ]
     },
     "metadata": {},
     "output_type": "display_data"
    }
   ],
   "source": [
    "plt.bar(pt_labels, [i for i in spearman_coefficients], alpha=0.5, color=['r']*10 + ['b']*10)\n",
    "plt.grid()\n",
    "\n",
    "for i, val in enumerate(spearman_df['r']):\n",
    "    if val < 0: \n",
    "        c ='gray'\n",
    "    else: \n",
    "        c='k'\n",
    "    plt.vlines(pt_labels[i], spearman_df['lower'][i], spearman_df['upper'][i], color=c)\n",
    "\n",
    "for i, val in enumerate(spearman_df['r']):\n",
    "    if val < 0: \n",
    "        plt.annotate(round(val, 2), (pt_labels[i], 0.02), size=8, ha='center', rotation=30,rotation_mode=\"anchor\")\n",
    "\n",
    "plt.title(\"Spearman rank correlation coefficients by perturbation strength\")\n",
    "plt.xlabel('perturbation level')\n",
    "plt.ylabel('Spearman $\\it{r}$')\n",
    "plt.ylim((0, 1.05))\n",
    "\n",
    "_=plt.xticks(rotation=-70,ha='left',rotation_mode=\"anchor\")"
   ]
  },
  {
   "cell_type": "code",
   "execution_count": 26,
   "metadata": {},
   "outputs": [],
   "source": [
    "spearman_df.to_csv('../../../data/results/spearman_coefficients/topologyA_reg1_omitEnzymes_spr.csv')"
   ]
  },
  {
   "cell_type": "markdown",
   "metadata": {},
   "source": [
    "### evaluating top 10 rankings"
   ]
  },
  {
   "cell_type": "code",
   "execution_count": 27,
   "metadata": {},
   "outputs": [
    {
     "data": {
      "text/html": [
       "<div>\n",
       "<style scoped>\n",
       "    .dataframe tbody tr th:only-of-type {\n",
       "        vertical-align: middle;\n",
       "    }\n",
       "\n",
       "    .dataframe tbody tr th {\n",
       "        vertical-align: top;\n",
       "    }\n",
       "\n",
       "    .dataframe thead th {\n",
       "        text-align: right;\n",
       "    }\n",
       "</style>\n",
       "<table border=\"1\" class=\"dataframe\">\n",
       "  <thead>\n",
       "    <tr style=\"text-align: right;\">\n",
       "      <th></th>\n",
       "      <th>gt</th>\n",
       "      <th>0.1x-prior</th>\n",
       "      <th>0.2x-prior</th>\n",
       "      <th>0.3x-prior</th>\n",
       "      <th>0.4x-prior</th>\n",
       "      <th>0.5x-prior</th>\n",
       "      <th>1.5x-prior</th>\n",
       "      <th>3x-prior</th>\n",
       "      <th>5x-prior</th>\n",
       "      <th>7x-prior</th>\n",
       "      <th>...</th>\n",
       "      <th>0.1x-post</th>\n",
       "      <th>0.2x-post</th>\n",
       "      <th>0.3x-post</th>\n",
       "      <th>0.4x-post</th>\n",
       "      <th>0.5x-post</th>\n",
       "      <th>1.5x-post</th>\n",
       "      <th>3x-post</th>\n",
       "      <th>5x-post</th>\n",
       "      <th>7x-post</th>\n",
       "      <th>10x-post</th>\n",
       "    </tr>\n",
       "    <tr>\n",
       "      <th>vYAN</th>\n",
       "      <th></th>\n",
       "      <th></th>\n",
       "      <th></th>\n",
       "      <th></th>\n",
       "      <th></th>\n",
       "      <th></th>\n",
       "      <th></th>\n",
       "      <th></th>\n",
       "      <th></th>\n",
       "      <th></th>\n",
       "      <th></th>\n",
       "      <th></th>\n",
       "      <th></th>\n",
       "      <th></th>\n",
       "      <th></th>\n",
       "      <th></th>\n",
       "      <th></th>\n",
       "      <th></th>\n",
       "      <th></th>\n",
       "      <th></th>\n",
       "      <th></th>\n",
       "    </tr>\n",
       "  </thead>\n",
       "  <tbody>\n",
       "    <tr>\n",
       "      <th>1.0</th>\n",
       "      <td>vWHI</td>\n",
       "      <td>vWHI</td>\n",
       "      <td>vWHI</td>\n",
       "      <td>vWHI</td>\n",
       "      <td>vWHI</td>\n",
       "      <td>vWHI</td>\n",
       "      <td>vWHI</td>\n",
       "      <td>vWHI</td>\n",
       "      <td>vWHI</td>\n",
       "      <td>vWHI</td>\n",
       "      <td>...</td>\n",
       "      <td>vSIE</td>\n",
       "      <td>vQUE</td>\n",
       "      <td>vKIL</td>\n",
       "      <td>vALP</td>\n",
       "      <td>vALP</td>\n",
       "      <td>vALP</td>\n",
       "      <td>vALP</td>\n",
       "      <td>vPAP</td>\n",
       "      <td>vPAP</td>\n",
       "      <td>vPAP</td>\n",
       "    </tr>\n",
       "    <tr>\n",
       "      <th>2.0</th>\n",
       "      <td>vOSC</td>\n",
       "      <td>vOSC</td>\n",
       "      <td>vOSC</td>\n",
       "      <td>vUNI</td>\n",
       "      <td>vQUE</td>\n",
       "      <td>vQUE</td>\n",
       "      <td>vUNI</td>\n",
       "      <td>vROM</td>\n",
       "      <td>vROM</td>\n",
       "      <td>vROM</td>\n",
       "      <td>...</td>\n",
       "      <td>vKIL</td>\n",
       "      <td>vVIC</td>\n",
       "      <td>vALP</td>\n",
       "      <td>vQUE</td>\n",
       "      <td>vOSC</td>\n",
       "      <td>vNOV</td>\n",
       "      <td>vNOV</td>\n",
       "      <td>vOSC</td>\n",
       "      <td>vALP</td>\n",
       "      <td>vALP</td>\n",
       "    </tr>\n",
       "    <tr>\n",
       "      <th>3.0</th>\n",
       "      <td>vVIC</td>\n",
       "      <td>vQUE</td>\n",
       "      <td>vUNI</td>\n",
       "      <td>vVIC</td>\n",
       "      <td>vTAN</td>\n",
       "      <td>vVIC</td>\n",
       "      <td>vTAN</td>\n",
       "      <td>vVIC</td>\n",
       "      <td>vQUE</td>\n",
       "      <td>vSIE</td>\n",
       "      <td>...</td>\n",
       "      <td>vVIC</td>\n",
       "      <td>vPAP</td>\n",
       "      <td>vQUE</td>\n",
       "      <td>vLIM</td>\n",
       "      <td>vWHI</td>\n",
       "      <td>vWHI</td>\n",
       "      <td>vVIC</td>\n",
       "      <td>vWHI</td>\n",
       "      <td>vVIC</td>\n",
       "      <td>vOSC</td>\n",
       "    </tr>\n",
       "    <tr>\n",
       "      <th>4.0</th>\n",
       "      <td>vALP</td>\n",
       "      <td>vUNI</td>\n",
       "      <td>vQUE</td>\n",
       "      <td>vTAN</td>\n",
       "      <td>vSIE</td>\n",
       "      <td>vUNI</td>\n",
       "      <td>vVIC</td>\n",
       "      <td>vUNI</td>\n",
       "      <td>vPAP</td>\n",
       "      <td>vUNI</td>\n",
       "      <td>...</td>\n",
       "      <td>vTAN</td>\n",
       "      <td>vOSC</td>\n",
       "      <td>vLIM</td>\n",
       "      <td>vOSC</td>\n",
       "      <td>vLIM</td>\n",
       "      <td>vOSC</td>\n",
       "      <td>vWHI</td>\n",
       "      <td>vQUE</td>\n",
       "      <td>vTAN</td>\n",
       "      <td>vLIM</td>\n",
       "    </tr>\n",
       "    <tr>\n",
       "      <th>5.0</th>\n",
       "      <td>vLIM</td>\n",
       "      <td>vTAN</td>\n",
       "      <td>vTAN</td>\n",
       "      <td>vQUE</td>\n",
       "      <td>vUNI</td>\n",
       "      <td>vTAN</td>\n",
       "      <td>vSIE</td>\n",
       "      <td>vSIE</td>\n",
       "      <td>vVIC</td>\n",
       "      <td>vTAN</td>\n",
       "      <td>...</td>\n",
       "      <td>vNOV</td>\n",
       "      <td>vSIE</td>\n",
       "      <td>vUNI</td>\n",
       "      <td>vNOV</td>\n",
       "      <td>vQUE</td>\n",
       "      <td>vLIM</td>\n",
       "      <td>vOSC</td>\n",
       "      <td>vROM</td>\n",
       "      <td>vNOV</td>\n",
       "      <td>vVIC</td>\n",
       "    </tr>\n",
       "    <tr>\n",
       "      <th>6.0</th>\n",
       "      <td>vNOV</td>\n",
       "      <td>vSIE</td>\n",
       "      <td>vSIE</td>\n",
       "      <td>vSIE</td>\n",
       "      <td>vOSC</td>\n",
       "      <td>vROM</td>\n",
       "      <td>vROM</td>\n",
       "      <td>vQUE</td>\n",
       "      <td>vTAN</td>\n",
       "      <td>vPAP</td>\n",
       "      <td>...</td>\n",
       "      <td>vWHI</td>\n",
       "      <td>vALP</td>\n",
       "      <td>vVIC</td>\n",
       "      <td>vWHI</td>\n",
       "      <td>vNOV</td>\n",
       "      <td>vQUE</td>\n",
       "      <td>vSIE</td>\n",
       "      <td>vALP</td>\n",
       "      <td>vROM</td>\n",
       "      <td>vNOV</td>\n",
       "    </tr>\n",
       "    <tr>\n",
       "      <th>7.0</th>\n",
       "      <td>vQUE</td>\n",
       "      <td>vROM</td>\n",
       "      <td>vROM</td>\n",
       "      <td>vOSC</td>\n",
       "      <td>vROM</td>\n",
       "      <td>vSIE</td>\n",
       "      <td>vQUE</td>\n",
       "      <td>vTAN</td>\n",
       "      <td>vSIE</td>\n",
       "      <td>vVIC</td>\n",
       "      <td>...</td>\n",
       "      <td>vROM</td>\n",
       "      <td>vTAN</td>\n",
       "      <td>vWHI</td>\n",
       "      <td>vPAP</td>\n",
       "      <td>vVIC</td>\n",
       "      <td>vROM</td>\n",
       "      <td>vPAP</td>\n",
       "      <td>vLIM</td>\n",
       "      <td>vOSC</td>\n",
       "      <td>vWHI</td>\n",
       "    </tr>\n",
       "    <tr>\n",
       "      <th>8.0</th>\n",
       "      <td>vKIL</td>\n",
       "      <td>vNOV</td>\n",
       "      <td>vVIC</td>\n",
       "      <td>vROM</td>\n",
       "      <td>vVIC</td>\n",
       "      <td>vOSC</td>\n",
       "      <td>vPAP</td>\n",
       "      <td>vPAP</td>\n",
       "      <td>vUNI</td>\n",
       "      <td>vQUE</td>\n",
       "      <td>...</td>\n",
       "      <td>vLIM</td>\n",
       "      <td>vLIM</td>\n",
       "      <td>vOSC</td>\n",
       "      <td>vVIC</td>\n",
       "      <td>vZUL</td>\n",
       "      <td>vZUL</td>\n",
       "      <td>vKIL</td>\n",
       "      <td>vUNI</td>\n",
       "      <td>vWHI</td>\n",
       "      <td>vROM</td>\n",
       "    </tr>\n",
       "    <tr>\n",
       "      <th>9.0</th>\n",
       "      <td>vZUL</td>\n",
       "      <td>vALP</td>\n",
       "      <td>vLIM</td>\n",
       "      <td>vLIM</td>\n",
       "      <td>vLIM</td>\n",
       "      <td>vLIM</td>\n",
       "      <td>vLIM</td>\n",
       "      <td>vLIM</td>\n",
       "      <td>vLIM</td>\n",
       "      <td>vLIM</td>\n",
       "      <td>...</td>\n",
       "      <td>vALP</td>\n",
       "      <td>vKIL</td>\n",
       "      <td>vPAP</td>\n",
       "      <td>vZUL</td>\n",
       "      <td>vUNI</td>\n",
       "      <td>vKIL</td>\n",
       "      <td>vLIM</td>\n",
       "      <td>vTAN</td>\n",
       "      <td>vQUE</td>\n",
       "      <td>vSIE</td>\n",
       "    </tr>\n",
       "    <tr>\n",
       "      <th>10.0</th>\n",
       "      <td>vROM</td>\n",
       "      <td>vKIL</td>\n",
       "      <td>vPAP</td>\n",
       "      <td>vPAP</td>\n",
       "      <td>vPAP</td>\n",
       "      <td>vPAP</td>\n",
       "      <td>vOSC</td>\n",
       "      <td>vOSC</td>\n",
       "      <td>vOSC</td>\n",
       "      <td>vOSC</td>\n",
       "      <td>...</td>\n",
       "      <td>vPAP</td>\n",
       "      <td>vUNI</td>\n",
       "      <td>vROM</td>\n",
       "      <td>vUNI</td>\n",
       "      <td>vSIE</td>\n",
       "      <td>vPAP</td>\n",
       "      <td>vROM</td>\n",
       "      <td>vKIL</td>\n",
       "      <td>vUNI</td>\n",
       "      <td>vQUE</td>\n",
       "    </tr>\n",
       "    <tr>\n",
       "      <th>11.0</th>\n",
       "      <td>vPAP</td>\n",
       "      <td>vPAP</td>\n",
       "      <td>vNOV</td>\n",
       "      <td>vNOV</td>\n",
       "      <td>vNOV</td>\n",
       "      <td>vNOV</td>\n",
       "      <td>vNOV</td>\n",
       "      <td>vNOV</td>\n",
       "      <td>vNOV</td>\n",
       "      <td>vZUL</td>\n",
       "      <td>...</td>\n",
       "      <td>vOSC</td>\n",
       "      <td>vROM</td>\n",
       "      <td>vTAN</td>\n",
       "      <td>vTAN</td>\n",
       "      <td>vPAP</td>\n",
       "      <td>vMIK</td>\n",
       "      <td>vMIK</td>\n",
       "      <td>vNOV</td>\n",
       "      <td>vZUL</td>\n",
       "      <td>vTAN</td>\n",
       "    </tr>\n",
       "    <tr>\n",
       "      <th>12.0</th>\n",
       "      <td>vSIE</td>\n",
       "      <td>vVIC</td>\n",
       "      <td>vALP</td>\n",
       "      <td>vALP</td>\n",
       "      <td>vKIL</td>\n",
       "      <td>vALP</td>\n",
       "      <td>vALP</td>\n",
       "      <td>vALP</td>\n",
       "      <td>vZUL</td>\n",
       "      <td>vNOV</td>\n",
       "      <td>...</td>\n",
       "      <td>vQUE</td>\n",
       "      <td>vZUL</td>\n",
       "      <td>vSIE</td>\n",
       "      <td>vKIL</td>\n",
       "      <td>vMIK</td>\n",
       "      <td>vTAN</td>\n",
       "      <td>vUNI</td>\n",
       "      <td>vVIC</td>\n",
       "      <td>vSIE</td>\n",
       "      <td>vZUL</td>\n",
       "    </tr>\n",
       "    <tr>\n",
       "      <th>13.0</th>\n",
       "      <td>vTAN</td>\n",
       "      <td>vLIM</td>\n",
       "      <td>vKIL</td>\n",
       "      <td>vKIL</td>\n",
       "      <td>vALP</td>\n",
       "      <td>vKIL</td>\n",
       "      <td>vZUL</td>\n",
       "      <td>vKIL</td>\n",
       "      <td>vALP</td>\n",
       "      <td>vKIL</td>\n",
       "      <td>...</td>\n",
       "      <td>vMIK</td>\n",
       "      <td>vWHI</td>\n",
       "      <td>vZUL</td>\n",
       "      <td>vMIK</td>\n",
       "      <td>vROM</td>\n",
       "      <td>vSIE</td>\n",
       "      <td>vTAN</td>\n",
       "      <td>vZUL</td>\n",
       "      <td>vKIL</td>\n",
       "      <td>vUNI</td>\n",
       "    </tr>\n",
       "    <tr>\n",
       "      <th>14.0</th>\n",
       "      <td>vUNI</td>\n",
       "      <td>vZUL</td>\n",
       "      <td>vZUL</td>\n",
       "      <td>vZUL</td>\n",
       "      <td>vZUL</td>\n",
       "      <td>vZUL</td>\n",
       "      <td>vKIL</td>\n",
       "      <td>vZUL</td>\n",
       "      <td>vKIL</td>\n",
       "      <td>vALP</td>\n",
       "      <td>...</td>\n",
       "      <td>vUNI</td>\n",
       "      <td>vNOV</td>\n",
       "      <td>vNOV</td>\n",
       "      <td>vSIE</td>\n",
       "      <td>vKIL</td>\n",
       "      <td>vVIC</td>\n",
       "      <td>vZUL</td>\n",
       "      <td>vSIE</td>\n",
       "      <td>vMIK</td>\n",
       "      <td>vKIL</td>\n",
       "    </tr>\n",
       "    <tr>\n",
       "      <th>15.0</th>\n",
       "      <td>vMIK</td>\n",
       "      <td>vMIK</td>\n",
       "      <td>vMIK</td>\n",
       "      <td>vMIK</td>\n",
       "      <td>vMIK</td>\n",
       "      <td>vMIK</td>\n",
       "      <td>vMIK</td>\n",
       "      <td>vMIK</td>\n",
       "      <td>vMIK</td>\n",
       "      <td>vMIK</td>\n",
       "      <td>...</td>\n",
       "      <td>vZUL</td>\n",
       "      <td>vMIK</td>\n",
       "      <td>vMIK</td>\n",
       "      <td>vROM</td>\n",
       "      <td>vTAN</td>\n",
       "      <td>vUNI</td>\n",
       "      <td>vQUE</td>\n",
       "      <td>vMIK</td>\n",
       "      <td>vLIM</td>\n",
       "      <td>vMIK</td>\n",
       "    </tr>\n",
       "  </tbody>\n",
       "</table>\n",
       "<p>15 rows × 21 columns</p>\n",
       "</div>"
      ],
      "text/plain": [
       "        gt 0.1x-prior 0.2x-prior 0.3x-prior 0.4x-prior 0.5x-prior 1.5x-prior  \\\n",
       "vYAN                                                                           \n",
       "1.0   vWHI       vWHI       vWHI       vWHI       vWHI       vWHI       vWHI   \n",
       "2.0   vOSC       vOSC       vOSC       vUNI       vQUE       vQUE       vUNI   \n",
       "3.0   vVIC       vQUE       vUNI       vVIC       vTAN       vVIC       vTAN   \n",
       "4.0   vALP       vUNI       vQUE       vTAN       vSIE       vUNI       vVIC   \n",
       "5.0   vLIM       vTAN       vTAN       vQUE       vUNI       vTAN       vSIE   \n",
       "6.0   vNOV       vSIE       vSIE       vSIE       vOSC       vROM       vROM   \n",
       "7.0   vQUE       vROM       vROM       vOSC       vROM       vSIE       vQUE   \n",
       "8.0   vKIL       vNOV       vVIC       vROM       vVIC       vOSC       vPAP   \n",
       "9.0   vZUL       vALP       vLIM       vLIM       vLIM       vLIM       vLIM   \n",
       "10.0  vROM       vKIL       vPAP       vPAP       vPAP       vPAP       vOSC   \n",
       "11.0  vPAP       vPAP       vNOV       vNOV       vNOV       vNOV       vNOV   \n",
       "12.0  vSIE       vVIC       vALP       vALP       vKIL       vALP       vALP   \n",
       "13.0  vTAN       vLIM       vKIL       vKIL       vALP       vKIL       vZUL   \n",
       "14.0  vUNI       vZUL       vZUL       vZUL       vZUL       vZUL       vKIL   \n",
       "15.0  vMIK       vMIK       vMIK       vMIK       vMIK       vMIK       vMIK   \n",
       "\n",
       "     3x-prior 5x-prior 7x-prior  ... 0.1x-post 0.2x-post 0.3x-post 0.4x-post  \\\n",
       "vYAN                             ...                                           \n",
       "1.0      vWHI     vWHI     vWHI  ...      vSIE      vQUE      vKIL      vALP   \n",
       "2.0      vROM     vROM     vROM  ...      vKIL      vVIC      vALP      vQUE   \n",
       "3.0      vVIC     vQUE     vSIE  ...      vVIC      vPAP      vQUE      vLIM   \n",
       "4.0      vUNI     vPAP     vUNI  ...      vTAN      vOSC      vLIM      vOSC   \n",
       "5.0      vSIE     vVIC     vTAN  ...      vNOV      vSIE      vUNI      vNOV   \n",
       "6.0      vQUE     vTAN     vPAP  ...      vWHI      vALP      vVIC      vWHI   \n",
       "7.0      vTAN     vSIE     vVIC  ...      vROM      vTAN      vWHI      vPAP   \n",
       "8.0      vPAP     vUNI     vQUE  ...      vLIM      vLIM      vOSC      vVIC   \n",
       "9.0      vLIM     vLIM     vLIM  ...      vALP      vKIL      vPAP      vZUL   \n",
       "10.0     vOSC     vOSC     vOSC  ...      vPAP      vUNI      vROM      vUNI   \n",
       "11.0     vNOV     vNOV     vZUL  ...      vOSC      vROM      vTAN      vTAN   \n",
       "12.0     vALP     vZUL     vNOV  ...      vQUE      vZUL      vSIE      vKIL   \n",
       "13.0     vKIL     vALP     vKIL  ...      vMIK      vWHI      vZUL      vMIK   \n",
       "14.0     vZUL     vKIL     vALP  ...      vUNI      vNOV      vNOV      vSIE   \n",
       "15.0     vMIK     vMIK     vMIK  ...      vZUL      vMIK      vMIK      vROM   \n",
       "\n",
       "     0.5x-post 1.5x-post 3x-post 5x-post 7x-post 10x-post  \n",
       "vYAN                                                       \n",
       "1.0       vALP      vALP    vALP    vPAP    vPAP     vPAP  \n",
       "2.0       vOSC      vNOV    vNOV    vOSC    vALP     vALP  \n",
       "3.0       vWHI      vWHI    vVIC    vWHI    vVIC     vOSC  \n",
       "4.0       vLIM      vOSC    vWHI    vQUE    vTAN     vLIM  \n",
       "5.0       vQUE      vLIM    vOSC    vROM    vNOV     vVIC  \n",
       "6.0       vNOV      vQUE    vSIE    vALP    vROM     vNOV  \n",
       "7.0       vVIC      vROM    vPAP    vLIM    vOSC     vWHI  \n",
       "8.0       vZUL      vZUL    vKIL    vUNI    vWHI     vROM  \n",
       "9.0       vUNI      vKIL    vLIM    vTAN    vQUE     vSIE  \n",
       "10.0      vSIE      vPAP    vROM    vKIL    vUNI     vQUE  \n",
       "11.0      vPAP      vMIK    vMIK    vNOV    vZUL     vTAN  \n",
       "12.0      vMIK      vTAN    vUNI    vVIC    vSIE     vZUL  \n",
       "13.0      vROM      vSIE    vTAN    vZUL    vKIL     vUNI  \n",
       "14.0      vKIL      vVIC    vZUL    vSIE    vMIK     vKIL  \n",
       "15.0      vTAN      vUNI    vQUE    vMIK    vLIM     vMIK  \n",
       "\n",
       "[15 rows x 21 columns]"
      ]
     },
     "execution_count": 27,
     "metadata": {},
     "output_type": "execute_result"
    }
   ],
   "source": [
    "b_list = []\n",
    "for FCC in prior_FCCs + post_FCCs:\n",
    "    b = util.calculate_FCC_med_rankings(FCC, 'vYAN', r)\n",
    "    b_list.append(b)\n",
    "\n",
    "ranked_b_list = [b.sort_values().reset_index().set_index('vYAN') for b in b_list]\n",
    "q = pd.concat(ranked_b_list, axis=1)\n",
    "q['gt'] = a.sort_values().reset_index().set_index('vYAN')\n",
    "q.columns = pt_labels + ['gt']\n",
    "q = q[['gt'] + pt_labels]\n",
    "q.head(15) ## top 15 table"
   ]
  },
  {
   "cell_type": "code",
   "execution_count": 28,
   "metadata": {},
   "outputs": [],
   "source": [
    "q.to_csv('../../../data/results/rankings/topologyA-reg1_omitEnzymes_rankings.csv')\n",
    "rank_df = pd.read_csv('../../../data/results/rankings/topologyA-reg1_omitEnzymes_rankings.csv')"
   ]
  },
  {
   "cell_type": "code",
   "execution_count": 29,
   "metadata": {},
   "outputs": [
    {
     "data": {
      "text/html": [
       "<div>\n",
       "<style scoped>\n",
       "    .dataframe tbody tr th:only-of-type {\n",
       "        vertical-align: middle;\n",
       "    }\n",
       "\n",
       "    .dataframe tbody tr th {\n",
       "        vertical-align: top;\n",
       "    }\n",
       "\n",
       "    .dataframe thead th {\n",
       "        text-align: right;\n",
       "    }\n",
       "</style>\n",
       "<table border=\"1\" class=\"dataframe\">\n",
       "  <thead>\n",
       "    <tr style=\"text-align: right;\">\n",
       "      <th></th>\n",
       "      <th>0.1x-prior</th>\n",
       "      <th>0.2x-prior</th>\n",
       "      <th>0.3x-prior</th>\n",
       "      <th>0.4x-prior</th>\n",
       "      <th>0.5x-prior</th>\n",
       "      <th>1.5x-prior</th>\n",
       "      <th>3x-prior</th>\n",
       "      <th>5x-prior</th>\n",
       "      <th>7x-prior</th>\n",
       "      <th>10x-prior</th>\n",
       "      <th>0.1x-post</th>\n",
       "      <th>0.2x-post</th>\n",
       "      <th>0.3x-post</th>\n",
       "      <th>0.4x-post</th>\n",
       "      <th>0.5x-post</th>\n",
       "      <th>1.5x-post</th>\n",
       "      <th>3x-post</th>\n",
       "      <th>5x-post</th>\n",
       "      <th>7x-post</th>\n",
       "      <th>10x-post</th>\n",
       "    </tr>\n",
       "  </thead>\n",
       "  <tbody>\n",
       "    <tr>\n",
       "      <th>0</th>\n",
       "      <td>7</td>\n",
       "      <td>6</td>\n",
       "      <td>6</td>\n",
       "      <td>6</td>\n",
       "      <td>6</td>\n",
       "      <td>6</td>\n",
       "      <td>6</td>\n",
       "      <td>6</td>\n",
       "      <td>6</td>\n",
       "      <td>6</td>\n",
       "      <td>7</td>\n",
       "      <td>6</td>\n",
       "      <td>8</td>\n",
       "      <td>8</td>\n",
       "      <td>8</td>\n",
       "      <td>9</td>\n",
       "      <td>8</td>\n",
       "      <td>7</td>\n",
       "      <td>7</td>\n",
       "      <td>8</td>\n",
       "    </tr>\n",
       "  </tbody>\n",
       "</table>\n",
       "</div>"
      ],
      "text/plain": [
       "   0.1x-prior  0.2x-prior  0.3x-prior  0.4x-prior  0.5x-prior  1.5x-prior  \\\n",
       "0           7           6           6           6           6           6   \n",
       "\n",
       "   3x-prior  5x-prior  7x-prior  10x-prior  0.1x-post  0.2x-post  0.3x-post  \\\n",
       "0         6         6         6          6          7          6          8   \n",
       "\n",
       "   0.4x-post  0.5x-post  1.5x-post  3x-post  5x-post  7x-post  10x-post  \n",
       "0          8          8          9        8        7        7         8  "
      ]
     },
     "execution_count": 29,
     "metadata": {},
     "output_type": "execute_result"
    }
   ],
   "source": [
    "topTen_df = rank_df[rank_df['vYAN'].isin([1,2,3,4,5,6,7,8,9,10])]\n",
    "\n",
    "gt_t10_set = set(list(topTen_df['gt']))\n",
    "\n",
    "t10_sets = []\n",
    "for pt in pt_labels: \n",
    "    t10_sets.append(set(list(topTen_df[pt])))\n",
    "\n",
    "t10_scores=[]\n",
    "for i in t10_sets: \n",
    "    t10_scores.append(len(set.intersection(gt_t10_set, i)))\n",
    "\n",
    "t10_results = pd.DataFrame((np.array(t10_scores)).reshape((len(pt_labels),-1)).T, \n",
    "             columns=pt_labels)\n",
    "t10_results ## number of correct predictions of top 10 FCC values "
   ]
  },
  {
   "cell_type": "code",
   "execution_count": 30,
   "metadata": {},
   "outputs": [
    {
     "name": "stdout",
     "output_type": "stream",
     "text": [
      "Int64Index([11, 12, 13], dtype='int64')\n",
      "Int64Index([10, 11, 12, 13], dtype='int64')\n",
      "Int64Index([10, 11, 12, 13], dtype='int64')\n",
      "Int64Index([10, 11, 12, 13], dtype='int64')\n",
      "Int64Index([10, 11, 12, 13], dtype='int64')\n",
      "Int64Index([10, 11, 12, 13], dtype='int64')\n",
      "Int64Index([10, 11, 12, 13], dtype='int64')\n",
      "Int64Index([10, 11, 12, 13], dtype='int64')\n",
      "Int64Index([10, 11, 12, 13], dtype='int64')\n",
      "Int64Index([10, 11, 12, 13], dtype='int64')\n",
      "Int64Index([10, 11, 12], dtype='int64')\n",
      "Int64Index([10, 11, 12, 13], dtype='int64')\n",
      "Int64Index([10, 13], dtype='int64')\n",
      "Int64Index([10, 13], dtype='int64')\n",
      "Int64Index([11, 13], dtype='int64')\n",
      "Int64Index([10], dtype='int64')\n",
      "Int64Index([10, 11], dtype='int64')\n",
      "Int64Index([10, 12, 13], dtype='int64')\n",
      "Int64Index([10, 12, 13], dtype='int64')\n",
      "Int64Index([10, 11], dtype='int64')\n"
     ]
    }
   ],
   "source": [
    "# difference\n",
    "dif_list = []\n",
    "for i in t10_sets: \n",
    "    dif_list.append(i.difference(gt_t10_set))\n",
    "\n",
    "for i in dif_list: \n",
    "    print(rank_df['gt'].loc[lambda x: x.isin(i)].index)"
   ]
  }
 ],
 "metadata": {
  "kernelspec": {
   "display_name": "gayles",
   "language": "python",
   "name": "python3"
  },
  "language_info": {
   "codemirror_mode": {
    "name": "ipython",
    "version": 3
   },
   "file_extension": ".py",
   "mimetype": "text/x-python",
   "name": "python",
   "nbconvert_exporter": "python",
   "pygments_lexer": "ipython3",
   "version": "3.9.19"
  }
 },
 "nbformat": 4,
 "nbformat_minor": 2
}
